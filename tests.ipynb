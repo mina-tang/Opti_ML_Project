{
 "cells": [
  {
   "cell_type": "code",
   "id": "initial_id",
   "metadata": {
    "collapsed": true,
    "ExecuteTime": {
     "end_time": "2024-05-19T15:42:47.804783Z",
     "start_time": "2024-05-19T15:42:47.789767Z"
    }
   },
   "source": [
    "import torch\n",
    "import torchvision\n",
    "import torchvision.transforms as transforms"
   ],
   "outputs": [],
   "execution_count": 3
  },
  {
   "metadata": {
    "ExecuteTime": {
     "end_time": "2024-05-19T15:42:48.669674Z",
     "start_time": "2024-05-19T15:42:48.647672Z"
    }
   },
   "cell_type": "code",
   "source": [
    "transform = transforms.Compose(\n",
    "    [transforms.ToTensor(),\n",
    "    transforms.Normalize((0.5,), (0.5,))])"
   ],
   "id": "a75d49c2e1a83950",
   "outputs": [],
   "execution_count": 4
  },
  {
   "metadata": {
    "ExecuteTime": {
     "end_time": "2024-05-19T15:42:55.969698Z",
     "start_time": "2024-05-19T15:42:49.452346Z"
    }
   },
   "cell_type": "code",
   "source": [
    "training_set = torchvision.datasets.FashionMNIST('./data', train=True, transform=transform, download=True)\n",
    "validation_set = torchvision.datasets.FashionMNIST('./data', train=False, transform=transform, download=True)\n"
   ],
   "id": "c698a9e99e6042d0",
   "outputs": [
    {
     "name": "stdout",
     "output_type": "stream",
     "text": [
      "Downloading http://fashion-mnist.s3-website.eu-central-1.amazonaws.com/train-images-idx3-ubyte.gz\n"
     ]
    },
    {
     "name": "stderr",
     "output_type": "stream",
     "text": [
      "0.4%"
     ]
    },
    {
     "name": "stdout",
     "output_type": "stream",
     "text": [
      "Downloading http://fashion-mnist.s3-website.eu-central-1.amazonaws.com/train-images-idx3-ubyte.gz to ./data\\FashionMNIST\\raw\\train-images-idx3-ubyte.gz\n"
     ]
    },
    {
     "name": "stderr",
     "output_type": "stream",
     "text": [
      "100.0%\n"
     ]
    },
    {
     "name": "stdout",
     "output_type": "stream",
     "text": [
      "Extracting ./data\\FashionMNIST\\raw\\train-images-idx3-ubyte.gz to ./data\\FashionMNIST\\raw\n",
      "\n",
      "Downloading http://fashion-mnist.s3-website.eu-central-1.amazonaws.com/train-labels-idx1-ubyte.gz\n",
      "Downloading http://fashion-mnist.s3-website.eu-central-1.amazonaws.com/train-labels-idx1-ubyte.gz to ./data\\FashionMNIST\\raw\\train-labels-idx1-ubyte.gz\n"
     ]
    },
    {
     "name": "stderr",
     "output_type": "stream",
     "text": [
      "100.0%\n"
     ]
    },
    {
     "name": "stdout",
     "output_type": "stream",
     "text": [
      "Extracting ./data\\FashionMNIST\\raw\\train-labels-idx1-ubyte.gz to ./data\\FashionMNIST\\raw\n",
      "\n",
      "Downloading http://fashion-mnist.s3-website.eu-central-1.amazonaws.com/t10k-images-idx3-ubyte.gz\n",
      "Downloading http://fashion-mnist.s3-website.eu-central-1.amazonaws.com/t10k-images-idx3-ubyte.gz to ./data\\FashionMNIST\\raw\\t10k-images-idx3-ubyte.gz\n"
     ]
    },
    {
     "name": "stderr",
     "output_type": "stream",
     "text": [
      "100.0%\n"
     ]
    },
    {
     "name": "stdout",
     "output_type": "stream",
     "text": [
      "Extracting ./data\\FashionMNIST\\raw\\t10k-images-idx3-ubyte.gz to ./data\\FashionMNIST\\raw\n",
      "\n",
      "Downloading http://fashion-mnist.s3-website.eu-central-1.amazonaws.com/t10k-labels-idx1-ubyte.gz\n"
     ]
    },
    {
     "name": "stderr",
     "output_type": "stream",
     "text": [
      "100.0%"
     ]
    },
    {
     "name": "stdout",
     "output_type": "stream",
     "text": [
      "Downloading http://fashion-mnist.s3-website.eu-central-1.amazonaws.com/t10k-labels-idx1-ubyte.gz to ./data\\FashionMNIST\\raw\\t10k-labels-idx1-ubyte.gz\n",
      "Extracting ./data\\FashionMNIST\\raw\\t10k-labels-idx1-ubyte.gz to ./data\\FashionMNIST\\raw\n",
      "\n"
     ]
    },
    {
     "name": "stderr",
     "output_type": "stream",
     "text": [
      "\n"
     ]
    }
   ],
   "execution_count": 5
  },
  {
   "metadata": {
    "ExecuteTime": {
     "end_time": "2024-05-19T15:43:15.995785Z",
     "start_time": "2024-05-19T15:43:15.980784Z"
    }
   },
   "cell_type": "code",
   "source": [
    "training_loader = torch.utils.data.DataLoader(training_set, batch_size=4, shuffle=True)\n",
    "validation_loader = torch.utils.data.DataLoader(validation_set, batch_size=4, shuffle=False)"
   ],
   "id": "a53dd068f21b1e5a",
   "outputs": [],
   "execution_count": 6
  },
  {
   "metadata": {
    "ExecuteTime": {
     "end_time": "2024-05-19T15:43:35.402902Z",
     "start_time": "2024-05-19T15:43:35.389358Z"
    }
   },
   "cell_type": "code",
   "source": [
    "classes = ('T-shirt/top', 'Trouser', 'Pullover', 'Dress', 'Coat',\n",
    "        'Sandal', 'Shirt', 'Sneaker', 'Bag', 'Ankle Boot')"
   ],
   "id": "7427aa673f8accde",
   "outputs": [],
   "execution_count": 7
  },
  {
   "metadata": {
    "ExecuteTime": {
     "end_time": "2024-05-19T15:43:37.163160Z",
     "start_time": "2024-05-19T15:43:37.154152Z"
    }
   },
   "cell_type": "code",
   "source": [
    "# Report split sizes\n",
    "print('Training set has {} instances'.format(len(training_set)))\n",
    "print('Validation set has {} instances'.format(len(validation_set)))"
   ],
   "id": "7ff0293ced93c8d4",
   "outputs": [
    {
     "name": "stdout",
     "output_type": "stream",
     "text": [
      "Training set has 60000 instances\n",
      "Validation set has 10000 instances\n"
     ]
    }
   ],
   "execution_count": 8
  },
  {
   "metadata": {
    "ExecuteTime": {
     "end_time": "2024-05-19T15:44:12.660003Z",
     "start_time": "2024-05-19T15:44:12.634476Z"
    }
   },
   "cell_type": "code",
   "source": [
    "from models import CNN_Simple\n",
    "model = CNN_Simple()"
   ],
   "id": "783bdf3a080a902e",
   "outputs": [],
   "execution_count": 9
  },
  {
   "metadata": {
    "ExecuteTime": {
     "end_time": "2024-05-19T15:45:27.369125Z",
     "start_time": "2024-05-19T15:45:27.356127Z"
    }
   },
   "cell_type": "code",
   "source": "optimizer = torch.optim.SGD(model.parameters(), lr=0.001, momentum=0.9)",
   "id": "701b24bf6b90e09e",
   "outputs": [],
   "execution_count": 10
  },
  {
   "metadata": {
    "ExecuteTime": {
     "end_time": "2024-05-19T15:48:07.846696Z",
     "start_time": "2024-05-19T15:48:07.834169Z"
    }
   },
   "cell_type": "code",
   "source": "loss_fn = torch.nn.CrossEntropyLoss()",
   "id": "fac91c6b53efa491",
   "outputs": [],
   "execution_count": 12
  },
  {
   "metadata": {
    "ExecuteTime": {
     "end_time": "2024-05-19T15:49:22.277450Z",
     "start_time": "2024-05-19T15:49:22.265168Z"
    }
   },
   "cell_type": "code",
   "source": [
    "def train_one_epoch(epoch_index):\n",
    "    running_loss = 0.\n",
    "    last_loss = 0.\n",
    "\n",
    "    # Here, we use enumerate(training_loader) instead of\n",
    "    # iter(training_loader) so that we can track the batch\n",
    "    # index and do some intra-epoch reporting\n",
    "    for i, data in enumerate(training_loader):\n",
    "        # Every data instance is an input + label pair\n",
    "        inputs, labels = data\n",
    "\n",
    "        # Zero your gradients for every batch!\n",
    "        optimizer.zero_grad()\n",
    "\n",
    "        # Make predictions for this batch\n",
    "        outputs = model(inputs)\n",
    "\n",
    "        # Compute the loss and its gradients\n",
    "        loss = loss_fn(outputs, labels)\n",
    "        loss.backward()\n",
    "\n",
    "        # Adjust learning weights\n",
    "        optimizer.step()\n",
    "\n",
    "        # Gather data and report\n",
    "        running_loss += loss.item()\n",
    "        if i % 1000 == 999:\n",
    "            last_loss = running_loss / 1000 # loss per batch\n",
    "            print('  batch {} loss: {}'.format(i + 1, last_loss))\n",
    "            running_loss = 0.\n",
    "\n",
    "    return last_loss"
   ],
   "id": "6b64aa27f866231d",
   "outputs": [],
   "execution_count": 14
  },
  {
   "metadata": {
    "ExecuteTime": {
     "end_time": "2024-05-19T15:58:39.417529Z",
     "start_time": "2024-05-19T15:49:23.123048Z"
    }
   },
   "cell_type": "code",
   "source": [
    "# Initializing in a separate cell so we can easily add more epochs to the same run\n",
    "epoch_number = 0\n",
    "\n",
    "EPOCHS = 5\n",
    "\n",
    "best_vloss = 1_000_000.\n",
    "\n",
    "for epoch in range(EPOCHS):\n",
    "    print('EPOCH {}:'.format(epoch_number + 1))\n",
    "\n",
    "    # Make sure gradient tracking is on, and do a pass over the data\n",
    "    model.train(True)\n",
    "    avg_loss = train_one_epoch(epoch_number)\n",
    "\n",
    "\n",
    "    running_vloss = 0.0\n",
    "    # Set the model to evaluation mode, disabling dropout and using population\n",
    "    # statistics for batch normalization.\n",
    "    model.eval()\n",
    "\n",
    "    # Disable gradient computation and reduce memory consumption.\n",
    "    with torch.no_grad():\n",
    "        for i, vdata in enumerate(validation_loader):\n",
    "            vinputs, vlabels = vdata\n",
    "            voutputs = model(vinputs)\n",
    "            vloss = loss_fn(voutputs, vlabels)\n",
    "            running_vloss += vloss\n",
    "\n",
    "    avg_vloss = running_vloss / (i + 1)\n",
    "    print('LOSS train {} valid {}'.format(avg_loss, avg_vloss))\n",
    "\n",
    "    epoch_number += 1"
   ],
   "id": "779340d702ce8398",
   "outputs": [
    {
     "name": "stdout",
     "output_type": "stream",
     "text": [
      "EPOCH 1:\n",
      "  batch 1000 loss: 1.4475891344156115\n",
      "  batch 2000 loss: 0.7376667435467243\n",
      "  batch 3000 loss: 0.663162180387415\n",
      "  batch 4000 loss: 0.5893003825994674\n",
      "  batch 5000 loss: 0.578485480874544\n",
      "  batch 6000 loss: 0.5154063177620992\n",
      "  batch 7000 loss: 0.4999772820346989\n",
      "  batch 8000 loss: 0.5021630440687295\n",
      "  batch 9000 loss: 0.4896695383652113\n",
      "  batch 10000 loss: 0.4522196855896618\n",
      "  batch 11000 loss: 0.45328562531716304\n",
      "  batch 12000 loss: 0.4376799937356263\n",
      "  batch 13000 loss: 0.4270633884431445\n",
      "  batch 14000 loss: 0.4049722499338677\n",
      "  batch 15000 loss: 0.40121850893145894\n",
      "LOSS train 0.40121850893145894 valid 0.41795220971107483\n",
      "EPOCH 2:\n",
      "  batch 1000 loss: 0.40466134119685737\n",
      "  batch 2000 loss: 0.37939334598983987\n",
      "  batch 3000 loss: 0.4128810850041336\n",
      "  batch 4000 loss: 0.37702266152389347\n",
      "  batch 5000 loss: 0.3666479909853806\n",
      "  batch 6000 loss: 0.3873753381916031\n",
      "  batch 7000 loss: 0.37400172716213276\n",
      "  batch 8000 loss: 0.3727881022139918\n",
      "  batch 9000 loss: 0.36785975900909396\n",
      "  batch 10000 loss: 0.37423783076683137\n",
      "  batch 11000 loss: 0.3625429722386616\n",
      "  batch 12000 loss: 0.35084394157494536\n",
      "  batch 13000 loss: 0.3337163977181772\n",
      "  batch 14000 loss: 0.3680938663154957\n",
      "  batch 15000 loss: 0.34311889744835933\n",
      "LOSS train 0.34311889744835933 valid 0.3752986490726471\n",
      "EPOCH 3:\n",
      "  batch 1000 loss: 0.315681177786646\n",
      "  batch 2000 loss: 0.3232349427303416\n",
      "  batch 3000 loss: 0.3369353574211709\n",
      "  batch 4000 loss: 0.3578409881613043\n",
      "  batch 5000 loss: 0.3192412601385149\n",
      "  batch 6000 loss: 0.3273532371796828\n",
      "  batch 7000 loss: 0.34175512529746627\n",
      "  batch 8000 loss: 0.33061228760684025\n",
      "  batch 9000 loss: 0.3307271801605384\n",
      "  batch 10000 loss: 0.3290690806209823\n",
      "  batch 11000 loss: 0.3234722223903882\n",
      "  batch 12000 loss: 0.31757574738073163\n",
      "  batch 13000 loss: 0.3200145793583288\n",
      "  batch 14000 loss: 0.342329492009012\n",
      "  batch 15000 loss: 0.3203625696050003\n",
      "LOSS train 0.3203625696050003 valid 0.34618595242500305\n",
      "EPOCH 4:\n",
      "  batch 1000 loss: 0.30277888998745767\n",
      "  batch 2000 loss: 0.31417401550844076\n",
      "  batch 3000 loss: 0.2978701566593736\n",
      "  batch 4000 loss: 0.30968101673305776\n",
      "  batch 5000 loss: 0.29969827828918644\n",
      "  batch 6000 loss: 0.29263854441739384\n",
      "  batch 7000 loss: 0.3269250612571477\n",
      "  batch 8000 loss: 0.3024937814225268\n",
      "  batch 9000 loss: 0.27804985950540867\n",
      "  batch 10000 loss: 0.3053811149251633\n",
      "  batch 11000 loss: 0.3019727729895985\n",
      "  batch 12000 loss: 0.2964194347274015\n",
      "  batch 13000 loss: 0.3005892330088773\n",
      "  batch 14000 loss: 0.293718755750604\n",
      "  batch 15000 loss: 0.30222525936293093\n",
      "LOSS train 0.30222525936293093 valid 0.33361563086509705\n",
      "EPOCH 5:\n",
      "  batch 1000 loss: 0.2800453790102729\n",
      "  batch 2000 loss: 0.291171005727505\n",
      "  batch 3000 loss: 0.27175799766600905\n",
      "  batch 4000 loss: 0.29651503966117526\n",
      "  batch 5000 loss: 0.27480428395536727\n",
      "  batch 6000 loss: 0.27281854656145516\n",
      "  batch 7000 loss: 0.27936170242216396\n",
      "  batch 8000 loss: 0.2864162510816823\n",
      "  batch 9000 loss: 0.2617486178660329\n",
      "  batch 10000 loss: 0.2915612584440387\n",
      "  batch 11000 loss: 0.29226068616392514\n",
      "  batch 12000 loss: 0.28842451923083356\n",
      "  batch 13000 loss: 0.2901470345008929\n",
      "  batch 14000 loss: 0.28510740130299383\n",
      "  batch 15000 loss: 0.28875710760995843\n",
      "LOSS train 0.28875710760995843 valid 0.32199302315711975\n"
     ]
    }
   ],
   "execution_count": 15
  },
  {
   "metadata": {},
   "cell_type": "code",
   "outputs": [],
   "execution_count": null,
   "source": "",
   "id": "cf32c74452e89dd2"
  }
 ],
 "metadata": {
  "kernelspec": {
   "display_name": "Python 3",
   "language": "python",
   "name": "python3"
  },
  "language_info": {
   "codemirror_mode": {
    "name": "ipython",
    "version": 2
   },
   "file_extension": ".py",
   "mimetype": "text/x-python",
   "name": "python",
   "nbconvert_exporter": "python",
   "pygments_lexer": "ipython2",
   "version": "2.7.6"
  }
 },
 "nbformat": 4,
 "nbformat_minor": 5
}
