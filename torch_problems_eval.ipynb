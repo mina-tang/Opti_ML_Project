{
 "cells": [
  {
   "cell_type": "code",
   "id": "initial_id",
   "metadata": {
    "collapsed": true
   },
   "source": [
    "from pytorch_optim_training_manager import train_manager\n",
    "import torch\n",
    "import torchvision\n",
    "from datasets import load_dataset\n",
    "import torchvision.transforms as transforms\n",
    "import models\n",
    "import os\n",
    "import re\n",
    "from torch.utils.data import Dataset, DataLoader\n",
    "from ucimlrepo import fetch_ucirepo \n",
    "from sklearn.preprocessing import MinMaxScaler\n",
    "from sklearn.model_selection import train_test_split\n",
    "from custom_datasets import WineDataset, LSTMDataset\n",
    "from utils import get_LSTM_dataloaders, isEnglish, lowerCase, build_vocabulary"
   ],
   "outputs": [],
   "execution_count": null
  },
  {
   "metadata": {},
   "cell_type": "code",
   "source": "device = torch.device(\"cuda:0\" if torch.cuda.is_available() else \"cpu\")",
   "id": "caf6fde47c9ee47b",
   "outputs": [],
   "execution_count": null
  },
  {
   "metadata": {},
   "cell_type": "code",
   "source": "print(device)",
   "id": "c376e318c446682f",
   "outputs": [],
   "execution_count": null
  },
  {
   "metadata": {},
   "cell_type": "code",
   "source": [
    "os.environ[\"WANDB_DISABLED\"] = \"true\"\n",
    "os.environ[\"CUDA_DEVICE_ORDER\"]=\"PCI_BUS_ID\"\n",
    "os.environ[\"CUDA_VISIBLE_DEVICES\"]=\"0\""
   ],
   "id": "69119ce26984c6d1",
   "outputs": [],
   "execution_count": null
  },
  {
   "metadata": {},
   "cell_type": "code",
   "source": [
    "# set seeds for reproducibility\n",
    "torch.manual_seed(0)\n",
    "torch.cuda.manual_seed_all(0)"
   ],
   "id": "f16b03b2057da788",
   "outputs": [],
   "execution_count": null
  },
  {
   "metadata": {},
   "cell_type": "markdown",
   "source": "P1",
   "id": "7edbca0ee2e828e"
  },
  {
   "metadata": {},
   "cell_type": "code",
   "source": [
    "# fetch dataset \n",
    "wine_quality = fetch_ucirepo(id=186) \n",
    "  \n",
    "# data (as pandas dataframes) \n",
    "x = wine_quality.data.features \n",
    "y = wine_quality.data.targets "
   ],
   "id": "5bc43552e288c82",
   "outputs": [],
   "execution_count": null
  },
  {
   "metadata": {},
   "cell_type": "code",
   "source": [
    "# get number of classes\n",
    "classes = len(set(y['quality']))"
   ],
   "id": "dcd32c8027eb9b0b",
   "outputs": [],
   "execution_count": null
  },
  {
   "metadata": {},
   "cell_type": "code",
   "source": [
    "# split data into train and validation split\n",
    "# fix random state for reproducibility\n",
    "data_train, data_validation = train_test_split(x.join(y), random_state=104, test_size=0.25, shuffle=True)"
   ],
   "id": "5e52486caecde36c",
   "outputs": [],
   "execution_count": null
  },
  {
   "metadata": {},
   "cell_type": "code",
   "source": [
    "# normalize the data\n",
    "scaler = MinMaxScaler()\n",
    "columns_to_normalize = data_train.columns.tolist()[:-1]\n",
    "\n",
    "data_train[columns_to_normalize] = scaler.fit_transform(data_train[columns_to_normalize])\n",
    "data_validation[columns_to_normalize] = scaler.transform(data_validation[columns_to_normalize])"
   ],
   "id": "ea08dcbd206a7dcd",
   "outputs": [],
   "execution_count": null
  },
  {
   "metadata": {},
   "cell_type": "code",
   "source": [
    "# create dataloaders\n",
    "dataset_train = WineDataset(data_train, y['quality'])\n",
    "dataset_validation = WineDataset(data_validation, y['quality'])\n",
    "training_loader = DataLoader(dataset_train,batch_size=128,shuffle=True)\n",
    "validation_loader = DataLoader(dataset_validation,batch_size=128,shuffle=False)"
   ],
   "id": "cb0eec8dc6e32840",
   "outputs": [],
   "execution_count": null
  },
  {
   "metadata": {},
   "cell_type": "code",
   "source": "model = models.Simple_Net(n_classes=classes)",
   "id": "fabfe9e6bf228365",
   "outputs": [],
   "execution_count": null
  },
  {
   "metadata": {},
   "cell_type": "code",
   "source": [
    "# save initial state dict of the model\n",
    "torch.save(model.state_dict(), 'models/Simple_Net.pt')"
   ],
   "id": "2e8a0a438fbb82df",
   "outputs": [],
   "execution_count": null
  },
  {
   "metadata": {},
   "cell_type": "code",
   "source": "loss_fn = torch.nn.CrossEntropyLoss()",
   "id": "566068d44373cba3",
   "outputs": [],
   "execution_count": null
  },
  {
   "metadata": {},
   "cell_type": "markdown",
   "source": "restart here when evaluating multiple optimizers ",
   "id": "9d3cd6f6ecffe0e4"
  },
  {
   "metadata": {},
   "cell_type": "code",
   "source": [
    "# load the state dict to restart from base model\n",
    "model.load_state_dict(torch.load('models/Simple_Net.pt'))"
   ],
   "id": "7fe168993c527507",
   "outputs": [],
   "execution_count": null
  },
  {
   "metadata": {},
   "cell_type": "code",
   "source": [
    "# choose optimizer for this run\n",
    "optimizer = torch.optim.RMSprop(model.parameters())"
   ],
   "id": "e01e62a8a13e9b9c",
   "outputs": [],
   "execution_count": null
  },
  {
   "metadata": {},
   "cell_type": "code",
   "source": [
    "# define the manager\n",
    "manager = train_manager(model, loss_fn, optimizer,training_loader,validation_loader,device=device)"
   ],
   "id": "e2acbc4ec1987e70",
   "outputs": [],
   "execution_count": null
  },
  {
   "metadata": {},
   "cell_type": "code",
   "source": [
    "# train the model and return train loss and validation accuracy\n",
    "losses = manager.train(20, verbose=True, eval_all_epochs=True, eval_mode='accuracy', is_wine=True)"
   ],
   "id": "df4d73a3eab3657f",
   "outputs": [],
   "execution_count": null
  },
  {
   "metadata": {},
   "cell_type": "code",
   "source": [
    "# get max validation accuracy\n",
    "print(torch.max(torch.tensor(losses[1])))"
   ],
   "id": "8623c108ad8eabee",
   "outputs": [],
   "execution_count": null
  },
  {
   "metadata": {},
   "cell_type": "code",
   "source": [
    "# save accuracy of each epoch to file\n",
    "torch.save(torch.tensor(losses[1]), 'results/RMSprop_P1.pt')"
   ],
   "id": "291b62ca3c4ead89",
   "outputs": [],
   "execution_count": null
  },
  {
   "metadata": {},
   "cell_type": "markdown",
   "source": "P2",
   "id": "68dd7ea0fcbba6cc"
  },
  {
   "metadata": {},
   "cell_type": "code",
   "source": [
    "transform = transforms.Compose(\n",
    "    [transforms.ToTensor(),\n",
    "    transforms.Normalize((0.5,), (0.5,))])"
   ],
   "id": "f44eb1b21ae2d9e1",
   "outputs": [],
   "execution_count": null
  },
  {
   "metadata": {},
   "cell_type": "code",
   "source": [
    "training_set = torchvision.datasets.FashionMNIST('./data', train=True, transform=transform, download=True)\n",
    "validation_set = torchvision.datasets.FashionMNIST('./data', train=False, transform=transform, download=True)"
   ],
   "id": "c3df4545dfa06b83",
   "outputs": [],
   "execution_count": null
  },
  {
   "metadata": {},
   "cell_type": "code",
   "source": [
    "training_loader = torch.utils.data.DataLoader(training_set, batch_size=128, shuffle=True)\n",
    "validation_loader = torch.utils.data.DataLoader(validation_set, batch_size=128, shuffle=False)"
   ],
   "id": "28deecb2ae3012b2",
   "outputs": [],
   "execution_count": null
  },
  {
   "metadata": {},
   "cell_type": "code",
   "source": "model = models.CNN_Simple()",
   "id": "60a217936eac3868",
   "outputs": [],
   "execution_count": null
  },
  {
   "metadata": {},
   "cell_type": "code",
   "source": [
    "# save initial state dict of the model\n",
    "torch.save(model.state_dict(), 'models/CNN_Simple.pt')"
   ],
   "id": "6f9539b7a48c13fa",
   "outputs": [],
   "execution_count": null
  },
  {
   "metadata": {},
   "cell_type": "code",
   "source": "loss_fn = torch.nn.CrossEntropyLoss()",
   "id": "f83fbeefc2e735a5",
   "outputs": [],
   "execution_count": null
  },
  {
   "metadata": {},
   "cell_type": "markdown",
   "source": "start again here if evaluating for multiple optimizers",
   "id": "2ab9b2314b191670"
  },
  {
   "metadata": {},
   "cell_type": "code",
   "source": [
    "# load the state dict to restart from base model\n",
    "model.load_state_dict(torch.load('models/CNN_Simple.pt'))"
   ],
   "id": "71c1be6a35caa3d6",
   "outputs": [],
   "execution_count": null
  },
  {
   "metadata": {},
   "cell_type": "code",
   "source": [
    "# choose optimizer for this run\n",
    "optimizer = torch.optim.RMSprop(model.parameters())"
   ],
   "id": "5287ad8967603124",
   "outputs": [],
   "execution_count": null
  },
  {
   "metadata": {},
   "cell_type": "code",
   "source": "manager = train_manager(model, loss_fn, optimizer,training_loader,validation_loader,device=device)",
   "id": "11176b7ef380f1bb",
   "outputs": [],
   "execution_count": null
  },
  {
   "metadata": {},
   "cell_type": "code",
   "source": [
    "# train the model and return train loss and validation accuracy\n",
    "losses = manager.train(20, verbose=True, eval_all_epochs=True, eval_mode='accuracy')"
   ],
   "id": "c26dba082a5498c7",
   "outputs": [],
   "execution_count": null
  },
  {
   "metadata": {},
   "cell_type": "code",
   "source": [
    "# get max validation accuracy\n",
    "print(torch.max(torch.tensor(losses[1])))"
   ],
   "id": "c4a55cc05a2ff9b6",
   "outputs": [],
   "execution_count": null
  },
  {
   "metadata": {},
   "cell_type": "code",
   "source": "torch.save(torch.tensor(losses[1]), 'results/RMSprop_P2.pt')",
   "id": "9ff87113d6ddc740",
   "outputs": [],
   "execution_count": null
  },
  {
   "metadata": {},
   "cell_type": "markdown",
   "source": "P3",
   "id": "d03c02642eb74f6b"
  },
  {
   "metadata": {},
   "cell_type": "code",
   "source": [
    "transform = transforms.Compose(\n",
    "    [transforms.ToTensor(),\n",
    "    transforms.Normalize((0.5,), (0.5,))])"
   ],
   "id": "6fd945e248757335",
   "outputs": [],
   "execution_count": null
  },
  {
   "metadata": {},
   "cell_type": "code",
   "source": [
    "training_set = torchvision.datasets.FashionMNIST('./data', train=True, transform=transform, download=True)\n",
    "validation_set = torchvision.datasets.FashionMNIST('./data', train=False, transform=transform, download=True)\n",
    "training_loader = torch.utils.data.DataLoader(training_set, batch_size=128, shuffle=True)\n",
    "validation_loader = torch.utils.data.DataLoader(validation_set, batch_size=128, shuffle=False)"
   ],
   "id": "db3b2153b7758a2e",
   "outputs": [],
   "execution_count": null
  },
  {
   "metadata": {},
   "cell_type": "code",
   "source": "model = models.VAE()",
   "id": "d2a17d4632bb69fd",
   "outputs": [],
   "execution_count": null
  },
  {
   "metadata": {},
   "cell_type": "code",
   "source": "loss_fn = torch.nn.CrossEntropyLoss()",
   "id": "128f739fcd354878",
   "outputs": [],
   "execution_count": null
  },
  {
   "metadata": {},
   "cell_type": "code",
   "source": [
    "# save initial state dict of the model\n",
    "torch.save(model.state_dict(), 'models/VAE.pt')"
   ],
   "id": "f3888035e13bf645",
   "outputs": [],
   "execution_count": null
  },
  {
   "metadata": {},
   "cell_type": "markdown",
   "source": "restart here if evaluating for multiple optimizers",
   "id": "2337623a038f07b0"
  },
  {
   "metadata": {},
   "cell_type": "code",
   "source": [
    "# load the state dict to restart from base model\n",
    "model.load_state_dict(torch.load('models/VAE.pt'))"
   ],
   "id": "5b90c047029c48b8",
   "outputs": [],
   "execution_count": null
  },
  {
   "metadata": {},
   "cell_type": "code",
   "source": [
    "# choose optimizer for this run\n",
    "optimizer = torch.optim.RMSprop(model.parameters())"
   ],
   "id": "bad8ff401dbdae1f",
   "outputs": [],
   "execution_count": null
  },
  {
   "metadata": {},
   "cell_type": "code",
   "source": "manager = train_manager(model, loss_fn, optimizer, training_loader, validation_loader, device=device)",
   "id": "3417df932f50d833",
   "outputs": [],
   "execution_count": null
  },
  {
   "metadata": {},
   "cell_type": "code",
   "source": [
    "# train the model and return train loss and validation loss\n",
    "losses = manager.train(20, verbose=True, eval_all_epochs=True, eval_mode='loss')"
   ],
   "id": "26f42f896894cb17",
   "outputs": [],
   "execution_count": null
  },
  {
   "metadata": {},
   "cell_type": "code",
   "source": [
    "# get min validation loss\n",
    "print(torch.min(torch.tensor(losses[1])))"
   ],
   "id": "21dcddc4fdb65067",
   "outputs": [],
   "execution_count": null
  },
  {
   "metadata": {},
   "cell_type": "code",
   "source": "torch.save(torch.tensor(losses[1]), 'results/RMSprop_P3.pt')",
   "id": "775ad098448b5c00",
   "outputs": [],
   "execution_count": null
  },
  {
   "metadata": {},
   "cell_type": "markdown",
   "source": "P4",
   "id": "28140bb58d12bef1"
  },
  {
   "metadata": {},
   "cell_type": "code",
   "source": [
    "transform = transforms.Compose(\n",
    "    [transforms.ToTensor(),\n",
    "    transforms.Normalize((0.5074,0.4867,0.4411),(0.2011,0.1987,0.2025))]\n",
    ")"
   ],
   "id": "17025a269610d28d",
   "outputs": [],
   "execution_count": null
  },
  {
   "metadata": {},
   "cell_type": "code",
   "source": [
    "training_set = torchvision.datasets.CIFAR100('./data', train=True, transform=transform, download=True)\n",
    "validation_set = torchvision.datasets.CIFAR100('./data', train=False, transform=transform, download=True)\n",
    "training_loader = torch.utils.data.DataLoader(training_set, batch_size=256, shuffle=True)\n",
    "validation_loader = torch.utils.data.DataLoader(validation_set, batch_size=256, shuffle=False)"
   ],
   "id": "3489eeb44375b1f2",
   "outputs": [],
   "execution_count": null
  },
  {
   "metadata": {},
   "cell_type": "code",
   "source": "model = models.All_CNN_C()",
   "id": "3aeca7b64bf36aa7",
   "outputs": [],
   "execution_count": null
  },
  {
   "metadata": {},
   "cell_type": "code",
   "source": "loss_fn = torch.nn.CrossEntropyLoss()",
   "id": "17281f894b5945a7",
   "outputs": [],
   "execution_count": null
  },
  {
   "metadata": {},
   "cell_type": "code",
   "source": [
    "# save initial state dict of the model\n",
    "torch.save(model.state_dict(), 'models/All_CNN_C.pt')"
   ],
   "id": "2610151b78aa860d",
   "outputs": [],
   "execution_count": null
  },
  {
   "metadata": {},
   "cell_type": "markdown",
   "source": "restart here if evaluating multiple optimizers",
   "id": "78075335387d5e00"
  },
  {
   "metadata": {},
   "cell_type": "code",
   "source": [
    "# load the state dict to restart from base model\n",
    "model.load_state_dict(torch.load('models/All_CNN_C.pt'))"
   ],
   "id": "31d7108e8bb3b0a",
   "outputs": [],
   "execution_count": null
  },
  {
   "metadata": {},
   "cell_type": "code",
   "source": [
    "# choose optimizer for this run\n",
    "optimizer = torch.optim.RMSprop(model.parameters())"
   ],
   "id": "8f474bcf307effc9",
   "outputs": [],
   "execution_count": null
  },
  {
   "metadata": {},
   "cell_type": "code",
   "source": "manager = train_manager(model, loss_fn, optimizer, training_loader, validation_loader, device=device)",
   "id": "1f8366757f84c8e3",
   "outputs": [],
   "execution_count": null
  },
  {
   "metadata": {},
   "cell_type": "code",
   "source": [
    "# train the model and return train loss and validation accuracy\n",
    "losses = manager.train(20, verbose=True, eval_all_epochs=True, eval_mode='accuracy')"
   ],
   "id": "f5ba3f3815638b8f",
   "outputs": [],
   "execution_count": null
  },
  {
   "metadata": {},
   "cell_type": "code",
   "source": [
    "# get max validation accuracy\n",
    "print(torch.max(torch.tensor(losses[1])))"
   ],
   "id": "3f063a53afc6b93c",
   "outputs": [],
   "execution_count": null
  },
  {
   "metadata": {},
   "cell_type": "code",
   "source": "torch.save(torch.tensor(losses[1]), 'results/RMSprop_P4.pt')",
   "id": "bb6a55fccafa201b",
   "outputs": [],
   "execution_count": null
  },
  {
   "metadata": {},
   "cell_type": "markdown",
   "source": "P5",
   "id": "97a8e496a90bbdfd"
  },
  {
   "metadata": {},
   "cell_type": "code",
   "source": [
    "# get wikitext dataset from datasets library\n",
    "dataset = load_dataset(\"wikitext\", 'wikitext-2-v1', split='train')"
   ],
   "id": "40891ed6bbe8550e",
   "outputs": [],
   "execution_count": null
  },
  {
   "metadata": {},
   "cell_type": "code",
   "source": [
    "# clean the data\n",
    "dataset = dataset.filter(lambda x: 100 <= len(x['text'].split()) <= 128)\n",
    "dataset = dataset.filter(lambda x: not re.match(\" = .* = \\n\", x['text']))\n",
    "dataset = dataset.filter(lambda x: isEnglish(x['text']))\n",
    "dataset = dataset.map(lambda x: lowerCase(x))"
   ],
   "id": "87f1cbb34e881969",
   "outputs": [],
   "execution_count": null
  },
  {
   "metadata": {},
   "cell_type": "code",
   "source": [
    "# build wikitext vocabulary for the dataset\n",
    "wikitext_dataset, token_freq_dict = build_vocabulary(dataset, min_freq=5, unk_token='<unk>')"
   ],
   "id": "dc8129f891e9f390",
   "outputs": [],
   "execution_count": null
  },
  {
   "metadata": {},
   "cell_type": "code",
   "source": [
    "MAX_SEQ_LENGTH = 128\n",
    "lstm_dataset = LSTMDataset(dataset=wikitext_dataset,\n",
    "                         max_seq_length=MAX_SEQ_LENGTH)"
   ],
   "id": "738cbcfff184da0a",
   "outputs": [],
   "execution_count": null
  },
  {
   "metadata": {},
   "cell_type": "code",
   "source": [
    "# split dataset into train and validation and get a loader\n",
    "train_loader, val_loader = get_LSTM_dataloaders(lstm_dataset, test_ratio=0.1)"
   ],
   "id": "2aa7a0d3248b243c",
   "outputs": [],
   "execution_count": null
  },
  {
   "metadata": {},
   "cell_type": "code",
   "source": [
    "# set model parameters\n",
    "vocab_size = len(lstm_dataset.token2idx)\n",
    "input_dim = 100\n",
    "hidden_dim = 100\n",
    "dropout_rate = 0.15"
   ],
   "id": "28bcbf266deb4852",
   "outputs": [],
   "execution_count": null
  },
  {
   "metadata": {},
   "cell_type": "code",
   "source": "model = models.LSTM(vocab_size=vocab_size,input_dim=input_dim,hidden_dim=hidden_dim,dropout_rate=dropout_rate)",
   "id": "391ca47e6a598351",
   "outputs": [],
   "execution_count": null
  },
  {
   "metadata": {},
   "cell_type": "code",
   "source": [
    "# ignore pad index when computing cross entropy\n",
    "loss_fn = torch.nn.CrossEntropyLoss(ignore_index=lstm_dataset.pad_idx)"
   ],
   "id": "3017bc2208319526",
   "outputs": [],
   "execution_count": null
  },
  {
   "metadata": {},
   "cell_type": "code",
   "source": [
    "# save initial state dict of the model\n",
    "torch.save(model.state_dict(), 'models/LSTM.pt')"
   ],
   "id": "7fbe1890ba327d09",
   "outputs": [],
   "execution_count": null
  },
  {
   "metadata": {},
   "cell_type": "markdown",
   "source": "Restart here for evaluating multiple optimizers",
   "id": "677748fecc345228"
  },
  {
   "metadata": {},
   "cell_type": "markdown",
   "source": "",
   "id": "1b9e68fbd9acfeb9"
  },
  {
   "metadata": {},
   "cell_type": "code",
   "source": [
    "# load the state dict to restart from base model\n",
    "model.load_state_dict(torch.load('models/LSTM.pt'))"
   ],
   "id": "f34e92c4890fe7",
   "outputs": [],
   "execution_count": null
  },
  {
   "metadata": {},
   "cell_type": "code",
   "source": [
    "# choose optimizer for this run\n",
    "optimizer = torch.optim.RMSprop(model.parameters())"
   ],
   "id": "5c59dfe99de6d7d2",
   "outputs": [],
   "execution_count": null
  },
  {
   "metadata": {},
   "cell_type": "code",
   "source": "manager = train_manager(model, loss_fn, optimizer, train_loader, val_loader, device=device)",
   "id": "abdfc29b41e1336c",
   "outputs": [],
   "execution_count": null
  },
  {
   "metadata": {},
   "cell_type": "code",
   "source": [
    "# train the model and return train loss and validation accuracy\n",
    "losses = manager.train(20, verbose=True, eval_all_epochs=True, eval_mode='accuracy', is_LSTM=True)"
   ],
   "id": "9c52789134b605c6",
   "outputs": [],
   "execution_count": null
  },
  {
   "metadata": {},
   "cell_type": "code",
   "source": [
    "# get max validation accuracy\n",
    "print(torch.max(torch.tensor(losses[1])))"
   ],
   "id": "3fddb60befd99393",
   "outputs": [],
   "execution_count": null
  },
  {
   "metadata": {},
   "cell_type": "code",
   "source": "torch.save(torch.tensor(losses[1]), 'results/RMSprop_P5.pt')",
   "id": "4fff10c8ed804d8f",
   "outputs": [],
   "execution_count": null
  },
  {
   "metadata": {},
   "cell_type": "code",
   "source": "",
   "id": "8efcda04f21b79b9",
   "outputs": [],
   "execution_count": null
  }
 ],
 "metadata": {
  "kernelspec": {
   "display_name": "Python 3",
   "language": "python",
   "name": "python3"
  },
  "language_info": {
   "codemirror_mode": {
    "name": "ipython",
    "version": 2
   },
   "file_extension": ".py",
   "mimetype": "text/x-python",
   "name": "python",
   "nbconvert_exporter": "python",
   "pygments_lexer": "ipython2",
   "version": "2.7.6"
  }
 },
 "nbformat": 4,
 "nbformat_minor": 5
}
