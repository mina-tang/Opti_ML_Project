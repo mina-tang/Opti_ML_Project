{
 "cells": [
  {
   "cell_type": "code",
   "id": "initial_id",
   "metadata": {
    "collapsed": true,
    "ExecuteTime": {
     "end_time": "2024-06-08T20:46:41.028333Z",
     "start_time": "2024-06-08T20:46:34.849274Z"
    }
   },
   "source": [
    "from pytorch_optim_training_manager import train_manager\n",
    "import torch\n",
    "import torchvision\n",
    "import torchvision.transforms as transforms\n",
    "import models\n",
    "import os"
   ],
   "outputs": [],
   "execution_count": 1
  },
  {
   "metadata": {
    "ExecuteTime": {
     "end_time": "2024-06-08T20:46:41.044001Z",
     "start_time": "2024-06-08T20:46:41.031921Z"
    }
   },
   "cell_type": "code",
   "source": "device = torch.device(\"cuda:0\" if torch.cuda.is_available() else \"cpu\")",
   "id": "caf6fde47c9ee47b",
   "outputs": [],
   "execution_count": 2
  },
  {
   "metadata": {
    "ExecuteTime": {
     "end_time": "2024-06-08T20:46:41.059313Z",
     "start_time": "2024-06-08T20:46:41.047515Z"
    }
   },
   "cell_type": "code",
   "source": [
    "os.environ[\"WANDB_DISABLED\"] = \"true\"\n",
    "os.environ[\"CUDA_DEVICE_ORDER\"]=\"PCI_BUS_ID\"\n",
    "os.environ[\"CUDA_VISIBLE_DEVICES\"]=\"0\""
   ],
   "id": "69119ce26984c6d1",
   "outputs": [],
   "execution_count": 3
  },
  {
   "metadata": {
    "ExecuteTime": {
     "end_time": "2024-06-08T20:46:41.090156Z",
     "start_time": "2024-06-08T20:46:41.064304Z"
    }
   },
   "cell_type": "code",
   "source": [
    "torch.manual_seed(0)\n",
    "torch.cuda.manual_seed_all(0)"
   ],
   "id": "f16b03b2057da788",
   "outputs": [],
   "execution_count": 4
  },
  {
   "metadata": {},
   "cell_type": "markdown",
   "source": "P1",
   "id": "68dd7ea0fcbba6cc"
  },
  {
   "metadata": {
    "ExecuteTime": {
     "end_time": "2024-06-08T20:46:48.116564Z",
     "start_time": "2024-06-08T20:46:48.107570Z"
    }
   },
   "cell_type": "code",
   "source": [
    "transform = transforms.Compose(\n",
    "    [transforms.ToTensor(),\n",
    "    transforms.Normalize((0.5,), (0.5,))])"
   ],
   "id": "f44eb1b21ae2d9e1",
   "outputs": [],
   "execution_count": 5
  },
  {
   "metadata": {
    "ExecuteTime": {
     "end_time": "2024-06-08T20:46:48.803282Z",
     "start_time": "2024-06-08T20:46:48.744957Z"
    }
   },
   "cell_type": "code",
   "source": [
    "training_set = torchvision.datasets.FashionMNIST('./data', train=True, transform=transform, download=True)\n",
    "validation_set = torchvision.datasets.FashionMNIST('./data', train=False, transform=transform, download=True)"
   ],
   "id": "c3df4545dfa06b83",
   "outputs": [],
   "execution_count": 6
  },
  {
   "metadata": {
    "ExecuteTime": {
     "end_time": "2024-06-08T20:46:50.157729Z",
     "start_time": "2024-06-08T20:46:50.141192Z"
    }
   },
   "cell_type": "code",
   "source": [
    "training_loader = torch.utils.data.DataLoader(training_set, batch_size=128, shuffle=True)\n",
    "validation_loader = torch.utils.data.DataLoader(validation_set, batch_size=128, shuffle=False)"
   ],
   "id": "28deecb2ae3012b2",
   "outputs": [],
   "execution_count": 7
  },
  {
   "metadata": {
    "ExecuteTime": {
     "end_time": "2024-06-08T20:46:51.786377Z",
     "start_time": "2024-06-08T20:46:51.774307Z"
    }
   },
   "cell_type": "code",
   "source": "model = models.CNN_Simple()",
   "id": "60a217936eac3868",
   "outputs": [],
   "execution_count": 8
  },
  {
   "metadata": {
    "ExecuteTime": {
     "end_time": "2024-06-08T20:48:27.376350Z",
     "start_time": "2024-06-08T20:48:27.353087Z"
    }
   },
   "cell_type": "code",
   "source": "torch.save(model.state_dict(), 'models/CNN_Simple.pt')",
   "id": "6f9539b7a48c13fa",
   "outputs": [],
   "execution_count": 10
  },
  {
   "metadata": {},
   "cell_type": "markdown",
   "source": "start again here if evaluating for multiple optimizers",
   "id": "2ab9b2314b191670"
  },
  {
   "metadata": {
    "ExecuteTime": {
     "end_time": "2024-06-08T21:56:22.029489Z",
     "start_time": "2024-06-08T21:56:22.007426Z"
    }
   },
   "cell_type": "code",
   "source": "model.load_state_dict(torch.load('models/CNN_Simple.pt'))",
   "id": "71c1be6a35caa3d6",
   "outputs": [
    {
     "data": {
      "text/plain": [
       "<All keys matched successfully>"
      ]
     },
     "execution_count": 40,
     "metadata": {},
     "output_type": "execute_result"
    }
   ],
   "execution_count": 40
  },
  {
   "metadata": {
    "ExecuteTime": {
     "end_time": "2024-06-08T21:56:22.671541Z",
     "start_time": "2024-06-08T21:56:22.653517Z"
    }
   },
   "cell_type": "code",
   "source": "loss_fn = torch.nn.CrossEntropyLoss()",
   "id": "f83fbeefc2e735a5",
   "outputs": [],
   "execution_count": 41
  },
  {
   "metadata": {
    "ExecuteTime": {
     "end_time": "2024-06-08T21:56:23.419192Z",
     "start_time": "2024-06-08T21:56:23.404183Z"
    }
   },
   "cell_type": "code",
   "source": "optimizer = torch.optim.SGD(model.parameters())",
   "id": "5287ad8967603124",
   "outputs": [],
   "execution_count": 42
  },
  {
   "metadata": {
    "ExecuteTime": {
     "end_time": "2024-06-08T21:56:24.179304Z",
     "start_time": "2024-06-08T21:56:24.165061Z"
    }
   },
   "cell_type": "code",
   "source": "manager = train_manager(model, loss_fn, optimizer,training_loader,validation_loader,device=device)",
   "id": "11176b7ef380f1bb",
   "outputs": [],
   "execution_count": 43
  },
  {
   "metadata": {
    "ExecuteTime": {
     "end_time": "2024-06-08T22:05:53.842645Z",
     "start_time": "2024-06-08T21:56:25.858812Z"
    }
   },
   "cell_type": "code",
   "source": "losses = manager.train(20, verbose=True, eval_all_epochs=True, eval_mode='accuracy')",
   "id": "c26dba082a5498c7",
   "outputs": [
    {
     "name": "stdout",
     "output_type": "stream",
     "text": [
      "epoch0: train_loss: 2.3008\n",
      "eval_loss: 0.1015\n",
      "epoch1: train_loss: 2.2885\n",
      "eval_loss: 0.1624\n",
      "epoch2: train_loss: 2.2726\n",
      "eval_loss: 0.1996\n",
      "epoch3: train_loss: 2.2437\n",
      "eval_loss: 0.2012\n",
      "epoch4: train_loss: 2.1749\n",
      "eval_loss: 0.2481\n",
      "epoch5: train_loss: 1.9959\n",
      "eval_loss: 0.4138\n",
      "epoch6: train_loss: 1.6157\n",
      "eval_loss: 0.5906\n",
      "epoch7: train_loss: 1.2108\n",
      "eval_loss: 0.6400\n",
      "epoch8: train_loss: 0.9927\n",
      "eval_loss: 0.6661\n",
      "epoch9: train_loss: 0.8877\n",
      "eval_loss: 0.6934\n",
      "epoch10: train_loss: 0.8309\n",
      "eval_loss: 0.7086\n",
      "epoch11: train_loss: 0.7942\n",
      "eval_loss: 0.7138\n",
      "epoch12: train_loss: 0.7671\n",
      "eval_loss: 0.7230\n",
      "epoch13: train_loss: 0.7458\n",
      "eval_loss: 0.7248\n",
      "epoch14: train_loss: 0.7283\n",
      "eval_loss: 0.7303\n",
      "epoch15: train_loss: 0.7131\n",
      "eval_loss: 0.7336\n",
      "epoch16: train_loss: 0.6996\n",
      "eval_loss: 0.7365\n",
      "epoch17: train_loss: 0.6874\n",
      "eval_loss: 0.7382\n",
      "epoch18: train_loss: 0.6765\n",
      "eval_loss: 0.7415\n",
      "epoch19: train_loss: 0.6662\n",
      "eval_loss: 0.7483\n"
     ]
    }
   ],
   "execution_count": 44
  },
  {
   "metadata": {
    "ExecuteTime": {
     "end_time": "2024-06-08T22:05:53.857650Z",
     "start_time": "2024-06-08T22:05:53.845646Z"
    }
   },
   "cell_type": "code",
   "source": "print(torch.max(torch.tensor(losses[1])))",
   "id": "c4a55cc05a2ff9b6",
   "outputs": [
    {
     "name": "stdout",
     "output_type": "stream",
     "text": [
      "tensor(0.7483)\n"
     ]
    }
   ],
   "execution_count": 45
  },
  {
   "metadata": {
    "ExecuteTime": {
     "end_time": "2024-06-08T22:05:53.873141Z",
     "start_time": "2024-06-08T22:05:53.859650Z"
    }
   },
   "cell_type": "code",
   "source": "torch.save(torch.tensor(losses[1]), 'results/SGD_P1.pt')",
   "id": "9ff87113d6ddc740",
   "outputs": [],
   "execution_count": 46
  },
  {
   "metadata": {},
   "cell_type": "code",
   "outputs": [],
   "execution_count": null,
   "source": "",
   "id": "65ad3fc3443f2af7"
  }
 ],
 "metadata": {
  "kernelspec": {
   "display_name": "Python 3",
   "language": "python",
   "name": "python3"
  },
  "language_info": {
   "codemirror_mode": {
    "name": "ipython",
    "version": 2
   },
   "file_extension": ".py",
   "mimetype": "text/x-python",
   "name": "python",
   "nbconvert_exporter": "python",
   "pygments_lexer": "ipython2",
   "version": "2.7.6"
  }
 },
 "nbformat": 4,
 "nbformat_minor": 5
}
