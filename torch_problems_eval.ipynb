{
 "cells": [
  {
   "cell_type": "code",
   "id": "initial_id",
   "metadata": {
    "collapsed": true,
    "ExecuteTime": {
     "end_time": "2024-06-08T20:46:41.028333Z",
     "start_time": "2024-06-08T20:46:34.849274Z"
    }
   },
   "source": [
    "from pytorch_optim_training_manager import train_manager\n",
    "import torch\n",
    "import torchvision\n",
    "import torchvision.transforms as transforms\n",
    "import models\n",
    "import os"
   ],
   "outputs": [],
   "execution_count": 1
  },
  {
   "metadata": {
    "ExecuteTime": {
     "end_time": "2024-06-08T20:46:41.044001Z",
     "start_time": "2024-06-08T20:46:41.031921Z"
    }
   },
   "cell_type": "code",
   "source": "device = torch.device(\"cuda:0\" if torch.cuda.is_available() else \"cpu\")",
   "id": "caf6fde47c9ee47b",
   "outputs": [],
   "execution_count": 2
  },
  {
   "metadata": {
    "ExecuteTime": {
     "end_time": "2024-06-08T20:46:41.059313Z",
     "start_time": "2024-06-08T20:46:41.047515Z"
    }
   },
   "cell_type": "code",
   "source": [
    "os.environ[\"WANDB_DISABLED\"] = \"true\"\n",
    "os.environ[\"CUDA_DEVICE_ORDER\"]=\"PCI_BUS_ID\"\n",
    "os.environ[\"CUDA_VISIBLE_DEVICES\"]=\"0\""
   ],
   "id": "69119ce26984c6d1",
   "outputs": [],
   "execution_count": 3
  },
  {
   "metadata": {
    "ExecuteTime": {
     "end_time": "2024-06-08T20:46:41.090156Z",
     "start_time": "2024-06-08T20:46:41.064304Z"
    }
   },
   "cell_type": "code",
   "source": [
    "torch.manual_seed(0)\n",
    "torch.cuda.manual_seed_all(0)"
   ],
   "id": "f16b03b2057da788",
   "outputs": [],
   "execution_count": 4
  },
  {
   "metadata": {},
   "cell_type": "markdown",
   "source": "P1",
   "id": "68dd7ea0fcbba6cc"
  },
  {
   "metadata": {
    "ExecuteTime": {
     "end_time": "2024-06-08T20:46:48.116564Z",
     "start_time": "2024-06-08T20:46:48.107570Z"
    }
   },
   "cell_type": "code",
   "source": [
    "transform = transforms.Compose(\n",
    "    [transforms.ToTensor(),\n",
    "    transforms.Normalize((0.5,), (0.5,))])"
   ],
   "id": "f44eb1b21ae2d9e1",
   "outputs": [],
   "execution_count": 5
  },
  {
   "metadata": {
    "ExecuteTime": {
     "end_time": "2024-06-08T20:46:48.803282Z",
     "start_time": "2024-06-08T20:46:48.744957Z"
    }
   },
   "cell_type": "code",
   "source": [
    "training_set = torchvision.datasets.FashionMNIST('./data', train=True, transform=transform, download=True)\n",
    "validation_set = torchvision.datasets.FashionMNIST('./data', train=False, transform=transform, download=True)"
   ],
   "id": "c3df4545dfa06b83",
   "outputs": [],
   "execution_count": 6
  },
  {
   "metadata": {
    "ExecuteTime": {
     "end_time": "2024-06-08T20:46:50.157729Z",
     "start_time": "2024-06-08T20:46:50.141192Z"
    }
   },
   "cell_type": "code",
   "source": [
    "training_loader = torch.utils.data.DataLoader(training_set, batch_size=128, shuffle=True)\n",
    "validation_loader = torch.utils.data.DataLoader(validation_set, batch_size=128, shuffle=False)"
   ],
   "id": "28deecb2ae3012b2",
   "outputs": [],
   "execution_count": 7
  },
  {
   "metadata": {
    "ExecuteTime": {
     "end_time": "2024-06-08T20:46:51.786377Z",
     "start_time": "2024-06-08T20:46:51.774307Z"
    }
   },
   "cell_type": "code",
   "source": "model = models.CNN_Simple()",
   "id": "60a217936eac3868",
   "outputs": [],
   "execution_count": 8
  },
  {
   "metadata": {
    "ExecuteTime": {
     "end_time": "2024-06-08T20:48:27.376350Z",
     "start_time": "2024-06-08T20:48:27.353087Z"
    }
   },
   "cell_type": "code",
   "source": "torch.save(model.state_dict(), 'models/CNN_Simple.pt')",
   "id": "6f9539b7a48c13fa",
   "outputs": [],
   "execution_count": 10
  },
  {
   "metadata": {},
   "cell_type": "markdown",
   "source": "start again here if evaluating for multiple optimizers",
   "id": "2ab9b2314b191670"
  },
  {
   "metadata": {
    "ExecuteTime": {
     "end_time": "2024-06-08T22:11:27.326087Z",
     "start_time": "2024-06-08T22:11:26.236917Z"
    }
   },
   "cell_type": "code",
   "source": "model.load_state_dict(torch.load('models/CNN_Simple.pt'))",
   "id": "71c1be6a35caa3d6",
   "outputs": [
    {
     "data": {
      "text/plain": [
       "<All keys matched successfully>"
      ]
     },
     "execution_count": 47,
     "metadata": {},
     "output_type": "execute_result"
    }
   ],
   "execution_count": 47
  },
  {
   "metadata": {
    "ExecuteTime": {
     "end_time": "2024-06-08T22:11:28.527754Z",
     "start_time": "2024-06-08T22:11:28.515250Z"
    }
   },
   "cell_type": "code",
   "source": "loss_fn = torch.nn.CrossEntropyLoss()",
   "id": "f83fbeefc2e735a5",
   "outputs": [],
   "execution_count": 48
  },
  {
   "metadata": {
    "ExecuteTime": {
     "end_time": "2024-06-08T22:11:38.886263Z",
     "start_time": "2024-06-08T22:11:38.628038Z"
    }
   },
   "cell_type": "code",
   "source": "optimizer = torch.optim.Adagrad(model.parameters())",
   "id": "5287ad8967603124",
   "outputs": [],
   "execution_count": 49
  },
  {
   "metadata": {
    "ExecuteTime": {
     "end_time": "2024-06-08T22:11:40.146239Z",
     "start_time": "2024-06-08T22:11:40.133229Z"
    }
   },
   "cell_type": "code",
   "source": "manager = train_manager(model, loss_fn, optimizer,training_loader,validation_loader,device=device)",
   "id": "11176b7ef380f1bb",
   "outputs": [],
   "execution_count": 50
  },
  {
   "metadata": {
    "ExecuteTime": {
     "end_time": "2024-06-08T22:23:25.315945Z",
     "start_time": "2024-06-08T22:11:43.537522Z"
    }
   },
   "cell_type": "code",
   "source": "losses = manager.train(20, verbose=True, eval_all_epochs=True, eval_mode='accuracy')",
   "id": "c26dba082a5498c7",
   "outputs": [
    {
     "name": "stdout",
     "output_type": "stream",
     "text": [
      "epoch0: train_loss: 0.6231\n",
      "eval_loss: 0.8050\n",
      "epoch1: train_loss: 0.4672\n",
      "eval_loss: 0.8239\n",
      "epoch2: train_loss: 0.4279\n",
      "eval_loss: 0.8429\n",
      "epoch3: train_loss: 0.4047\n",
      "eval_loss: 0.8483\n",
      "epoch4: train_loss: 0.3889\n",
      "eval_loss: 0.8522\n",
      "epoch5: train_loss: 0.3763\n",
      "eval_loss: 0.8540\n",
      "epoch6: train_loss: 0.3667\n",
      "eval_loss: 0.8611\n",
      "epoch7: train_loss: 0.3581\n",
      "eval_loss: 0.8651\n",
      "epoch8: train_loss: 0.3511\n",
      "eval_loss: 0.8656\n",
      "epoch9: train_loss: 0.3449\n",
      "eval_loss: 0.8662\n",
      "epoch10: train_loss: 0.3395\n",
      "eval_loss: 0.8694\n",
      "epoch11: train_loss: 0.3345\n",
      "eval_loss: 0.8670\n",
      "epoch12: train_loss: 0.3290\n",
      "eval_loss: 0.8692\n",
      "epoch13: train_loss: 0.3248\n",
      "eval_loss: 0.8727\n",
      "epoch14: train_loss: 0.3212\n",
      "eval_loss: 0.8720\n",
      "epoch15: train_loss: 0.3175\n",
      "eval_loss: 0.8746\n",
      "epoch16: train_loss: 0.3136\n",
      "eval_loss: 0.8722\n",
      "epoch17: train_loss: 0.3112\n",
      "eval_loss: 0.8777\n",
      "epoch18: train_loss: 0.3084\n",
      "eval_loss: 0.8767\n",
      "epoch19: train_loss: 0.3058\n",
      "eval_loss: 0.8779\n"
     ]
    }
   ],
   "execution_count": 51
  },
  {
   "metadata": {
    "ExecuteTime": {
     "end_time": "2024-06-08T22:23:25.346560Z",
     "start_time": "2024-06-08T22:23:25.319944Z"
    }
   },
   "cell_type": "code",
   "source": "print(torch.max(torch.tensor(losses[1])))",
   "id": "c4a55cc05a2ff9b6",
   "outputs": [
    {
     "name": "stdout",
     "output_type": "stream",
     "text": [
      "tensor(0.8779)\n"
     ]
    }
   ],
   "execution_count": 52
  },
  {
   "metadata": {
    "ExecuteTime": {
     "end_time": "2024-06-08T22:23:25.363364Z",
     "start_time": "2024-06-08T22:23:25.350533Z"
    }
   },
   "cell_type": "code",
   "source": "torch.save(torch.tensor(losses[1]), 'results/AdaGrad_P1.pt')",
   "id": "9ff87113d6ddc740",
   "outputs": [],
   "execution_count": 53
  },
  {
   "metadata": {},
   "cell_type": "code",
   "outputs": [],
   "execution_count": null,
   "source": "",
   "id": "65ad3fc3443f2af7"
  }
 ],
 "metadata": {
  "kernelspec": {
   "display_name": "Python 3",
   "language": "python",
   "name": "python3"
  },
  "language_info": {
   "codemirror_mode": {
    "name": "ipython",
    "version": 2
   },
   "file_extension": ".py",
   "mimetype": "text/x-python",
   "name": "python",
   "nbconvert_exporter": "python",
   "pygments_lexer": "ipython2",
   "version": "2.7.6"
  }
 },
 "nbformat": 4,
 "nbformat_minor": 5
}
