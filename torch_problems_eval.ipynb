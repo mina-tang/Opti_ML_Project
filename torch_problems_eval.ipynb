{
 "cells": [
  {
   "cell_type": "code",
   "id": "initial_id",
   "metadata": {
    "collapsed": true,
    "ExecuteTime": {
     "end_time": "2024-06-09T12:17:19.662550Z",
     "start_time": "2024-06-09T12:17:14.619647Z"
    }
   },
   "source": [
    "from pytorch_optim_training_manager import train_manager\n",
    "import torch\n",
    "import torchvision\n",
    "import torchvision.transforms as transforms\n",
    "import models\n",
    "import os"
   ],
   "outputs": [],
   "execution_count": 1
  },
  {
   "metadata": {
    "ExecuteTime": {
     "end_time": "2024-06-09T12:17:19.678056Z",
     "start_time": "2024-06-09T12:17:19.664542Z"
    }
   },
   "cell_type": "code",
   "source": "device = torch.device(\"cuda:0\" if torch.cuda.is_available() else \"cpu\")",
   "id": "caf6fde47c9ee47b",
   "outputs": [],
   "execution_count": 2
  },
  {
   "metadata": {
    "ExecuteTime": {
     "end_time": "2024-06-09T12:17:19.693467Z",
     "start_time": "2024-06-09T12:17:19.681089Z"
    }
   },
   "cell_type": "code",
   "source": [
    "os.environ[\"WANDB_DISABLED\"] = \"true\"\n",
    "os.environ[\"CUDA_DEVICE_ORDER\"]=\"PCI_BUS_ID\"\n",
    "os.environ[\"CUDA_VISIBLE_DEVICES\"]=\"0\""
   ],
   "id": "69119ce26984c6d1",
   "outputs": [],
   "execution_count": 3
  },
  {
   "metadata": {
    "ExecuteTime": {
     "end_time": "2024-06-09T12:17:19.724104Z",
     "start_time": "2024-06-09T12:17:19.694470Z"
    }
   },
   "cell_type": "code",
   "source": [
    "torch.manual_seed(0)\n",
    "torch.cuda.manual_seed_all(0)"
   ],
   "id": "f16b03b2057da788",
   "outputs": [],
   "execution_count": 4
  },
  {
   "metadata": {},
   "cell_type": "markdown",
   "source": "P1",
   "id": "68dd7ea0fcbba6cc"
  },
  {
   "metadata": {
    "ExecuteTime": {
     "end_time": "2024-06-09T11:01:24.239355Z",
     "start_time": "2024-06-09T11:01:24.224307Z"
    }
   },
   "cell_type": "code",
   "source": [
    "transform = transforms.Compose(\n",
    "    [transforms.ToTensor(),\n",
    "    transforms.Normalize((0.5,), (0.5,))])"
   ],
   "id": "f44eb1b21ae2d9e1",
   "outputs": [],
   "execution_count": 39
  },
  {
   "metadata": {
    "ExecuteTime": {
     "end_time": "2024-06-09T11:01:24.905651Z",
     "start_time": "2024-06-09T11:01:24.789830Z"
    }
   },
   "cell_type": "code",
   "source": [
    "training_set = torchvision.datasets.FashionMNIST('./data', train=True, transform=transform, download=True)\n",
    "validation_set = torchvision.datasets.FashionMNIST('./data', train=False, transform=transform, download=True)"
   ],
   "id": "c3df4545dfa06b83",
   "outputs": [],
   "execution_count": 40
  },
  {
   "metadata": {
    "ExecuteTime": {
     "end_time": "2024-06-09T11:01:25.407672Z",
     "start_time": "2024-06-09T11:01:25.386674Z"
    }
   },
   "cell_type": "code",
   "source": [
    "training_loader = torch.utils.data.DataLoader(training_set, batch_size=128, shuffle=True)\n",
    "validation_loader = torch.utils.data.DataLoader(validation_set, batch_size=128, shuffle=False)"
   ],
   "id": "28deecb2ae3012b2",
   "outputs": [],
   "execution_count": 41
  },
  {
   "metadata": {
    "ExecuteTime": {
     "end_time": "2024-06-09T11:01:26.028161Z",
     "start_time": "2024-06-09T11:01:26.012151Z"
    }
   },
   "cell_type": "code",
   "source": "model = models.CNN_Simple()",
   "id": "60a217936eac3868",
   "outputs": [],
   "execution_count": 42
  },
  {
   "metadata": {
    "ExecuteTime": {
     "end_time": "2024-06-08T20:48:27.376350Z",
     "start_time": "2024-06-08T20:48:27.353087Z"
    }
   },
   "cell_type": "code",
   "source": "torch.save(model.state_dict(), 'models/CNN_Simple.pt')",
   "id": "6f9539b7a48c13fa",
   "outputs": [],
   "execution_count": 10
  },
  {
   "metadata": {
    "ExecuteTime": {
     "end_time": "2024-06-08T23:53:50.389377Z",
     "start_time": "2024-06-08T23:53:50.378548Z"
    }
   },
   "cell_type": "code",
   "source": "loss_fn = torch.nn.CrossEntropyLoss()",
   "id": "f83fbeefc2e735a5",
   "outputs": [],
   "execution_count": 62
  },
  {
   "metadata": {},
   "cell_type": "markdown",
   "source": "start again here if evaluating for multiple optimizers",
   "id": "2ab9b2314b191670"
  },
  {
   "metadata": {},
   "cell_type": "code",
   "outputs": [
    {
     "data": {
      "text/plain": [
       "<All keys matched successfully>"
      ]
     },
     "execution_count": 61,
     "metadata": {},
     "output_type": "execute_result"
    }
   ],
   "execution_count": 61,
   "source": "model.load_state_dict(torch.load('models/CNN_Simple.pt'))",
   "id": "71c1be6a35caa3d6"
  },
  {
   "metadata": {
    "ExecuteTime": {
     "end_time": "2024-06-08T23:53:56.665132Z",
     "start_time": "2024-06-08T23:53:56.637140Z"
    }
   },
   "cell_type": "code",
   "source": "optimizer = torch.optim.RMSprop(model.parameters())",
   "id": "5287ad8967603124",
   "outputs": [],
   "execution_count": 63
  },
  {
   "metadata": {
    "ExecuteTime": {
     "end_time": "2024-06-08T23:53:57.913611Z",
     "start_time": "2024-06-08T23:53:57.892142Z"
    }
   },
   "cell_type": "code",
   "source": "manager = train_manager(model, loss_fn, optimizer,training_loader,validation_loader,device=device)",
   "id": "11176b7ef380f1bb",
   "outputs": [],
   "execution_count": 64
  },
  {
   "metadata": {
    "ExecuteTime": {
     "end_time": "2024-06-09T00:03:01.161688Z",
     "start_time": "2024-06-08T23:53:59.626101Z"
    }
   },
   "cell_type": "code",
   "source": "losses = manager.train(20, verbose=True, eval_all_epochs=True, eval_mode='accuracy')",
   "id": "c26dba082a5498c7",
   "outputs": [
    {
     "name": "stdout",
     "output_type": "stream",
     "text": [
      "epoch0: train_loss: 0.7445\n",
      "eval_loss: 0.7654\n",
      "epoch1: train_loss: 0.4870\n",
      "eval_loss: 0.8421\n",
      "epoch2: train_loss: 0.4218\n",
      "eval_loss: 0.8280\n",
      "epoch3: train_loss: 0.3985\n",
      "eval_loss: 0.8498\n",
      "epoch4: train_loss: 0.3834\n",
      "eval_loss: 0.8499\n",
      "epoch5: train_loss: 0.3681\n",
      "eval_loss: 0.8615\n",
      "epoch6: train_loss: 0.3534\n",
      "eval_loss: 0.8421\n",
      "epoch7: train_loss: 0.3487\n",
      "eval_loss: 0.8549\n",
      "epoch8: train_loss: 0.3395\n",
      "eval_loss: 0.8593\n",
      "epoch9: train_loss: 0.3377\n",
      "eval_loss: 0.8275\n",
      "epoch10: train_loss: 0.3334\n",
      "eval_loss: 0.8585\n",
      "epoch11: train_loss: 0.3271\n",
      "eval_loss: 0.8700\n",
      "epoch12: train_loss: 0.3228\n",
      "eval_loss: 0.8732\n",
      "epoch13: train_loss: 0.3229\n",
      "eval_loss: 0.8624\n",
      "epoch14: train_loss: 0.3187\n",
      "eval_loss: 0.8546\n",
      "epoch15: train_loss: 0.3144\n",
      "eval_loss: 0.8699\n",
      "epoch16: train_loss: 0.3065\n",
      "eval_loss: 0.8671\n",
      "epoch17: train_loss: 0.3106\n",
      "eval_loss: 0.8713\n",
      "epoch18: train_loss: 0.3165\n",
      "eval_loss: 0.8644\n",
      "epoch19: train_loss: 0.2994\n",
      "eval_loss: 0.8545\n"
     ]
    }
   ],
   "execution_count": 65
  },
  {
   "metadata": {
    "ExecuteTime": {
     "end_time": "2024-06-09T00:03:01.177368Z",
     "start_time": "2024-06-09T00:03:01.164619Z"
    }
   },
   "cell_type": "code",
   "source": "print(torch.max(torch.tensor(losses[1])))",
   "id": "c4a55cc05a2ff9b6",
   "outputs": [
    {
     "name": "stdout",
     "output_type": "stream",
     "text": [
      "tensor(0.8732)\n"
     ]
    }
   ],
   "execution_count": 66
  },
  {
   "metadata": {
    "ExecuteTime": {
     "end_time": "2024-06-09T00:03:01.192433Z",
     "start_time": "2024-06-09T00:03:01.179365Z"
    }
   },
   "cell_type": "code",
   "source": "torch.save(torch.tensor(losses[1]), 'results/RMSprop_P1.pt')",
   "id": "9ff87113d6ddc740",
   "outputs": [],
   "execution_count": 67
  },
  {
   "metadata": {},
   "cell_type": "markdown",
   "source": "P2",
   "id": "8764e0725ab98a10"
  },
  {
   "metadata": {
    "ExecuteTime": {
     "end_time": "2024-06-09T12:17:32.451447Z",
     "start_time": "2024-06-09T12:17:32.438368Z"
    }
   },
   "cell_type": "code",
   "source": [
    "transform = transforms.Compose(\n",
    "    [transforms.ToTensor()])"
   ],
   "id": "17e118c47c2250e5",
   "outputs": [],
   "execution_count": 5
  },
  {
   "metadata": {
    "ExecuteTime": {
     "end_time": "2024-06-09T12:17:33.218352Z",
     "start_time": "2024-06-09T12:17:33.122058Z"
    }
   },
   "cell_type": "code",
   "source": [
    "training_set = torchvision.datasets.MNIST('./data', train=True, transform=transform, download=True)\n",
    "validation_set = torchvision.datasets.MNIST('./data', train=False, transform=transform, download=True)"
   ],
   "id": "7a571291cfc76883",
   "outputs": [],
   "execution_count": 6
  },
  {
   "metadata": {
    "ExecuteTime": {
     "end_time": "2024-06-09T12:17:33.795297Z",
     "start_time": "2024-06-09T12:17:33.775228Z"
    }
   },
   "cell_type": "code",
   "source": [
    "training_loader = torch.utils.data.DataLoader(training_set, batch_size=64, shuffle=True)\n",
    "validation_loader = torch.utils.data.DataLoader(validation_set, batch_size=64, shuffle=False)"
   ],
   "id": "aa8a106a6551bcc6",
   "outputs": [],
   "execution_count": 7
  },
  {
   "metadata": {
    "ExecuteTime": {
     "end_time": "2024-06-09T12:17:34.529735Z",
     "start_time": "2024-06-09T12:17:34.514638Z"
    }
   },
   "cell_type": "code",
   "source": "model = models.VAE()",
   "id": "730af9e89ea02787",
   "outputs": [],
   "execution_count": 8
  },
  {
   "metadata": {
    "ExecuteTime": {
     "end_time": "2024-06-09T12:17:35.228456Z",
     "start_time": "2024-06-09T12:17:35.204584Z"
    }
   },
   "cell_type": "code",
   "source": "torch.save(model.state_dict(), 'models/VAE.pt')",
   "id": "99f394918d636f5d",
   "outputs": [],
   "execution_count": 9
  },
  {
   "metadata": {
    "ExecuteTime": {
     "end_time": "2024-06-09T12:37:18.648160Z",
     "start_time": "2024-06-09T12:37:18.635232Z"
    }
   },
   "cell_type": "code",
   "source": [
    "class VAE_loss(torch.nn.Module):\n",
    "    def __init__(self):\n",
    "        super(VAE_loss, self).__init__()\n",
    "        self.loss_fn = torch.nn.CrossEntropyLoss(reduction='sum')\n",
    "    def forward(self, preds, labels):\n",
    "        x, mean, logvar = preds\n",
    "        reproduction_loss = self.loss_fn(x, labels)\n",
    "        KLD = -0.5 * torch.sum(1 + logvar - mean**2 - logvar.exp())\n",
    "        return (reproduction_loss + KLD) / len(labels)   "
   ],
   "id": "32966c043fd91080",
   "outputs": [],
   "execution_count": 20
  },
  {
   "metadata": {
    "ExecuteTime": {
     "end_time": "2024-06-09T12:37:19.053263Z",
     "start_time": "2024-06-09T12:37:19.040161Z"
    }
   },
   "cell_type": "code",
   "source": "loss_fn = VAE_loss()",
   "id": "48948193d70a16bc",
   "outputs": [],
   "execution_count": 21
  },
  {
   "metadata": {},
   "cell_type": "markdown",
   "source": "restart here for a different optimizer",
   "id": "e9baac0f4fdb967d"
  },
  {
   "metadata": {
    "ExecuteTime": {
     "end_time": "2024-06-09T12:37:59.447304Z",
     "start_time": "2024-06-09T12:37:59.432294Z"
    }
   },
   "cell_type": "code",
   "source": "model.load_state_dict(torch.load('models/VAE.pt'))",
   "id": "b2b42e1318da1172",
   "outputs": [
    {
     "data": {
      "text/plain": [
       "<All keys matched successfully>"
      ]
     },
     "execution_count": 26,
     "metadata": {},
     "output_type": "execute_result"
    }
   ],
   "execution_count": 26
  },
  {
   "metadata": {
    "ExecuteTime": {
     "end_time": "2024-06-09T12:38:00.101698Z",
     "start_time": "2024-06-09T12:38:00.093971Z"
    }
   },
   "cell_type": "code",
   "source": "optimizer = torch.optim.Adadelta(model.parameters())",
   "id": "94d63e8ba75173fb",
   "outputs": [],
   "execution_count": 27
  },
  {
   "metadata": {
    "ExecuteTime": {
     "end_time": "2024-06-09T12:38:00.834202Z",
     "start_time": "2024-06-09T12:38:00.824171Z"
    }
   },
   "cell_type": "code",
   "source": "manager = train_manager(model, loss_fn, optimizer,training_loader,validation_loader,device=device)",
   "id": "b8e1f82aea28542c",
   "outputs": [],
   "execution_count": 28
  },
  {
   "metadata": {
    "ExecuteTime": {
     "end_time": "2024-06-09T12:46:13.784400Z",
     "start_time": "2024-06-09T12:38:03.817735Z"
    }
   },
   "cell_type": "code",
   "source": "losses = manager.train(20, verbose=True, eval_all_epochs=True, eval_mode='loss')",
   "id": "66f61b24e1a622f7",
   "outputs": [
    {
     "name": "stdout",
     "output_type": "stream",
     "text": [
      "epoch0: train_loss: 5.7354\n",
      "eval_loss: 5.6864\n",
      "epoch1: train_loss: 5.6863\n",
      "eval_loss: 5.6862\n",
      "epoch2: train_loss: 5.6862\n",
      "eval_loss: 5.6862\n",
      "epoch3: train_loss: 5.6862\n",
      "eval_loss: 5.6861\n",
      "epoch4: train_loss: 5.6861\n",
      "eval_loss: 5.6861\n",
      "epoch5: train_loss: 5.6861\n",
      "eval_loss: 5.6861\n",
      "epoch6: train_loss: 5.6861\n",
      "eval_loss: 5.6861\n",
      "epoch7: train_loss: 5.6861\n",
      "eval_loss: 5.6861\n",
      "epoch8: train_loss: 5.6861\n",
      "eval_loss: 5.6861\n",
      "epoch9: train_loss: 5.6861\n",
      "eval_loss: 5.6861\n",
      "epoch10: train_loss: 5.6861\n",
      "eval_loss: 5.6861\n",
      "epoch11: train_loss: 5.6861\n",
      "eval_loss: 5.6861\n",
      "epoch12: train_loss: 5.6861\n",
      "eval_loss: 5.6861\n",
      "epoch13: train_loss: 5.6861\n",
      "eval_loss: 5.6861\n",
      "epoch14: train_loss: 5.6861\n",
      "eval_loss: 5.6861\n",
      "epoch15: train_loss: 5.6861\n",
      "eval_loss: 5.6861\n",
      "epoch16: train_loss: 5.6861\n",
      "eval_loss: 5.6861\n",
      "epoch17: train_loss: 5.6861\n",
      "eval_loss: 5.6861\n",
      "epoch18: train_loss: 5.6861\n",
      "eval_loss: 5.6861\n",
      "epoch19: train_loss: 5.6861\n",
      "eval_loss: 5.6861\n"
     ]
    }
   ],
   "execution_count": 29
  },
  {
   "metadata": {
    "ExecuteTime": {
     "end_time": "2024-06-09T12:46:13.799450Z",
     "start_time": "2024-06-09T12:46:13.788398Z"
    }
   },
   "cell_type": "code",
   "source": "print(torch.min(torch.tensor(losses[1])))",
   "id": "812e80af6ed86b87",
   "outputs": [
    {
     "name": "stdout",
     "output_type": "stream",
     "text": [
      "tensor(5.6861)\n"
     ]
    }
   ],
   "execution_count": 30
  },
  {
   "metadata": {
    "ExecuteTime": {
     "end_time": "2024-06-09T12:54:58.505235Z",
     "start_time": "2024-06-09T12:54:58.488342Z"
    }
   },
   "cell_type": "code",
   "source": "torch.save(torch.tensor(losses[1]), 'results/AdaDelta_P2.pt')",
   "id": "4b1c1048a6db9622",
   "outputs": [],
   "execution_count": 32
  },
  {
   "metadata": {},
   "cell_type": "code",
   "outputs": [],
   "execution_count": null,
   "source": "",
   "id": "287d94749fa92e3"
  }
 ],
 "metadata": {
  "kernelspec": {
   "display_name": "Python 3",
   "language": "python",
   "name": "python3"
  },
  "language_info": {
   "codemirror_mode": {
    "name": "ipython",
    "version": 2
   },
   "file_extension": ".py",
   "mimetype": "text/x-python",
   "name": "python",
   "nbconvert_exporter": "python",
   "pygments_lexer": "ipython2",
   "version": "2.7.6"
  }
 },
 "nbformat": 4,
 "nbformat_minor": 5
}
