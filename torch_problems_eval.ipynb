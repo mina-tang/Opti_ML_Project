{
 "cells": [
  {
   "cell_type": "code",
   "id": "initial_id",
   "metadata": {
    "collapsed": true,
    "ExecuteTime": {
     "end_time": "2024-06-12T22:44:03.455970Z",
     "start_time": "2024-06-12T22:43:48.733938Z"
    }
   },
   "source": [
    "from pytorch_optim_training_manager import train_manager\n",
    "import torch\n",
    "import torchvision\n",
    "from datasets import load_dataset\n",
    "import datasets\n",
    "import torchvision.transforms as transforms\n",
    "import models\n",
    "import os\n",
    "import re\n",
    "from collections import Counter\n",
    "from torch.utils.data import Dataset, DataLoader\n",
    "from tqdm import tqdm\n",
    "from ucimlrepo import fetch_ucirepo \n",
    "import numpy as np\n",
    "import pandas as pd\n",
    "from sklearn.preprocessing import MinMaxScaler\n",
    "from sklearn.model_selection import train_test_split"
   ],
   "outputs": [],
   "execution_count": 1
  },
  {
   "metadata": {
    "ExecuteTime": {
     "end_time": "2024-06-12T22:44:03.471978Z",
     "start_time": "2024-06-12T22:44:03.458967Z"
    }
   },
   "cell_type": "code",
   "source": "device = torch.device(\"cuda:0\" if torch.cuda.is_available() else \"cpu\")",
   "id": "caf6fde47c9ee47b",
   "outputs": [],
   "execution_count": 2
  },
  {
   "metadata": {
    "ExecuteTime": {
     "end_time": "2024-06-12T22:44:03.487531Z",
     "start_time": "2024-06-12T22:44:03.474984Z"
    }
   },
   "cell_type": "code",
   "source": [
    "os.environ[\"WANDB_DISABLED\"] = \"true\"\n",
    "os.environ[\"CUDA_DEVICE_ORDER\"]=\"PCI_BUS_ID\"\n",
    "os.environ[\"CUDA_VISIBLE_DEVICES\"]=\"0\""
   ],
   "id": "69119ce26984c6d1",
   "outputs": [],
   "execution_count": 3
  },
  {
   "metadata": {
    "ExecuteTime": {
     "end_time": "2024-06-12T22:44:03.519534Z",
     "start_time": "2024-06-12T22:44:03.490531Z"
    }
   },
   "cell_type": "code",
   "source": [
    "torch.manual_seed(0)\n",
    "torch.cuda.manual_seed_all(0)"
   ],
   "id": "f16b03b2057da788",
   "outputs": [],
   "execution_count": 4
  },
  {
   "metadata": {},
   "cell_type": "markdown",
   "source": "P0",
   "id": "7edbca0ee2e828e"
  },
  {
   "metadata": {
    "ExecuteTime": {
     "end_time": "2024-06-12T22:44:06.438968Z",
     "start_time": "2024-06-12T22:44:03.522529Z"
    }
   },
   "cell_type": "code",
   "source": [
    "# fetch dataset \n",
    "wine_quality = fetch_ucirepo(id=186) \n",
    "  \n",
    "# data (as pandas dataframes) \n",
    "x = wine_quality.data.features \n",
    "y = wine_quality.data.targets \n",
    "  \n",
    "# metadata \n",
    "# print(wine_quality.metadata) \n",
    "  \n",
    "# variable information \n",
    "# print(wine_quality.variables) "
   ],
   "id": "5bc43552e288c82",
   "outputs": [],
   "execution_count": 5
  },
  {
   "metadata": {
    "ExecuteTime": {
     "end_time": "2024-06-12T22:44:06.470972Z",
     "start_time": "2024-06-12T22:44:06.440965Z"
    }
   },
   "cell_type": "code",
   "source": "data_train, data_validation = train_test_split(x.join(y), random_state=104, test_size=0.25, shuffle=True)",
   "id": "5e52486caecde36c",
   "outputs": [],
   "execution_count": 6
  },
  {
   "metadata": {
    "ExecuteTime": {
     "end_time": "2024-06-12T22:51:15.637894Z",
     "start_time": "2024-06-12T22:51:15.608900Z"
    }
   },
   "cell_type": "code",
   "source": [
    "scaler = MinMaxScaler()\n",
    "columns_to_normalize = data_train.columns.tolist()\n",
    "\n",
    "data_train[columns_to_normalize] = scaler.fit_transform(data_train[columns_to_normalize])\n",
    "data_validation[columns_to_normalize] = scaler.transform(data_validation[columns_to_normalize])"
   ],
   "id": "ea08dcbd206a7dcd",
   "outputs": [],
   "execution_count": 29
  },
  {
   "metadata": {
    "ExecuteTime": {
     "end_time": "2024-06-12T22:51:44.787283Z",
     "start_time": "2024-06-12T22:51:44.765286Z"
    }
   },
   "cell_type": "code",
   "source": [
    "class create_dataset(Dataset):\n",
    "    def __init__(self, data,):\n",
    "        self.data = data\n",
    "        \n",
    "    def __getitem__(self, index):\n",
    "        x = torch.from_numpy(self.data.iloc[index][:-1].to_numpy())\n",
    "        y = torch.from_numpy(self.data.iloc[index][-1:].to_numpy())\n",
    "        return x, y\n",
    "    \n",
    "    def __len__(self):\n",
    "        return len(self.data)\n",
    "\n",
    "dataset_train = create_dataset(data_train)\n",
    "dataset_validation = create_dataset(data_validation)\n",
    "training_loader = DataLoader(dataset_train,batch_size=128,shuffle=True)\n",
    "validation_loader = DataLoader(dataset_validation,batch_size=1,shuffle=False)"
   ],
   "id": "cb0eec8dc6e32840",
   "outputs": [],
   "execution_count": 31
  },
  {
   "metadata": {
    "ExecuteTime": {
     "end_time": "2024-06-12T22:51:45.653540Z",
     "start_time": "2024-06-12T22:51:45.638543Z"
    }
   },
   "cell_type": "code",
   "source": "model = models.Simple_Net()",
   "id": "fabfe9e6bf228365",
   "outputs": [],
   "execution_count": 32
  },
  {
   "metadata": {
    "ExecuteTime": {
     "end_time": "2024-06-12T22:51:46.527886Z",
     "start_time": "2024-06-12T22:51:46.514875Z"
    }
   },
   "cell_type": "code",
   "source": "torch.save(model.state_dict(), 'models/Simple_Net.pt')",
   "id": "2e8a0a438fbb82df",
   "outputs": [],
   "execution_count": 33
  },
  {
   "metadata": {
    "ExecuteTime": {
     "end_time": "2024-06-12T22:51:47.553674Z",
     "start_time": "2024-06-12T22:51:47.539674Z"
    }
   },
   "cell_type": "code",
   "source": "loss_fn = torch.nn.MSELoss()",
   "id": "566068d44373cba3",
   "outputs": [],
   "execution_count": 34
  },
  {
   "metadata": {},
   "cell_type": "markdown",
   "source": "restart here when evaluating multiple optimizers ",
   "id": "9d3cd6f6ecffe0e4"
  },
  {
   "metadata": {
    "ExecuteTime": {
     "end_time": "2024-06-12T22:51:49.513228Z",
     "start_time": "2024-06-12T22:51:49.499242Z"
    }
   },
   "cell_type": "code",
   "source": "model.load_state_dict(torch.load('models/Simple_Net.pt'))",
   "id": "7fe168993c527507",
   "outputs": [
    {
     "data": {
      "text/plain": [
       "<All keys matched successfully>"
      ]
     },
     "execution_count": 35,
     "metadata": {},
     "output_type": "execute_result"
    }
   ],
   "execution_count": 35
  },
  {
   "metadata": {
    "ExecuteTime": {
     "end_time": "2024-06-12T22:51:51.538545Z",
     "start_time": "2024-06-12T22:51:51.529547Z"
    }
   },
   "cell_type": "code",
   "source": "optimizer = torch.optim.Adam(model.parameters())",
   "id": "e01e62a8a13e9b9c",
   "outputs": [],
   "execution_count": 36
  },
  {
   "metadata": {
    "ExecuteTime": {
     "end_time": "2024-06-12T22:51:54.202821Z",
     "start_time": "2024-06-12T22:51:52.836449Z"
    }
   },
   "cell_type": "code",
   "source": "manager = train_manager(model, loss_fn, optimizer,training_loader,validation_loader,device=device)",
   "id": "e2acbc4ec1987e70",
   "outputs": [],
   "execution_count": 37
  },
  {
   "metadata": {
    "ExecuteTime": {
     "end_time": "2024-06-12T22:53:24.338284Z",
     "start_time": "2024-06-12T22:51:57.680275Z"
    }
   },
   "cell_type": "code",
   "source": "losses = manager.train(20, verbose=True, eval_all_epochs=True, eval_mode='accuracy', is_wine=True)",
   "id": "df4d73a3eab3657f",
   "outputs": [
    {
     "name": "stdout",
     "output_type": "stream",
     "text": [
      "epoch0: train_loss: 0.1685\n",
      "eval_loss: 0.9428\n",
      "epoch1: train_loss: 0.0565\n",
      "eval_loss: 0.9945\n",
      "epoch2: train_loss: 0.0261\n",
      "eval_loss: 0.9975\n",
      "epoch3: train_loss: 0.0239\n",
      "eval_loss: 0.9975\n",
      "epoch4: train_loss: 0.0222\n",
      "eval_loss: 0.9988\n",
      "epoch5: train_loss: 0.0189\n",
      "eval_loss: 0.9994\n",
      "epoch6: train_loss: 0.0174\n",
      "eval_loss: 0.9994\n",
      "epoch7: train_loss: 0.0165\n",
      "eval_loss: 0.9994\n",
      "epoch8: train_loss: 0.0166\n",
      "eval_loss: 0.9994\n",
      "epoch9: train_loss: 0.0164\n",
      "eval_loss: 0.9994\n",
      "epoch10: train_loss: 0.0155\n",
      "eval_loss: 0.9994\n",
      "epoch11: train_loss: 0.0154\n",
      "eval_loss: 0.9994\n",
      "epoch12: train_loss: 0.0155\n",
      "eval_loss: 0.9994\n",
      "epoch13: train_loss: 0.0155\n",
      "eval_loss: 0.9994\n",
      "epoch14: train_loss: 0.0154\n",
      "eval_loss: 0.9994\n",
      "epoch15: train_loss: 0.0155\n",
      "eval_loss: 0.9994\n",
      "epoch16: train_loss: 0.0154\n",
      "eval_loss: 0.9994\n",
      "epoch17: train_loss: 0.0152\n",
      "eval_loss: 0.9988\n",
      "epoch18: train_loss: 0.0156\n",
      "eval_loss: 0.9988\n",
      "epoch19: train_loss: 0.0157\n",
      "eval_loss: 0.9994\n"
     ]
    }
   ],
   "execution_count": 38
  },
  {
   "metadata": {
    "ExecuteTime": {
     "end_time": "2024-06-12T22:53:24.354283Z",
     "start_time": "2024-06-12T22:53:24.341286Z"
    }
   },
   "cell_type": "code",
   "source": "print(torch.max(torch.tensor(losses[1])))",
   "id": "8623c108ad8eabee",
   "outputs": [
    {
     "name": "stdout",
     "output_type": "stream",
     "text": [
      "tensor(0.9994)\n"
     ]
    }
   ],
   "execution_count": 39
  },
  {
   "metadata": {
    "ExecuteTime": {
     "end_time": "2024-06-12T22:53:26.915843Z",
     "start_time": "2024-06-12T22:53:24.356283Z"
    }
   },
   "cell_type": "code",
   "source": "manager.test_ol",
   "id": "b8e88110358312c",
   "outputs": [
    {
     "data": {
      "text/plain": [
       "[(tensor([[0.2062]], device='cuda:0', dtype=torch.float64),\n",
       "  tensor([[0.6667]], device='cuda:0', dtype=torch.float64)),\n",
       " (tensor([[0.2194]], device='cuda:0', dtype=torch.float64),\n",
       "  tensor([[0.3333]], device='cuda:0', dtype=torch.float64)),\n",
       " (tensor([[0.2127]], device='cuda:0', dtype=torch.float64),\n",
       "  tensor([[0.5000]], device='cuda:0', dtype=torch.float64)),\n",
       " (tensor([[0.2142]], device='cuda:0', dtype=torch.float64),\n",
       "  tensor([[0.5000]], device='cuda:0', dtype=torch.float64)),\n",
       " (tensor([[0.1533]], device='cuda:0', dtype=torch.float64),\n",
       "  tensor([[0.6667]], device='cuda:0', dtype=torch.float64)),\n",
       " (tensor([[0.2259]], device='cuda:0', dtype=torch.float64),\n",
       "  tensor([[0.6667]], device='cuda:0', dtype=torch.float64)),\n",
       " (tensor([[0.2004]], device='cuda:0', dtype=torch.float64),\n",
       "  tensor([[0.3333]], device='cuda:0', dtype=torch.float64)),\n",
       " (tensor([[0.2045]], device='cuda:0', dtype=torch.float64),\n",
       "  tensor([[0.8333]], device='cuda:0', dtype=torch.float64)),\n",
       " (tensor([[0.2160]], device='cuda:0', dtype=torch.float64),\n",
       "  tensor([[0.5000]], device='cuda:0', dtype=torch.float64)),\n",
       " (tensor([[0.2028]], device='cuda:0', dtype=torch.float64),\n",
       "  tensor([[0.5000]], device='cuda:0', dtype=torch.float64)),\n",
       " (tensor([[0.2409]], device='cuda:0', dtype=torch.float64),\n",
       "  tensor([[0.5000]], device='cuda:0', dtype=torch.float64)),\n",
       " (tensor([[0.1607]], device='cuda:0', dtype=torch.float64),\n",
       "  tensor([[0.5000]], device='cuda:0', dtype=torch.float64)),\n",
       " (tensor([[0.2350]], device='cuda:0', dtype=torch.float64),\n",
       "  tensor([[0.3333]], device='cuda:0', dtype=torch.float64)),\n",
       " (tensor([[0.1655]], device='cuda:0', dtype=torch.float64),\n",
       "  tensor([[0.5000]], device='cuda:0', dtype=torch.float64)),\n",
       " (tensor([[0.2418]], device='cuda:0', dtype=torch.float64),\n",
       "  tensor([[0.3333]], device='cuda:0', dtype=torch.float64)),\n",
       " (tensor([[0.2045]], device='cuda:0', dtype=torch.float64),\n",
       "  tensor([[0.8333]], device='cuda:0', dtype=torch.float64)),\n",
       " (tensor([[0.2457]], device='cuda:0', dtype=torch.float64),\n",
       "  tensor([[0.3333]], device='cuda:0', dtype=torch.float64)),\n",
       " (tensor([[0.2098]], device='cuda:0', dtype=torch.float64),\n",
       "  tensor([[0.3333]], device='cuda:0', dtype=torch.float64)),\n",
       " (tensor([[0.2558]], device='cuda:0', dtype=torch.float64),\n",
       "  tensor([[0.3333]], device='cuda:0', dtype=torch.float64)),\n",
       " (tensor([[0.1912]], device='cuda:0', dtype=torch.float64),\n",
       "  tensor([[0.3333]], device='cuda:0', dtype=torch.float64)),\n",
       " (tensor([[0.2015]], device='cuda:0', dtype=torch.float64),\n",
       "  tensor([[0.6667]], device='cuda:0', dtype=torch.float64)),\n",
       " (tensor([[0.1816]], device='cuda:0', dtype=torch.float64),\n",
       "  tensor([[0.5000]], device='cuda:0', dtype=torch.float64)),\n",
       " (tensor([[0.1280]], device='cuda:0', dtype=torch.float64),\n",
       "  tensor([[0.5000]], device='cuda:0', dtype=torch.float64)),\n",
       " (tensor([[0.2007]], device='cuda:0', dtype=torch.float64),\n",
       "  tensor([[0.5000]], device='cuda:0', dtype=torch.float64)),\n",
       " (tensor([[0.2499]], device='cuda:0', dtype=torch.float64),\n",
       "  tensor([[0.3333]], device='cuda:0', dtype=torch.float64)),\n",
       " (tensor([[0.2197]], device='cuda:0', dtype=torch.float64),\n",
       "  tensor([[0.5000]], device='cuda:0', dtype=torch.float64)),\n",
       " (tensor([[0.2002]], device='cuda:0', dtype=torch.float64),\n",
       "  tensor([[0.3333]], device='cuda:0', dtype=torch.float64)),\n",
       " (tensor([[0.1877]], device='cuda:0', dtype=torch.float64),\n",
       "  tensor([[0.5000]], device='cuda:0', dtype=torch.float64)),\n",
       " (tensor([[0.1472]], device='cuda:0', dtype=torch.float64),\n",
       "  tensor([[0.6667]], device='cuda:0', dtype=torch.float64)),\n",
       " (tensor([[0.1645]], device='cuda:0', dtype=torch.float64),\n",
       "  tensor([[0.5000]], device='cuda:0', dtype=torch.float64)),\n",
       " (tensor([[0.2110]], device='cuda:0', dtype=torch.float64),\n",
       "  tensor([[0.6667]], device='cuda:0', dtype=torch.float64)),\n",
       " (tensor([[0.1812]], device='cuda:0', dtype=torch.float64),\n",
       "  tensor([[0.1667]], device='cuda:0', dtype=torch.float64)),\n",
       " (tensor([[0.2682]], device='cuda:0', dtype=torch.float64),\n",
       "  tensor([[0.3333]], device='cuda:0', dtype=torch.float64)),\n",
       " (tensor([[0.1965]], device='cuda:0', dtype=torch.float64),\n",
       "  tensor([[0.1667]], device='cuda:0', dtype=torch.float64)),\n",
       " (tensor([[0.1999]], device='cuda:0', dtype=torch.float64),\n",
       "  tensor([[0.5000]], device='cuda:0', dtype=torch.float64)),\n",
       " (tensor([[0.1763]], device='cuda:0', dtype=torch.float64),\n",
       "  tensor([[0.8333]], device='cuda:0', dtype=torch.float64)),\n",
       " (tensor([[0.2160]], device='cuda:0', dtype=torch.float64),\n",
       "  tensor([[0.3333]], device='cuda:0', dtype=torch.float64)),\n",
       " (tensor([[0.1799]], device='cuda:0', dtype=torch.float64),\n",
       "  tensor([[0.3333]], device='cuda:0', dtype=torch.float64)),\n",
       " (tensor([[0.2149]], device='cuda:0', dtype=torch.float64),\n",
       "  tensor([[0.5000]], device='cuda:0', dtype=torch.float64)),\n",
       " (tensor([[0.1641]], device='cuda:0', dtype=torch.float64),\n",
       "  tensor([[0.6667]], device='cuda:0', dtype=torch.float64)),\n",
       " (tensor([[0.2337]], device='cuda:0', dtype=torch.float64),\n",
       "  tensor([[0.5000]], device='cuda:0', dtype=torch.float64)),\n",
       " (tensor([[0.1848]], device='cuda:0', dtype=torch.float64),\n",
       "  tensor([[0.5000]], device='cuda:0', dtype=torch.float64)),\n",
       " (tensor([[0.2525]], device='cuda:0', dtype=torch.float64),\n",
       "  tensor([[0.3333]], device='cuda:0', dtype=torch.float64)),\n",
       " (tensor([[0.1834]], device='cuda:0', dtype=torch.float64),\n",
       "  tensor([[0.5000]], device='cuda:0', dtype=torch.float64)),\n",
       " (tensor([[0.2312]], device='cuda:0', dtype=torch.float64),\n",
       "  tensor([[0.5000]], device='cuda:0', dtype=torch.float64)),\n",
       " (tensor([[0.1778]], device='cuda:0', dtype=torch.float64),\n",
       "  tensor([[0.3333]], device='cuda:0', dtype=torch.float64)),\n",
       " (tensor([[0.1780]], device='cuda:0', dtype=torch.float64),\n",
       "  tensor([[0.8333]], device='cuda:0', dtype=torch.float64)),\n",
       " (tensor([[0.2824]], device='cuda:0', dtype=torch.float64),\n",
       "  tensor([[0.3333]], device='cuda:0', dtype=torch.float64)),\n",
       " (tensor([[0.2186]], device='cuda:0', dtype=torch.float64),\n",
       "  tensor([[0.3333]], device='cuda:0', dtype=torch.float64)),\n",
       " (tensor([[0.2323]], device='cuda:0', dtype=torch.float64),\n",
       "  tensor([[0.3333]], device='cuda:0', dtype=torch.float64)),\n",
       " (tensor([[0.1872]], device='cuda:0', dtype=torch.float64),\n",
       "  tensor([[0.6667]], device='cuda:0', dtype=torch.float64)),\n",
       " (tensor([[0.2037]], device='cuda:0', dtype=torch.float64),\n",
       "  tensor([[0.5000]], device='cuda:0', dtype=torch.float64)),\n",
       " (tensor([[0.2372]], device='cuda:0', dtype=torch.float64),\n",
       "  tensor([[0.5000]], device='cuda:0', dtype=torch.float64)),\n",
       " (tensor([[0.2462]], device='cuda:0', dtype=torch.float64),\n",
       "  tensor([[0.6667]], device='cuda:0', dtype=torch.float64)),\n",
       " (tensor([[0.1576]], device='cuda:0', dtype=torch.float64),\n",
       "  tensor([[0.6667]], device='cuda:0', dtype=torch.float64)),\n",
       " (tensor([[0.2551]], device='cuda:0', dtype=torch.float64),\n",
       "  tensor([[0.5000]], device='cuda:0', dtype=torch.float64)),\n",
       " (tensor([[0.1822]], device='cuda:0', dtype=torch.float64),\n",
       "  tensor([[0.3333]], device='cuda:0', dtype=torch.float64)),\n",
       " (tensor([[0.1823]], device='cuda:0', dtype=torch.float64),\n",
       "  tensor([[0.6667]], device='cuda:0', dtype=torch.float64)),\n",
       " (tensor([[0.1545]], device='cuda:0', dtype=torch.float64),\n",
       "  tensor([[0.6667]], device='cuda:0', dtype=torch.float64)),\n",
       " (tensor([[0.2391]], device='cuda:0', dtype=torch.float64),\n",
       "  tensor([[0.3333]], device='cuda:0', dtype=torch.float64)),\n",
       " (tensor([[0.1657]], device='cuda:0', dtype=torch.float64),\n",
       "  tensor([[0.3333]], device='cuda:0', dtype=torch.float64)),\n",
       " (tensor([[0.2079]], device='cuda:0', dtype=torch.float64),\n",
       "  tensor([[0.5000]], device='cuda:0', dtype=torch.float64)),\n",
       " (tensor([[0.2089]], device='cuda:0', dtype=torch.float64),\n",
       "  tensor([[0.3333]], device='cuda:0', dtype=torch.float64)),\n",
       " (tensor([[0.2151]], device='cuda:0', dtype=torch.float64),\n",
       "  tensor([[0.3333]], device='cuda:0', dtype=torch.float64)),\n",
       " (tensor([[0.1768]], device='cuda:0', dtype=torch.float64),\n",
       "  tensor([[0.3333]], device='cuda:0', dtype=torch.float64)),\n",
       " (tensor([[0.2006]], device='cuda:0', dtype=torch.float64),\n",
       "  tensor([[0.5000]], device='cuda:0', dtype=torch.float64)),\n",
       " (tensor([[0.1644]], device='cuda:0', dtype=torch.float64),\n",
       "  tensor([[0.3333]], device='cuda:0', dtype=torch.float64)),\n",
       " (tensor([[0.2107]], device='cuda:0', dtype=torch.float64),\n",
       "  tensor([[0.3333]], device='cuda:0', dtype=torch.float64)),\n",
       " (tensor([[0.1974]], device='cuda:0', dtype=torch.float64),\n",
       "  tensor([[0.5000]], device='cuda:0', dtype=torch.float64)),\n",
       " (tensor([[0.1816]], device='cuda:0', dtype=torch.float64),\n",
       "  tensor([[0.5000]], device='cuda:0', dtype=torch.float64)),\n",
       " (tensor([[0.2041]], device='cuda:0', dtype=torch.float64),\n",
       "  tensor([[0.5000]], device='cuda:0', dtype=torch.float64)),\n",
       " (tensor([[0.1838]], device='cuda:0', dtype=torch.float64),\n",
       "  tensor([[0.3333]], device='cuda:0', dtype=torch.float64)),\n",
       " (tensor([[0.1975]], device='cuda:0', dtype=torch.float64),\n",
       "  tensor([[0.5000]], device='cuda:0', dtype=torch.float64)),\n",
       " (tensor([[0.1770]], device='cuda:0', dtype=torch.float64),\n",
       "  tensor([[0.5000]], device='cuda:0', dtype=torch.float64)),\n",
       " (tensor([[0.2542]], device='cuda:0', dtype=torch.float64),\n",
       "  tensor([[0.5000]], device='cuda:0', dtype=torch.float64)),\n",
       " (tensor([[0.1532]], device='cuda:0', dtype=torch.float64),\n",
       "  tensor([[0.3333]], device='cuda:0', dtype=torch.float64)),\n",
       " (tensor([[0.2042]], device='cuda:0', dtype=torch.float64),\n",
       "  tensor([[0.5000]], device='cuda:0', dtype=torch.float64)),\n",
       " (tensor([[0.2317]], device='cuda:0', dtype=torch.float64),\n",
       "  tensor([[0.5000]], device='cuda:0', dtype=torch.float64)),\n",
       " (tensor([[0.2187]], device='cuda:0', dtype=torch.float64),\n",
       "  tensor([[0.5000]], device='cuda:0', dtype=torch.float64)),\n",
       " (tensor([[0.2269]], device='cuda:0', dtype=torch.float64),\n",
       "  tensor([[0.3333]], device='cuda:0', dtype=torch.float64)),\n",
       " (tensor([[0.1787]], device='cuda:0', dtype=torch.float64),\n",
       "  tensor([[0.3333]], device='cuda:0', dtype=torch.float64)),\n",
       " (tensor([[0.2095]], device='cuda:0', dtype=torch.float64),\n",
       "  tensor([[0.6667]], device='cuda:0', dtype=torch.float64)),\n",
       " (tensor([[0.1851]], device='cuda:0', dtype=torch.float64),\n",
       "  tensor([[0.5000]], device='cuda:0', dtype=torch.float64)),\n",
       " (tensor([[0.1623]], device='cuda:0', dtype=torch.float64),\n",
       "  tensor([[0.8333]], device='cuda:0', dtype=torch.float64)),\n",
       " (tensor([[0.1597]], device='cuda:0', dtype=torch.float64),\n",
       "  tensor([[0.3333]], device='cuda:0', dtype=torch.float64)),\n",
       " (tensor([[0.2054]], device='cuda:0', dtype=torch.float64),\n",
       "  tensor([[0.3333]], device='cuda:0', dtype=torch.float64)),\n",
       " (tensor([[0.2156]], device='cuda:0', dtype=torch.float64),\n",
       "  tensor([[0.3333]], device='cuda:0', dtype=torch.float64)),\n",
       " (tensor([[0.2235]], device='cuda:0', dtype=torch.float64),\n",
       "  tensor([[0.5000]], device='cuda:0', dtype=torch.float64)),\n",
       " (tensor([[0.2154]], device='cuda:0', dtype=torch.float64),\n",
       "  tensor([[0.3333]], device='cuda:0', dtype=torch.float64)),\n",
       " (tensor([[0.2252]], device='cuda:0', dtype=torch.float64),\n",
       "  tensor([[0.3333]], device='cuda:0', dtype=torch.float64)),\n",
       " (tensor([[0.1987]], device='cuda:0', dtype=torch.float64),\n",
       "  tensor([[0.5000]], device='cuda:0', dtype=torch.float64)),\n",
       " (tensor([[0.2002]], device='cuda:0', dtype=torch.float64),\n",
       "  tensor([[0.5000]], device='cuda:0', dtype=torch.float64)),\n",
       " (tensor([[0.2024]], device='cuda:0', dtype=torch.float64),\n",
       "  tensor([[0.3333]], device='cuda:0', dtype=torch.float64)),\n",
       " (tensor([[0.1943]], device='cuda:0', dtype=torch.float64),\n",
       "  tensor([[0.3333]], device='cuda:0', dtype=torch.float64)),\n",
       " (tensor([[0.2174]], device='cuda:0', dtype=torch.float64),\n",
       "  tensor([[0.1667]], device='cuda:0', dtype=torch.float64)),\n",
       " (tensor([[0.2444]], device='cuda:0', dtype=torch.float64),\n",
       "  tensor([[0.3333]], device='cuda:0', dtype=torch.float64)),\n",
       " (tensor([[0.1874]], device='cuda:0', dtype=torch.float64),\n",
       "  tensor([[0.5000]], device='cuda:0', dtype=torch.float64)),\n",
       " (tensor([[0.2427]], device='cuda:0', dtype=torch.float64),\n",
       "  tensor([[0.3333]], device='cuda:0', dtype=torch.float64)),\n",
       " (tensor([[0.1797]], device='cuda:0', dtype=torch.float64),\n",
       "  tensor([[0.6667]], device='cuda:0', dtype=torch.float64)),\n",
       " (tensor([[0.2244]], device='cuda:0', dtype=torch.float64),\n",
       "  tensor([[0.5000]], device='cuda:0', dtype=torch.float64)),\n",
       " (tensor([[0.1889]], device='cuda:0', dtype=torch.float64),\n",
       "  tensor([[0.5000]], device='cuda:0', dtype=torch.float64)),\n",
       " (tensor([[0.2273]], device='cuda:0', dtype=torch.float64),\n",
       "  tensor([[0.6667]], device='cuda:0', dtype=torch.float64)),\n",
       " (tensor([[0.1996]], device='cuda:0', dtype=torch.float64),\n",
       "  tensor([[0.5000]], device='cuda:0', dtype=torch.float64)),\n",
       " (tensor([[0.1803]], device='cuda:0', dtype=torch.float64),\n",
       "  tensor([[0.6667]], device='cuda:0', dtype=torch.float64)),\n",
       " (tensor([[0.2415]], device='cuda:0', dtype=torch.float64),\n",
       "  tensor([[0.5000]], device='cuda:0', dtype=torch.float64)),\n",
       " (tensor([[0.1512]], device='cuda:0', dtype=torch.float64),\n",
       "  tensor([[0.5000]], device='cuda:0', dtype=torch.float64)),\n",
       " (tensor([[0.2490]], device='cuda:0', dtype=torch.float64),\n",
       "  tensor([[0.6667]], device='cuda:0', dtype=torch.float64)),\n",
       " (tensor([[0.1959]], device='cuda:0', dtype=torch.float64),\n",
       "  tensor([[0.6667]], device='cuda:0', dtype=torch.float64)),\n",
       " (tensor([[0.1671]], device='cuda:0', dtype=torch.float64),\n",
       "  tensor([[0.3333]], device='cuda:0', dtype=torch.float64)),\n",
       " (tensor([[0.2331]], device='cuda:0', dtype=torch.float64),\n",
       "  tensor([[0.5000]], device='cuda:0', dtype=torch.float64)),\n",
       " (tensor([[0.1599]], device='cuda:0', dtype=torch.float64),\n",
       "  tensor([[0.3333]], device='cuda:0', dtype=torch.float64)),\n",
       " (tensor([[0.1898]], device='cuda:0', dtype=torch.float64),\n",
       "  tensor([[0.3333]], device='cuda:0', dtype=torch.float64)),\n",
       " (tensor([[0.2144]], device='cuda:0', dtype=torch.float64),\n",
       "  tensor([[0.1667]], device='cuda:0', dtype=torch.float64)),\n",
       " (tensor([[0.1565]], device='cuda:0', dtype=torch.float64),\n",
       "  tensor([[0.5000]], device='cuda:0', dtype=torch.float64)),\n",
       " (tensor([[0.1865]], device='cuda:0', dtype=torch.float64),\n",
       "  tensor([[0.3333]], device='cuda:0', dtype=torch.float64)),\n",
       " (tensor([[0.2293]], device='cuda:0', dtype=torch.float64),\n",
       "  tensor([[0.5000]], device='cuda:0', dtype=torch.float64)),\n",
       " (tensor([[0.2061]], device='cuda:0', dtype=torch.float64),\n",
       "  tensor([[0.6667]], device='cuda:0', dtype=torch.float64)),\n",
       " (tensor([[0.2037]], device='cuda:0', dtype=torch.float64),\n",
       "  tensor([[0.6667]], device='cuda:0', dtype=torch.float64)),\n",
       " (tensor([[0.2333]], device='cuda:0', dtype=torch.float64),\n",
       "  tensor([[0.3333]], device='cuda:0', dtype=torch.float64)),\n",
       " (tensor([[0.2170]], device='cuda:0', dtype=torch.float64),\n",
       "  tensor([[0.5000]], device='cuda:0', dtype=torch.float64)),\n",
       " (tensor([[0.2392]], device='cuda:0', dtype=torch.float64),\n",
       "  tensor([[0.5000]], device='cuda:0', dtype=torch.float64)),\n",
       " (tensor([[0.1675]], device='cuda:0', dtype=torch.float64),\n",
       "  tensor([[0.8333]], device='cuda:0', dtype=torch.float64)),\n",
       " (tensor([[0.1802]], device='cuda:0', dtype=torch.float64),\n",
       "  tensor([[0.1667]], device='cuda:0', dtype=torch.float64)),\n",
       " (tensor([[0.1757]], device='cuda:0', dtype=torch.float64),\n",
       "  tensor([[0.5000]], device='cuda:0', dtype=torch.float64)),\n",
       " (tensor([[0.2360]], device='cuda:0', dtype=torch.float64),\n",
       "  tensor([[0.5000]], device='cuda:0', dtype=torch.float64)),\n",
       " (tensor([[0.2014]], device='cuda:0', dtype=torch.float64),\n",
       "  tensor([[0.3333]], device='cuda:0', dtype=torch.float64)),\n",
       " (tensor([[0.2402]], device='cuda:0', dtype=torch.float64),\n",
       "  tensor([[0.3333]], device='cuda:0', dtype=torch.float64)),\n",
       " (tensor([[0.2122]], device='cuda:0', dtype=torch.float64),\n",
       "  tensor([[0.3333]], device='cuda:0', dtype=torch.float64)),\n",
       " (tensor([[0.2038]], device='cuda:0', dtype=torch.float64),\n",
       "  tensor([[0.3333]], device='cuda:0', dtype=torch.float64)),\n",
       " (tensor([[0.1640]], device='cuda:0', dtype=torch.float64),\n",
       "  tensor([[0.3333]], device='cuda:0', dtype=torch.float64)),\n",
       " (tensor([[0.2104]], device='cuda:0', dtype=torch.float64),\n",
       "  tensor([[0.5000]], device='cuda:0', dtype=torch.float64)),\n",
       " (tensor([[0.1621]], device='cuda:0', dtype=torch.float64),\n",
       "  tensor([[0.3333]], device='cuda:0', dtype=torch.float64)),\n",
       " (tensor([[0.1959]], device='cuda:0', dtype=torch.float64),\n",
       "  tensor([[0.6667]], device='cuda:0', dtype=torch.float64)),\n",
       " (tensor([[0.1929]], device='cuda:0', dtype=torch.float64),\n",
       "  tensor([[0.3333]], device='cuda:0', dtype=torch.float64)),\n",
       " (tensor([[0.1647]], device='cuda:0', dtype=torch.float64),\n",
       "  tensor([[0.3333]], device='cuda:0', dtype=torch.float64)),\n",
       " (tensor([[0.1508]], device='cuda:0', dtype=torch.float64),\n",
       "  tensor([[0.5000]], device='cuda:0', dtype=torch.float64)),\n",
       " (tensor([[0.1704]], device='cuda:0', dtype=torch.float64),\n",
       "  tensor([[0.3333]], device='cuda:0', dtype=torch.float64)),\n",
       " (tensor([[0.1558]], device='cuda:0', dtype=torch.float64),\n",
       "  tensor([[0.3333]], device='cuda:0', dtype=torch.float64)),\n",
       " (tensor([[0.2153]], device='cuda:0', dtype=torch.float64),\n",
       "  tensor([[0.3333]], device='cuda:0', dtype=torch.float64)),\n",
       " (tensor([[0.1582]], device='cuda:0', dtype=torch.float64),\n",
       "  tensor([[0.5000]], device='cuda:0', dtype=torch.float64)),\n",
       " (tensor([[0.1530]], device='cuda:0', dtype=torch.float64),\n",
       "  tensor([[0.5000]], device='cuda:0', dtype=torch.float64)),\n",
       " (tensor([[0.2090]], device='cuda:0', dtype=torch.float64),\n",
       "  tensor([[0.5000]], device='cuda:0', dtype=torch.float64)),\n",
       " (tensor([[0.2023]], device='cuda:0', dtype=torch.float64),\n",
       "  tensor([[0.3333]], device='cuda:0', dtype=torch.float64)),\n",
       " (tensor([[0.2138]], device='cuda:0', dtype=torch.float64),\n",
       "  tensor([[0.3333]], device='cuda:0', dtype=torch.float64)),\n",
       " (tensor([[0.2594]], device='cuda:0', dtype=torch.float64),\n",
       "  tensor([[0.5000]], device='cuda:0', dtype=torch.float64)),\n",
       " (tensor([[0.2289]], device='cuda:0', dtype=torch.float64),\n",
       "  tensor([[0.3333]], device='cuda:0', dtype=torch.float64)),\n",
       " (tensor([[0.2160]], device='cuda:0', dtype=torch.float64),\n",
       "  tensor([[0.5000]], device='cuda:0', dtype=torch.float64)),\n",
       " (tensor([[0.2097]], device='cuda:0', dtype=torch.float64),\n",
       "  tensor([[0.5000]], device='cuda:0', dtype=torch.float64)),\n",
       " (tensor([[0.1714]], device='cuda:0', dtype=torch.float64),\n",
       "  tensor([[0.6667]], device='cuda:0', dtype=torch.float64)),\n",
       " (tensor([[0.2211]], device='cuda:0', dtype=torch.float64),\n",
       "  tensor([[0.3333]], device='cuda:0', dtype=torch.float64)),\n",
       " (tensor([[0.1615]], device='cuda:0', dtype=torch.float64),\n",
       "  tensor([[0.6667]], device='cuda:0', dtype=torch.float64)),\n",
       " (tensor([[0.1097]], device='cuda:0', dtype=torch.float64),\n",
       "  tensor([[0.5000]], device='cuda:0', dtype=torch.float64)),\n",
       " (tensor([[0.1597]], device='cuda:0', dtype=torch.float64),\n",
       "  tensor([[0.5000]], device='cuda:0', dtype=torch.float64)),\n",
       " (tensor([[0.2433]], device='cuda:0', dtype=torch.float64),\n",
       "  tensor([[0.3333]], device='cuda:0', dtype=torch.float64)),\n",
       " (tensor([[0.1743]], device='cuda:0', dtype=torch.float64),\n",
       "  tensor([[0.5000]], device='cuda:0', dtype=torch.float64)),\n",
       " (tensor([[0.2396]], device='cuda:0', dtype=torch.float64),\n",
       "  tensor([[0.3333]], device='cuda:0', dtype=torch.float64)),\n",
       " (tensor([[0.2186]], device='cuda:0', dtype=torch.float64),\n",
       "  tensor([[0.3333]], device='cuda:0', dtype=torch.float64)),\n",
       " (tensor([[0.1789]], device='cuda:0', dtype=torch.float64),\n",
       "  tensor([[0.3333]], device='cuda:0', dtype=torch.float64)),\n",
       " (tensor([[0.1747]], device='cuda:0', dtype=torch.float64),\n",
       "  tensor([[0.6667]], device='cuda:0', dtype=torch.float64)),\n",
       " (tensor([[0.2156]], device='cuda:0', dtype=torch.float64),\n",
       "  tensor([[0.3333]], device='cuda:0', dtype=torch.float64)),\n",
       " (tensor([[0.2298]], device='cuda:0', dtype=torch.float64),\n",
       "  tensor([[0.6667]], device='cuda:0', dtype=torch.float64)),\n",
       " (tensor([[0.1702]], device='cuda:0', dtype=torch.float64),\n",
       "  tensor([[0.1667]], device='cuda:0', dtype=torch.float64)),\n",
       " (tensor([[0.1666]], device='cuda:0', dtype=torch.float64),\n",
       "  tensor([[0.5000]], device='cuda:0', dtype=torch.float64)),\n",
       " (tensor([[0.1918]], device='cuda:0', dtype=torch.float64),\n",
       "  tensor([[0.5000]], device='cuda:0', dtype=torch.float64)),\n",
       " (tensor([[0.2763]], device='cuda:0', dtype=torch.float64),\n",
       "  tensor([[0.5000]], device='cuda:0', dtype=torch.float64)),\n",
       " (tensor([[0.1768]], device='cuda:0', dtype=torch.float64),\n",
       "  tensor([[0.3333]], device='cuda:0', dtype=torch.float64)),\n",
       " (tensor([[0.2353]], device='cuda:0', dtype=torch.float64),\n",
       "  tensor([[0.3333]], device='cuda:0', dtype=torch.float64)),\n",
       " (tensor([[0.1961]], device='cuda:0', dtype=torch.float64),\n",
       "  tensor([[0.6667]], device='cuda:0', dtype=torch.float64)),\n",
       " (tensor([[0.2208]], device='cuda:0', dtype=torch.float64),\n",
       "  tensor([[0.5000]], device='cuda:0', dtype=torch.float64)),\n",
       " (tensor([[0.1942]], device='cuda:0', dtype=torch.float64),\n",
       "  tensor([[0.3333]], device='cuda:0', dtype=torch.float64)),\n",
       " (tensor([[0.1821]], device='cuda:0', dtype=torch.float64),\n",
       "  tensor([[0.5000]], device='cuda:0', dtype=torch.float64)),\n",
       " (tensor([[0.1988]], device='cuda:0', dtype=torch.float64),\n",
       "  tensor([[0.6667]], device='cuda:0', dtype=torch.float64)),\n",
       " (tensor([[0.2041]], device='cuda:0', dtype=torch.float64),\n",
       "  tensor([[0.1667]], device='cuda:0', dtype=torch.float64)),\n",
       " (tensor([[0.2364]], device='cuda:0', dtype=torch.float64),\n",
       "  tensor([[0.3333]], device='cuda:0', dtype=torch.float64)),\n",
       " (tensor([[0.2310]], device='cuda:0', dtype=torch.float64),\n",
       "  tensor([[0.5000]], device='cuda:0', dtype=torch.float64)),\n",
       " (tensor([[0.2028]], device='cuda:0', dtype=torch.float64),\n",
       "  tensor([[0.6667]], device='cuda:0', dtype=torch.float64)),\n",
       " (tensor([[0.1880]], device='cuda:0', dtype=torch.float64),\n",
       "  tensor([[0.5000]], device='cuda:0', dtype=torch.float64)),\n",
       " (tensor([[0.2188]], device='cuda:0', dtype=torch.float64),\n",
       "  tensor([[0.5000]], device='cuda:0', dtype=torch.float64)),\n",
       " (tensor([[0.1640]], device='cuda:0', dtype=torch.float64),\n",
       "  tensor([[0.3333]], device='cuda:0', dtype=torch.float64)),\n",
       " (tensor([[0.1587]], device='cuda:0', dtype=torch.float64),\n",
       "  tensor([[0.6667]], device='cuda:0', dtype=torch.float64)),\n",
       " (tensor([[0.1778]], device='cuda:0', dtype=torch.float64),\n",
       "  tensor([[0.3333]], device='cuda:0', dtype=torch.float64)),\n",
       " (tensor([[0.2102]], device='cuda:0', dtype=torch.float64),\n",
       "  tensor([[0.6667]], device='cuda:0', dtype=torch.float64)),\n",
       " (tensor([[0.1493]], device='cuda:0', dtype=torch.float64),\n",
       "  tensor([[0.3333]], device='cuda:0', dtype=torch.float64)),\n",
       " (tensor([[0.1958]], device='cuda:0', dtype=torch.float64),\n",
       "  tensor([[0.5000]], device='cuda:0', dtype=torch.float64)),\n",
       " (tensor([[0.2034]], device='cuda:0', dtype=torch.float64),\n",
       "  tensor([[0.6667]], device='cuda:0', dtype=torch.float64)),\n",
       " (tensor([[0.1884]], device='cuda:0', dtype=torch.float64),\n",
       "  tensor([[0.3333]], device='cuda:0', dtype=torch.float64)),\n",
       " (tensor([[0.1716]], device='cuda:0', dtype=torch.float64),\n",
       "  tensor([[0.6667]], device='cuda:0', dtype=torch.float64)),\n",
       " (tensor([[0.1526]], device='cuda:0', dtype=torch.float64),\n",
       "  tensor([[0.3333]], device='cuda:0', dtype=torch.float64)),\n",
       " (tensor([[0.1932]], device='cuda:0', dtype=torch.float64),\n",
       "  tensor([[0.3333]], device='cuda:0', dtype=torch.float64)),\n",
       " (tensor([[0.1457]], device='cuda:0', dtype=torch.float64),\n",
       "  tensor([[0.5000]], device='cuda:0', dtype=torch.float64)),\n",
       " (tensor([[0.1503]], device='cuda:0', dtype=torch.float64),\n",
       "  tensor([[0.5000]], device='cuda:0', dtype=torch.float64)),\n",
       " (tensor([[0.2245]], device='cuda:0', dtype=torch.float64),\n",
       "  tensor([[0.3333]], device='cuda:0', dtype=torch.float64)),\n",
       " (tensor([[0.1884]], device='cuda:0', dtype=torch.float64),\n",
       "  tensor([[0.5000]], device='cuda:0', dtype=torch.float64)),\n",
       " (tensor([[0.2251]], device='cuda:0', dtype=torch.float64),\n",
       "  tensor([[0.5000]], device='cuda:0', dtype=torch.float64)),\n",
       " (tensor([[0.1690]], device='cuda:0', dtype=torch.float64),\n",
       "  tensor([[0.5000]], device='cuda:0', dtype=torch.float64)),\n",
       " (tensor([[0.1893]], device='cuda:0', dtype=torch.float64),\n",
       "  tensor([[0.6667]], device='cuda:0', dtype=torch.float64)),\n",
       " (tensor([[0.1959]], device='cuda:0', dtype=torch.float64),\n",
       "  tensor([[0.5000]], device='cuda:0', dtype=torch.float64)),\n",
       " (tensor([[0.1666]], device='cuda:0', dtype=torch.float64),\n",
       "  tensor([[0.5000]], device='cuda:0', dtype=torch.float64)),\n",
       " (tensor([[0.1970]], device='cuda:0', dtype=torch.float64),\n",
       "  tensor([[0.5000]], device='cuda:0', dtype=torch.float64)),\n",
       " (tensor([[0.2042]], device='cuda:0', dtype=torch.float64),\n",
       "  tensor([[0.3333]], device='cuda:0', dtype=torch.float64)),\n",
       " (tensor([[0.2105]], device='cuda:0', dtype=torch.float64),\n",
       "  tensor([[0.5000]], device='cuda:0', dtype=torch.float64)),\n",
       " (tensor([[0.2054]], device='cuda:0', dtype=torch.float64),\n",
       "  tensor([[0.6667]], device='cuda:0', dtype=torch.float64)),\n",
       " (tensor([[0.2233]], device='cuda:0', dtype=torch.float64),\n",
       "  tensor([[0.3333]], device='cuda:0', dtype=torch.float64)),\n",
       " (tensor([[0.1511]], device='cuda:0', dtype=torch.float64),\n",
       "  tensor([[0.5000]], device='cuda:0', dtype=torch.float64)),\n",
       " (tensor([[0.2253]], device='cuda:0', dtype=torch.float64),\n",
       "  tensor([[0.3333]], device='cuda:0', dtype=torch.float64)),\n",
       " (tensor([[0.1948]], device='cuda:0', dtype=torch.float64),\n",
       "  tensor([[0.3333]], device='cuda:0', dtype=torch.float64)),\n",
       " (tensor([[0.1569]], device='cuda:0', dtype=torch.float64),\n",
       "  tensor([[0.3333]], device='cuda:0', dtype=torch.float64)),\n",
       " (tensor([[0.1675]], device='cuda:0', dtype=torch.float64),\n",
       "  tensor([[0.3333]], device='cuda:0', dtype=torch.float64)),\n",
       " (tensor([[0.2189]], device='cuda:0', dtype=torch.float64),\n",
       "  tensor([[0.5000]], device='cuda:0', dtype=torch.float64)),\n",
       " (tensor([[0.1920]], device='cuda:0', dtype=torch.float64),\n",
       "  tensor([[0.5000]], device='cuda:0', dtype=torch.float64)),\n",
       " (tensor([[0.2192]], device='cuda:0', dtype=torch.float64),\n",
       "  tensor([[0.5000]], device='cuda:0', dtype=torch.float64)),\n",
       " (tensor([[0.1613]], device='cuda:0', dtype=torch.float64),\n",
       "  tensor([[0.5000]], device='cuda:0', dtype=torch.float64)),\n",
       " (tensor([[0.2281]], device='cuda:0', dtype=torch.float64),\n",
       "  tensor([[0.3333]], device='cuda:0', dtype=torch.float64)),\n",
       " (tensor([[0.1827]], device='cuda:0', dtype=torch.float64),\n",
       "  tensor([[0.6667]], device='cuda:0', dtype=torch.float64)),\n",
       " (tensor([[0.2017]], device='cuda:0', dtype=torch.float64),\n",
       "  tensor([[0.3333]], device='cuda:0', dtype=torch.float64)),\n",
       " (tensor([[0.1637]], device='cuda:0', dtype=torch.float64),\n",
       "  tensor([[0.3333]], device='cuda:0', dtype=torch.float64)),\n",
       " (tensor([[0.1840]], device='cuda:0', dtype=torch.float64),\n",
       "  tensor([[0.3333]], device='cuda:0', dtype=torch.float64)),\n",
       " (tensor([[0.2014]], device='cuda:0', dtype=torch.float64),\n",
       "  tensor([[0.6667]], device='cuda:0', dtype=torch.float64)),\n",
       " (tensor([[0.1526]], device='cuda:0', dtype=torch.float64),\n",
       "  tensor([[0.6667]], device='cuda:0', dtype=torch.float64)),\n",
       " (tensor([[0.1844]], device='cuda:0', dtype=torch.float64),\n",
       "  tensor([[0.6667]], device='cuda:0', dtype=torch.float64)),\n",
       " (tensor([[0.2145]], device='cuda:0', dtype=torch.float64),\n",
       "  tensor([[0.6667]], device='cuda:0', dtype=torch.float64)),\n",
       " (tensor([[0.1723]], device='cuda:0', dtype=torch.float64),\n",
       "  tensor([[0.3333]], device='cuda:0', dtype=torch.float64)),\n",
       " (tensor([[0.2494]], device='cuda:0', dtype=torch.float64),\n",
       "  tensor([[0.3333]], device='cuda:0', dtype=torch.float64)),\n",
       " (tensor([[0.2160]], device='cuda:0', dtype=torch.float64),\n",
       "  tensor([[0.5000]], device='cuda:0', dtype=torch.float64)),\n",
       " (tensor([[0.1855]], device='cuda:0', dtype=torch.float64),\n",
       "  tensor([[0.6667]], device='cuda:0', dtype=torch.float64)),\n",
       " (tensor([[0.1967]], device='cuda:0', dtype=torch.float64),\n",
       "  tensor([[0.3333]], device='cuda:0', dtype=torch.float64)),\n",
       " (tensor([[0.2106]], device='cuda:0', dtype=torch.float64),\n",
       "  tensor([[0.3333]], device='cuda:0', dtype=torch.float64)),\n",
       " (tensor([[0.2301]], device='cuda:0', dtype=torch.float64),\n",
       "  tensor([[0.3333]], device='cuda:0', dtype=torch.float64)),\n",
       " (tensor([[0.2164]], device='cuda:0', dtype=torch.float64),\n",
       "  tensor([[0.5000]], device='cuda:0', dtype=torch.float64)),\n",
       " (tensor([[0.2399]], device='cuda:0', dtype=torch.float64),\n",
       "  tensor([[0.5000]], device='cuda:0', dtype=torch.float64)),\n",
       " (tensor([[0.1884]], device='cuda:0', dtype=torch.float64),\n",
       "  tensor([[0.3333]], device='cuda:0', dtype=torch.float64)),\n",
       " (tensor([[0.2072]], device='cuda:0', dtype=torch.float64),\n",
       "  tensor([[0.5000]], device='cuda:0', dtype=torch.float64)),\n",
       " (tensor([[0.1893]], device='cuda:0', dtype=torch.float64),\n",
       "  tensor([[0.]], device='cuda:0', dtype=torch.float64)),\n",
       " (tensor([[0.1466]], device='cuda:0', dtype=torch.float64),\n",
       "  tensor([[0.5000]], device='cuda:0', dtype=torch.float64)),\n",
       " (tensor([[0.1280]], device='cuda:0', dtype=torch.float64),\n",
       "  tensor([[0.5000]], device='cuda:0', dtype=torch.float64)),\n",
       " (tensor([[0.1891]], device='cuda:0', dtype=torch.float64),\n",
       "  tensor([[0.5000]], device='cuda:0', dtype=torch.float64)),\n",
       " (tensor([[0.1969]], device='cuda:0', dtype=torch.float64),\n",
       "  tensor([[0.6667]], device='cuda:0', dtype=torch.float64)),\n",
       " (tensor([[0.1936]], device='cuda:0', dtype=torch.float64),\n",
       "  tensor([[0.3333]], device='cuda:0', dtype=torch.float64)),\n",
       " (tensor([[0.2316]], device='cuda:0', dtype=torch.float64),\n",
       "  tensor([[0.3333]], device='cuda:0', dtype=torch.float64)),\n",
       " (tensor([[0.2146]], device='cuda:0', dtype=torch.float64),\n",
       "  tensor([[0.3333]], device='cuda:0', dtype=torch.float64)),\n",
       " (tensor([[0.2431]], device='cuda:0', dtype=torch.float64),\n",
       "  tensor([[0.5000]], device='cuda:0', dtype=torch.float64)),\n",
       " (tensor([[0.1439]], device='cuda:0', dtype=torch.float64),\n",
       "  tensor([[0.5000]], device='cuda:0', dtype=torch.float64)),\n",
       " (tensor([[0.2151]], device='cuda:0', dtype=torch.float64),\n",
       "  tensor([[0.3333]], device='cuda:0', dtype=torch.float64)),\n",
       " (tensor([[0.2574]], device='cuda:0', dtype=torch.float64),\n",
       "  tensor([[0.5000]], device='cuda:0', dtype=torch.float64)),\n",
       " (tensor([[0.1701]], device='cuda:0', dtype=torch.float64),\n",
       "  tensor([[0.6667]], device='cuda:0', dtype=torch.float64)),\n",
       " (tensor([[0.1378]], device='cuda:0', dtype=torch.float64),\n",
       "  tensor([[0.5000]], device='cuda:0', dtype=torch.float64)),\n",
       " (tensor([[0.2487]], device='cuda:0', dtype=torch.float64),\n",
       "  tensor([[0.3333]], device='cuda:0', dtype=torch.float64)),\n",
       " (tensor([[0.1866]], device='cuda:0', dtype=torch.float64),\n",
       "  tensor([[0.8333]], device='cuda:0', dtype=torch.float64)),\n",
       " (tensor([[0.1693]], device='cuda:0', dtype=torch.float64),\n",
       "  tensor([[0.5000]], device='cuda:0', dtype=torch.float64)),\n",
       " (tensor([[0.1482]], device='cuda:0', dtype=torch.float64),\n",
       "  tensor([[0.1667]], device='cuda:0', dtype=torch.float64)),\n",
       " (tensor([[0.1668]], device='cuda:0', dtype=torch.float64),\n",
       "  tensor([[0.5000]], device='cuda:0', dtype=torch.float64)),\n",
       " (tensor([[0.2116]], device='cuda:0', dtype=torch.float64),\n",
       "  tensor([[0.3333]], device='cuda:0', dtype=torch.float64)),\n",
       " (tensor([[0.1893]], device='cuda:0', dtype=torch.float64),\n",
       "  tensor([[0.5000]], device='cuda:0', dtype=torch.float64)),\n",
       " (tensor([[0.1993]], device='cuda:0', dtype=torch.float64),\n",
       "  tensor([[0.6667]], device='cuda:0', dtype=torch.float64)),\n",
       " (tensor([[0.2261]], device='cuda:0', dtype=torch.float64),\n",
       "  tensor([[0.3333]], device='cuda:0', dtype=torch.float64)),\n",
       " (tensor([[0.1942]], device='cuda:0', dtype=torch.float64),\n",
       "  tensor([[0.3333]], device='cuda:0', dtype=torch.float64)),\n",
       " (tensor([[0.1511]], device='cuda:0', dtype=torch.float64),\n",
       "  tensor([[0.5000]], device='cuda:0', dtype=torch.float64)),\n",
       " (tensor([[0.2192]], device='cuda:0', dtype=torch.float64),\n",
       "  tensor([[0.6667]], device='cuda:0', dtype=torch.float64)),\n",
       " (tensor([[0.2258]], device='cuda:0', dtype=torch.float64),\n",
       "  tensor([[0.3333]], device='cuda:0', dtype=torch.float64)),\n",
       " (tensor([[0.2344]], device='cuda:0', dtype=torch.float64),\n",
       "  tensor([[0.5000]], device='cuda:0', dtype=torch.float64)),\n",
       " (tensor([[0.2139]], device='cuda:0', dtype=torch.float64),\n",
       "  tensor([[0.5000]], device='cuda:0', dtype=torch.float64)),\n",
       " (tensor([[0.1702]], device='cuda:0', dtype=torch.float64),\n",
       "  tensor([[0.6667]], device='cuda:0', dtype=torch.float64)),\n",
       " (tensor([[0.1671]], device='cuda:0', dtype=torch.float64),\n",
       "  tensor([[0.5000]], device='cuda:0', dtype=torch.float64)),\n",
       " (tensor([[0.2368]], device='cuda:0', dtype=torch.float64),\n",
       "  tensor([[0.5000]], device='cuda:0', dtype=torch.float64)),\n",
       " (tensor([[0.2038]], device='cuda:0', dtype=torch.float64),\n",
       "  tensor([[0.5000]], device='cuda:0', dtype=torch.float64)),\n",
       " (tensor([[0.1944]], device='cuda:0', dtype=torch.float64),\n",
       "  tensor([[0.5000]], device='cuda:0', dtype=torch.float64)),\n",
       " (tensor([[0.1950]], device='cuda:0', dtype=torch.float64),\n",
       "  tensor([[0.3333]], device='cuda:0', dtype=torch.float64)),\n",
       " (tensor([[0.2405]], device='cuda:0', dtype=torch.float64),\n",
       "  tensor([[0.5000]], device='cuda:0', dtype=torch.float64)),\n",
       " (tensor([[0.1875]], device='cuda:0', dtype=torch.float64),\n",
       "  tensor([[0.5000]], device='cuda:0', dtype=torch.float64)),\n",
       " (tensor([[0.2177]], device='cuda:0', dtype=torch.float64),\n",
       "  tensor([[0.3333]], device='cuda:0', dtype=torch.float64)),\n",
       " (tensor([[0.1809]], device='cuda:0', dtype=torch.float64),\n",
       "  tensor([[0.6667]], device='cuda:0', dtype=torch.float64)),\n",
       " (tensor([[0.1819]], device='cuda:0', dtype=torch.float64),\n",
       "  tensor([[0.6667]], device='cuda:0', dtype=torch.float64)),\n",
       " (tensor([[0.2029]], device='cuda:0', dtype=torch.float64),\n",
       "  tensor([[0.5000]], device='cuda:0', dtype=torch.float64)),\n",
       " (tensor([[0.2647]], device='cuda:0', dtype=torch.float64),\n",
       "  tensor([[0.8333]], device='cuda:0', dtype=torch.float64)),\n",
       " (tensor([[0.2310]], device='cuda:0', dtype=torch.float64),\n",
       "  tensor([[0.5000]], device='cuda:0', dtype=torch.float64)),\n",
       " (tensor([[0.1556]], device='cuda:0', dtype=torch.float64),\n",
       "  tensor([[0.5000]], device='cuda:0', dtype=torch.float64)),\n",
       " (tensor([[0.2151]], device='cuda:0', dtype=torch.float64),\n",
       "  tensor([[0.5000]], device='cuda:0', dtype=torch.float64)),\n",
       " (tensor([[0.2015]], device='cuda:0', dtype=torch.float64),\n",
       "  tensor([[0.5000]], device='cuda:0', dtype=torch.float64)),\n",
       " (tensor([[0.2173]], device='cuda:0', dtype=torch.float64),\n",
       "  tensor([[0.5000]], device='cuda:0', dtype=torch.float64)),\n",
       " (tensor([[0.1909]], device='cuda:0', dtype=torch.float64),\n",
       "  tensor([[0.6667]], device='cuda:0', dtype=torch.float64)),\n",
       " (tensor([[0.1884]], device='cuda:0', dtype=torch.float64),\n",
       "  tensor([[0.5000]], device='cuda:0', dtype=torch.float64)),\n",
       " (tensor([[0.2582]], device='cuda:0', dtype=torch.float64),\n",
       "  tensor([[0.5000]], device='cuda:0', dtype=torch.float64)),\n",
       " (tensor([[0.2123]], device='cuda:0', dtype=torch.float64),\n",
       "  tensor([[0.5000]], device='cuda:0', dtype=torch.float64)),\n",
       " (tensor([[0.2317]], device='cuda:0', dtype=torch.float64),\n",
       "  tensor([[0.5000]], device='cuda:0', dtype=torch.float64)),\n",
       " (tensor([[0.1766]], device='cuda:0', dtype=torch.float64),\n",
       "  tensor([[0.6667]], device='cuda:0', dtype=torch.float64)),\n",
       " (tensor([[0.1944]], device='cuda:0', dtype=torch.float64),\n",
       "  tensor([[0.3333]], device='cuda:0', dtype=torch.float64)),\n",
       " (tensor([[0.1959]], device='cuda:0', dtype=torch.float64),\n",
       "  tensor([[0.3333]], device='cuda:0', dtype=torch.float64)),\n",
       " (tensor([[0.2227]], device='cuda:0', dtype=torch.float64),\n",
       "  tensor([[0.3333]], device='cuda:0', dtype=torch.float64)),\n",
       " (tensor([[0.1707]], device='cuda:0', dtype=torch.float64),\n",
       "  tensor([[0.6667]], device='cuda:0', dtype=torch.float64)),\n",
       " (tensor([[0.1938]], device='cuda:0', dtype=torch.float64),\n",
       "  tensor([[0.6667]], device='cuda:0', dtype=torch.float64)),\n",
       " (tensor([[0.2606]], device='cuda:0', dtype=torch.float64),\n",
       "  tensor([[0.3333]], device='cuda:0', dtype=torch.float64)),\n",
       " (tensor([[0.1406]], device='cuda:0', dtype=torch.float64),\n",
       "  tensor([[0.3333]], device='cuda:0', dtype=torch.float64)),\n",
       " (tensor([[0.1928]], device='cuda:0', dtype=torch.float64),\n",
       "  tensor([[0.6667]], device='cuda:0', dtype=torch.float64)),\n",
       " (tensor([[0.1650]], device='cuda:0', dtype=torch.float64),\n",
       "  tensor([[0.5000]], device='cuda:0', dtype=torch.float64)),\n",
       " (tensor([[0.2015]], device='cuda:0', dtype=torch.float64),\n",
       "  tensor([[0.1667]], device='cuda:0', dtype=torch.float64)),\n",
       " (tensor([[0.2045]], device='cuda:0', dtype=torch.float64),\n",
       "  tensor([[0.5000]], device='cuda:0', dtype=torch.float64)),\n",
       " (tensor([[0.1914]], device='cuda:0', dtype=torch.float64),\n",
       "  tensor([[0.6667]], device='cuda:0', dtype=torch.float64)),\n",
       " (tensor([[0.1678]], device='cuda:0', dtype=torch.float64),\n",
       "  tensor([[0.3333]], device='cuda:0', dtype=torch.float64)),\n",
       " (tensor([[0.2061]], device='cuda:0', dtype=torch.float64),\n",
       "  tensor([[0.5000]], device='cuda:0', dtype=torch.float64)),\n",
       " (tensor([[0.1936]], device='cuda:0', dtype=torch.float64),\n",
       "  tensor([[0.6667]], device='cuda:0', dtype=torch.float64)),\n",
       " (tensor([[0.2429]], device='cuda:0', dtype=torch.float64),\n",
       "  tensor([[0.5000]], device='cuda:0', dtype=torch.float64)),\n",
       " (tensor([[0.2111]], device='cuda:0', dtype=torch.float64),\n",
       "  tensor([[0.3333]], device='cuda:0', dtype=torch.float64)),\n",
       " (tensor([[0.2135]], device='cuda:0', dtype=torch.float64),\n",
       "  tensor([[0.6667]], device='cuda:0', dtype=torch.float64)),\n",
       " (tensor([[0.2243]], device='cuda:0', dtype=torch.float64),\n",
       "  tensor([[0.1667]], device='cuda:0', dtype=torch.float64)),\n",
       " (tensor([[0.2252]], device='cuda:0', dtype=torch.float64),\n",
       "  tensor([[0.3333]], device='cuda:0', dtype=torch.float64)),\n",
       " (tensor([[0.2741]], device='cuda:0', dtype=torch.float64),\n",
       "  tensor([[0.5000]], device='cuda:0', dtype=torch.float64)),\n",
       " (tensor([[0.1840]], device='cuda:0', dtype=torch.float64),\n",
       "  tensor([[0.6667]], device='cuda:0', dtype=torch.float64)),\n",
       " (tensor([[0.1678]], device='cuda:0', dtype=torch.float64),\n",
       "  tensor([[0.5000]], device='cuda:0', dtype=torch.float64)),\n",
       " (tensor([[0.1859]], device='cuda:0', dtype=torch.float64),\n",
       "  tensor([[0.5000]], device='cuda:0', dtype=torch.float64)),\n",
       " (tensor([[0.1764]], device='cuda:0', dtype=torch.float64),\n",
       "  tensor([[0.5000]], device='cuda:0', dtype=torch.float64)),\n",
       " (tensor([[0.1945]], device='cuda:0', dtype=torch.float64),\n",
       "  tensor([[0.3333]], device='cuda:0', dtype=torch.float64)),\n",
       " (tensor([[0.2376]], device='cuda:0', dtype=torch.float64),\n",
       "  tensor([[0.3333]], device='cuda:0', dtype=torch.float64)),\n",
       " (tensor([[0.1940]], device='cuda:0', dtype=torch.float64),\n",
       "  tensor([[0.3333]], device='cuda:0', dtype=torch.float64)),\n",
       " (tensor([[0.1828]], device='cuda:0', dtype=torch.float64),\n",
       "  tensor([[0.3333]], device='cuda:0', dtype=torch.float64)),\n",
       " (tensor([[0.1933]], device='cuda:0', dtype=torch.float64),\n",
       "  tensor([[0.6667]], device='cuda:0', dtype=torch.float64)),\n",
       " (tensor([[0.1886]], device='cuda:0', dtype=torch.float64),\n",
       "  tensor([[0.5000]], device='cuda:0', dtype=torch.float64)),\n",
       " (tensor([[0.1950]], device='cuda:0', dtype=torch.float64),\n",
       "  tensor([[0.3333]], device='cuda:0', dtype=torch.float64)),\n",
       " (tensor([[0.1690]], device='cuda:0', dtype=torch.float64),\n",
       "  tensor([[0.5000]], device='cuda:0', dtype=torch.float64)),\n",
       " (tensor([[0.2405]], device='cuda:0', dtype=torch.float64),\n",
       "  tensor([[0.5000]], device='cuda:0', dtype=torch.float64)),\n",
       " (tensor([[0.1971]], device='cuda:0', dtype=torch.float64),\n",
       "  tensor([[0.6667]], device='cuda:0', dtype=torch.float64)),\n",
       " (tensor([[0.2086]], device='cuda:0', dtype=torch.float64),\n",
       "  tensor([[0.3333]], device='cuda:0', dtype=torch.float64)),\n",
       " (tensor([[0.2308]], device='cuda:0', dtype=torch.float64),\n",
       "  tensor([[0.3333]], device='cuda:0', dtype=torch.float64)),\n",
       " (tensor([[0.2024]], device='cuda:0', dtype=torch.float64),\n",
       "  tensor([[0.6667]], device='cuda:0', dtype=torch.float64)),\n",
       " (tensor([[0.1875]], device='cuda:0', dtype=torch.float64),\n",
       "  tensor([[0.5000]], device='cuda:0', dtype=torch.float64)),\n",
       " (tensor([[0.2059]], device='cuda:0', dtype=torch.float64),\n",
       "  tensor([[0.6667]], device='cuda:0', dtype=torch.float64)),\n",
       " (tensor([[0.1992]], device='cuda:0', dtype=torch.float64),\n",
       "  tensor([[0.5000]], device='cuda:0', dtype=torch.float64)),\n",
       " (tensor([[0.2002]], device='cuda:0', dtype=torch.float64),\n",
       "  tensor([[0.1667]], device='cuda:0', dtype=torch.float64)),\n",
       " (tensor([[0.2035]], device='cuda:0', dtype=torch.float64),\n",
       "  tensor([[0.8333]], device='cuda:0', dtype=torch.float64)),\n",
       " (tensor([[0.1881]], device='cuda:0', dtype=torch.float64),\n",
       "  tensor([[0.5000]], device='cuda:0', dtype=torch.float64)),\n",
       " (tensor([[0.2416]], device='cuda:0', dtype=torch.float64),\n",
       "  tensor([[0.3333]], device='cuda:0', dtype=torch.float64)),\n",
       " (tensor([[0.1919]], device='cuda:0', dtype=torch.float64),\n",
       "  tensor([[0.3333]], device='cuda:0', dtype=torch.float64)),\n",
       " (tensor([[0.1802]], device='cuda:0', dtype=torch.float64),\n",
       "  tensor([[0.5000]], device='cuda:0', dtype=torch.float64)),\n",
       " (tensor([[0.1721]], device='cuda:0', dtype=torch.float64),\n",
       "  tensor([[0.6667]], device='cuda:0', dtype=torch.float64)),\n",
       " (tensor([[0.2204]], device='cuda:0', dtype=torch.float64),\n",
       "  tensor([[0.5000]], device='cuda:0', dtype=torch.float64)),\n",
       " (tensor([[0.2173]], device='cuda:0', dtype=torch.float64),\n",
       "  tensor([[0.3333]], device='cuda:0', dtype=torch.float64)),\n",
       " (tensor([[0.2089]], device='cuda:0', dtype=torch.float64),\n",
       "  tensor([[0.8333]], device='cuda:0', dtype=torch.float64)),\n",
       " (tensor([[0.1560]], device='cuda:0', dtype=torch.float64),\n",
       "  tensor([[0.3333]], device='cuda:0', dtype=torch.float64)),\n",
       " (tensor([[0.2586]], device='cuda:0', dtype=torch.float64),\n",
       "  tensor([[0.5000]], device='cuda:0', dtype=torch.float64)),\n",
       " (tensor([[0.2063]], device='cuda:0', dtype=torch.float64),\n",
       "  tensor([[0.3333]], device='cuda:0', dtype=torch.float64)),\n",
       " (tensor([[0.1927]], device='cuda:0', dtype=torch.float64),\n",
       "  tensor([[0.5000]], device='cuda:0', dtype=torch.float64)),\n",
       " (tensor([[0.2243]], device='cuda:0', dtype=torch.float64),\n",
       "  tensor([[0.3333]], device='cuda:0', dtype=torch.float64)),\n",
       " (tensor([[0.1363]], device='cuda:0', dtype=torch.float64),\n",
       "  tensor([[0.3333]], device='cuda:0', dtype=torch.float64)),\n",
       " (tensor([[0.1924]], device='cuda:0', dtype=torch.float64),\n",
       "  tensor([[0.1667]], device='cuda:0', dtype=torch.float64)),\n",
       " (tensor([[0.1907]], device='cuda:0', dtype=torch.float64),\n",
       "  tensor([[0.5000]], device='cuda:0', dtype=torch.float64)),\n",
       " (tensor([[0.2240]], device='cuda:0', dtype=torch.float64),\n",
       "  tensor([[0.5000]], device='cuda:0', dtype=torch.float64)),\n",
       " (tensor([[0.2102]], device='cuda:0', dtype=torch.float64),\n",
       "  tensor([[0.3333]], device='cuda:0', dtype=torch.float64)),\n",
       " (tensor([[0.2041]], device='cuda:0', dtype=torch.float64),\n",
       "  tensor([[0.5000]], device='cuda:0', dtype=torch.float64)),\n",
       " (tensor([[0.1920]], device='cuda:0', dtype=torch.float64),\n",
       "  tensor([[0.3333]], device='cuda:0', dtype=torch.float64)),\n",
       " (tensor([[0.1551]], device='cuda:0', dtype=torch.float64),\n",
       "  tensor([[0.5000]], device='cuda:0', dtype=torch.float64)),\n",
       " (tensor([[0.2358]], device='cuda:0', dtype=torch.float64),\n",
       "  tensor([[0.3333]], device='cuda:0', dtype=torch.float64)),\n",
       " (tensor([[0.2303]], device='cuda:0', dtype=torch.float64),\n",
       "  tensor([[0.3333]], device='cuda:0', dtype=torch.float64)),\n",
       " (tensor([[0.2098]], device='cuda:0', dtype=torch.float64),\n",
       "  tensor([[0.3333]], device='cuda:0', dtype=torch.float64)),\n",
       " (tensor([[0.2017]], device='cuda:0', dtype=torch.float64),\n",
       "  tensor([[0.5000]], device='cuda:0', dtype=torch.float64)),\n",
       " (tensor([[0.2160]], device='cuda:0', dtype=torch.float64),\n",
       "  tensor([[0.5000]], device='cuda:0', dtype=torch.float64)),\n",
       " (tensor([[0.2498]], device='cuda:0', dtype=torch.float64),\n",
       "  tensor([[0.3333]], device='cuda:0', dtype=torch.float64)),\n",
       " (tensor([[0.1735]], device='cuda:0', dtype=torch.float64),\n",
       "  tensor([[0.3333]], device='cuda:0', dtype=torch.float64)),\n",
       " (tensor([[0.1688]], device='cuda:0', dtype=torch.float64),\n",
       "  tensor([[0.5000]], device='cuda:0', dtype=torch.float64)),\n",
       " (tensor([[0.1995]], device='cuda:0', dtype=torch.float64),\n",
       "  tensor([[0.5000]], device='cuda:0', dtype=torch.float64)),\n",
       " (tensor([[0.1305]], device='cuda:0', dtype=torch.float64),\n",
       "  tensor([[0.3333]], device='cuda:0', dtype=torch.float64)),\n",
       " (tensor([[0.2197]], device='cuda:0', dtype=torch.float64),\n",
       "  tensor([[0.3333]], device='cuda:0', dtype=torch.float64)),\n",
       " (tensor([[0.2077]], device='cuda:0', dtype=torch.float64),\n",
       "  tensor([[0.5000]], device='cuda:0', dtype=torch.float64)),\n",
       " (tensor([[0.1873]], device='cuda:0', dtype=torch.float64),\n",
       "  tensor([[0.3333]], device='cuda:0', dtype=torch.float64)),\n",
       " (tensor([[0.1739]], device='cuda:0', dtype=torch.float64),\n",
       "  tensor([[0.1667]], device='cuda:0', dtype=torch.float64)),\n",
       " (tensor([[0.1849]], device='cuda:0', dtype=torch.float64),\n",
       "  tensor([[0.5000]], device='cuda:0', dtype=torch.float64)),\n",
       " (tensor([[0.1712]], device='cuda:0', dtype=torch.float64),\n",
       "  tensor([[0.5000]], device='cuda:0', dtype=torch.float64)),\n",
       " (tensor([[0.2582]], device='cuda:0', dtype=torch.float64),\n",
       "  tensor([[0.5000]], device='cuda:0', dtype=torch.float64)),\n",
       " (tensor([[0.1665]], device='cuda:0', dtype=torch.float64),\n",
       "  tensor([[0.6667]], device='cuda:0', dtype=torch.float64)),\n",
       " (tensor([[0.1737]], device='cuda:0', dtype=torch.float64),\n",
       "  tensor([[0.5000]], device='cuda:0', dtype=torch.float64)),\n",
       " (tensor([[0.2779]], device='cuda:0', dtype=torch.float64),\n",
       "  tensor([[0.5000]], device='cuda:0', dtype=torch.float64)),\n",
       " (tensor([[0.1589]], device='cuda:0', dtype=torch.float64),\n",
       "  tensor([[0.3333]], device='cuda:0', dtype=torch.float64)),\n",
       " (tensor([[0.2075]], device='cuda:0', dtype=torch.float64),\n",
       "  tensor([[0.6667]], device='cuda:0', dtype=torch.float64)),\n",
       " (tensor([[0.2232]], device='cuda:0', dtype=torch.float64),\n",
       "  tensor([[0.5000]], device='cuda:0', dtype=torch.float64)),\n",
       " (tensor([[0.1604]], device='cuda:0', dtype=torch.float64),\n",
       "  tensor([[0.6667]], device='cuda:0', dtype=torch.float64)),\n",
       " (tensor([[0.1920]], device='cuda:0', dtype=torch.float64),\n",
       "  tensor([[0.5000]], device='cuda:0', dtype=torch.float64)),\n",
       " (tensor([[0.2097]], device='cuda:0', dtype=torch.float64),\n",
       "  tensor([[0.5000]], device='cuda:0', dtype=torch.float64)),\n",
       " (tensor([[0.2347]], device='cuda:0', dtype=torch.float64),\n",
       "  tensor([[0.5000]], device='cuda:0', dtype=torch.float64)),\n",
       " (tensor([[0.2295]], device='cuda:0', dtype=torch.float64),\n",
       "  tensor([[0.3333]], device='cuda:0', dtype=torch.float64)),\n",
       " (tensor([[0.2062]], device='cuda:0', dtype=torch.float64),\n",
       "  tensor([[0.3333]], device='cuda:0', dtype=torch.float64)),\n",
       " (tensor([[0.2097]], device='cuda:0', dtype=torch.float64),\n",
       "  tensor([[0.5000]], device='cuda:0', dtype=torch.float64)),\n",
       " (tensor([[0.1736]], device='cuda:0', dtype=torch.float64),\n",
       "  tensor([[0.5000]], device='cuda:0', dtype=torch.float64)),\n",
       " (tensor([[0.1534]], device='cuda:0', dtype=torch.float64),\n",
       "  tensor([[0.3333]], device='cuda:0', dtype=torch.float64)),\n",
       " (tensor([[0.2206]], device='cuda:0', dtype=torch.float64),\n",
       "  tensor([[0.5000]], device='cuda:0', dtype=torch.float64)),\n",
       " (tensor([[0.2114]], device='cuda:0', dtype=torch.float64),\n",
       "  tensor([[0.5000]], device='cuda:0', dtype=torch.float64)),\n",
       " (tensor([[0.1722]], device='cuda:0', dtype=torch.float64),\n",
       "  tensor([[0.8333]], device='cuda:0', dtype=torch.float64)),\n",
       " (tensor([[0.2169]], device='cuda:0', dtype=torch.float64),\n",
       "  tensor([[0.3333]], device='cuda:0', dtype=torch.float64)),\n",
       " (tensor([[0.2309]], device='cuda:0', dtype=torch.float64),\n",
       "  tensor([[0.6667]], device='cuda:0', dtype=torch.float64)),\n",
       " (tensor([[0.1766]], device='cuda:0', dtype=torch.float64),\n",
       "  tensor([[0.3333]], device='cuda:0', dtype=torch.float64)),\n",
       " (tensor([[0.1963]], device='cuda:0', dtype=torch.float64),\n",
       "  tensor([[0.6667]], device='cuda:0', dtype=torch.float64)),\n",
       " (tensor([[0.1965]], device='cuda:0', dtype=torch.float64),\n",
       "  tensor([[0.3333]], device='cuda:0', dtype=torch.float64)),\n",
       " (tensor([[0.2040]], device='cuda:0', dtype=torch.float64),\n",
       "  tensor([[0.5000]], device='cuda:0', dtype=torch.float64)),\n",
       " (tensor([[0.2281]], device='cuda:0', dtype=torch.float64),\n",
       "  tensor([[0.5000]], device='cuda:0', dtype=torch.float64)),\n",
       " (tensor([[0.2006]], device='cuda:0', dtype=torch.float64),\n",
       "  tensor([[0.1667]], device='cuda:0', dtype=torch.float64)),\n",
       " (tensor([[0.1708]], device='cuda:0', dtype=torch.float64),\n",
       "  tensor([[0.5000]], device='cuda:0', dtype=torch.float64)),\n",
       " (tensor([[0.1973]], device='cuda:0', dtype=torch.float64),\n",
       "  tensor([[0.6667]], device='cuda:0', dtype=torch.float64)),\n",
       " (tensor([[0.1932]], device='cuda:0', dtype=torch.float64),\n",
       "  tensor([[0.5000]], device='cuda:0', dtype=torch.float64)),\n",
       " (tensor([[0.1700]], device='cuda:0', dtype=torch.float64),\n",
       "  tensor([[0.5000]], device='cuda:0', dtype=torch.float64)),\n",
       " (tensor([[0.2041]], device='cuda:0', dtype=torch.float64),\n",
       "  tensor([[0.5000]], device='cuda:0', dtype=torch.float64)),\n",
       " (tensor([[0.2390]], device='cuda:0', dtype=torch.float64),\n",
       "  tensor([[0.6667]], device='cuda:0', dtype=torch.float64)),\n",
       " (tensor([[0.1882]], device='cuda:0', dtype=torch.float64),\n",
       "  tensor([[0.5000]], device='cuda:0', dtype=torch.float64)),\n",
       " (tensor([[0.2031]], device='cuda:0', dtype=torch.float64),\n",
       "  tensor([[0.3333]], device='cuda:0', dtype=torch.float64)),\n",
       " (tensor([[0.1787]], device='cuda:0', dtype=torch.float64),\n",
       "  tensor([[0.3333]], device='cuda:0', dtype=torch.float64)),\n",
       " (tensor([[0.2110]], device='cuda:0', dtype=torch.float64),\n",
       "  tensor([[0.5000]], device='cuda:0', dtype=torch.float64)),\n",
       " (tensor([[0.1646]], device='cuda:0', dtype=torch.float64),\n",
       "  tensor([[0.1667]], device='cuda:0', dtype=torch.float64)),\n",
       " (tensor([[0.1866]], device='cuda:0', dtype=torch.float64),\n",
       "  tensor([[0.5000]], device='cuda:0', dtype=torch.float64)),\n",
       " (tensor([[0.1736]], device='cuda:0', dtype=torch.float64),\n",
       "  tensor([[0.5000]], device='cuda:0', dtype=torch.float64)),\n",
       " (tensor([[0.2142]], device='cuda:0', dtype=torch.float64),\n",
       "  tensor([[0.5000]], device='cuda:0', dtype=torch.float64)),\n",
       " (tensor([[0.1974]], device='cuda:0', dtype=torch.float64),\n",
       "  tensor([[0.5000]], device='cuda:0', dtype=torch.float64)),\n",
       " (tensor([[0.2325]], device='cuda:0', dtype=torch.float64),\n",
       "  tensor([[0.5000]], device='cuda:0', dtype=torch.float64)),\n",
       " (tensor([[0.1688]], device='cuda:0', dtype=torch.float64),\n",
       "  tensor([[0.3333]], device='cuda:0', dtype=torch.float64)),\n",
       " (tensor([[0.2056]], device='cuda:0', dtype=torch.float64),\n",
       "  tensor([[0.1667]], device='cuda:0', dtype=torch.float64)),\n",
       " (tensor([[0.1865]], device='cuda:0', dtype=torch.float64),\n",
       "  tensor([[0.5000]], device='cuda:0', dtype=torch.float64)),\n",
       " (tensor([[0.1647]], device='cuda:0', dtype=torch.float64),\n",
       "  tensor([[0.5000]], device='cuda:0', dtype=torch.float64)),\n",
       " (tensor([[0.2157]], device='cuda:0', dtype=torch.float64),\n",
       "  tensor([[0.3333]], device='cuda:0', dtype=torch.float64)),\n",
       " (tensor([[0.2268]], device='cuda:0', dtype=torch.float64),\n",
       "  tensor([[0.3333]], device='cuda:0', dtype=torch.float64)),\n",
       " (tensor([[0.2079]], device='cuda:0', dtype=torch.float64),\n",
       "  tensor([[0.6667]], device='cuda:0', dtype=torch.float64)),\n",
       " (tensor([[0.1756]], device='cuda:0', dtype=torch.float64),\n",
       "  tensor([[0.6667]], device='cuda:0', dtype=torch.float64)),\n",
       " (tensor([[0.2038]], device='cuda:0', dtype=torch.float64),\n",
       "  tensor([[0.5000]], device='cuda:0', dtype=torch.float64)),\n",
       " (tensor([[0.1420]], device='cuda:0', dtype=torch.float64),\n",
       "  tensor([[0.5000]], device='cuda:0', dtype=torch.float64)),\n",
       " (tensor([[0.2111]], device='cuda:0', dtype=torch.float64),\n",
       "  tensor([[0.5000]], device='cuda:0', dtype=torch.float64)),\n",
       " (tensor([[0.2255]], device='cuda:0', dtype=torch.float64),\n",
       "  tensor([[0.3333]], device='cuda:0', dtype=torch.float64)),\n",
       " (tensor([[0.2024]], device='cuda:0', dtype=torch.float64),\n",
       "  tensor([[0.5000]], device='cuda:0', dtype=torch.float64)),\n",
       " (tensor([[0.1887]], device='cuda:0', dtype=torch.float64),\n",
       "  tensor([[0.5000]], device='cuda:0', dtype=torch.float64)),\n",
       " (tensor([[0.1937]], device='cuda:0', dtype=torch.float64),\n",
       "  tensor([[0.5000]], device='cuda:0', dtype=torch.float64)),\n",
       " (tensor([[0.1853]], device='cuda:0', dtype=torch.float64),\n",
       "  tensor([[0.6667]], device='cuda:0', dtype=torch.float64)),\n",
       " (tensor([[0.2046]], device='cuda:0', dtype=torch.float64),\n",
       "  tensor([[0.5000]], device='cuda:0', dtype=torch.float64)),\n",
       " (tensor([[0.1655]], device='cuda:0', dtype=torch.float64),\n",
       "  tensor([[0.5000]], device='cuda:0', dtype=torch.float64)),\n",
       " (tensor([[0.2431]], device='cuda:0', dtype=torch.float64),\n",
       "  tensor([[0.6667]], device='cuda:0', dtype=torch.float64)),\n",
       " (tensor([[0.2048]], device='cuda:0', dtype=torch.float64),\n",
       "  tensor([[0.5000]], device='cuda:0', dtype=torch.float64)),\n",
       " (tensor([[0.2475]], device='cuda:0', dtype=torch.float64),\n",
       "  tensor([[0.5000]], device='cuda:0', dtype=torch.float64)),\n",
       " (tensor([[0.2608]], device='cuda:0', dtype=torch.float64),\n",
       "  tensor([[0.5000]], device='cuda:0', dtype=torch.float64)),\n",
       " (tensor([[0.1831]], device='cuda:0', dtype=torch.float64),\n",
       "  tensor([[0.6667]], device='cuda:0', dtype=torch.float64)),\n",
       " (tensor([[0.2380]], device='cuda:0', dtype=torch.float64),\n",
       "  tensor([[0.3333]], device='cuda:0', dtype=torch.float64)),\n",
       " (tensor([[0.2139]], device='cuda:0', dtype=torch.float64),\n",
       "  tensor([[0.3333]], device='cuda:0', dtype=torch.float64)),\n",
       " (tensor([[0.2028]], device='cuda:0', dtype=torch.float64),\n",
       "  tensor([[0.6667]], device='cuda:0', dtype=torch.float64)),\n",
       " (tensor([[0.2267]], device='cuda:0', dtype=torch.float64),\n",
       "  tensor([[0.5000]], device='cuda:0', dtype=torch.float64)),\n",
       " (tensor([[0.2343]], device='cuda:0', dtype=torch.float64),\n",
       "  tensor([[0.5000]], device='cuda:0', dtype=torch.float64)),\n",
       " (tensor([[0.2141]], device='cuda:0', dtype=torch.float64),\n",
       "  tensor([[0.5000]], device='cuda:0', dtype=torch.float64)),\n",
       " (tensor([[0.1959]], device='cuda:0', dtype=torch.float64),\n",
       "  tensor([[0.3333]], device='cuda:0', dtype=torch.float64)),\n",
       " (tensor([[0.2174]], device='cuda:0', dtype=torch.float64),\n",
       "  tensor([[0.3333]], device='cuda:0', dtype=torch.float64)),\n",
       " (tensor([[0.1929]], device='cuda:0', dtype=torch.float64),\n",
       "  tensor([[0.5000]], device='cuda:0', dtype=torch.float64)),\n",
       " (tensor([[0.1625]], device='cuda:0', dtype=torch.float64),\n",
       "  tensor([[0.3333]], device='cuda:0', dtype=torch.float64)),\n",
       " (tensor([[0.2005]], device='cuda:0', dtype=torch.float64),\n",
       "  tensor([[0.5000]], device='cuda:0', dtype=torch.float64)),\n",
       " (tensor([[0.1900]], device='cuda:0', dtype=torch.float64),\n",
       "  tensor([[0.5000]], device='cuda:0', dtype=torch.float64)),\n",
       " (tensor([[0.2160]], device='cuda:0', dtype=torch.float64),\n",
       "  tensor([[0.5000]], device='cuda:0', dtype=torch.float64)),\n",
       " (tensor([[0.2021]], device='cuda:0', dtype=torch.float64),\n",
       "  tensor([[0.6667]], device='cuda:0', dtype=torch.float64)),\n",
       " (tensor([[0.2051]], device='cuda:0', dtype=torch.float64),\n",
       "  tensor([[0.5000]], device='cuda:0', dtype=torch.float64)),\n",
       " (tensor([[0.2291]], device='cuda:0', dtype=torch.float64),\n",
       "  tensor([[0.5000]], device='cuda:0', dtype=torch.float64)),\n",
       " (tensor([[0.2510]], device='cuda:0', dtype=torch.float64),\n",
       "  tensor([[0.1667]], device='cuda:0', dtype=torch.float64)),\n",
       " (tensor([[0.2166]], device='cuda:0', dtype=torch.float64),\n",
       "  tensor([[0.3333]], device='cuda:0', dtype=torch.float64)),\n",
       " (tensor([[0.1607]], device='cuda:0', dtype=torch.float64),\n",
       "  tensor([[0.5000]], device='cuda:0', dtype=torch.float64)),\n",
       " (tensor([[0.1559]], device='cuda:0', dtype=torch.float64),\n",
       "  tensor([[0.5000]], device='cuda:0', dtype=torch.float64)),\n",
       " (tensor([[0.1496]], device='cuda:0', dtype=torch.float64),\n",
       "  tensor([[0.6667]], device='cuda:0', dtype=torch.float64)),\n",
       " (tensor([[0.2310]], device='cuda:0', dtype=torch.float64),\n",
       "  tensor([[0.5000]], device='cuda:0', dtype=torch.float64)),\n",
       " (tensor([[0.2308]], device='cuda:0', dtype=torch.float64),\n",
       "  tensor([[0.3333]], device='cuda:0', dtype=torch.float64)),\n",
       " (tensor([[0.1464]], device='cuda:0', dtype=torch.float64),\n",
       "  tensor([[0.5000]], device='cuda:0', dtype=torch.float64)),\n",
       " (tensor([[0.1174]], device='cuda:0', dtype=torch.float64),\n",
       "  tensor([[0.5000]], device='cuda:0', dtype=torch.float64)),\n",
       " (tensor([[0.2099]], device='cuda:0', dtype=torch.float64),\n",
       "  tensor([[0.8333]], device='cuda:0', dtype=torch.float64)),\n",
       " (tensor([[0.1643]], device='cuda:0', dtype=torch.float64),\n",
       "  tensor([[0.3333]], device='cuda:0', dtype=torch.float64)),\n",
       " (tensor([[0.2036]], device='cuda:0', dtype=torch.float64),\n",
       "  tensor([[0.5000]], device='cuda:0', dtype=torch.float64)),\n",
       " (tensor([[0.1932]], device='cuda:0', dtype=torch.float64),\n",
       "  tensor([[0.6667]], device='cuda:0', dtype=torch.float64)),\n",
       " (tensor([[0.1194]], device='cuda:0', dtype=torch.float64),\n",
       "  tensor([[0.5000]], device='cuda:0', dtype=torch.float64)),\n",
       " (tensor([[0.2024]], device='cuda:0', dtype=torch.float64),\n",
       "  tensor([[0.3333]], device='cuda:0', dtype=torch.float64)),\n",
       " (tensor([[0.2108]], device='cuda:0', dtype=torch.float64),\n",
       "  tensor([[0.5000]], device='cuda:0', dtype=torch.float64)),\n",
       " (tensor([[0.2167]], device='cuda:0', dtype=torch.float64),\n",
       "  tensor([[0.5000]], device='cuda:0', dtype=torch.float64)),\n",
       " (tensor([[0.1816]], device='cuda:0', dtype=torch.float64),\n",
       "  tensor([[0.5000]], device='cuda:0', dtype=torch.float64)),\n",
       " (tensor([[0.1868]], device='cuda:0', dtype=torch.float64),\n",
       "  tensor([[0.1667]], device='cuda:0', dtype=torch.float64)),\n",
       " (tensor([[0.2304]], device='cuda:0', dtype=torch.float64),\n",
       "  tensor([[0.3333]], device='cuda:0', dtype=torch.float64)),\n",
       " (tensor([[0.2425]], device='cuda:0', dtype=torch.float64),\n",
       "  tensor([[0.5000]], device='cuda:0', dtype=torch.float64)),\n",
       " (tensor([[0.2326]], device='cuda:0', dtype=torch.float64),\n",
       "  tensor([[0.3333]], device='cuda:0', dtype=torch.float64)),\n",
       " (tensor([[0.2510]], device='cuda:0', dtype=torch.float64),\n",
       "  tensor([[0.3333]], device='cuda:0', dtype=torch.float64)),\n",
       " (tensor([[0.1829]], device='cuda:0', dtype=torch.float64),\n",
       "  tensor([[0.8333]], device='cuda:0', dtype=torch.float64)),\n",
       " (tensor([[0.1927]], device='cuda:0', dtype=torch.float64),\n",
       "  tensor([[0.3333]], device='cuda:0', dtype=torch.float64)),\n",
       " (tensor([[0.1899]], device='cuda:0', dtype=torch.float64),\n",
       "  tensor([[0.5000]], device='cuda:0', dtype=torch.float64)),\n",
       " (tensor([[0.2458]], device='cuda:0', dtype=torch.float64),\n",
       "  tensor([[0.5000]], device='cuda:0', dtype=torch.float64)),\n",
       " (tensor([[0.2342]], device='cuda:0', dtype=torch.float64),\n",
       "  tensor([[0.5000]], device='cuda:0', dtype=torch.float64)),\n",
       " (tensor([[0.1887]], device='cuda:0', dtype=torch.float64),\n",
       "  tensor([[0.5000]], device='cuda:0', dtype=torch.float64)),\n",
       " (tensor([[0.1667]], device='cuda:0', dtype=torch.float64),\n",
       "  tensor([[0.5000]], device='cuda:0', dtype=torch.float64)),\n",
       " (tensor([[0.2131]], device='cuda:0', dtype=torch.float64),\n",
       "  tensor([[0.3333]], device='cuda:0', dtype=torch.float64)),\n",
       " (tensor([[0.2540]], device='cuda:0', dtype=torch.float64),\n",
       "  tensor([[0.5000]], device='cuda:0', dtype=torch.float64)),\n",
       " (tensor([[0.1845]], device='cuda:0', dtype=torch.float64),\n",
       "  tensor([[0.3333]], device='cuda:0', dtype=torch.float64)),\n",
       " (tensor([[0.1595]], device='cuda:0', dtype=torch.float64),\n",
       "  tensor([[0.6667]], device='cuda:0', dtype=torch.float64)),\n",
       " (tensor([[0.2034]], device='cuda:0', dtype=torch.float64),\n",
       "  tensor([[0.3333]], device='cuda:0', dtype=torch.float64)),\n",
       " (tensor([[0.1617]], device='cuda:0', dtype=torch.float64),\n",
       "  tensor([[0.3333]], device='cuda:0', dtype=torch.float64)),\n",
       " (tensor([[0.2467]], device='cuda:0', dtype=torch.float64),\n",
       "  tensor([[0.3333]], device='cuda:0', dtype=torch.float64)),\n",
       " (tensor([[0.2132]], device='cuda:0', dtype=torch.float64),\n",
       "  tensor([[0.6667]], device='cuda:0', dtype=torch.float64)),\n",
       " (tensor([[0.1888]], device='cuda:0', dtype=torch.float64),\n",
       "  tensor([[0.3333]], device='cuda:0', dtype=torch.float64)),\n",
       " (tensor([[0.2245]], device='cuda:0', dtype=torch.float64),\n",
       "  tensor([[0.5000]], device='cuda:0', dtype=torch.float64)),\n",
       " (tensor([[0.1434]], device='cuda:0', dtype=torch.float64),\n",
       "  tensor([[0.5000]], device='cuda:0', dtype=torch.float64)),\n",
       " (tensor([[0.1959]], device='cuda:0', dtype=torch.float64),\n",
       "  tensor([[0.3333]], device='cuda:0', dtype=torch.float64)),\n",
       " (tensor([[0.1683]], device='cuda:0', dtype=torch.float64),\n",
       "  tensor([[0.3333]], device='cuda:0', dtype=torch.float64)),\n",
       " (tensor([[0.2123]], device='cuda:0', dtype=torch.float64),\n",
       "  tensor([[0.3333]], device='cuda:0', dtype=torch.float64)),\n",
       " (tensor([[0.1881]], device='cuda:0', dtype=torch.float64),\n",
       "  tensor([[0.6667]], device='cuda:0', dtype=torch.float64)),\n",
       " (tensor([[0.2557]], device='cuda:0', dtype=torch.float64),\n",
       "  tensor([[0.3333]], device='cuda:0', dtype=torch.float64)),\n",
       " (tensor([[0.1792]], device='cuda:0', dtype=torch.float64),\n",
       "  tensor([[0.3333]], device='cuda:0', dtype=torch.float64)),\n",
       " (tensor([[0.1858]], device='cuda:0', dtype=torch.float64),\n",
       "  tensor([[0.3333]], device='cuda:0', dtype=torch.float64)),\n",
       " (tensor([[0.2341]], device='cuda:0', dtype=torch.float64),\n",
       "  tensor([[0.5000]], device='cuda:0', dtype=torch.float64)),\n",
       " (tensor([[0.1927]], device='cuda:0', dtype=torch.float64),\n",
       "  tensor([[0.5000]], device='cuda:0', dtype=torch.float64)),\n",
       " (tensor([[0.1929]], device='cuda:0', dtype=torch.float64),\n",
       "  tensor([[0.8333]], device='cuda:0', dtype=torch.float64)),\n",
       " (tensor([[0.1962]], device='cuda:0', dtype=torch.float64),\n",
       "  tensor([[0.5000]], device='cuda:0', dtype=torch.float64)),\n",
       " (tensor([[0.1975]], device='cuda:0', dtype=torch.float64),\n",
       "  tensor([[0.3333]], device='cuda:0', dtype=torch.float64)),\n",
       " (tensor([[0.1725]], device='cuda:0', dtype=torch.float64),\n",
       "  tensor([[0.6667]], device='cuda:0', dtype=torch.float64)),\n",
       " (tensor([[0.1790]], device='cuda:0', dtype=torch.float64),\n",
       "  tensor([[0.5000]], device='cuda:0', dtype=torch.float64)),\n",
       " (tensor([[0.1604]], device='cuda:0', dtype=torch.float64),\n",
       "  tensor([[0.6667]], device='cuda:0', dtype=torch.float64)),\n",
       " (tensor([[0.2069]], device='cuda:0', dtype=torch.float64),\n",
       "  tensor([[0.5000]], device='cuda:0', dtype=torch.float64)),\n",
       " (tensor([[0.1937]], device='cuda:0', dtype=torch.float64),\n",
       "  tensor([[0.5000]], device='cuda:0', dtype=torch.float64)),\n",
       " (tensor([[0.1743]], device='cuda:0', dtype=torch.float64),\n",
       "  tensor([[0.5000]], device='cuda:0', dtype=torch.float64)),\n",
       " (tensor([[0.1944]], device='cuda:0', dtype=torch.float64),\n",
       "  tensor([[0.3333]], device='cuda:0', dtype=torch.float64)),\n",
       " (tensor([[0.2265]], device='cuda:0', dtype=torch.float64),\n",
       "  tensor([[0.5000]], device='cuda:0', dtype=torch.float64)),\n",
       " (tensor([[0.2358]], device='cuda:0', dtype=torch.float64),\n",
       "  tensor([[0.3333]], device='cuda:0', dtype=torch.float64)),\n",
       " (tensor([[0.2332]], device='cuda:0', dtype=torch.float64),\n",
       "  tensor([[0.5000]], device='cuda:0', dtype=torch.float64)),\n",
       " (tensor([[0.2009]], device='cuda:0', dtype=torch.float64),\n",
       "  tensor([[0.5000]], device='cuda:0', dtype=torch.float64)),\n",
       " (tensor([[0.1906]], device='cuda:0', dtype=torch.float64),\n",
       "  tensor([[0.5000]], device='cuda:0', dtype=torch.float64)),\n",
       " (tensor([[0.2623]], device='cuda:0', dtype=torch.float64),\n",
       "  tensor([[0.5000]], device='cuda:0', dtype=torch.float64)),\n",
       " (tensor([[0.1716]], device='cuda:0', dtype=torch.float64),\n",
       "  tensor([[0.5000]], device='cuda:0', dtype=torch.float64)),\n",
       " (tensor([[0.2155]], device='cuda:0', dtype=torch.float64),\n",
       "  tensor([[0.6667]], device='cuda:0', dtype=torch.float64)),\n",
       " (tensor([[0.1945]], device='cuda:0', dtype=torch.float64),\n",
       "  tensor([[0.5000]], device='cuda:0', dtype=torch.float64)),\n",
       " (tensor([[0.2072]], device='cuda:0', dtype=torch.float64),\n",
       "  tensor([[0.6667]], device='cuda:0', dtype=torch.float64)),\n",
       " (tensor([[0.1868]], device='cuda:0', dtype=torch.float64),\n",
       "  tensor([[0.8333]], device='cuda:0', dtype=torch.float64)),\n",
       " (tensor([[0.1942]], device='cuda:0', dtype=torch.float64),\n",
       "  tensor([[0.6667]], device='cuda:0', dtype=torch.float64)),\n",
       " (tensor([[0.2075]], device='cuda:0', dtype=torch.float64),\n",
       "  tensor([[0.5000]], device='cuda:0', dtype=torch.float64)),\n",
       " (tensor([[0.2491]], device='cuda:0', dtype=torch.float64),\n",
       "  tensor([[0.6667]], device='cuda:0', dtype=torch.float64)),\n",
       " (tensor([[0.2166]], device='cuda:0', dtype=torch.float64),\n",
       "  tensor([[0.5000]], device='cuda:0', dtype=torch.float64)),\n",
       " (tensor([[0.2280]], device='cuda:0', dtype=torch.float64),\n",
       "  tensor([[0.3333]], device='cuda:0', dtype=torch.float64)),\n",
       " (tensor([[0.2251]], device='cuda:0', dtype=torch.float64),\n",
       "  tensor([[0.1667]], device='cuda:0', dtype=torch.float64)),\n",
       " (tensor([[0.1822]], device='cuda:0', dtype=torch.float64),\n",
       "  tensor([[0.3333]], device='cuda:0', dtype=torch.float64)),\n",
       " (tensor([[0.2019]], device='cuda:0', dtype=torch.float64),\n",
       "  tensor([[0.3333]], device='cuda:0', dtype=torch.float64)),\n",
       " (tensor([[0.2405]], device='cuda:0', dtype=torch.float64),\n",
       "  tensor([[0.5000]], device='cuda:0', dtype=torch.float64)),\n",
       " (tensor([[0.1945]], device='cuda:0', dtype=torch.float64),\n",
       "  tensor([[0.5000]], device='cuda:0', dtype=torch.float64)),\n",
       " (tensor([[0.1873]], device='cuda:0', dtype=torch.float64),\n",
       "  tensor([[0.3333]], device='cuda:0', dtype=torch.float64)),\n",
       " (tensor([[0.1291]], device='cuda:0', dtype=torch.float64),\n",
       "  tensor([[0.3333]], device='cuda:0', dtype=torch.float64)),\n",
       " (tensor([[0.1928]], device='cuda:0', dtype=torch.float64),\n",
       "  tensor([[0.6667]], device='cuda:0', dtype=torch.float64)),\n",
       " (tensor([[0.1950]], device='cuda:0', dtype=torch.float64),\n",
       "  tensor([[0.5000]], device='cuda:0', dtype=torch.float64)),\n",
       " (tensor([[0.2576]], device='cuda:0', dtype=torch.float64),\n",
       "  tensor([[0.5000]], device='cuda:0', dtype=torch.float64)),\n",
       " (tensor([[0.1369]], device='cuda:0', dtype=torch.float64),\n",
       "  tensor([[0.6667]], device='cuda:0', dtype=torch.float64)),\n",
       " (tensor([[0.2161]], device='cuda:0', dtype=torch.float64),\n",
       "  tensor([[0.5000]], device='cuda:0', dtype=torch.float64)),\n",
       " (tensor([[0.2254]], device='cuda:0', dtype=torch.float64),\n",
       "  tensor([[0.3333]], device='cuda:0', dtype=torch.float64)),\n",
       " (tensor([[0.2214]], device='cuda:0', dtype=torch.float64),\n",
       "  tensor([[0.1667]], device='cuda:0', dtype=torch.float64)),\n",
       " (tensor([[0.2147]], device='cuda:0', dtype=torch.float64),\n",
       "  tensor([[0.6667]], device='cuda:0', dtype=torch.float64)),\n",
       " (tensor([[0.1790]], device='cuda:0', dtype=torch.float64),\n",
       "  tensor([[0.5000]], device='cuda:0', dtype=torch.float64)),\n",
       " (tensor([[0.2196]], device='cuda:0', dtype=torch.float64),\n",
       "  tensor([[0.3333]], device='cuda:0', dtype=torch.float64)),\n",
       " (tensor([[0.2369]], device='cuda:0', dtype=torch.float64),\n",
       "  tensor([[0.3333]], device='cuda:0', dtype=torch.float64)),\n",
       " (tensor([[0.2452]], device='cuda:0', dtype=torch.float64),\n",
       "  tensor([[0.3333]], device='cuda:0', dtype=torch.float64)),\n",
       " (tensor([[0.1992]], device='cuda:0', dtype=torch.float64),\n",
       "  tensor([[0.6667]], device='cuda:0', dtype=torch.float64)),\n",
       " (tensor([[0.1861]], device='cuda:0', dtype=torch.float64),\n",
       "  tensor([[0.3333]], device='cuda:0', dtype=torch.float64)),\n",
       " (tensor([[0.1534]], device='cuda:0', dtype=torch.float64),\n",
       "  tensor([[0.5000]], device='cuda:0', dtype=torch.float64)),\n",
       " (tensor([[0.1853]], device='cuda:0', dtype=torch.float64),\n",
       "  tensor([[0.5000]], device='cuda:0', dtype=torch.float64)),\n",
       " (tensor([[0.1989]], device='cuda:0', dtype=torch.float64),\n",
       "  tensor([[0.3333]], device='cuda:0', dtype=torch.float64)),\n",
       " (tensor([[0.1766]], device='cuda:0', dtype=torch.float64),\n",
       "  tensor([[0.5000]], device='cuda:0', dtype=torch.float64)),\n",
       " (tensor([[0.2392]], device='cuda:0', dtype=torch.float64),\n",
       "  tensor([[0.1667]], device='cuda:0', dtype=torch.float64)),\n",
       " (tensor([[0.1937]], device='cuda:0', dtype=torch.float64),\n",
       "  tensor([[0.6667]], device='cuda:0', dtype=torch.float64)),\n",
       " (tensor([[0.2129]], device='cuda:0', dtype=torch.float64),\n",
       "  tensor([[0.3333]], device='cuda:0', dtype=torch.float64)),\n",
       " (tensor([[0.1174]], device='cuda:0', dtype=torch.float64),\n",
       "  tensor([[0.5000]], device='cuda:0', dtype=torch.float64)),\n",
       " (tensor([[0.2254]], device='cuda:0', dtype=torch.float64),\n",
       "  tensor([[0.6667]], device='cuda:0', dtype=torch.float64)),\n",
       " (tensor([[0.1822]], device='cuda:0', dtype=torch.float64),\n",
       "  tensor([[0.6667]], device='cuda:0', dtype=torch.float64)),\n",
       " (tensor([[0.2319]], device='cuda:0', dtype=torch.float64),\n",
       "  tensor([[0.5000]], device='cuda:0', dtype=torch.float64)),\n",
       " (tensor([[0.1896]], device='cuda:0', dtype=torch.float64),\n",
       "  tensor([[0.6667]], device='cuda:0', dtype=torch.float64)),\n",
       " (tensor([[0.1741]], device='cuda:0', dtype=torch.float64),\n",
       "  tensor([[0.3333]], device='cuda:0', dtype=torch.float64)),\n",
       " (tensor([[0.2230]], device='cuda:0', dtype=torch.float64),\n",
       "  tensor([[0.5000]], device='cuda:0', dtype=torch.float64)),\n",
       " (tensor([[0.1760]], device='cuda:0', dtype=torch.float64),\n",
       "  tensor([[0.6667]], device='cuda:0', dtype=torch.float64)),\n",
       " (tensor([[0.1874]], device='cuda:0', dtype=torch.float64),\n",
       "  tensor([[0.5000]], device='cuda:0', dtype=torch.float64)),\n",
       " (tensor([[0.2085]], device='cuda:0', dtype=torch.float64),\n",
       "  tensor([[0.5000]], device='cuda:0', dtype=torch.float64)),\n",
       " (tensor([[0.2186]], device='cuda:0', dtype=torch.float64),\n",
       "  tensor([[0.6667]], device='cuda:0', dtype=torch.float64)),\n",
       " (tensor([[0.1791]], device='cuda:0', dtype=torch.float64),\n",
       "  tensor([[0.3333]], device='cuda:0', dtype=torch.float64)),\n",
       " (tensor([[0.1746]], device='cuda:0', dtype=torch.float64),\n",
       "  tensor([[0.5000]], device='cuda:0', dtype=torch.float64)),\n",
       " (tensor([[0.2268]], device='cuda:0', dtype=torch.float64),\n",
       "  tensor([[0.3333]], device='cuda:0', dtype=torch.float64)),\n",
       " (tensor([[0.2178]], device='cuda:0', dtype=torch.float64),\n",
       "  tensor([[0.6667]], device='cuda:0', dtype=torch.float64)),\n",
       " (tensor([[0.2375]], device='cuda:0', dtype=torch.float64),\n",
       "  tensor([[0.3333]], device='cuda:0', dtype=torch.float64)),\n",
       " (tensor([[0.1831]], device='cuda:0', dtype=torch.float64),\n",
       "  tensor([[0.5000]], device='cuda:0', dtype=torch.float64)),\n",
       " (tensor([[0.1499]], device='cuda:0', dtype=torch.float64),\n",
       "  tensor([[0.5000]], device='cuda:0', dtype=torch.float64)),\n",
       " (tensor([[0.2211]], device='cuda:0', dtype=torch.float64),\n",
       "  tensor([[0.3333]], device='cuda:0', dtype=torch.float64)),\n",
       " (tensor([[0.2480]], device='cuda:0', dtype=torch.float64),\n",
       "  tensor([[0.3333]], device='cuda:0', dtype=torch.float64)),\n",
       " (tensor([[0.1940]], device='cuda:0', dtype=torch.float64),\n",
       "  tensor([[0.5000]], device='cuda:0', dtype=torch.float64)),\n",
       " (tensor([[0.1646]], device='cuda:0', dtype=torch.float64),\n",
       "  tensor([[0.6667]], device='cuda:0', dtype=torch.float64)),\n",
       " (tensor([[0.1856]], device='cuda:0', dtype=torch.float64),\n",
       "  tensor([[0.5000]], device='cuda:0', dtype=torch.float64)),\n",
       " (tensor([[0.2097]], device='cuda:0', dtype=torch.float64),\n",
       "  tensor([[0.5000]], device='cuda:0', dtype=torch.float64)),\n",
       " (tensor([[0.2033]], device='cuda:0', dtype=torch.float64),\n",
       "  tensor([[0.5000]], device='cuda:0', dtype=torch.float64)),\n",
       " (tensor([[0.2252]], device='cuda:0', dtype=torch.float64),\n",
       "  tensor([[0.3333]], device='cuda:0', dtype=torch.float64)),\n",
       " (tensor([[0.1569]], device='cuda:0', dtype=torch.float64),\n",
       "  tensor([[0.6667]], device='cuda:0', dtype=torch.float64)),\n",
       " (tensor([[0.1971]], device='cuda:0', dtype=torch.float64),\n",
       "  tensor([[0.5000]], device='cuda:0', dtype=torch.float64)),\n",
       " (tensor([[0.2130]], device='cuda:0', dtype=torch.float64),\n",
       "  tensor([[0.6667]], device='cuda:0', dtype=torch.float64)),\n",
       " (tensor([[0.2732]], device='cuda:0', dtype=torch.float64),\n",
       "  tensor([[0.5000]], device='cuda:0', dtype=torch.float64)),\n",
       " (tensor([[0.1927]], device='cuda:0', dtype=torch.float64),\n",
       "  tensor([[0.6667]], device='cuda:0', dtype=torch.float64)),\n",
       " (tensor([[0.1568]], device='cuda:0', dtype=torch.float64),\n",
       "  tensor([[0.3333]], device='cuda:0', dtype=torch.float64)),\n",
       " (tensor([[0.2154]], device='cuda:0', dtype=torch.float64),\n",
       "  tensor([[0.5000]], device='cuda:0', dtype=torch.float64)),\n",
       " (tensor([[0.1787]], device='cuda:0', dtype=torch.float64),\n",
       "  tensor([[0.3333]], device='cuda:0', dtype=torch.float64)),\n",
       " (tensor([[0.2157]], device='cuda:0', dtype=torch.float64),\n",
       "  tensor([[0.5000]], device='cuda:0', dtype=torch.float64)),\n",
       " (tensor([[0.2423]], device='cuda:0', dtype=torch.float64),\n",
       "  tensor([[0.5000]], device='cuda:0', dtype=torch.float64)),\n",
       " (tensor([[0.1839]], device='cuda:0', dtype=torch.float64),\n",
       "  tensor([[0.5000]], device='cuda:0', dtype=torch.float64)),\n",
       " (tensor([[0.1765]], device='cuda:0', dtype=torch.float64),\n",
       "  tensor([[0.5000]], device='cuda:0', dtype=torch.float64)),\n",
       " (tensor([[0.2418]], device='cuda:0', dtype=torch.float64),\n",
       "  tensor([[0.3333]], device='cuda:0', dtype=torch.float64)),\n",
       " (tensor([[0.1579]], device='cuda:0', dtype=torch.float64),\n",
       "  tensor([[0.5000]], device='cuda:0', dtype=torch.float64)),\n",
       " (tensor([[0.2379]], device='cuda:0', dtype=torch.float64),\n",
       "  tensor([[0.3333]], device='cuda:0', dtype=torch.float64)),\n",
       " (tensor([[0.2247]], device='cuda:0', dtype=torch.float64),\n",
       "  tensor([[0.5000]], device='cuda:0', dtype=torch.float64)),\n",
       " (tensor([[0.1626]], device='cuda:0', dtype=torch.float64),\n",
       "  tensor([[0.5000]], device='cuda:0', dtype=torch.float64)),\n",
       " (tensor([[0.2514]], device='cuda:0', dtype=torch.float64),\n",
       "  tensor([[0.3333]], device='cuda:0', dtype=torch.float64)),\n",
       " (tensor([[0.2345]], device='cuda:0', dtype=torch.float64),\n",
       "  tensor([[0.3333]], device='cuda:0', dtype=torch.float64)),\n",
       " (tensor([[0.2019]], device='cuda:0', dtype=torch.float64),\n",
       "  tensor([[0.5000]], device='cuda:0', dtype=torch.float64)),\n",
       " (tensor([[0.2045]], device='cuda:0', dtype=torch.float64),\n",
       "  tensor([[0.5000]], device='cuda:0', dtype=torch.float64)),\n",
       " (tensor([[0.1668]], device='cuda:0', dtype=torch.float64),\n",
       "  tensor([[0.3333]], device='cuda:0', dtype=torch.float64)),\n",
       " (tensor([[0.1760]], device='cuda:0', dtype=torch.float64),\n",
       "  tensor([[0.5000]], device='cuda:0', dtype=torch.float64)),\n",
       " (tensor([[0.1725]], device='cuda:0', dtype=torch.float64),\n",
       "  tensor([[0.5000]], device='cuda:0', dtype=torch.float64)),\n",
       " (tensor([[0.2113]], device='cuda:0', dtype=torch.float64),\n",
       "  tensor([[0.6667]], device='cuda:0', dtype=torch.float64)),\n",
       " (tensor([[0.1891]], device='cuda:0', dtype=torch.float64),\n",
       "  tensor([[0.5000]], device='cuda:0', dtype=torch.float64)),\n",
       " (tensor([[0.2035]], device='cuda:0', dtype=torch.float64),\n",
       "  tensor([[0.3333]], device='cuda:0', dtype=torch.float64)),\n",
       " (tensor([[0.2110]], device='cuda:0', dtype=torch.float64),\n",
       "  tensor([[0.5000]], device='cuda:0', dtype=torch.float64)),\n",
       " (tensor([[0.2041]], device='cuda:0', dtype=torch.float64),\n",
       "  tensor([[0.5000]], device='cuda:0', dtype=torch.float64)),\n",
       " (tensor([[0.1735]], device='cuda:0', dtype=torch.float64),\n",
       "  tensor([[0.3333]], device='cuda:0', dtype=torch.float64)),\n",
       " (tensor([[0.2380]], device='cuda:0', dtype=torch.float64),\n",
       "  tensor([[0.5000]], device='cuda:0', dtype=torch.float64)),\n",
       " (tensor([[0.2034]], device='cuda:0', dtype=torch.float64),\n",
       "  tensor([[0.3333]], device='cuda:0', dtype=torch.float64)),\n",
       " (tensor([[0.1464]], device='cuda:0', dtype=torch.float64),\n",
       "  tensor([[0.5000]], device='cuda:0', dtype=torch.float64)),\n",
       " (tensor([[0.2006]], device='cuda:0', dtype=torch.float64),\n",
       "  tensor([[0.6667]], device='cuda:0', dtype=torch.float64)),\n",
       " (tensor([[0.2335]], device='cuda:0', dtype=torch.float64),\n",
       "  tensor([[0.5000]], device='cuda:0', dtype=torch.float64)),\n",
       " (tensor([[0.1116]], device='cuda:0', dtype=torch.float64),\n",
       "  tensor([[0.5000]], device='cuda:0', dtype=torch.float64)),\n",
       " (tensor([[0.2282]], device='cuda:0', dtype=torch.float64),\n",
       "  tensor([[0.5000]], device='cuda:0', dtype=torch.float64)),\n",
       " (tensor([[0.1625]], device='cuda:0', dtype=torch.float64),\n",
       "  tensor([[0.5000]], device='cuda:0', dtype=torch.float64)),\n",
       " (tensor([[0.2664]], device='cuda:0', dtype=torch.float64),\n",
       "  tensor([[0.5000]], device='cuda:0', dtype=torch.float64)),\n",
       " (tensor([[0.1788]], device='cuda:0', dtype=torch.float64),\n",
       "  tensor([[0.5000]], device='cuda:0', dtype=torch.float64)),\n",
       " (tensor([[0.1496]], device='cuda:0', dtype=torch.float64),\n",
       "  tensor([[0.5000]], device='cuda:0', dtype=torch.float64)),\n",
       " (tensor([[0.1520]], device='cuda:0', dtype=torch.float64),\n",
       "  tensor([[0.5000]], device='cuda:0', dtype=torch.float64)),\n",
       " (tensor([[0.1683]], device='cuda:0', dtype=torch.float64),\n",
       "  tensor([[0.5000]], device='cuda:0', dtype=torch.float64)),\n",
       " (tensor([[0.1526]], device='cuda:0', dtype=torch.float64),\n",
       "  tensor([[0.6667]], device='cuda:0', dtype=torch.float64)),\n",
       " (tensor([[0.1947]], device='cuda:0', dtype=torch.float64),\n",
       "  tensor([[0.1667]], device='cuda:0', dtype=torch.float64)),\n",
       " (tensor([[0.1916]], device='cuda:0', dtype=torch.float64),\n",
       "  tensor([[0.6667]], device='cuda:0', dtype=torch.float64)),\n",
       " (tensor([[0.2287]], device='cuda:0', dtype=torch.float64),\n",
       "  tensor([[0.3333]], device='cuda:0', dtype=torch.float64)),\n",
       " (tensor([[0.2196]], device='cuda:0', dtype=torch.float64),\n",
       "  tensor([[0.5000]], device='cuda:0', dtype=torch.float64)),\n",
       " (tensor([[0.1612]], device='cuda:0', dtype=torch.float64),\n",
       "  tensor([[0.6667]], device='cuda:0', dtype=torch.float64)),\n",
       " (tensor([[0.1526]], device='cuda:0', dtype=torch.float64),\n",
       "  tensor([[0.3333]], device='cuda:0', dtype=torch.float64)),\n",
       " (tensor([[0.2399]], device='cuda:0', dtype=torch.float64),\n",
       "  tensor([[0.5000]], device='cuda:0', dtype=torch.float64)),\n",
       " (tensor([[0.2016]], device='cuda:0', dtype=torch.float64),\n",
       "  tensor([[0.5000]], device='cuda:0', dtype=torch.float64)),\n",
       " (tensor([[0.2289]], device='cuda:0', dtype=torch.float64),\n",
       "  tensor([[0.6667]], device='cuda:0', dtype=torch.float64)),\n",
       " (tensor([[0.1830]], device='cuda:0', dtype=torch.float64),\n",
       "  tensor([[0.6667]], device='cuda:0', dtype=torch.float64)),\n",
       " (tensor([[0.2353]], device='cuda:0', dtype=torch.float64),\n",
       "  tensor([[0.1667]], device='cuda:0', dtype=torch.float64)),\n",
       " (tensor([[0.1279]], device='cuda:0', dtype=torch.float64),\n",
       "  tensor([[0.5000]], device='cuda:0', dtype=torch.float64)),\n",
       " (tensor([[0.1971]], device='cuda:0', dtype=torch.float64),\n",
       "  tensor([[0.1667]], device='cuda:0', dtype=torch.float64)),\n",
       " (tensor([[0.2244]], device='cuda:0', dtype=torch.float64),\n",
       "  tensor([[0.1667]], device='cuda:0', dtype=torch.float64)),\n",
       " (tensor([[0.2167]], device='cuda:0', dtype=torch.float64),\n",
       "  tensor([[0.3333]], device='cuda:0', dtype=torch.float64)),\n",
       " (tensor([[0.2192]], device='cuda:0', dtype=torch.float64),\n",
       "  tensor([[0.5000]], device='cuda:0', dtype=torch.float64)),\n",
       " (tensor([[0.1759]], device='cuda:0', dtype=torch.float64),\n",
       "  tensor([[0.6667]], device='cuda:0', dtype=torch.float64)),\n",
       " (tensor([[0.2162]], device='cuda:0', dtype=torch.float64),\n",
       "  tensor([[0.3333]], device='cuda:0', dtype=torch.float64)),\n",
       " (tensor([[0.2095]], device='cuda:0', dtype=torch.float64),\n",
       "  tensor([[0.5000]], device='cuda:0', dtype=torch.float64)),\n",
       " (tensor([[0.2012]], device='cuda:0', dtype=torch.float64),\n",
       "  tensor([[0.5000]], device='cuda:0', dtype=torch.float64)),\n",
       " (tensor([[0.2328]], device='cuda:0', dtype=torch.float64),\n",
       "  tensor([[0.3333]], device='cuda:0', dtype=torch.float64)),\n",
       " (tensor([[0.1966]], device='cuda:0', dtype=torch.float64),\n",
       "  tensor([[0.5000]], device='cuda:0', dtype=torch.float64)),\n",
       " (tensor([[0.3018]], device='cuda:0', dtype=torch.float64),\n",
       "  tensor([[0.5000]], device='cuda:0', dtype=torch.float64)),\n",
       " (tensor([[0.2080]], device='cuda:0', dtype=torch.float64),\n",
       "  tensor([[0.5000]], device='cuda:0', dtype=torch.float64)),\n",
       " (tensor([[0.2293]], device='cuda:0', dtype=torch.float64),\n",
       "  tensor([[0.3333]], device='cuda:0', dtype=torch.float64)),\n",
       " (tensor([[0.1882]], device='cuda:0', dtype=torch.float64),\n",
       "  tensor([[0.3333]], device='cuda:0', dtype=torch.float64)),\n",
       " (tensor([[0.2498]], device='cuda:0', dtype=torch.float64),\n",
       "  tensor([[0.3333]], device='cuda:0', dtype=torch.float64)),\n",
       " (tensor([[0.1833]], device='cuda:0', dtype=torch.float64),\n",
       "  tensor([[0.3333]], device='cuda:0', dtype=torch.float64)),\n",
       " (tensor([[0.1746]], device='cuda:0', dtype=torch.float64),\n",
       "  tensor([[0.6667]], device='cuda:0', dtype=torch.float64)),\n",
       " (tensor([[0.2265]], device='cuda:0', dtype=torch.float64),\n",
       "  tensor([[0.5000]], device='cuda:0', dtype=torch.float64)),\n",
       " (tensor([[0.1927]], device='cuda:0', dtype=torch.float64),\n",
       "  tensor([[0.5000]], device='cuda:0', dtype=torch.float64)),\n",
       " (tensor([[0.1847]], device='cuda:0', dtype=torch.float64),\n",
       "  tensor([[0.5000]], device='cuda:0', dtype=torch.float64)),\n",
       " (tensor([[0.2763]], device='cuda:0', dtype=torch.float64),\n",
       "  tensor([[0.5000]], device='cuda:0', dtype=torch.float64)),\n",
       " (tensor([[0.2144]], device='cuda:0', dtype=torch.float64),\n",
       "  tensor([[0.3333]], device='cuda:0', dtype=torch.float64)),\n",
       " (tensor([[0.2249]], device='cuda:0', dtype=torch.float64),\n",
       "  tensor([[0.3333]], device='cuda:0', dtype=torch.float64)),\n",
       " (tensor([[0.2273]], device='cuda:0', dtype=torch.float64),\n",
       "  tensor([[0.3333]], device='cuda:0', dtype=torch.float64)),\n",
       " (tensor([[0.1942]], device='cuda:0', dtype=torch.float64),\n",
       "  tensor([[0.5000]], device='cuda:0', dtype=torch.float64)),\n",
       " (tensor([[0.2303]], device='cuda:0', dtype=torch.float64),\n",
       "  tensor([[0.3333]], device='cuda:0', dtype=torch.float64)),\n",
       " (tensor([[0.2032]], device='cuda:0', dtype=torch.float64),\n",
       "  tensor([[0.6667]], device='cuda:0', dtype=torch.float64)),\n",
       " (tensor([[0.2322]], device='cuda:0', dtype=torch.float64),\n",
       "  tensor([[0.3333]], device='cuda:0', dtype=torch.float64)),\n",
       " (tensor([[0.2541]], device='cuda:0', dtype=torch.float64),\n",
       "  tensor([[0.5000]], device='cuda:0', dtype=torch.float64)),\n",
       " (tensor([[0.1920]], device='cuda:0', dtype=torch.float64),\n",
       "  tensor([[0.3333]], device='cuda:0', dtype=torch.float64)),\n",
       " (tensor([[0.1940]], device='cuda:0', dtype=torch.float64),\n",
       "  tensor([[0.3333]], device='cuda:0', dtype=torch.float64)),\n",
       " (tensor([[0.2417]], device='cuda:0', dtype=torch.float64),\n",
       "  tensor([[0.3333]], device='cuda:0', dtype=torch.float64)),\n",
       " (tensor([[0.1958]], device='cuda:0', dtype=torch.float64),\n",
       "  tensor([[0.5000]], device='cuda:0', dtype=torch.float64)),\n",
       " (tensor([[0.2353]], device='cuda:0', dtype=torch.float64),\n",
       "  tensor([[0.5000]], device='cuda:0', dtype=torch.float64)),\n",
       " (tensor([[0.1939]], device='cuda:0', dtype=torch.float64),\n",
       "  tensor([[0.6667]], device='cuda:0', dtype=torch.float64)),\n",
       " (tensor([[0.1997]], device='cuda:0', dtype=torch.float64),\n",
       "  tensor([[0.3333]], device='cuda:0', dtype=torch.float64)),\n",
       " (tensor([[0.1955]], device='cuda:0', dtype=torch.float64),\n",
       "  tensor([[1.]], device='cuda:0', dtype=torch.float64)),\n",
       " (tensor([[0.2604]], device='cuda:0', dtype=torch.float64),\n",
       "  tensor([[0.5000]], device='cuda:0', dtype=torch.float64)),\n",
       " (tensor([[0.2169]], device='cuda:0', dtype=torch.float64),\n",
       "  tensor([[0.3333]], device='cuda:0', dtype=torch.float64)),\n",
       " (tensor([[0.2118]], device='cuda:0', dtype=torch.float64),\n",
       "  tensor([[0.5000]], device='cuda:0', dtype=torch.float64)),\n",
       " (tensor([[0.1843]], device='cuda:0', dtype=torch.float64),\n",
       "  tensor([[0.5000]], device='cuda:0', dtype=torch.float64)),\n",
       " (tensor([[0.1788]], device='cuda:0', dtype=torch.float64),\n",
       "  tensor([[0.3333]], device='cuda:0', dtype=torch.float64)),\n",
       " (tensor([[0.1891]], device='cuda:0', dtype=torch.float64),\n",
       "  tensor([[0.6667]], device='cuda:0', dtype=torch.float64)),\n",
       " (tensor([[0.1859]], device='cuda:0', dtype=torch.float64),\n",
       "  tensor([[0.5000]], device='cuda:0', dtype=torch.float64)),\n",
       " (tensor([[0.2526]], device='cuda:0', dtype=torch.float64),\n",
       "  tensor([[0.5000]], device='cuda:0', dtype=torch.float64)),\n",
       " (tensor([[0.2001]], device='cuda:0', dtype=torch.float64),\n",
       "  tensor([[0.5000]], device='cuda:0', dtype=torch.float64)),\n",
       " (tensor([[0.1620]], device='cuda:0', dtype=torch.float64),\n",
       "  tensor([[0.3333]], device='cuda:0', dtype=torch.float64)),\n",
       " (tensor([[0.1809]], device='cuda:0', dtype=torch.float64),\n",
       "  tensor([[0.5000]], device='cuda:0', dtype=torch.float64)),\n",
       " (tensor([[0.2462]], device='cuda:0', dtype=torch.float64),\n",
       "  tensor([[0.3333]], device='cuda:0', dtype=torch.float64)),\n",
       " (tensor([[0.1966]], device='cuda:0', dtype=torch.float64),\n",
       "  tensor([[0.3333]], device='cuda:0', dtype=torch.float64)),\n",
       " (tensor([[0.1648]], device='cuda:0', dtype=torch.float64),\n",
       "  tensor([[0.6667]], device='cuda:0', dtype=torch.float64)),\n",
       " (tensor([[0.2259]], device='cuda:0', dtype=torch.float64),\n",
       "  tensor([[0.3333]], device='cuda:0', dtype=torch.float64)),\n",
       " (tensor([[0.1843]], device='cuda:0', dtype=torch.float64),\n",
       "  tensor([[0.5000]], device='cuda:0', dtype=torch.float64)),\n",
       " (tensor([[0.2116]], device='cuda:0', dtype=torch.float64),\n",
       "  tensor([[0.6667]], device='cuda:0', dtype=torch.float64)),\n",
       " (tensor([[0.1889]], device='cuda:0', dtype=torch.float64),\n",
       "  tensor([[0.3333]], device='cuda:0', dtype=torch.float64)),\n",
       " (tensor([[0.1756]], device='cuda:0', dtype=torch.float64),\n",
       "  tensor([[0.3333]], device='cuda:0', dtype=torch.float64)),\n",
       " (tensor([[0.2434]], device='cuda:0', dtype=torch.float64),\n",
       "  tensor([[0.5000]], device='cuda:0', dtype=torch.float64)),\n",
       " (tensor([[0.2758]], device='cuda:0', dtype=torch.float64),\n",
       "  tensor([[0.5000]], device='cuda:0', dtype=torch.float64)),\n",
       " (tensor([[0.2268]], device='cuda:0', dtype=torch.float64),\n",
       "  tensor([[0.3333]], device='cuda:0', dtype=torch.float64)),\n",
       " (tensor([[0.2101]], device='cuda:0', dtype=torch.float64),\n",
       "  tensor([[0.3333]], device='cuda:0', dtype=torch.float64)),\n",
       " (tensor([[0.1933]], device='cuda:0', dtype=torch.float64),\n",
       "  tensor([[0.6667]], device='cuda:0', dtype=torch.float64)),\n",
       " (tensor([[0.1862]], device='cuda:0', dtype=torch.float64),\n",
       "  tensor([[0.5000]], device='cuda:0', dtype=torch.float64)),\n",
       " (tensor([[0.2026]], device='cuda:0', dtype=torch.float64),\n",
       "  tensor([[0.5000]], device='cuda:0', dtype=torch.float64)),\n",
       " (tensor([[0.1976]], device='cuda:0', dtype=torch.float64),\n",
       "  tensor([[0.5000]], device='cuda:0', dtype=torch.float64)),\n",
       " (tensor([[0.2304]], device='cuda:0', dtype=torch.float64),\n",
       "  tensor([[0.5000]], device='cuda:0', dtype=torch.float64)),\n",
       " (tensor([[0.1930]], device='cuda:0', dtype=torch.float64),\n",
       "  tensor([[0.6667]], device='cuda:0', dtype=torch.float64)),\n",
       " (tensor([[0.2147]], device='cuda:0', dtype=torch.float64),\n",
       "  tensor([[0.3333]], device='cuda:0', dtype=torch.float64)),\n",
       " (tensor([[0.2340]], device='cuda:0', dtype=torch.float64),\n",
       "  tensor([[0.3333]], device='cuda:0', dtype=torch.float64)),\n",
       " (tensor([[0.2393]], device='cuda:0', dtype=torch.float64),\n",
       "  tensor([[0.3333]], device='cuda:0', dtype=torch.float64)),\n",
       " (tensor([[0.1714]], device='cuda:0', dtype=torch.float64),\n",
       "  tensor([[0.6667]], device='cuda:0', dtype=torch.float64)),\n",
       " (tensor([[0.1633]], device='cuda:0', dtype=torch.float64),\n",
       "  tensor([[0.5000]], device='cuda:0', dtype=torch.float64)),\n",
       " (tensor([[0.2073]], device='cuda:0', dtype=torch.float64),\n",
       "  tensor([[0.3333]], device='cuda:0', dtype=torch.float64)),\n",
       " (tensor([[0.2128]], device='cuda:0', dtype=torch.float64),\n",
       "  tensor([[0.5000]], device='cuda:0', dtype=torch.float64)),\n",
       " (tensor([[0.1992]], device='cuda:0', dtype=torch.float64),\n",
       "  tensor([[0.6667]], device='cuda:0', dtype=torch.float64)),\n",
       " (tensor([[0.1907]], device='cuda:0', dtype=torch.float64),\n",
       "  tensor([[0.3333]], device='cuda:0', dtype=torch.float64)),\n",
       " (tensor([[0.1459]], device='cuda:0', dtype=torch.float64),\n",
       "  tensor([[0.3333]], device='cuda:0', dtype=torch.float64)),\n",
       " (tensor([[0.2140]], device='cuda:0', dtype=torch.float64),\n",
       "  tensor([[0.3333]], device='cuda:0', dtype=torch.float64)),\n",
       " (tensor([[0.2130]], device='cuda:0', dtype=torch.float64),\n",
       "  tensor([[0.3333]], device='cuda:0', dtype=torch.float64)),\n",
       " (tensor([[0.2539]], device='cuda:0', dtype=torch.float64),\n",
       "  tensor([[0.3333]], device='cuda:0', dtype=torch.float64)),\n",
       " (tensor([[0.1673]], device='cuda:0', dtype=torch.float64),\n",
       "  tensor([[0.5000]], device='cuda:0', dtype=torch.float64)),\n",
       " (tensor([[0.1559]], device='cuda:0', dtype=torch.float64),\n",
       "  tensor([[0.6667]], device='cuda:0', dtype=torch.float64)),\n",
       " (tensor([[0.2445]], device='cuda:0', dtype=torch.float64),\n",
       "  tensor([[0.6667]], device='cuda:0', dtype=torch.float64)),\n",
       " (tensor([[0.1872]], device='cuda:0', dtype=torch.float64),\n",
       "  tensor([[0.1667]], device='cuda:0', dtype=torch.float64)),\n",
       " (tensor([[0.2481]], device='cuda:0', dtype=torch.float64),\n",
       "  tensor([[0.3333]], device='cuda:0', dtype=torch.float64)),\n",
       " (tensor([[0.1960]], device='cuda:0', dtype=torch.float64),\n",
       "  tensor([[0.5000]], device='cuda:0', dtype=torch.float64)),\n",
       " (tensor([[0.1681]], device='cuda:0', dtype=torch.float64),\n",
       "  tensor([[0.3333]], device='cuda:0', dtype=torch.float64)),\n",
       " (tensor([[0.2364]], device='cuda:0', dtype=torch.float64),\n",
       "  tensor([[0.3333]], device='cuda:0', dtype=torch.float64)),\n",
       " (tensor([[0.1738]], device='cuda:0', dtype=torch.float64),\n",
       "  tensor([[0.5000]], device='cuda:0', dtype=torch.float64)),\n",
       " (tensor([[0.2265]], device='cuda:0', dtype=torch.float64),\n",
       "  tensor([[0.3333]], device='cuda:0', dtype=torch.float64)),\n",
       " (tensor([[0.2007]], device='cuda:0', dtype=torch.float64),\n",
       "  tensor([[0.3333]], device='cuda:0', dtype=torch.float64)),\n",
       " (tensor([[0.2673]], device='cuda:0', dtype=torch.float64),\n",
       "  tensor([[0.3333]], device='cuda:0', dtype=torch.float64)),\n",
       " (tensor([[0.2484]], device='cuda:0', dtype=torch.float64),\n",
       "  tensor([[0.5000]], device='cuda:0', dtype=torch.float64)),\n",
       " (tensor([[0.1982]], device='cuda:0', dtype=torch.float64),\n",
       "  tensor([[0.5000]], device='cuda:0', dtype=torch.float64)),\n",
       " (tensor([[0.1962]], device='cuda:0', dtype=torch.float64),\n",
       "  tensor([[0.5000]], device='cuda:0', dtype=torch.float64)),\n",
       " (tensor([[0.1861]], device='cuda:0', dtype=torch.float64),\n",
       "  tensor([[0.5000]], device='cuda:0', dtype=torch.float64)),\n",
       " (tensor([[0.1926]], device='cuda:0', dtype=torch.float64),\n",
       "  tensor([[0.3333]], device='cuda:0', dtype=torch.float64)),\n",
       " (tensor([[0.2005]], device='cuda:0', dtype=torch.float64),\n",
       "  tensor([[0.6667]], device='cuda:0', dtype=torch.float64)),\n",
       " (tensor([[0.2452]], device='cuda:0', dtype=torch.float64),\n",
       "  tensor([[0.5000]], device='cuda:0', dtype=torch.float64)),\n",
       " (tensor([[0.2337]], device='cuda:0', dtype=torch.float64),\n",
       "  tensor([[0.3333]], device='cuda:0', dtype=torch.float64)),\n",
       " (tensor([[0.2214]], device='cuda:0', dtype=torch.float64),\n",
       "  tensor([[0.3333]], device='cuda:0', dtype=torch.float64)),\n",
       " (tensor([[0.1672]], device='cuda:0', dtype=torch.float64),\n",
       "  tensor([[0.6667]], device='cuda:0', dtype=torch.float64)),\n",
       " (tensor([[0.1498]], device='cuda:0', dtype=torch.float64),\n",
       "  tensor([[0.6667]], device='cuda:0', dtype=torch.float64)),\n",
       " (tensor([[0.1771]], device='cuda:0', dtype=torch.float64),\n",
       "  tensor([[0.3333]], device='cuda:0', dtype=torch.float64)),\n",
       " (tensor([[0.2187]], device='cuda:0', dtype=torch.float64),\n",
       "  tensor([[0.3333]], device='cuda:0', dtype=torch.float64)),\n",
       " (tensor([[0.1927]], device='cuda:0', dtype=torch.float64),\n",
       "  tensor([[0.8333]], device='cuda:0', dtype=torch.float64)),\n",
       " (tensor([[0.1913]], device='cuda:0', dtype=torch.float64),\n",
       "  tensor([[0.5000]], device='cuda:0', dtype=torch.float64)),\n",
       " (tensor([[0.1513]], device='cuda:0', dtype=torch.float64),\n",
       "  tensor([[0.5000]], device='cuda:0', dtype=torch.float64)),\n",
       " (tensor([[0.1817]], device='cuda:0', dtype=torch.float64),\n",
       "  tensor([[0.5000]], device='cuda:0', dtype=torch.float64)),\n",
       " (tensor([[0.2464]], device='cuda:0', dtype=torch.float64),\n",
       "  tensor([[0.3333]], device='cuda:0', dtype=torch.float64)),\n",
       " (tensor([[0.2292]], device='cuda:0', dtype=torch.float64),\n",
       "  tensor([[0.6667]], device='cuda:0', dtype=torch.float64)),\n",
       " (tensor([[0.1990]], device='cuda:0', dtype=torch.float64),\n",
       "  tensor([[0.8333]], device='cuda:0', dtype=torch.float64)),\n",
       " (tensor([[0.1928]], device='cuda:0', dtype=torch.float64),\n",
       "  tensor([[0.5000]], device='cuda:0', dtype=torch.float64)),\n",
       " (tensor([[0.2066]], device='cuda:0', dtype=torch.float64),\n",
       "  tensor([[0.5000]], device='cuda:0', dtype=torch.float64)),\n",
       " (tensor([[0.2463]], device='cuda:0', dtype=torch.float64),\n",
       "  tensor([[0.5000]], device='cuda:0', dtype=torch.float64)),\n",
       " (tensor([[0.1663]], device='cuda:0', dtype=torch.float64),\n",
       "  tensor([[0.6667]], device='cuda:0', dtype=torch.float64)),\n",
       " (tensor([[0.2265]], device='cuda:0', dtype=torch.float64),\n",
       "  tensor([[0.3333]], device='cuda:0', dtype=torch.float64)),\n",
       " (tensor([[0.1703]], device='cuda:0', dtype=torch.float64),\n",
       "  tensor([[0.3333]], device='cuda:0', dtype=torch.float64)),\n",
       " (tensor([[0.1696]], device='cuda:0', dtype=torch.float64),\n",
       "  tensor([[0.5000]], device='cuda:0', dtype=torch.float64)),\n",
       " (tensor([[0.2233]], device='cuda:0', dtype=torch.float64),\n",
       "  tensor([[0.6667]], device='cuda:0', dtype=torch.float64)),\n",
       " (tensor([[0.1776]], device='cuda:0', dtype=torch.float64),\n",
       "  tensor([[0.3333]], device='cuda:0', dtype=torch.float64)),\n",
       " (tensor([[0.2238]], device='cuda:0', dtype=torch.float64),\n",
       "  tensor([[0.3333]], device='cuda:0', dtype=torch.float64)),\n",
       " (tensor([[0.2460]], device='cuda:0', dtype=torch.float64),\n",
       "  tensor([[0.5000]], device='cuda:0', dtype=torch.float64)),\n",
       " (tensor([[0.1904]], device='cuda:0', dtype=torch.float64),\n",
       "  tensor([[0.3333]], device='cuda:0', dtype=torch.float64)),\n",
       " (tensor([[0.2029]], device='cuda:0', dtype=torch.float64),\n",
       "  tensor([[0.3333]], device='cuda:0', dtype=torch.float64)),\n",
       " (tensor([[0.2420]], device='cuda:0', dtype=torch.float64),\n",
       "  tensor([[0.5000]], device='cuda:0', dtype=torch.float64)),\n",
       " (tensor([[0.1966]], device='cuda:0', dtype=torch.float64),\n",
       "  tensor([[0.5000]], device='cuda:0', dtype=torch.float64)),\n",
       " (tensor([[0.1861]], device='cuda:0', dtype=torch.float64),\n",
       "  tensor([[0.5000]], device='cuda:0', dtype=torch.float64)),\n",
       " (tensor([[0.1730]], device='cuda:0', dtype=torch.float64),\n",
       "  tensor([[0.6667]], device='cuda:0', dtype=torch.float64)),\n",
       " (tensor([[0.1913]], device='cuda:0', dtype=torch.float64),\n",
       "  tensor([[0.6667]], device='cuda:0', dtype=torch.float64)),\n",
       " (tensor([[0.2069]], device='cuda:0', dtype=torch.float64),\n",
       "  tensor([[0.3333]], device='cuda:0', dtype=torch.float64)),\n",
       " (tensor([[0.2123]], device='cuda:0', dtype=torch.float64),\n",
       "  tensor([[0.6667]], device='cuda:0', dtype=torch.float64)),\n",
       " (tensor([[0.1294]], device='cuda:0', dtype=torch.float64),\n",
       "  tensor([[0.3333]], device='cuda:0', dtype=torch.float64)),\n",
       " (tensor([[0.2153]], device='cuda:0', dtype=torch.float64),\n",
       "  tensor([[0.1667]], device='cuda:0', dtype=torch.float64)),\n",
       " (tensor([[0.1445]], device='cuda:0', dtype=torch.float64),\n",
       "  tensor([[0.5000]], device='cuda:0', dtype=torch.float64)),\n",
       " (tensor([[0.1894]], device='cuda:0', dtype=torch.float64),\n",
       "  tensor([[0.3333]], device='cuda:0', dtype=torch.float64)),\n",
       " (tensor([[0.2088]], device='cuda:0', dtype=torch.float64),\n",
       "  tensor([[0.3333]], device='cuda:0', dtype=torch.float64)),\n",
       " (tensor([[0.2054]], device='cuda:0', dtype=torch.float64),\n",
       "  tensor([[0.6667]], device='cuda:0', dtype=torch.float64)),\n",
       " (tensor([[0.1730]], device='cuda:0', dtype=torch.float64),\n",
       "  tensor([[0.5000]], device='cuda:0', dtype=torch.float64)),\n",
       " (tensor([[0.1363]], device='cuda:0', dtype=torch.float64),\n",
       "  tensor([[0.3333]], device='cuda:0', dtype=torch.float64)),\n",
       " (tensor([[0.1857]], device='cuda:0', dtype=torch.float64),\n",
       "  tensor([[0.3333]], device='cuda:0', dtype=torch.float64)),\n",
       " (tensor([[0.1806]], device='cuda:0', dtype=torch.float64),\n",
       "  tensor([[0.6667]], device='cuda:0', dtype=torch.float64)),\n",
       " (tensor([[0.2314]], device='cuda:0', dtype=torch.float64),\n",
       "  tensor([[0.5000]], device='cuda:0', dtype=torch.float64)),\n",
       " (tensor([[0.2662]], device='cuda:0', dtype=torch.float64),\n",
       "  tensor([[0.3333]], device='cuda:0', dtype=torch.float64)),\n",
       " (tensor([[0.1888]], device='cuda:0', dtype=torch.float64),\n",
       "  tensor([[0.5000]], device='cuda:0', dtype=torch.float64)),\n",
       " (tensor([[0.1576]], device='cuda:0', dtype=torch.float64),\n",
       "  tensor([[0.5000]], device='cuda:0', dtype=torch.float64)),\n",
       " (tensor([[0.1740]], device='cuda:0', dtype=torch.float64),\n",
       "  tensor([[0.5000]], device='cuda:0', dtype=torch.float64)),\n",
       " (tensor([[0.2081]], device='cuda:0', dtype=torch.float64),\n",
       "  tensor([[0.5000]], device='cuda:0', dtype=torch.float64)),\n",
       " (tensor([[0.1892]], device='cuda:0', dtype=torch.float64),\n",
       "  tensor([[0.6667]], device='cuda:0', dtype=torch.float64)),\n",
       " (tensor([[0.2236]], device='cuda:0', dtype=torch.float64),\n",
       "  tensor([[0.5000]], device='cuda:0', dtype=torch.float64)),\n",
       " (tensor([[0.2047]], device='cuda:0', dtype=torch.float64),\n",
       "  tensor([[0.5000]], device='cuda:0', dtype=torch.float64)),\n",
       " (tensor([[0.2005]], device='cuda:0', dtype=torch.float64),\n",
       "  tensor([[0.6667]], device='cuda:0', dtype=torch.float64)),\n",
       " (tensor([[0.1317]], device='cuda:0', dtype=torch.float64),\n",
       "  tensor([[0.5000]], device='cuda:0', dtype=torch.float64)),\n",
       " (tensor([[0.2043]], device='cuda:0', dtype=torch.float64),\n",
       "  tensor([[0.3333]], device='cuda:0', dtype=torch.float64)),\n",
       " (tensor([[0.2249]], device='cuda:0', dtype=torch.float64),\n",
       "  tensor([[0.3333]], device='cuda:0', dtype=torch.float64)),\n",
       " (tensor([[0.2150]], device='cuda:0', dtype=torch.float64),\n",
       "  tensor([[0.3333]], device='cuda:0', dtype=torch.float64)),\n",
       " (tensor([[0.2131]], device='cuda:0', dtype=torch.float64),\n",
       "  tensor([[0.5000]], device='cuda:0', dtype=torch.float64)),\n",
       " (tensor([[0.1900]], device='cuda:0', dtype=torch.float64),\n",
       "  tensor([[0.5000]], device='cuda:0', dtype=torch.float64)),\n",
       " (tensor([[0.2000]], device='cuda:0', dtype=torch.float64),\n",
       "  tensor([[0.3333]], device='cuda:0', dtype=torch.float64)),\n",
       " (tensor([[0.2366]], device='cuda:0', dtype=torch.float64),\n",
       "  tensor([[0.3333]], device='cuda:0', dtype=torch.float64)),\n",
       " (tensor([[0.2119]], device='cuda:0', dtype=torch.float64),\n",
       "  tensor([[0.3333]], device='cuda:0', dtype=torch.float64)),\n",
       " (tensor([[0.1868]], device='cuda:0', dtype=torch.float64),\n",
       "  tensor([[0.5000]], device='cuda:0', dtype=torch.float64)),\n",
       " (tensor([[0.2450]], device='cuda:0', dtype=torch.float64),\n",
       "  tensor([[0.5000]], device='cuda:0', dtype=torch.float64)),\n",
       " (tensor([[0.2390]], device='cuda:0', dtype=torch.float64),\n",
       "  tensor([[0.6667]], device='cuda:0', dtype=torch.float64)),\n",
       " (tensor([[0.1765]], device='cuda:0', dtype=torch.float64),\n",
       "  tensor([[0.6667]], device='cuda:0', dtype=torch.float64)),\n",
       " (tensor([[0.2023]], device='cuda:0', dtype=torch.float64),\n",
       "  tensor([[0.5000]], device='cuda:0', dtype=torch.float64)),\n",
       " (tensor([[0.2291]], device='cuda:0', dtype=torch.float64),\n",
       "  tensor([[0.6667]], device='cuda:0', dtype=torch.float64)),\n",
       " (tensor([[0.2194]], device='cuda:0', dtype=torch.float64),\n",
       "  tensor([[0.3333]], device='cuda:0', dtype=torch.float64)),\n",
       " (tensor([[0.1633]], device='cuda:0', dtype=torch.float64),\n",
       "  tensor([[0.5000]], device='cuda:0', dtype=torch.float64)),\n",
       " (tensor([[0.2177]], device='cuda:0', dtype=torch.float64),\n",
       "  tensor([[0.5000]], device='cuda:0', dtype=torch.float64)),\n",
       " (tensor([[0.1745]], device='cuda:0', dtype=torch.float64),\n",
       "  tensor([[0.6667]], device='cuda:0', dtype=torch.float64)),\n",
       " (tensor([[0.1404]], device='cuda:0', dtype=torch.float64),\n",
       "  tensor([[0.5000]], device='cuda:0', dtype=torch.float64)),\n",
       " (tensor([[0.2307]], device='cuda:0', dtype=torch.float64),\n",
       "  tensor([[0.3333]], device='cuda:0', dtype=torch.float64)),\n",
       " (tensor([[0.1659]], device='cuda:0', dtype=torch.float64),\n",
       "  tensor([[0.1667]], device='cuda:0', dtype=torch.float64)),\n",
       " (tensor([[0.1305]], device='cuda:0', dtype=torch.float64),\n",
       "  tensor([[0.3333]], device='cuda:0', dtype=torch.float64)),\n",
       " (tensor([[0.1759]], device='cuda:0', dtype=torch.float64),\n",
       "  tensor([[0.3333]], device='cuda:0', dtype=torch.float64)),\n",
       " (tensor([[0.1651]], device='cuda:0', dtype=torch.float64),\n",
       "  tensor([[0.5000]], device='cuda:0', dtype=torch.float64)),\n",
       " (tensor([[0.2296]], device='cuda:0', dtype=torch.float64),\n",
       "  tensor([[0.3333]], device='cuda:0', dtype=torch.float64)),\n",
       " (tensor([[0.1859]], device='cuda:0', dtype=torch.float64),\n",
       "  tensor([[0.6667]], device='cuda:0', dtype=torch.float64)),\n",
       " (tensor([[0.1580]], device='cuda:0', dtype=torch.float64),\n",
       "  tensor([[0.5000]], device='cuda:0', dtype=torch.float64)),\n",
       " (tensor([[0.2468]], device='cuda:0', dtype=torch.float64),\n",
       "  tensor([[0.3333]], device='cuda:0', dtype=torch.float64)),\n",
       " (tensor([[0.1756]], device='cuda:0', dtype=torch.float64),\n",
       "  tensor([[0.5000]], device='cuda:0', dtype=torch.float64)),\n",
       " (tensor([[0.1902]], device='cuda:0', dtype=torch.float64),\n",
       "  tensor([[0.3333]], device='cuda:0', dtype=torch.float64)),\n",
       " (tensor([[0.2126]], device='cuda:0', dtype=torch.float64),\n",
       "  tensor([[0.3333]], device='cuda:0', dtype=torch.float64)),\n",
       " (tensor([[0.1764]], device='cuda:0', dtype=torch.float64),\n",
       "  tensor([[0.3333]], device='cuda:0', dtype=torch.float64)),\n",
       " (tensor([[0.2541]], device='cuda:0', dtype=torch.float64),\n",
       "  tensor([[0.5000]], device='cuda:0', dtype=torch.float64)),\n",
       " (tensor([[0.1990]], device='cuda:0', dtype=torch.float64),\n",
       "  tensor([[0.3333]], device='cuda:0', dtype=torch.float64)),\n",
       " (tensor([[0.2310]], device='cuda:0', dtype=torch.float64),\n",
       "  tensor([[0.5000]], device='cuda:0', dtype=torch.float64)),\n",
       " (tensor([[0.2114]], device='cuda:0', dtype=torch.float64),\n",
       "  tensor([[0.5000]], device='cuda:0', dtype=torch.float64)),\n",
       " (tensor([[0.1861]], device='cuda:0', dtype=torch.float64),\n",
       "  tensor([[0.5000]], device='cuda:0', dtype=torch.float64)),\n",
       " (tensor([[0.2287]], device='cuda:0', dtype=torch.float64),\n",
       "  tensor([[0.3333]], device='cuda:0', dtype=torch.float64)),\n",
       " (tensor([[0.1868]], device='cuda:0', dtype=torch.float64),\n",
       "  tensor([[0.5000]], device='cuda:0', dtype=torch.float64)),\n",
       " (tensor([[0.2284]], device='cuda:0', dtype=torch.float64),\n",
       "  tensor([[0.5000]], device='cuda:0', dtype=torch.float64)),\n",
       " (tensor([[0.1847]], device='cuda:0', dtype=torch.float64),\n",
       "  tensor([[0.5000]], device='cuda:0', dtype=torch.float64)),\n",
       " (tensor([[0.1667]], device='cuda:0', dtype=torch.float64),\n",
       "  tensor([[0.5000]], device='cuda:0', dtype=torch.float64)),\n",
       " (tensor([[0.2082]], device='cuda:0', dtype=torch.float64),\n",
       "  tensor([[0.3333]], device='cuda:0', dtype=torch.float64)),\n",
       " (tensor([[0.2553]], device='cuda:0', dtype=torch.float64),\n",
       "  tensor([[0.5000]], device='cuda:0', dtype=torch.float64)),\n",
       " (tensor([[0.2032]], device='cuda:0', dtype=torch.float64),\n",
       "  tensor([[0.3333]], device='cuda:0', dtype=torch.float64)),\n",
       " (tensor([[0.1322]], device='cuda:0', dtype=torch.float64),\n",
       "  tensor([[0.6667]], device='cuda:0', dtype=torch.float64)),\n",
       " (tensor([[0.2615]], device='cuda:0', dtype=torch.float64),\n",
       "  tensor([[0.3333]], device='cuda:0', dtype=torch.float64)),\n",
       " (tensor([[0.1804]], device='cuda:0', dtype=torch.float64),\n",
       "  tensor([[0.3333]], device='cuda:0', dtype=torch.float64)),\n",
       " (tensor([[0.1765]], device='cuda:0', dtype=torch.float64),\n",
       "  tensor([[0.6667]], device='cuda:0', dtype=torch.float64)),\n",
       " (tensor([[0.2673]], device='cuda:0', dtype=torch.float64),\n",
       "  tensor([[0.3333]], device='cuda:0', dtype=torch.float64)),\n",
       " (tensor([[0.2037]], device='cuda:0', dtype=torch.float64),\n",
       "  tensor([[0.5000]], device='cuda:0', dtype=torch.float64)),\n",
       " (tensor([[0.2000]], device='cuda:0', dtype=torch.float64),\n",
       "  tensor([[0.3333]], device='cuda:0', dtype=torch.float64)),\n",
       " (tensor([[0.2420]], device='cuda:0', dtype=torch.float64),\n",
       "  tensor([[0.5000]], device='cuda:0', dtype=torch.float64)),\n",
       " (tensor([[0.1713]], device='cuda:0', dtype=torch.float64),\n",
       "  tensor([[0.6667]], device='cuda:0', dtype=torch.float64)),\n",
       " (tensor([[0.2252]], device='cuda:0', dtype=torch.float64),\n",
       "  tensor([[0.3333]], device='cuda:0', dtype=torch.float64)),\n",
       " (tensor([[0.1878]], device='cuda:0', dtype=torch.float64),\n",
       "  tensor([[0.5000]], device='cuda:0', dtype=torch.float64)),\n",
       " (tensor([[0.2002]], device='cuda:0', dtype=torch.float64),\n",
       "  tensor([[0.3333]], device='cuda:0', dtype=torch.float64)),\n",
       " (tensor([[0.1532]], device='cuda:0', dtype=torch.float64),\n",
       "  tensor([[0.3333]], device='cuda:0', dtype=torch.float64)),\n",
       " (tensor([[0.2459]], device='cuda:0', dtype=torch.float64),\n",
       "  tensor([[0.3333]], device='cuda:0', dtype=torch.float64)),\n",
       " (tensor([[0.2181]], device='cuda:0', dtype=torch.float64),\n",
       "  tensor([[0.5000]], device='cuda:0', dtype=torch.float64)),\n",
       " (tensor([[0.2644]], device='cuda:0', dtype=torch.float64),\n",
       "  tensor([[0.5000]], device='cuda:0', dtype=torch.float64)),\n",
       " (tensor([[0.2095]], device='cuda:0', dtype=torch.float64),\n",
       "  tensor([[0.3333]], device='cuda:0', dtype=torch.float64)),\n",
       " (tensor([[0.2487]], device='cuda:0', dtype=torch.float64),\n",
       "  tensor([[0.3333]], device='cuda:0', dtype=torch.float64)),\n",
       " (tensor([[0.2285]], device='cuda:0', dtype=torch.float64),\n",
       "  tensor([[0.3333]], device='cuda:0', dtype=torch.float64)),\n",
       " (tensor([[0.1798]], device='cuda:0', dtype=torch.float64),\n",
       "  tensor([[0.5000]], device='cuda:0', dtype=torch.float64)),\n",
       " (tensor([[0.1720]], device='cuda:0', dtype=torch.float64),\n",
       "  tensor([[0.5000]], device='cuda:0', dtype=torch.float64)),\n",
       " (tensor([[0.1939]], device='cuda:0', dtype=torch.float64),\n",
       "  tensor([[0.5000]], device='cuda:0', dtype=torch.float64)),\n",
       " (tensor([[0.2330]], device='cuda:0', dtype=torch.float64),\n",
       "  tensor([[0.3333]], device='cuda:0', dtype=torch.float64)),\n",
       " (tensor([[0.1327]], device='cuda:0', dtype=torch.float64),\n",
       "  tensor([[0.8333]], device='cuda:0', dtype=torch.float64)),\n",
       " (tensor([[0.2185]], device='cuda:0', dtype=torch.float64),\n",
       "  tensor([[0.5000]], device='cuda:0', dtype=torch.float64)),\n",
       " (tensor([[0.2054]], device='cuda:0', dtype=torch.float64),\n",
       "  tensor([[0.3333]], device='cuda:0', dtype=torch.float64)),\n",
       " (tensor([[0.2207]], device='cuda:0', dtype=torch.float64),\n",
       "  tensor([[0.5000]], device='cuda:0', dtype=torch.float64)),\n",
       " (tensor([[0.2086]], device='cuda:0', dtype=torch.float64),\n",
       "  tensor([[0.3333]], device='cuda:0', dtype=torch.float64)),\n",
       " (tensor([[0.1825]], device='cuda:0', dtype=torch.float64),\n",
       "  tensor([[0.8333]], device='cuda:0', dtype=torch.float64)),\n",
       " (tensor([[0.1997]], device='cuda:0', dtype=torch.float64),\n",
       "  tensor([[0.5000]], device='cuda:0', dtype=torch.float64)),\n",
       " (tensor([[0.1722]], device='cuda:0', dtype=torch.float64),\n",
       "  tensor([[0.6667]], device='cuda:0', dtype=torch.float64)),\n",
       " (tensor([[0.1783]], device='cuda:0', dtype=torch.float64),\n",
       "  tensor([[0.3333]], device='cuda:0', dtype=torch.float64)),\n",
       " (tensor([[0.1846]], device='cuda:0', dtype=torch.float64),\n",
       "  tensor([[0.3333]], device='cuda:0', dtype=torch.float64)),\n",
       " (tensor([[0.1690]], device='cuda:0', dtype=torch.float64),\n",
       "  tensor([[0.3333]], device='cuda:0', dtype=torch.float64)),\n",
       " (tensor([[0.1997]], device='cuda:0', dtype=torch.float64),\n",
       "  tensor([[0.3333]], device='cuda:0', dtype=torch.float64)),\n",
       " (tensor([[0.2037]], device='cuda:0', dtype=torch.float64),\n",
       "  tensor([[0.6667]], device='cuda:0', dtype=torch.float64)),\n",
       " (tensor([[0.1826]], device='cuda:0', dtype=torch.float64),\n",
       "  tensor([[0.6667]], device='cuda:0', dtype=torch.float64)),\n",
       " (tensor([[0.2182]], device='cuda:0', dtype=torch.float64),\n",
       "  tensor([[0.5000]], device='cuda:0', dtype=torch.float64)),\n",
       " (tensor([[0.2320]], device='cuda:0', dtype=torch.float64),\n",
       "  tensor([[0.3333]], device='cuda:0', dtype=torch.float64)),\n",
       " (tensor([[0.2506]], device='cuda:0', dtype=torch.float64),\n",
       "  tensor([[0.3333]], device='cuda:0', dtype=torch.float64)),\n",
       " (tensor([[0.2146]], device='cuda:0', dtype=torch.float64),\n",
       "  tensor([[0.5000]], device='cuda:0', dtype=torch.float64)),\n",
       " (tensor([[0.1895]], device='cuda:0', dtype=torch.float64),\n",
       "  tensor([[0.3333]], device='cuda:0', dtype=torch.float64)),\n",
       " (tensor([[0.2114]], device='cuda:0', dtype=torch.float64),\n",
       "  tensor([[0.5000]], device='cuda:0', dtype=torch.float64)),\n",
       " (tensor([[0.2392]], device='cuda:0', dtype=torch.float64),\n",
       "  tensor([[0.5000]], device='cuda:0', dtype=torch.float64)),\n",
       " (tensor([[0.2178]], device='cuda:0', dtype=torch.float64),\n",
       "  tensor([[0.5000]], device='cuda:0', dtype=torch.float64)),\n",
       " (tensor([[0.1715]], device='cuda:0', dtype=torch.float64),\n",
       "  tensor([[0.6667]], device='cuda:0', dtype=torch.float64)),\n",
       " (tensor([[0.2307]], device='cuda:0', dtype=torch.float64),\n",
       "  tensor([[0.5000]], device='cuda:0', dtype=torch.float64)),\n",
       " (tensor([[0.1891]], device='cuda:0', dtype=torch.float64),\n",
       "  tensor([[0.5000]], device='cuda:0', dtype=torch.float64)),\n",
       " (tensor([[0.1581]], device='cuda:0', dtype=torch.float64),\n",
       "  tensor([[0.5000]], device='cuda:0', dtype=torch.float64)),\n",
       " (tensor([[0.1894]], device='cuda:0', dtype=torch.float64),\n",
       "  tensor([[0.5000]], device='cuda:0', dtype=torch.float64)),\n",
       " (tensor([[0.2276]], device='cuda:0', dtype=torch.float64),\n",
       "  tensor([[0.5000]], device='cuda:0', dtype=torch.float64)),\n",
       " (tensor([[0.1553]], device='cuda:0', dtype=torch.float64),\n",
       "  tensor([[0.5000]], device='cuda:0', dtype=torch.float64)),\n",
       " (tensor([[0.1842]], device='cuda:0', dtype=torch.float64),\n",
       "  tensor([[0.6667]], device='cuda:0', dtype=torch.float64)),\n",
       " (tensor([[0.2241]], device='cuda:0', dtype=torch.float64),\n",
       "  tensor([[0.3333]], device='cuda:0', dtype=torch.float64)),\n",
       " (tensor([[0.2089]], device='cuda:0', dtype=torch.float64),\n",
       "  tensor([[0.3333]], device='cuda:0', dtype=torch.float64)),\n",
       " (tensor([[0.2222]], device='cuda:0', dtype=torch.float64),\n",
       "  tensor([[0.6667]], device='cuda:0', dtype=torch.float64)),\n",
       " (tensor([[0.2288]], device='cuda:0', dtype=torch.float64),\n",
       "  tensor([[0.3333]], device='cuda:0', dtype=torch.float64)),\n",
       " (tensor([[0.1906]], device='cuda:0', dtype=torch.float64),\n",
       "  tensor([[0.6667]], device='cuda:0', dtype=torch.float64)),\n",
       " (tensor([[0.2162]], device='cuda:0', dtype=torch.float64),\n",
       "  tensor([[0.3333]], device='cuda:0', dtype=torch.float64)),\n",
       " (tensor([[0.2246]], device='cuda:0', dtype=torch.float64),\n",
       "  tensor([[0.5000]], device='cuda:0', dtype=torch.float64)),\n",
       " (tensor([[0.1613]], device='cuda:0', dtype=torch.float64),\n",
       "  tensor([[0.6667]], device='cuda:0', dtype=torch.float64)),\n",
       " (tensor([[0.2222]], device='cuda:0', dtype=torch.float64),\n",
       "  tensor([[0.5000]], device='cuda:0', dtype=torch.float64)),\n",
       " (tensor([[0.1997]], device='cuda:0', dtype=torch.float64),\n",
       "  tensor([[0.5000]], device='cuda:0', dtype=torch.float64)),\n",
       " (tensor([[0.1663]], device='cuda:0', dtype=torch.float64),\n",
       "  tensor([[0.5000]], device='cuda:0', dtype=torch.float64)),\n",
       " (tensor([[0.1690]], device='cuda:0', dtype=torch.float64),\n",
       "  tensor([[0.5000]], device='cuda:0', dtype=torch.float64)),\n",
       " (tensor([[0.2240]], device='cuda:0', dtype=torch.float64),\n",
       "  tensor([[0.5000]], device='cuda:0', dtype=torch.float64)),\n",
       " (tensor([[0.1938]], device='cuda:0', dtype=torch.float64),\n",
       "  tensor([[0.5000]], device='cuda:0', dtype=torch.float64)),\n",
       " (tensor([[0.1924]], device='cuda:0', dtype=torch.float64),\n",
       "  tensor([[0.3333]], device='cuda:0', dtype=torch.float64)),\n",
       " (tensor([[0.2048]], device='cuda:0', dtype=torch.float64),\n",
       "  tensor([[0.3333]], device='cuda:0', dtype=torch.float64)),\n",
       " (tensor([[0.2022]], device='cuda:0', dtype=torch.float64),\n",
       "  tensor([[0.6667]], device='cuda:0', dtype=torch.float64)),\n",
       " (tensor([[0.2074]], device='cuda:0', dtype=torch.float64),\n",
       "  tensor([[0.3333]], device='cuda:0', dtype=torch.float64)),\n",
       " (tensor([[0.1828]], device='cuda:0', dtype=torch.float64),\n",
       "  tensor([[0.6667]], device='cuda:0', dtype=torch.float64)),\n",
       " (tensor([[0.1315]], device='cuda:0', dtype=torch.float64),\n",
       "  tensor([[0.6667]], device='cuda:0', dtype=torch.float64)),\n",
       " (tensor([[0.2239]], device='cuda:0', dtype=torch.float64),\n",
       "  tensor([[0.5000]], device='cuda:0', dtype=torch.float64)),\n",
       " (tensor([[0.2307]], device='cuda:0', dtype=torch.float64),\n",
       "  tensor([[0.3333]], device='cuda:0', dtype=torch.float64)),\n",
       " (tensor([[0.2025]], device='cuda:0', dtype=torch.float64),\n",
       "  tensor([[0.5000]], device='cuda:0', dtype=torch.float64)),\n",
       " (tensor([[0.2338]], device='cuda:0', dtype=torch.float64),\n",
       "  tensor([[0.5000]], device='cuda:0', dtype=torch.float64)),\n",
       " (tensor([[0.1543]], device='cuda:0', dtype=torch.float64),\n",
       "  tensor([[0.6667]], device='cuda:0', dtype=torch.float64)),\n",
       " (tensor([[0.1781]], device='cuda:0', dtype=torch.float64),\n",
       "  tensor([[0.5000]], device='cuda:0', dtype=torch.float64)),\n",
       " (tensor([[0.2293]], device='cuda:0', dtype=torch.float64),\n",
       "  tensor([[0.5000]], device='cuda:0', dtype=torch.float64)),\n",
       " (tensor([[0.2518]], device='cuda:0', dtype=torch.float64),\n",
       "  tensor([[0.5000]], device='cuda:0', dtype=torch.float64)),\n",
       " (tensor([[0.2248]], device='cuda:0', dtype=torch.float64),\n",
       "  tensor([[0.3333]], device='cuda:0', dtype=torch.float64)),\n",
       " (tensor([[0.1547]], device='cuda:0', dtype=torch.float64),\n",
       "  tensor([[0.3333]], device='cuda:0', dtype=torch.float64)),\n",
       " (tensor([[0.1922]], device='cuda:0', dtype=torch.float64),\n",
       "  tensor([[0.5000]], device='cuda:0', dtype=torch.float64)),\n",
       " (tensor([[0.2582]], device='cuda:0', dtype=torch.float64),\n",
       "  tensor([[0.3333]], device='cuda:0', dtype=torch.float64)),\n",
       " (tensor([[0.1770]], device='cuda:0', dtype=torch.float64),\n",
       "  tensor([[0.5000]], device='cuda:0', dtype=torch.float64)),\n",
       " (tensor([[0.1627]], device='cuda:0', dtype=torch.float64),\n",
       "  tensor([[0.5000]], device='cuda:0', dtype=torch.float64)),\n",
       " (tensor([[0.1803]], device='cuda:0', dtype=torch.float64),\n",
       "  tensor([[0.1667]], device='cuda:0', dtype=torch.float64)),\n",
       " (tensor([[0.2418]], device='cuda:0', dtype=torch.float64),\n",
       "  tensor([[0.3333]], device='cuda:0', dtype=torch.float64)),\n",
       " (tensor([[0.2160]], device='cuda:0', dtype=torch.float64),\n",
       "  tensor([[0.5000]], device='cuda:0', dtype=torch.float64)),\n",
       " (tensor([[0.2412]], device='cuda:0', dtype=torch.float64),\n",
       "  tensor([[0.3333]], device='cuda:0', dtype=torch.float64)),\n",
       " (tensor([[0.2226]], device='cuda:0', dtype=torch.float64),\n",
       "  tensor([[0.5000]], device='cuda:0', dtype=torch.float64)),\n",
       " (tensor([[0.1827]], device='cuda:0', dtype=torch.float64),\n",
       "  tensor([[0.5000]], device='cuda:0', dtype=torch.float64)),\n",
       " (tensor([[0.1803]], device='cuda:0', dtype=torch.float64),\n",
       "  tensor([[0.6667]], device='cuda:0', dtype=torch.float64)),\n",
       " (tensor([[0.1906]], device='cuda:0', dtype=torch.float64),\n",
       "  tensor([[0.1667]], device='cuda:0', dtype=torch.float64)),\n",
       " (tensor([[0.2056]], device='cuda:0', dtype=torch.float64),\n",
       "  tensor([[0.3333]], device='cuda:0', dtype=torch.float64)),\n",
       " (tensor([[0.2098]], device='cuda:0', dtype=torch.float64),\n",
       "  tensor([[0.3333]], device='cuda:0', dtype=torch.float64)),\n",
       " (tensor([[0.2376]], device='cuda:0', dtype=torch.float64),\n",
       "  tensor([[0.3333]], device='cuda:0', dtype=torch.float64)),\n",
       " (tensor([[0.2335]], device='cuda:0', dtype=torch.float64),\n",
       "  tensor([[0.6667]], device='cuda:0', dtype=torch.float64)),\n",
       " (tensor([[0.1622]], device='cuda:0', dtype=torch.float64),\n",
       "  tensor([[0.5000]], device='cuda:0', dtype=torch.float64)),\n",
       " (tensor([[0.2079]], device='cuda:0', dtype=torch.float64),\n",
       "  tensor([[0.8333]], device='cuda:0', dtype=torch.float64)),\n",
       " (tensor([[0.1899]], device='cuda:0', dtype=torch.float64),\n",
       "  tensor([[0.6667]], device='cuda:0', dtype=torch.float64)),\n",
       " (tensor([[0.2099]], device='cuda:0', dtype=torch.float64),\n",
       "  tensor([[0.5000]], device='cuda:0', dtype=torch.float64)),\n",
       " (tensor([[0.2483]], device='cuda:0', dtype=torch.float64),\n",
       "  tensor([[0.3333]], device='cuda:0', dtype=torch.float64)),\n",
       " (tensor([[0.1923]], device='cuda:0', dtype=torch.float64),\n",
       "  tensor([[0.5000]], device='cuda:0', dtype=torch.float64)),\n",
       " (tensor([[0.1439]], device='cuda:0', dtype=torch.float64),\n",
       "  tensor([[0.6667]], device='cuda:0', dtype=torch.float64)),\n",
       " (tensor([[0.1985]], device='cuda:0', dtype=torch.float64),\n",
       "  tensor([[0.6667]], device='cuda:0', dtype=torch.float64)),\n",
       " (tensor([[0.2444]], device='cuda:0', dtype=torch.float64),\n",
       "  tensor([[0.5000]], device='cuda:0', dtype=torch.float64)),\n",
       " (tensor([[0.1937]], device='cuda:0', dtype=torch.float64),\n",
       "  tensor([[0.3333]], device='cuda:0', dtype=torch.float64)),\n",
       " (tensor([[0.1920]], device='cuda:0', dtype=torch.float64),\n",
       "  tensor([[1.]], device='cuda:0', dtype=torch.float64)),\n",
       " (tensor([[0.2444]], device='cuda:0', dtype=torch.float64),\n",
       "  tensor([[0.5000]], device='cuda:0', dtype=torch.float64)),\n",
       " (tensor([[0.1721]], device='cuda:0', dtype=torch.float64),\n",
       "  tensor([[0.6667]], device='cuda:0', dtype=torch.float64)),\n",
       " (tensor([[0.2230]], device='cuda:0', dtype=torch.float64),\n",
       "  tensor([[0.6667]], device='cuda:0', dtype=torch.float64)),\n",
       " (tensor([[0.2046]], device='cuda:0', dtype=torch.float64),\n",
       "  tensor([[0.5000]], device='cuda:0', dtype=torch.float64)),\n",
       " (tensor([[0.1987]], device='cuda:0', dtype=torch.float64),\n",
       "  tensor([[0.5000]], device='cuda:0', dtype=torch.float64)),\n",
       " (tensor([[0.2222]], device='cuda:0', dtype=torch.float64),\n",
       "  tensor([[0.5000]], device='cuda:0', dtype=torch.float64)),\n",
       " (tensor([[0.1734]], device='cuda:0', dtype=torch.float64),\n",
       "  tensor([[0.3333]], device='cuda:0', dtype=torch.float64)),\n",
       " (tensor([[0.1927]], device='cuda:0', dtype=torch.float64),\n",
       "  tensor([[0.8333]], device='cuda:0', dtype=torch.float64)),\n",
       " (tensor([[0.2133]], device='cuda:0', dtype=torch.float64),\n",
       "  tensor([[0.5000]], device='cuda:0', dtype=torch.float64)),\n",
       " (tensor([[0.1665]], device='cuda:0', dtype=torch.float64),\n",
       "  tensor([[0.6667]], device='cuda:0', dtype=torch.float64)),\n",
       " (tensor([[0.2010]], device='cuda:0', dtype=torch.float64),\n",
       "  tensor([[0.6667]], device='cuda:0', dtype=torch.float64)),\n",
       " (tensor([[0.1347]], device='cuda:0', dtype=torch.float64),\n",
       "  tensor([[0.5000]], device='cuda:0', dtype=torch.float64)),\n",
       " (tensor([[0.2096]], device='cuda:0', dtype=torch.float64),\n",
       "  tensor([[0.5000]], device='cuda:0', dtype=torch.float64)),\n",
       " (tensor([[0.2316]], device='cuda:0', dtype=torch.float64),\n",
       "  tensor([[0.3333]], device='cuda:0', dtype=torch.float64)),\n",
       " (tensor([[0.2039]], device='cuda:0', dtype=torch.float64),\n",
       "  tensor([[0.5000]], device='cuda:0', dtype=torch.float64)),\n",
       " (tensor([[0.2244]], device='cuda:0', dtype=torch.float64),\n",
       "  tensor([[0.3333]], device='cuda:0', dtype=torch.float64)),\n",
       " (tensor([[0.1912]], device='cuda:0', dtype=torch.float64),\n",
       "  tensor([[0.6667]], device='cuda:0', dtype=torch.float64)),\n",
       " (tensor([[0.2187]], device='cuda:0', dtype=torch.float64),\n",
       "  tensor([[0.3333]], device='cuda:0', dtype=torch.float64)),\n",
       " (tensor([[0.1471]], device='cuda:0', dtype=torch.float64),\n",
       "  tensor([[0.5000]], device='cuda:0', dtype=torch.float64)),\n",
       " (tensor([[0.2535]], device='cuda:0', dtype=torch.float64),\n",
       "  tensor([[0.3333]], device='cuda:0', dtype=torch.float64)),\n",
       " (tensor([[0.2263]], device='cuda:0', dtype=torch.float64),\n",
       "  tensor([[0.5000]], device='cuda:0', dtype=torch.float64)),\n",
       " (tensor([[0.2763]], device='cuda:0', dtype=torch.float64),\n",
       "  tensor([[0.5000]], device='cuda:0', dtype=torch.float64)),\n",
       " (tensor([[0.2177]], device='cuda:0', dtype=torch.float64),\n",
       "  tensor([[0.3333]], device='cuda:0', dtype=torch.float64)),\n",
       " (tensor([[0.2458]], device='cuda:0', dtype=torch.float64),\n",
       "  tensor([[0.5000]], device='cuda:0', dtype=torch.float64)),\n",
       " (tensor([[0.2098]], device='cuda:0', dtype=torch.float64),\n",
       "  tensor([[0.6667]], device='cuda:0', dtype=torch.float64)),\n",
       " (tensor([[0.2496]], device='cuda:0', dtype=torch.float64),\n",
       "  tensor([[0.3333]], device='cuda:0', dtype=torch.float64)),\n",
       " (tensor([[0.2418]], device='cuda:0', dtype=torch.float64),\n",
       "  tensor([[0.3333]], device='cuda:0', dtype=torch.float64)),\n",
       " (tensor([[0.1777]], device='cuda:0', dtype=torch.float64),\n",
       "  tensor([[0.5000]], device='cuda:0', dtype=torch.float64)),\n",
       " (tensor([[0.1741]], device='cuda:0', dtype=torch.float64),\n",
       "  tensor([[0.3333]], device='cuda:0', dtype=torch.float64)),\n",
       " (tensor([[0.1823]], device='cuda:0', dtype=torch.float64),\n",
       "  tensor([[0.5000]], device='cuda:0', dtype=torch.float64)),\n",
       " (tensor([[0.1414]], device='cuda:0', dtype=torch.float64),\n",
       "  tensor([[0.6667]], device='cuda:0', dtype=torch.float64)),\n",
       " (tensor([[0.1928]], device='cuda:0', dtype=torch.float64),\n",
       "  tensor([[0.6667]], device='cuda:0', dtype=torch.float64)),\n",
       " (tensor([[0.1761]], device='cuda:0', dtype=torch.float64),\n",
       "  tensor([[0.3333]], device='cuda:0', dtype=torch.float64)),\n",
       " (tensor([[0.1806]], device='cuda:0', dtype=torch.float64),\n",
       "  tensor([[0.8333]], device='cuda:0', dtype=torch.float64)),\n",
       " (tensor([[0.2720]], device='cuda:0', dtype=torch.float64),\n",
       "  tensor([[0.6667]], device='cuda:0', dtype=torch.float64)),\n",
       " (tensor([[0.2307]], device='cuda:0', dtype=torch.float64),\n",
       "  tensor([[0.5000]], device='cuda:0', dtype=torch.float64)),\n",
       " (tensor([[0.1836]], device='cuda:0', dtype=torch.float64),\n",
       "  tensor([[0.5000]], device='cuda:0', dtype=torch.float64)),\n",
       " (tensor([[0.2188]], device='cuda:0', dtype=torch.float64),\n",
       "  tensor([[0.6667]], device='cuda:0', dtype=torch.float64)),\n",
       " (tensor([[0.1899]], device='cuda:0', dtype=torch.float64),\n",
       "  tensor([[0.6667]], device='cuda:0', dtype=torch.float64)),\n",
       " (tensor([[0.2003]], device='cuda:0', dtype=torch.float64),\n",
       "  tensor([[0.5000]], device='cuda:0', dtype=torch.float64)),\n",
       " (tensor([[0.1988]], device='cuda:0', dtype=torch.float64),\n",
       "  tensor([[0.3333]], device='cuda:0', dtype=torch.float64)),\n",
       " (tensor([[0.1912]], device='cuda:0', dtype=torch.float64),\n",
       "  tensor([[0.5000]], device='cuda:0', dtype=torch.float64)),\n",
       " (tensor([[0.2514]], device='cuda:0', dtype=torch.float64),\n",
       "  tensor([[0.3333]], device='cuda:0', dtype=torch.float64)),\n",
       " (tensor([[0.2100]], device='cuda:0', dtype=torch.float64),\n",
       "  tensor([[0.5000]], device='cuda:0', dtype=torch.float64)),\n",
       " (tensor([[0.1639]], device='cuda:0', dtype=torch.float64),\n",
       "  tensor([[0.5000]], device='cuda:0', dtype=torch.float64)),\n",
       " (tensor([[0.1846]], device='cuda:0', dtype=torch.float64),\n",
       "  tensor([[0.3333]], device='cuda:0', dtype=torch.float64)),\n",
       " (tensor([[0.2346]], device='cuda:0', dtype=torch.float64),\n",
       "  tensor([[0.5000]], device='cuda:0', dtype=torch.float64)),\n",
       " (tensor([[0.1706]], device='cuda:0', dtype=torch.float64),\n",
       "  tensor([[0.6667]], device='cuda:0', dtype=torch.float64)),\n",
       " (tensor([[0.2210]], device='cuda:0', dtype=torch.float64),\n",
       "  tensor([[0.5000]], device='cuda:0', dtype=torch.float64)),\n",
       " (tensor([[0.1314]], device='cuda:0', dtype=torch.float64),\n",
       "  tensor([[0.5000]], device='cuda:0', dtype=torch.float64)),\n",
       " (tensor([[0.1322]], device='cuda:0', dtype=torch.float64),\n",
       "  tensor([[0.6667]], device='cuda:0', dtype=torch.float64)),\n",
       " (tensor([[0.2072]], device='cuda:0', dtype=torch.float64),\n",
       "  tensor([[0.3333]], device='cuda:0', dtype=torch.float64)),\n",
       " (tensor([[0.1421]], device='cuda:0', dtype=torch.float64),\n",
       "  tensor([[0.5000]], device='cuda:0', dtype=torch.float64)),\n",
       " (tensor([[0.1817]], device='cuda:0', dtype=torch.float64),\n",
       "  tensor([[0.5000]], device='cuda:0', dtype=torch.float64)),\n",
       " (tensor([[0.1926]], device='cuda:0', dtype=torch.float64),\n",
       "  tensor([[0.3333]], device='cuda:0', dtype=torch.float64)),\n",
       " (tensor([[0.1822]], device='cuda:0', dtype=torch.float64),\n",
       "  tensor([[0.5000]], device='cuda:0', dtype=torch.float64)),\n",
       " (tensor([[0.1958]], device='cuda:0', dtype=torch.float64),\n",
       "  tensor([[0.3333]], device='cuda:0', dtype=torch.float64)),\n",
       " (tensor([[0.1800]], device='cuda:0', dtype=torch.float64),\n",
       "  tensor([[0.6667]], device='cuda:0', dtype=torch.float64)),\n",
       " (tensor([[0.1474]], device='cuda:0', dtype=torch.float64),\n",
       "  tensor([[0.3333]], device='cuda:0', dtype=torch.float64)),\n",
       " (tensor([[0.2224]], device='cuda:0', dtype=torch.float64),\n",
       "  tensor([[0.5000]], device='cuda:0', dtype=torch.float64)),\n",
       " ...]"
      ]
     },
     "execution_count": 40,
     "metadata": {},
     "output_type": "execute_result"
    }
   ],
   "execution_count": 40
  },
  {
   "metadata": {
    "ExecuteTime": {
     "end_time": "2024-06-12T22:38:26.479112Z",
     "start_time": "2024-06-12T22:38:26.454014Z"
    }
   },
   "cell_type": "code",
   "source": "torch.save(torch.tensor(losses[1]), 'results/Adagrad_P0.pt')",
   "id": "291b62ca3c4ead89",
   "outputs": [],
   "execution_count": 28
  },
  {
   "metadata": {},
   "cell_type": "markdown",
   "source": "P1",
   "id": "68dd7ea0fcbba6cc"
  },
  {
   "metadata": {
    "ExecuteTime": {
     "end_time": "2024-06-12T21:15:36.458020Z",
     "start_time": "2024-06-12T21:15:36.420977Z"
    }
   },
   "cell_type": "code",
   "source": [
    "transform = transforms.Compose(\n",
    "    [transforms.ToTensor(),\n",
    "    transforms.Normalize((0.5,), (0.5,))])"
   ],
   "id": "f44eb1b21ae2d9e1",
   "outputs": [],
   "execution_count": 40
  },
  {
   "metadata": {
    "ExecuteTime": {
     "end_time": "2024-06-12T21:15:37.216958Z",
     "start_time": "2024-06-12T21:15:37.050250Z"
    }
   },
   "cell_type": "code",
   "source": [
    "training_set = torchvision.datasets.FashionMNIST('./data', train=True, transform=transform, download=True)\n",
    "validation_set = torchvision.datasets.FashionMNIST('./data', train=False, transform=transform, download=True)"
   ],
   "id": "c3df4545dfa06b83",
   "outputs": [],
   "execution_count": 41
  },
  {
   "metadata": {
    "ExecuteTime": {
     "end_time": "2024-06-12T21:15:37.991523Z",
     "start_time": "2024-06-12T21:15:37.971487Z"
    }
   },
   "cell_type": "code",
   "source": [
    "training_loader = torch.utils.data.DataLoader(training_set, batch_size=128, shuffle=True)\n",
    "validation_loader = torch.utils.data.DataLoader(validation_set, batch_size=128, shuffle=False)"
   ],
   "id": "28deecb2ae3012b2",
   "outputs": [],
   "execution_count": 42
  },
  {
   "metadata": {
    "ExecuteTime": {
     "end_time": "2024-06-12T21:15:39.308237Z",
     "start_time": "2024-06-12T21:15:39.131731Z"
    }
   },
   "cell_type": "code",
   "source": "model = models.CNN_Simple()",
   "id": "60a217936eac3868",
   "outputs": [],
   "execution_count": 43
  },
  {
   "metadata": {
    "ExecuteTime": {
     "end_time": "2024-06-12T21:15:40.316092Z",
     "start_time": "2024-06-12T21:15:40.269469Z"
    }
   },
   "cell_type": "code",
   "source": "torch.save(model.state_dict(), 'models/CNN_Simple.pt')",
   "id": "6f9539b7a48c13fa",
   "outputs": [],
   "execution_count": 44
  },
  {
   "metadata": {
    "ExecuteTime": {
     "end_time": "2024-06-12T21:15:41.635125Z",
     "start_time": "2024-06-12T21:15:41.612588Z"
    }
   },
   "cell_type": "code",
   "source": "loss_fn = torch.nn.CrossEntropyLoss()",
   "id": "f83fbeefc2e735a5",
   "outputs": [],
   "execution_count": 45
  },
  {
   "metadata": {},
   "cell_type": "markdown",
   "source": "start again here if evaluating for multiple optimizers",
   "id": "2ab9b2314b191670"
  },
  {
   "metadata": {
    "ExecuteTime": {
     "end_time": "2024-06-12T21:15:43.530625Z",
     "start_time": "2024-06-12T21:15:43.471791Z"
    }
   },
   "cell_type": "code",
   "source": "model.load_state_dict(torch.load('models/CNN_Simple.pt'))",
   "id": "71c1be6a35caa3d6",
   "outputs": [
    {
     "data": {
      "text/plain": [
       "<All keys matched successfully>"
      ]
     },
     "execution_count": 46,
     "metadata": {},
     "output_type": "execute_result"
    }
   ],
   "execution_count": 46
  },
  {
   "metadata": {
    "ExecuteTime": {
     "end_time": "2024-06-12T21:15:44.156383Z",
     "start_time": "2024-06-12T21:15:44.122314Z"
    }
   },
   "cell_type": "code",
   "source": "optimizer = torch.optim.RMSprop(model.parameters())",
   "id": "5287ad8967603124",
   "outputs": [],
   "execution_count": 47
  },
  {
   "metadata": {
    "ExecuteTime": {
     "end_time": "2024-06-12T21:15:45.763110Z",
     "start_time": "2024-06-12T21:15:44.775226Z"
    }
   },
   "cell_type": "code",
   "source": "manager = train_manager(model, loss_fn, optimizer,training_loader,validation_loader,device=device)",
   "id": "11176b7ef380f1bb",
   "outputs": [],
   "execution_count": 48
  },
  {
   "metadata": {
    "ExecuteTime": {
     "end_time": "2024-06-12T21:26:23.127415Z",
     "start_time": "2024-06-12T21:15:46.274385Z"
    }
   },
   "cell_type": "code",
   "source": "losses = manager.train(20, verbose=True, eval_all_epochs=True, eval_mode='accuracy')",
   "id": "c26dba082a5498c7",
   "outputs": [
    {
     "name": "stderr",
     "output_type": "stream",
     "text": [
      "C:\\Users\\talf1\\anaconda3\\envs\\Opti_ML_Project\\lib\\site-packages\\torch\\autograd\\graph.py:744: UserWarning: Plan failed with a cudnnException: CUDNN_BACKEND_EXECUTION_PLAN_DESCRIPTOR: cudnnFinalize Descriptor Failed cudnn_status: CUDNN_STATUS_NOT_SUPPORTED (Triggered internally at ..\\aten\\src\\ATen\\native\\cudnn\\Conv_v8.cpp:919.)\n",
      "  return Variable._execution_engine.run_backward(  # Calls into the C++ engine to run the backward pass\n"
     ]
    },
    {
     "name": "stdout",
     "output_type": "stream",
     "text": [
      "epoch0: train_loss: 1.1561\n",
      "eval_loss: 0.7774\n",
      "epoch1: train_loss: 0.5578\n",
      "eval_loss: 0.7893\n",
      "epoch2: train_loss: 0.4751\n",
      "eval_loss: 0.8360\n",
      "epoch3: train_loss: 0.4355\n",
      "eval_loss: 0.8465\n",
      "epoch4: train_loss: 0.4009\n",
      "eval_loss: 0.8421\n",
      "epoch5: train_loss: 0.3849\n",
      "eval_loss: 0.7981\n",
      "epoch6: train_loss: 0.3771\n",
      "eval_loss: 0.8542\n",
      "epoch7: train_loss: 0.3633\n",
      "eval_loss: 0.8564\n",
      "epoch8: train_loss: 0.3545\n",
      "eval_loss: 0.8640\n",
      "epoch9: train_loss: 0.3481\n",
      "eval_loss: 0.8664\n",
      "epoch10: train_loss: 0.3402\n",
      "eval_loss: 0.8668\n",
      "epoch11: train_loss: 0.3391\n",
      "eval_loss: 0.8480\n",
      "epoch12: train_loss: 0.3344\n",
      "eval_loss: 0.8649\n",
      "epoch13: train_loss: 0.3317\n",
      "eval_loss: 0.8620\n",
      "epoch14: train_loss: 0.3271\n",
      "eval_loss: 0.8716\n",
      "epoch15: train_loss: 0.3265\n",
      "eval_loss: 0.8585\n",
      "epoch16: train_loss: 0.3303\n",
      "eval_loss: 0.8709\n",
      "epoch17: train_loss: 0.3169\n",
      "eval_loss: 0.8615\n",
      "epoch18: train_loss: 0.3186\n",
      "eval_loss: 0.8578\n",
      "epoch19: train_loss: 0.3149\n",
      "eval_loss: 0.8617\n"
     ]
    }
   ],
   "execution_count": 49
  },
  {
   "metadata": {
    "ExecuteTime": {
     "end_time": "2024-06-09T00:03:01.177368Z",
     "start_time": "2024-06-09T00:03:01.164619Z"
    }
   },
   "cell_type": "code",
   "source": "print(torch.max(torch.tensor(losses[1])))",
   "id": "c4a55cc05a2ff9b6",
   "outputs": [
    {
     "name": "stdout",
     "output_type": "stream",
     "text": [
      "tensor(0.8732)\n"
     ]
    }
   ],
   "execution_count": 66
  },
  {
   "metadata": {
    "ExecuteTime": {
     "end_time": "2024-06-09T00:03:01.192433Z",
     "start_time": "2024-06-09T00:03:01.179365Z"
    }
   },
   "cell_type": "code",
   "source": "torch.save(torch.tensor(losses[1]), 'results/RMSprop_P1.pt')",
   "id": "9ff87113d6ddc740",
   "outputs": [],
   "execution_count": 67
  },
  {
   "metadata": {},
   "cell_type": "markdown",
   "source": "P2",
   "id": "8764e0725ab98a10"
  },
  {
   "metadata": {
    "ExecuteTime": {
     "end_time": "2024-06-12T18:05:41.286442Z",
     "start_time": "2024-06-12T18:05:41.281913Z"
    }
   },
   "cell_type": "code",
   "source": [
    "transform = transforms.Compose(\n",
    "    [transforms.ToTensor()])"
   ],
   "id": "17e118c47c2250e5",
   "outputs": [],
   "execution_count": 8
  },
  {
   "metadata": {
    "ExecuteTime": {
     "end_time": "2024-06-12T18:05:42.506650Z",
     "start_time": "2024-06-12T18:05:42.365629Z"
    }
   },
   "cell_type": "code",
   "source": [
    "training_set = torchvision.datasets.MNIST('./data', train=True, transform=transform, download=True)\n",
    "validation_set = torchvision.datasets.MNIST('./data', train=False, transform=transform, download=True)"
   ],
   "id": "7a571291cfc76883",
   "outputs": [],
   "execution_count": 9
  },
  {
   "metadata": {
    "ExecuteTime": {
     "end_time": "2024-06-12T18:05:44.013219Z",
     "start_time": "2024-06-12T18:05:44.000137Z"
    }
   },
   "cell_type": "code",
   "source": [
    "training_loader = torch.utils.data.DataLoader(training_set, batch_size=64, shuffle=True)\n",
    "validation_loader = torch.utils.data.DataLoader(validation_set, batch_size=64, shuffle=False)"
   ],
   "id": "aa8a106a6551bcc6",
   "outputs": [],
   "execution_count": 10
  },
  {
   "metadata": {
    "ExecuteTime": {
     "end_time": "2024-06-12T18:05:46.964303Z",
     "start_time": "2024-06-12T18:05:46.945585Z"
    }
   },
   "cell_type": "code",
   "source": "model = models.VAE()",
   "id": "730af9e89ea02787",
   "outputs": [],
   "execution_count": 11
  },
  {
   "metadata": {
    "ExecuteTime": {
     "end_time": "2024-06-12T18:05:48.728589Z",
     "start_time": "2024-06-12T18:05:48.709016Z"
    }
   },
   "cell_type": "code",
   "source": "torch.save(model.state_dict(), 'models/VAE.pt')",
   "id": "99f394918d636f5d",
   "outputs": [],
   "execution_count": 12
  },
  {
   "metadata": {
    "ExecuteTime": {
     "end_time": "2024-06-12T18:05:50.092219Z",
     "start_time": "2024-06-12T18:05:50.083221Z"
    }
   },
   "cell_type": "code",
   "source": [
    "class VAE_loss(torch.nn.Module):\n",
    "    def __init__(self):\n",
    "        super(VAE_loss, self).__init__()\n",
    "        self.loss_fn = torch.nn.CrossEntropyLoss()\n",
    "    def forward(self, preds, labels):\n",
    "        x, mean, logvar = preds\n",
    "        reproduction_loss = self.loss_fn(x, labels)\n",
    "        # KLD = -0.5 * torch.sum(1 + logvar - mean**2 - logvar.exp())\n",
    "        # (reproduction_loss + KLD) / len(labels)\n",
    "        return reproduction_loss"
   ],
   "id": "32966c043fd91080",
   "outputs": [],
   "execution_count": 13
  },
  {
   "metadata": {
    "ExecuteTime": {
     "end_time": "2024-06-12T18:05:51.621959Z",
     "start_time": "2024-06-12T18:05:51.615957Z"
    }
   },
   "cell_type": "code",
   "source": "loss_fn = VAE_loss()",
   "id": "48948193d70a16bc",
   "outputs": [],
   "execution_count": 14
  },
  {
   "metadata": {},
   "cell_type": "markdown",
   "source": "restart here for a different optimizer",
   "id": "e9baac0f4fdb967d"
  },
  {
   "metadata": {
    "ExecuteTime": {
     "end_time": "2024-06-12T18:14:30.184326Z",
     "start_time": "2024-06-12T18:14:28.953915Z"
    }
   },
   "cell_type": "code",
   "source": "model.load_state_dict(torch.load('models/VAE.pt'))",
   "id": "b2b42e1318da1172",
   "outputs": [
    {
     "data": {
      "text/plain": [
       "<All keys matched successfully>"
      ]
     },
     "execution_count": 22,
     "metadata": {},
     "output_type": "execute_result"
    }
   ],
   "execution_count": 22
  },
  {
   "metadata": {
    "ExecuteTime": {
     "end_time": "2024-06-12T18:14:36.800632Z",
     "start_time": "2024-06-12T18:14:36.776030Z"
    }
   },
   "cell_type": "code",
   "source": "optimizer = torch.optim.Adadelta(model.parameters())",
   "id": "94d63e8ba75173fb",
   "outputs": [],
   "execution_count": 23
  },
  {
   "metadata": {
    "ExecuteTime": {
     "end_time": "2024-06-12T18:14:38.133841Z",
     "start_time": "2024-06-12T18:14:38.111511Z"
    }
   },
   "cell_type": "code",
   "source": "manager = train_manager(model, loss_fn, optimizer,training_loader,validation_loader,device=device)",
   "id": "b8e1f82aea28542c",
   "outputs": [],
   "execution_count": 24
  },
  {
   "metadata": {
    "ExecuteTime": {
     "end_time": "2024-06-12T18:22:23.010445Z",
     "start_time": "2024-06-12T18:14:41.065504Z"
    }
   },
   "cell_type": "code",
   "source": "losses = manager.train(20, verbose=True, eval_all_epochs=True, eval_mode='loss')",
   "id": "66f61b24e1a622f7",
   "outputs": [
    {
     "name": "stdout",
     "output_type": "stream",
     "text": [
      "epoch0: train_loss: 5.7037\n",
      "eval_loss: 5.6861\n",
      "epoch1: train_loss: 5.6861\n",
      "eval_loss: 5.6861\n",
      "epoch2: train_loss: 5.6861\n",
      "eval_loss: 5.6861\n",
      "epoch3: train_loss: 5.6861\n",
      "eval_loss: 5.6861\n",
      "epoch4: train_loss: 5.6861\n",
      "eval_loss: 5.6861\n",
      "epoch5: train_loss: 5.6861\n",
      "eval_loss: 5.6861\n",
      "epoch6: train_loss: 5.6861\n",
      "eval_loss: 5.6861\n",
      "epoch7: train_loss: 5.6861\n",
      "eval_loss: 5.6861\n",
      "epoch8: train_loss: 5.6861\n",
      "eval_loss: 5.6861\n",
      "epoch9: train_loss: 5.6861\n",
      "eval_loss: 5.6861\n",
      "epoch10: train_loss: 5.6861\n",
      "eval_loss: 5.6861\n",
      "epoch11: train_loss: 5.6861\n",
      "eval_loss: 5.6861\n",
      "epoch12: train_loss: 5.6861\n",
      "eval_loss: 5.6861\n",
      "epoch13: train_loss: 5.6861\n",
      "eval_loss: 5.6861\n",
      "epoch14: train_loss: 5.6861\n",
      "eval_loss: 5.6861\n",
      "epoch15: train_loss: 5.6861\n",
      "eval_loss: 5.6861\n",
      "epoch16: train_loss: 5.6861\n",
      "eval_loss: 5.6861\n",
      "epoch17: train_loss: 5.6861\n",
      "eval_loss: 5.6861\n",
      "epoch18: train_loss: 5.6861\n",
      "eval_loss: 5.6861\n",
      "epoch19: train_loss: 5.6861\n",
      "eval_loss: 5.6861\n"
     ]
    }
   ],
   "execution_count": 25
  },
  {
   "metadata": {
    "ExecuteTime": {
     "end_time": "2024-06-12T18:22:23.033494Z",
     "start_time": "2024-06-12T18:22:23.015443Z"
    }
   },
   "cell_type": "code",
   "source": "print(torch.tensor(losses[1]))",
   "id": "159b6815fc719d3e",
   "outputs": [
    {
     "name": "stdout",
     "output_type": "stream",
     "text": [
      "tensor([5.6861, 5.6861, 5.6861, 5.6861, 5.6861, 5.6861, 5.6861, 5.6861, 5.6861,\n",
      "        5.6861, 5.6861, 5.6861, 5.6861, 5.6861, 5.6861, 5.6861, 5.6861, 5.6861,\n",
      "        5.6861, 5.6861])\n"
     ]
    }
   ],
   "execution_count": 26
  },
  {
   "metadata": {
    "ExecuteTime": {
     "end_time": "2024-06-12T18:22:23.055539Z",
     "start_time": "2024-06-12T18:22:23.036004Z"
    }
   },
   "cell_type": "code",
   "source": "print(torch.load('results/AdaDelta_P2.pt'))",
   "id": "30b790d11af136a2",
   "outputs": [
    {
     "name": "stdout",
     "output_type": "stream",
     "text": [
      "tensor([5.6861, 5.6861, 5.6861, 5.6861, 5.6861, 5.6861, 5.6861, 5.6861, 5.6861,\n",
      "        5.6861, 5.6861, 5.6861, 5.6861, 5.6861, 5.6861, 5.6861, 5.6861, 5.6861,\n",
      "        5.6861, 5.6861])\n"
     ]
    }
   ],
   "execution_count": 27
  },
  {
   "metadata": {
    "ExecuteTime": {
     "end_time": "2024-06-09T15:18:10.437164Z",
     "start_time": "2024-06-09T15:18:10.424579Z"
    }
   },
   "cell_type": "code",
   "source": "print(torch.min(torch.tensor(losses[1])))",
   "id": "812e80af6ed86b87",
   "outputs": [
    {
     "name": "stdout",
     "output_type": "stream",
     "text": [
      "tensor(5.6861)\n"
     ]
    }
   ],
   "execution_count": 98
  },
  {
   "metadata": {
    "ExecuteTime": {
     "end_time": "2024-06-09T15:18:10.452707Z",
     "start_time": "2024-06-09T15:18:10.439694Z"
    }
   },
   "cell_type": "code",
   "source": "torch.save(torch.tensor(losses[1]), 'results/AdaGrad_P2.pt')",
   "id": "4b1c1048a6db9622",
   "outputs": [],
   "execution_count": 99
  },
  {
   "metadata": {},
   "cell_type": "markdown",
   "source": "P3",
   "id": "d03c02642eb74f6b"
  },
  {
   "metadata": {
    "ExecuteTime": {
     "end_time": "2024-06-12T18:22:48.783535Z",
     "start_time": "2024-06-12T18:22:48.769503Z"
    }
   },
   "cell_type": "code",
   "source": [
    "transform = transforms.Compose(\n",
    "    [transforms.ToTensor(),\n",
    "    transforms.Normalize((0.5,), (0.5,))])"
   ],
   "id": "6fd945e248757335",
   "outputs": [],
   "execution_count": 28
  },
  {
   "metadata": {
    "ExecuteTime": {
     "end_time": "2024-06-12T18:22:49.729191Z",
     "start_time": "2024-06-12T18:22:49.577231Z"
    }
   },
   "cell_type": "code",
   "source": [
    "training_set = torchvision.datasets.FashionMNIST('./data', train=True, transform=transform, download=True)\n",
    "validation_set = torchvision.datasets.FashionMNIST('./data', train=False, transform=transform, download=True)\n",
    "training_loader = torch.utils.data.DataLoader(training_set, batch_size=128, shuffle=True)\n",
    "validation_loader = torch.utils.data.DataLoader(validation_set, batch_size=128, shuffle=False)"
   ],
   "id": "db3b2153b7758a2e",
   "outputs": [],
   "execution_count": 29
  },
  {
   "metadata": {
    "ExecuteTime": {
     "end_time": "2024-06-12T18:22:51.357047Z",
     "start_time": "2024-06-12T18:22:51.316355Z"
    }
   },
   "cell_type": "code",
   "source": "model = models.VAE()",
   "id": "d2a17d4632bb69fd",
   "outputs": [],
   "execution_count": 30
  },
  {
   "metadata": {
    "ExecuteTime": {
     "end_time": "2024-06-12T18:22:53.076553Z",
     "start_time": "2024-06-12T18:22:53.068525Z"
    }
   },
   "cell_type": "code",
   "source": "loss_fn = VAE_loss()",
   "id": "128f739fcd354878",
   "outputs": [],
   "execution_count": 31
  },
  {
   "metadata": {
    "ExecuteTime": {
     "end_time": "2024-06-12T18:22:55.650314Z",
     "start_time": "2024-06-12T18:22:55.605210Z"
    }
   },
   "cell_type": "code",
   "source": "torch.save(model.state_dict(), 'models/VAE.pt')",
   "id": "f3888035e13bf645",
   "outputs": [],
   "execution_count": 32
  },
  {
   "metadata": {},
   "cell_type": "markdown",
   "source": "restart here if evaluating for multiple optimizers",
   "id": "2337623a038f07b0"
  },
  {
   "metadata": {
    "ExecuteTime": {
     "end_time": "2024-06-12T18:22:58.479699Z",
     "start_time": "2024-06-12T18:22:58.455278Z"
    }
   },
   "cell_type": "code",
   "source": "model.load_state_dict(torch.load('models/VAE.pt'))",
   "id": "5b90c047029c48b8",
   "outputs": [
    {
     "data": {
      "text/plain": [
       "<All keys matched successfully>"
      ]
     },
     "execution_count": 33,
     "metadata": {},
     "output_type": "execute_result"
    }
   ],
   "execution_count": 33
  },
  {
   "metadata": {
    "ExecuteTime": {
     "end_time": "2024-06-12T18:23:01.796729Z",
     "start_time": "2024-06-12T18:23:01.782669Z"
    }
   },
   "cell_type": "code",
   "source": "optimizer = torch.optim.RMSprop(model.parameters())",
   "id": "bad8ff401dbdae1f",
   "outputs": [],
   "execution_count": 34
  },
  {
   "metadata": {
    "ExecuteTime": {
     "end_time": "2024-06-12T18:23:04.550959Z",
     "start_time": "2024-06-12T18:23:03.361115Z"
    }
   },
   "cell_type": "code",
   "source": "manager = train_manager(model, loss_fn, optimizer, training_loader, validation_loader, device=device)",
   "id": "3417df932f50d833",
   "outputs": [],
   "execution_count": 35
  },
  {
   "metadata": {
    "ExecuteTime": {
     "end_time": "2024-06-12T18:31:57.975328Z",
     "start_time": "2024-06-12T18:23:06.707351Z"
    }
   },
   "cell_type": "code",
   "source": "losses = manager.train(20, verbose=True, eval_all_epochs=True, eval_mode='loss')",
   "id": "26f42f896894cb17",
   "outputs": [
    {
     "name": "stdout",
     "output_type": "stream",
     "text": [
      "epoch0: train_loss: 5.6923\n",
      "eval_loss: 5.6861\n",
      "epoch1: train_loss: 5.6861\n",
      "eval_loss: 5.6861\n",
      "epoch2: train_loss: 5.6861\n",
      "eval_loss: 5.6861\n",
      "epoch3: train_loss: 5.6861\n",
      "eval_loss: 5.6861\n",
      "epoch4: train_loss: 5.6861\n",
      "eval_loss: 5.6861\n",
      "epoch5: train_loss: 5.6861\n",
      "eval_loss: 5.6861\n",
      "epoch6: train_loss: 5.6861\n",
      "eval_loss: 5.6861\n",
      "epoch7: train_loss: 5.6861\n",
      "eval_loss: 5.6861\n",
      "epoch8: train_loss: 5.6861\n",
      "eval_loss: 5.6861\n",
      "epoch9: train_loss: 5.6861\n",
      "eval_loss: 5.6861\n",
      "epoch10: train_loss: 5.6861\n",
      "eval_loss: 5.6861\n",
      "epoch11: train_loss: 5.6861\n",
      "eval_loss: 5.6861\n",
      "epoch12: train_loss: 5.6861\n",
      "eval_loss: 5.6861\n",
      "epoch13: train_loss: 5.6861\n",
      "eval_loss: 5.6861\n",
      "epoch14: train_loss: 5.6861\n",
      "eval_loss: 5.6861\n",
      "epoch15: train_loss: 5.6861\n",
      "eval_loss: 5.6861\n",
      "epoch16: train_loss: 5.6861\n",
      "eval_loss: 5.6861\n",
      "epoch17: train_loss: 5.6861\n",
      "eval_loss: 5.6861\n",
      "epoch18: train_loss: 5.6861\n",
      "eval_loss: 5.6861\n",
      "epoch19: train_loss: 5.6861\n",
      "eval_loss: 5.6861\n"
     ]
    }
   ],
   "execution_count": 36
  },
  {
   "metadata": {
    "ExecuteTime": {
     "end_time": "2024-06-12T18:31:57.993398Z",
     "start_time": "2024-06-12T18:31:57.979330Z"
    }
   },
   "cell_type": "code",
   "source": [
    "print(torch.tensor(losses[1]))\n",
    "print(torch.load('results/RMSprop_P3.pt'))"
   ],
   "id": "7da57bbc92aa174c",
   "outputs": [
    {
     "name": "stdout",
     "output_type": "stream",
     "text": [
      "tensor([5.6861, 5.6861, 5.6861, 5.6861, 5.6861, 5.6861, 5.6861, 5.6861, 5.6861,\n",
      "        5.6861, 5.6861, 5.6861, 5.6861, 5.6861, 5.6861, 5.6861, 5.6861, 5.6861,\n",
      "        5.6861, 5.6861])\n",
      "tensor([5.6861, 5.6861, 5.6861, 5.6861, 5.9984, 6.0671, 6.0813, 6.1842, 6.1613,\n",
      "        6.2936, 6.5108, 6.5335, 6.6530, 6.5651, 6.5377, 6.4810, 6.4335, 6.4359,\n",
      "        6.4354, 6.4798])\n"
     ]
    }
   ],
   "execution_count": 37
  },
  {
   "metadata": {
    "ExecuteTime": {
     "end_time": "2024-06-09T18:18:07.450211Z",
     "start_time": "2024-06-09T18:18:07.436217Z"
    }
   },
   "cell_type": "code",
   "source": "print(torch.min(torch.tensor(losses[1])))",
   "id": "21dcddc4fdb65067",
   "outputs": [
    {
     "name": "stdout",
     "output_type": "stream",
     "text": [
      "tensor(5.6861)\n"
     ]
    }
   ],
   "execution_count": 135
  },
  {
   "metadata": {
    "ExecuteTime": {
     "end_time": "2024-06-12T18:35:30.282245Z",
     "start_time": "2024-06-12T18:35:30.266601Z"
    }
   },
   "cell_type": "code",
   "source": "torch.save(torch.tensor(losses[1]), 'results/RMSprop_P3.pt')",
   "id": "775ad098448b5c00",
   "outputs": [],
   "execution_count": 38
  },
  {
   "metadata": {},
   "cell_type": "markdown",
   "source": "P4",
   "id": "28140bb58d12bef1"
  },
  {
   "metadata": {
    "ExecuteTime": {
     "end_time": "2024-06-09T19:10:08.661298Z",
     "start_time": "2024-06-09T19:10:08.642554Z"
    }
   },
   "cell_type": "code",
   "source": [
    "transform = transforms.Compose(\n",
    "    [transforms.ToTensor(),\n",
    "    transforms.Normalize((0.5074,0.4867,0.4411),(0.2011,0.1987,0.2025))]\n",
    ")"
   ],
   "id": "17025a269610d28d",
   "outputs": [],
   "execution_count": 5
  },
  {
   "metadata": {
    "ExecuteTime": {
     "end_time": "2024-06-09T19:10:12.353711Z",
     "start_time": "2024-06-09T19:10:08.835588Z"
    }
   },
   "cell_type": "code",
   "source": [
    "training_set = torchvision.datasets.CIFAR100('./data', train=True, transform=transform, download=True)\n",
    "validation_set = torchvision.datasets.CIFAR100('./data', train=False, transform=transform, download=True)\n",
    "training_loader = torch.utils.data.DataLoader(training_set, batch_size=256, shuffle=True)\n",
    "validation_loader = torch.utils.data.DataLoader(validation_set, batch_size=256, shuffle=False)"
   ],
   "id": "3489eeb44375b1f2",
   "outputs": [
    {
     "name": "stdout",
     "output_type": "stream",
     "text": [
      "Files already downloaded and verified\n",
      "Files already downloaded and verified\n"
     ]
    }
   ],
   "execution_count": 6
  },
  {
   "metadata": {
    "ExecuteTime": {
     "end_time": "2024-06-09T19:10:15.444743Z",
     "start_time": "2024-06-09T19:10:15.402541Z"
    }
   },
   "cell_type": "code",
   "source": "model = models.All_CNN_C()",
   "id": "3aeca7b64bf36aa7",
   "outputs": [],
   "execution_count": 7
  },
  {
   "metadata": {
    "ExecuteTime": {
     "end_time": "2024-06-09T19:10:16.459286Z",
     "start_time": "2024-06-09T19:10:16.440313Z"
    }
   },
   "cell_type": "code",
   "source": "loss_fn = torch.nn.CrossEntropyLoss()",
   "id": "17281f894b5945a7",
   "outputs": [],
   "execution_count": 8
  },
  {
   "metadata": {
    "ExecuteTime": {
     "end_time": "2024-06-09T19:10:17.578791Z",
     "start_time": "2024-06-09T19:10:17.560621Z"
    }
   },
   "cell_type": "code",
   "source": "torch.save(model.state_dict(), 'models/All_CNN_C.pt')",
   "id": "2610151b78aa860d",
   "outputs": [],
   "execution_count": 9
  },
  {
   "metadata": {},
   "cell_type": "markdown",
   "source": "restart here if evaluating multiple optimizers",
   "id": "78075335387d5e00"
  },
  {
   "metadata": {
    "ExecuteTime": {
     "end_time": "2024-06-09T19:10:19.353616Z",
     "start_time": "2024-06-09T19:10:19.311294Z"
    }
   },
   "cell_type": "code",
   "source": "model.load_state_dict(torch.load('models/All_CNN_C.pt'))",
   "id": "31d7108e8bb3b0a",
   "outputs": [
    {
     "data": {
      "text/plain": [
       "<All keys matched successfully>"
      ]
     },
     "execution_count": 10,
     "metadata": {},
     "output_type": "execute_result"
    }
   ],
   "execution_count": 10
  },
  {
   "metadata": {
    "ExecuteTime": {
     "end_time": "2024-06-09T19:10:21.483949Z",
     "start_time": "2024-06-09T19:10:21.478364Z"
    }
   },
   "cell_type": "code",
   "source": "optimizer = torch.optim.SGD(model.parameters())",
   "id": "8f474bcf307effc9",
   "outputs": [],
   "execution_count": 11
  },
  {
   "metadata": {
    "ExecuteTime": {
     "end_time": "2024-06-09T19:10:23.863647Z",
     "start_time": "2024-06-09T19:10:22.425737Z"
    }
   },
   "cell_type": "code",
   "source": "manager = train_manager(model, loss_fn, optimizer, training_loader, validation_loader, device=device)",
   "id": "1f8366757f84c8e3",
   "outputs": [],
   "execution_count": 12
  },
  {
   "metadata": {
    "ExecuteTime": {
     "end_time": "2024-06-09T20:40:52.577354Z",
     "start_time": "2024-06-09T19:10:24.880457Z"
    }
   },
   "cell_type": "code",
   "source": "losses = manager.train(20, verbose=True, eval_all_epochs=True, eval_mode='accuracy')",
   "id": "f5ba3f3815638b8f",
   "outputs": [
    {
     "name": "stderr",
     "output_type": "stream",
     "text": [
      "C:\\Users\\talf1\\anaconda3\\envs\\Opti_ML_Project\\lib\\site-packages\\torch\\autograd\\graph.py:744: UserWarning: Plan failed with a cudnnException: CUDNN_BACKEND_EXECUTION_PLAN_DESCRIPTOR: cudnnFinalize Descriptor Failed cudnn_status: CUDNN_STATUS_NOT_SUPPORTED (Triggered internally at ..\\aten\\src\\ATen\\native\\cudnn\\Conv_v8.cpp:919.)\n",
      "  return Variable._execution_engine.run_backward(  # Calls into the C++ engine to run the backward pass\n"
     ]
    },
    {
     "name": "stdout",
     "output_type": "stream",
     "text": [
      "epoch0: train_loss: 4.6056\n",
      "eval_loss: 0.0100\n",
      "epoch1: train_loss: 4.6056\n",
      "eval_loss: 0.0100\n",
      "epoch2: train_loss: 4.6056\n",
      "eval_loss: 0.0100\n",
      "epoch3: train_loss: 4.6056\n",
      "eval_loss: 0.0100\n",
      "epoch4: train_loss: 4.6056\n",
      "eval_loss: 0.0100\n",
      "epoch5: train_loss: 4.6056\n",
      "eval_loss: 0.0100\n",
      "epoch6: train_loss: 4.6056\n",
      "eval_loss: 0.0100\n",
      "epoch7: train_loss: 4.6056\n",
      "eval_loss: 0.0100\n"
     ]
    },
    {
     "ename": "KeyboardInterrupt",
     "evalue": "",
     "output_type": "error",
     "traceback": [
      "\u001B[1;31m---------------------------------------------------------------------------\u001B[0m",
      "\u001B[1;31mKeyboardInterrupt\u001B[0m                         Traceback (most recent call last)",
      "Cell \u001B[1;32mIn[13], line 1\u001B[0m\n\u001B[1;32m----> 1\u001B[0m losses \u001B[38;5;241m=\u001B[39m \u001B[43mmanager\u001B[49m\u001B[38;5;241;43m.\u001B[39;49m\u001B[43mtrain\u001B[49m\u001B[43m(\u001B[49m\u001B[38;5;241;43m20\u001B[39;49m\u001B[43m,\u001B[49m\u001B[43m \u001B[49m\u001B[43mverbose\u001B[49m\u001B[38;5;241;43m=\u001B[39;49m\u001B[38;5;28;43;01mTrue\u001B[39;49;00m\u001B[43m,\u001B[49m\u001B[43m \u001B[49m\u001B[43meval_all_epochs\u001B[49m\u001B[38;5;241;43m=\u001B[39;49m\u001B[38;5;28;43;01mTrue\u001B[39;49;00m\u001B[43m,\u001B[49m\u001B[43m \u001B[49m\u001B[43meval_mode\u001B[49m\u001B[38;5;241;43m=\u001B[39;49m\u001B[38;5;124;43m'\u001B[39;49m\u001B[38;5;124;43maccuracy\u001B[39;49m\u001B[38;5;124;43m'\u001B[39;49m\u001B[43m)\u001B[49m\n",
      "File \u001B[1;32m~\\PycharmProjects\\Opti_ML_Project\\pytorch_optim_training_manager.py:35\u001B[0m, in \u001B[0;36mtrain_manager.train\u001B[1;34m(self, epochs, eval_all_epochs, eval_mode, verbose)\u001B[0m\n\u001B[0;32m     33\u001B[0m \u001B[38;5;28;01mfor\u001B[39;00m epoch \u001B[38;5;129;01min\u001B[39;00m \u001B[38;5;28mrange\u001B[39m(epochs):\n\u001B[0;32m     34\u001B[0m     \u001B[38;5;28mself\u001B[39m\u001B[38;5;241m.\u001B[39mmodel\u001B[38;5;241m.\u001B[39mtrain(\u001B[38;5;28;01mTrue\u001B[39;00m)\n\u001B[1;32m---> 35\u001B[0m     avg_loss \u001B[38;5;241m=\u001B[39m \u001B[38;5;28;43mself\u001B[39;49m\u001B[38;5;241;43m.\u001B[39;49m\u001B[43mtrain_one_epoch\u001B[49m\u001B[43m(\u001B[49m\u001B[43m)\u001B[49m\n\u001B[0;32m     36\u001B[0m     train_losses\u001B[38;5;241m.\u001B[39mappend(avg_loss)\n\u001B[0;32m     37\u001B[0m     \u001B[38;5;28;01mif\u001B[39;00m eval_all_epochs:\n",
      "File \u001B[1;32m~\\PycharmProjects\\Opti_ML_Project\\pytorch_optim_training_manager.py:26\u001B[0m, in \u001B[0;36mtrain_manager.train_one_epoch\u001B[1;34m(self)\u001B[0m\n\u001B[0;32m     24\u001B[0m     loss\u001B[38;5;241m.\u001B[39mbackward()\n\u001B[0;32m     25\u001B[0m     \u001B[38;5;28mself\u001B[39m\u001B[38;5;241m.\u001B[39moptimizer\u001B[38;5;241m.\u001B[39mstep()\n\u001B[1;32m---> 26\u001B[0m     epoch_loss \u001B[38;5;241m+\u001B[39m\u001B[38;5;241m=\u001B[39m \u001B[43mloss\u001B[49m\u001B[38;5;241;43m.\u001B[39;49m\u001B[43mitem\u001B[49m\u001B[43m(\u001B[49m\u001B[43m)\u001B[49m\n\u001B[0;32m     27\u001B[0m \u001B[38;5;66;03m# return mean loss over the whole epoch\u001B[39;00m\n\u001B[0;32m     28\u001B[0m \u001B[38;5;28;01mreturn\u001B[39;00m epoch_loss \u001B[38;5;241m/\u001B[39m (i \u001B[38;5;241m+\u001B[39m \u001B[38;5;241m1\u001B[39m)\n",
      "\u001B[1;31mKeyboardInterrupt\u001B[0m: "
     ]
    }
   ],
   "execution_count": 13
  },
  {
   "metadata": {},
   "cell_type": "markdown",
   "source": "P5",
   "id": "97a8e496a90bbdfd"
  },
  {
   "metadata": {
    "ExecuteTime": {
     "end_time": "2024-06-10T09:57:00.868733Z",
     "start_time": "2024-06-10T09:56:51.751363Z"
    }
   },
   "cell_type": "code",
   "source": "dataset = load_dataset(\"wikitext\", 'wikitext-2-v1', split='train')",
   "id": "40891ed6bbe8550e",
   "outputs": [],
   "execution_count": 52
  },
  {
   "metadata": {},
   "cell_type": "markdown",
   "source": "Data cleaning",
   "id": "f3efe329c9c069ad"
  },
  {
   "metadata": {
    "ExecuteTime": {
     "end_time": "2024-06-10T09:57:00.884614Z",
     "start_time": "2024-06-10T09:57:00.873613Z"
    }
   },
   "cell_type": "code",
   "source": [
    "def isEnglish(sample):\n",
    "    try:\n",
    "        sample.encode(encoding='utf-8').decode('ascii')\n",
    "    except UnicodeDecodeError:\n",
    "        return False\n",
    "    else:\n",
    "        return True\n",
    "def lowerCase(sample):\n",
    "    return {\"text\": sample[\"text\"].lower()}    "
   ],
   "id": "b63d240e961cb9f3",
   "outputs": [],
   "execution_count": 53
  },
  {
   "metadata": {
    "ExecuteTime": {
     "end_time": "2024-06-10T09:57:04.272911Z",
     "start_time": "2024-06-10T09:57:04.214792Z"
    }
   },
   "cell_type": "code",
   "source": [
    "dataset = dataset.filter(lambda x: 100 <= len(x['text'].split()) <= 128)\n",
    "dataset = dataset.filter(lambda x: not re.match(\" = .* = \\n\", x['text']))\n",
    "dataset = dataset.filter(lambda x: isEnglish(x['text']))\n",
    "dataset = dataset.map(lambda x: lowerCase(x))"
   ],
   "id": "87f1cbb34e881969",
   "outputs": [],
   "execution_count": 54
  },
  {
   "metadata": {
    "ExecuteTime": {
     "end_time": "2024-06-10T09:57:07.574893Z",
     "start_time": "2024-06-10T09:57:07.548481Z"
    }
   },
   "cell_type": "code",
   "source": [
    "def count_tokens(dataset):\n",
    "    \"\"\"Counts the frequency of each token in the dataset.\n",
    "    return a dict with token as keys, frequency as values.\"\"\"\n",
    "\n",
    "    token_freq_dict = Counter(\" \".join((x['text'] for x in dataset)).split())\n",
    "    return token_freq_dict\n",
    "\n",
    "def replace_rare_tokens(sample, rare_tokens, unk_token):\n",
    "    text = sample[\"text\"]\n",
    "    modified_tokens = [(token if token not in rare_tokens else unk_token)\n",
    "                       for token in text.split()]\n",
    "    return {\"text\": \" \".join(modified_tokens)}\n",
    "\n",
    "def is_unknown_sequence(sample, unk_token, unk_threshold=0.1):\n",
    "    sample_tokens = sample[\"text\"].split()\n",
    "    if sample_tokens.count(unk_token)/len(sample_tokens) > unk_threshold:\n",
    "        return True\n",
    "    else:\n",
    "        return False\n",
    "\n",
    "\n",
    "def build_vocabulary(dataset, min_freq=5, unk_token='<unk>'):\n",
    "    \"\"\"Builds a vocabulary dict for the given dataset.\"\"\"\n",
    "    # Get unique tokens and their frequencies.\n",
    "    token_freq_dict = count_tokens(dataset)\n",
    "\n",
    "    # Find a set of rare tokens with frequency lower than `min_freq` and replace them with `unk_token`.\n",
    "    rare_tokens_set = set()\n",
    "    low_freq = [x[0] for x in token_freq_dict.items() if x[1] <= min_freq]\n",
    "    rare_tokens_set.update(low_freq)\n",
    "    dataset = dataset.map(replace_rare_tokens, fn_kwargs={\"rare_tokens\": rare_tokens_set,\n",
    "                                                  \"unk_token\": unk_token})\n",
    "\n",
    "    # Filter out sequences with more than 15% rare tokens.\n",
    "    dataset = dataset.filter(lambda x: not is_unknown_sequence(x, unk_token, unk_threshold=0.15))\n",
    "\n",
    "    # Recompute the token frequency to get final vocabulary dict.\n",
    "    token_freq_dict = count_tokens(dataset)\n",
    "    return dataset, token_freq_dict\n"
   ],
   "id": "8c5360626a2bfc48",
   "outputs": [],
   "execution_count": 55
  },
  {
   "metadata": {
    "ExecuteTime": {
     "end_time": "2024-06-10T09:57:11.057527Z",
     "start_time": "2024-06-10T09:57:08.701777Z"
    }
   },
   "cell_type": "code",
   "source": "wikitext_dataset, token_freq_dict = build_vocabulary(dataset, min_freq=5, unk_token='<unk>')",
   "id": "dc8129f891e9f390",
   "outputs": [
    {
     "data": {
      "text/plain": [
       "Map:   0%|          | 0/1972 [00:00<?, ? examples/s]"
      ],
      "application/vnd.jupyter.widget-view+json": {
       "version_major": 2,
       "version_minor": 0,
       "model_id": "5ce05a3ef6584c8ba594d411fe73dc1a"
      }
     },
     "metadata": {},
     "output_type": "display_data"
    },
    {
     "data": {
      "text/plain": [
       "Filter:   0%|          | 0/1972 [00:00<?, ? examples/s]"
      ],
      "application/vnd.jupyter.widget-view+json": {
       "version_major": 2,
       "version_minor": 0,
       "model_id": "de0ae200f08a4e23a4164ca83fe8f594"
      }
     },
     "metadata": {},
     "output_type": "display_data"
    }
   ],
   "execution_count": 56
  },
  {
   "metadata": {
    "ExecuteTime": {
     "end_time": "2024-06-10T09:57:13.146055Z",
     "start_time": "2024-06-10T09:57:13.121424Z"
    }
   },
   "cell_type": "code",
   "source": [
    "class LSTMDataset(Dataset):\n",
    "    def __init__(self,\n",
    "                 dataset: datasets.arrow_dataset.Dataset,\n",
    "                 max_seq_length: int, ):\n",
    "        self.train_data = self.prepare_dataset(dataset)\n",
    "        self.max_seq_length = max_seq_length + 2  # as <start> and <stop> will be added\n",
    "        self.dataset_vocab = self.get_vocabulary(dataset)\n",
    "        self.token2idx = {element: index for index, element in enumerate(self.dataset_vocab)}\n",
    "        self.idx2token = dict(enumerate(self.dataset_vocab))\n",
    "        self.pad_idx = self.token2idx[\"<pad>\"]\n",
    "\n",
    "    def __len__(self):\n",
    "        return len(self.train_data)\n",
    "\n",
    "    def __getitem__(self, idx):\n",
    "        # Get a list of tokens of the given sequence. Represent each token with its index in `self.token2idx`.\n",
    "        token_list = self.train_data[idx].split()\n",
    "        # having a fallback to <unk> token if an unseen word is encoded.\n",
    "        token_ids = [self.token2idx.get(t, self.token2idx['<unk>']) for t in token_list]\n",
    "\n",
    "        # Add padding token to the sequence to reach the max_seq_length. \n",
    "        token_ids += [self.token2idx['<pad>']] * (self.max_seq_length - len(token_ids))\n",
    "\n",
    "        return torch.tensor(token_ids)\n",
    "\n",
    "    def get_vocabulary(self, dataset: datasets.arrow_dataset.Dataset):\n",
    "        vocab = set()\n",
    "        print(\"Getting dataset's vocabulary\")\n",
    "        for sample in tqdm(dataset):\n",
    "            vocab.update(set(sample[\"text\"].split()))\n",
    "        vocab.update(set([\"<start>\", \"<stop>\", \"<pad>\"]))\n",
    "        vocab = sorted(vocab)\n",
    "        return vocab\n",
    "\n",
    "    @staticmethod\n",
    "    def prepare_dataset(target_dataset: datasets.arrow_dataset.Dataset):\n",
    "        \"\"\"\n",
    "        Encapsulate sequences between <start> and <stop>.\n",
    "        \n",
    "        :param: target_dataset: the target dataset to extract samples\n",
    "        return: a list of encapsulated samples.\n",
    "        \"\"\"\n",
    "        prepared_dataset = []\n",
    "        for sample in target_dataset:\n",
    "            prepared_dataset.append(f\"<start> {sample['text']} <stop>\")\n",
    "        return prepared_dataset\n"
   ],
   "id": "1d023def4403f13f",
   "outputs": [],
   "execution_count": 57
  },
  {
   "metadata": {
    "ExecuteTime": {
     "end_time": "2024-06-10T09:57:15.111160Z",
     "start_time": "2024-06-10T09:57:14.414158Z"
    }
   },
   "cell_type": "code",
   "source": [
    "MAX_SEQ_LENGTH = 128\n",
    "lstm_dataset = LSTMDataset(dataset=wikitext_dataset,\n",
    "                         max_seq_length=MAX_SEQ_LENGTH)"
   ],
   "id": "738cbcfff184da0a",
   "outputs": [
    {
     "name": "stdout",
     "output_type": "stream",
     "text": [
      "Getting dataset's vocabulary\n"
     ]
    },
    {
     "name": "stderr",
     "output_type": "stream",
     "text": [
      "100%|██████████| 1158/1158 [00:00<00:00, 2650.39it/s]\n"
     ]
    }
   ],
   "execution_count": 58
  },
  {
   "metadata": {
    "ExecuteTime": {
     "end_time": "2024-06-10T09:57:26.419276Z",
     "start_time": "2024-06-10T09:57:26.406273Z"
    }
   },
   "cell_type": "code",
   "source": [
    "def get_dataloader(lstm_dataset, test_ratio=0.1):\n",
    "    # split train/test dataset.\n",
    "    lstm_train_dataset, lstm_test_dataset = torch.utils.data.random_split(lstm_dataset, [1-test_ratio, test_ratio])\n",
    "    # get pytorch DataLoader\n",
    "    train_dataloader = DataLoader(lstm_train_dataset, batch_size=8, shuffle=True)\n",
    "    test_dataloader = DataLoader(lstm_test_dataset, batch_size=8, shuffle=False)\n",
    "    return train_dataloader, test_dataloader"
   ],
   "id": "51c9062e352740aa",
   "outputs": [],
   "execution_count": 59
  },
  {
   "metadata": {
    "ExecuteTime": {
     "end_time": "2024-06-10T09:57:27.854909Z",
     "start_time": "2024-06-10T09:57:27.810917Z"
    }
   },
   "cell_type": "code",
   "source": "train_loader, val_loader = get_dataloader(lstm_dataset, test_ratio=0.1)",
   "id": "2aa7a0d3248b243c",
   "outputs": [],
   "execution_count": 60
  },
  {
   "metadata": {
    "ExecuteTime": {
     "end_time": "2024-06-10T09:57:29.566495Z",
     "start_time": "2024-06-10T09:57:29.556482Z"
    }
   },
   "cell_type": "code",
   "source": [
    "vocab_size = len(lstm_dataset.token2idx)\n",
    "embedding_dim = 100\n",
    "hidden_dim = 100\n",
    "dropout_rate = 0.15"
   ],
   "id": "28bcbf266deb4852",
   "outputs": [],
   "execution_count": 61
  },
  {
   "metadata": {
    "ExecuteTime": {
     "end_time": "2024-06-10T09:57:30.847797Z",
     "start_time": "2024-06-10T09:57:30.715197Z"
    }
   },
   "cell_type": "code",
   "source": "model = models.LSTM(vocab_size=vocab_size,input_dim=embedding_dim,hidden_dim=hidden_dim,dropout_rate=dropout_rate)",
   "id": "391ca47e6a598351",
   "outputs": [],
   "execution_count": 62
  },
  {
   "metadata": {
    "ExecuteTime": {
     "end_time": "2024-06-10T09:57:32.644644Z",
     "start_time": "2024-06-10T09:57:32.628641Z"
    }
   },
   "cell_type": "code",
   "source": "loss_fn = torch.nn.CrossEntropyLoss(ignore_index=lstm_dataset.pad_idx)",
   "id": "3017bc2208319526",
   "outputs": [],
   "execution_count": 63
  },
  {
   "metadata": {
    "ExecuteTime": {
     "end_time": "2024-06-10T00:26:36.871474Z",
     "start_time": "2024-06-10T00:26:36.852472Z"
    }
   },
   "cell_type": "code",
   "source": "torch.save(model.state_dict(), 'models/LSTM.pt')",
   "id": "7fbe1890ba327d09",
   "outputs": [],
   "execution_count": 17
  },
  {
   "metadata": {},
   "cell_type": "markdown",
   "source": "Restart here for evaluating multiple optimizers",
   "id": "677748fecc345228"
  },
  {
   "metadata": {},
   "cell_type": "markdown",
   "source": "",
   "id": "1b9e68fbd9acfeb9"
  },
  {
   "metadata": {
    "ExecuteTime": {
     "end_time": "2024-06-10T09:57:37.353058Z",
     "start_time": "2024-06-10T09:57:37.271698Z"
    }
   },
   "cell_type": "code",
   "source": "model.load_state_dict(torch.load('models/LSTM.pt'))",
   "id": "f34e92c4890fe7",
   "outputs": [
    {
     "data": {
      "text/plain": [
       "<All keys matched successfully>"
      ]
     },
     "execution_count": 64,
     "metadata": {},
     "output_type": "execute_result"
    }
   ],
   "execution_count": 64
  },
  {
   "metadata": {
    "ExecuteTime": {
     "end_time": "2024-06-10T09:57:39.632072Z",
     "start_time": "2024-06-10T09:57:39.611071Z"
    }
   },
   "cell_type": "code",
   "source": "optimizer = torch.optim.RMSprop(model.parameters())",
   "id": "5c59dfe99de6d7d2",
   "outputs": [],
   "execution_count": 65
  },
  {
   "metadata": {
    "ExecuteTime": {
     "end_time": "2024-06-10T09:57:40.524518Z",
     "start_time": "2024-06-10T09:57:40.471990Z"
    }
   },
   "cell_type": "code",
   "source": "manager = train_manager(model, loss_fn, optimizer, train_loader, val_loader, device=device)",
   "id": "abdfc29b41e1336c",
   "outputs": [],
   "execution_count": 66
  },
  {
   "metadata": {
    "ExecuteTime": {
     "end_time": "2024-06-10T09:59:41.067173Z",
     "start_time": "2024-06-10T09:57:41.367935Z"
    }
   },
   "cell_type": "code",
   "source": "losses = manager.train(20, verbose=True, eval_all_epochs=True, eval_mode='accuracy', is_LSTM=True)",
   "id": "9c52789134b605c6",
   "outputs": [
    {
     "name": "stdout",
     "output_type": "stream",
     "text": [
      "epoch0: train_loss: 5.8699\n",
      "eval_loss: 0.1382\n",
      "epoch1: train_loss: 5.3145\n",
      "eval_loss: 0.1538\n",
      "epoch2: train_loss: 5.0982\n",
      "eval_loss: 0.1656\n",
      "epoch3: train_loss: 4.9310\n",
      "eval_loss: 0.1682\n",
      "epoch4: train_loss: 4.7907\n",
      "eval_loss: 0.1647\n",
      "epoch5: train_loss: 4.6697\n",
      "eval_loss: 0.1736\n",
      "epoch6: train_loss: 4.5629\n",
      "eval_loss: 0.1736\n",
      "epoch7: train_loss: 4.4713\n",
      "eval_loss: 0.1742\n",
      "epoch8: train_loss: 4.3943\n",
      "eval_loss: 0.1726\n",
      "epoch9: train_loss: 4.3320\n",
      "eval_loss: 0.1744\n",
      "epoch10: train_loss: 4.2764\n",
      "eval_loss: 0.1734\n",
      "epoch11: train_loss: 4.2327\n",
      "eval_loss: 0.1733\n",
      "epoch12: train_loss: 4.1919\n",
      "eval_loss: 0.1703\n",
      "epoch13: train_loss: 4.1596\n",
      "eval_loss: 0.1727\n",
      "epoch14: train_loss: 4.1307\n",
      "eval_loss: 0.1701\n",
      "epoch15: train_loss: 4.1076\n",
      "eval_loss: 0.1703\n",
      "epoch16: train_loss: 4.0847\n",
      "eval_loss: 0.1699\n",
      "epoch17: train_loss: 4.0638\n",
      "eval_loss: 0.1705\n",
      "epoch18: train_loss: 4.0477\n",
      "eval_loss: 0.1699\n",
      "epoch19: train_loss: 4.0279\n",
      "eval_loss: 0.1665\n"
     ]
    }
   ],
   "execution_count": 67
  },
  {
   "metadata": {
    "ExecuteTime": {
     "end_time": "2024-06-10T00:38:54.854649Z",
     "start_time": "2024-06-10T00:38:54.842167Z"
    }
   },
   "cell_type": "code",
   "source": "print(torch.max(torch.tensor(losses[1])))",
   "id": "3fddb60befd99393",
   "outputs": [
    {
     "name": "stdout",
     "output_type": "stream",
     "text": [
      "tensor(0.1736)\n"
     ]
    }
   ],
   "execution_count": 46
  },
  {
   "metadata": {
    "ExecuteTime": {
     "end_time": "2024-06-10T00:38:54.870167Z",
     "start_time": "2024-06-10T00:38:54.856649Z"
    }
   },
   "cell_type": "code",
   "source": "torch.save(torch.tensor(losses[1]), 'results/RMSprop_P5.pt')",
   "id": "4fff10c8ed804d8f",
   "outputs": [],
   "execution_count": 47
  },
  {
   "metadata": {
    "ExecuteTime": {
     "end_time": "2024-06-10T10:23:07.554727Z",
     "start_time": "2024-06-10T10:23:07.533215Z"
    }
   },
   "cell_type": "code",
   "source": "len(lstm_dataset.dataset_vocab)",
   "id": "68379cb1167966fc",
   "outputs": [
    {
     "data": {
      "text/plain": [
       "4262"
      ]
     },
     "execution_count": 69,
     "metadata": {},
     "output_type": "execute_result"
    }
   ],
   "execution_count": 69
  },
  {
   "metadata": {},
   "cell_type": "code",
   "outputs": [],
   "execution_count": null,
   "source": "",
   "id": "8efcda04f21b79b9"
  }
 ],
 "metadata": {
  "kernelspec": {
   "display_name": "Python 3",
   "language": "python",
   "name": "python3"
  },
  "language_info": {
   "codemirror_mode": {
    "name": "ipython",
    "version": 2
   },
   "file_extension": ".py",
   "mimetype": "text/x-python",
   "name": "python",
   "nbconvert_exporter": "python",
   "pygments_lexer": "ipython2",
   "version": "2.7.6"
  }
 },
 "nbformat": 4,
 "nbformat_minor": 5
}
