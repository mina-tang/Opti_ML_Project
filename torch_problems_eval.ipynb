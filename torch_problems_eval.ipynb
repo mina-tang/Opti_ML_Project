{
 "cells": [
  {
   "cell_type": "code",
   "id": "initial_id",
   "metadata": {
    "collapsed": true,
    "ExecuteTime": {
     "end_time": "2024-06-09T12:17:19.662550Z",
     "start_time": "2024-06-09T12:17:14.619647Z"
    }
   },
   "source": [
    "from pytorch_optim_training_manager import train_manager\n",
    "import torch\n",
    "import torchvision\n",
    "import torchvision.transforms as transforms\n",
    "import models\n",
    "import os"
   ],
   "outputs": [],
   "execution_count": 1
  },
  {
   "metadata": {
    "ExecuteTime": {
     "end_time": "2024-06-09T12:17:19.678056Z",
     "start_time": "2024-06-09T12:17:19.664542Z"
    }
   },
   "cell_type": "code",
   "source": "device = torch.device(\"cuda:0\" if torch.cuda.is_available() else \"cpu\")",
   "id": "caf6fde47c9ee47b",
   "outputs": [],
   "execution_count": 2
  },
  {
   "metadata": {
    "ExecuteTime": {
     "end_time": "2024-06-09T12:17:19.693467Z",
     "start_time": "2024-06-09T12:17:19.681089Z"
    }
   },
   "cell_type": "code",
   "source": [
    "os.environ[\"WANDB_DISABLED\"] = \"true\"\n",
    "os.environ[\"CUDA_DEVICE_ORDER\"]=\"PCI_BUS_ID\"\n",
    "os.environ[\"CUDA_VISIBLE_DEVICES\"]=\"0\""
   ],
   "id": "69119ce26984c6d1",
   "outputs": [],
   "execution_count": 3
  },
  {
   "metadata": {
    "ExecuteTime": {
     "end_time": "2024-06-09T12:17:19.724104Z",
     "start_time": "2024-06-09T12:17:19.694470Z"
    }
   },
   "cell_type": "code",
   "source": [
    "torch.manual_seed(0)\n",
    "torch.cuda.manual_seed_all(0)"
   ],
   "id": "f16b03b2057da788",
   "outputs": [],
   "execution_count": 4
  },
  {
   "metadata": {},
   "cell_type": "markdown",
   "source": "P1",
   "id": "68dd7ea0fcbba6cc"
  },
  {
   "metadata": {
    "ExecuteTime": {
     "end_time": "2024-06-09T11:01:24.239355Z",
     "start_time": "2024-06-09T11:01:24.224307Z"
    }
   },
   "cell_type": "code",
   "source": [
    "transform = transforms.Compose(\n",
    "    [transforms.ToTensor(),\n",
    "    transforms.Normalize((0.5,), (0.5,))])"
   ],
   "id": "f44eb1b21ae2d9e1",
   "outputs": [],
   "execution_count": 39
  },
  {
   "metadata": {
    "ExecuteTime": {
     "end_time": "2024-06-09T11:01:24.905651Z",
     "start_time": "2024-06-09T11:01:24.789830Z"
    }
   },
   "cell_type": "code",
   "source": [
    "training_set = torchvision.datasets.FashionMNIST('./data', train=True, transform=transform, download=True)\n",
    "validation_set = torchvision.datasets.FashionMNIST('./data', train=False, transform=transform, download=True)"
   ],
   "id": "c3df4545dfa06b83",
   "outputs": [],
   "execution_count": 40
  },
  {
   "metadata": {
    "ExecuteTime": {
     "end_time": "2024-06-09T11:01:25.407672Z",
     "start_time": "2024-06-09T11:01:25.386674Z"
    }
   },
   "cell_type": "code",
   "source": [
    "training_loader = torch.utils.data.DataLoader(training_set, batch_size=128, shuffle=True)\n",
    "validation_loader = torch.utils.data.DataLoader(validation_set, batch_size=128, shuffle=False)"
   ],
   "id": "28deecb2ae3012b2",
   "outputs": [],
   "execution_count": 41
  },
  {
   "metadata": {
    "ExecuteTime": {
     "end_time": "2024-06-09T11:01:26.028161Z",
     "start_time": "2024-06-09T11:01:26.012151Z"
    }
   },
   "cell_type": "code",
   "source": "model = models.CNN_Simple()",
   "id": "60a217936eac3868",
   "outputs": [],
   "execution_count": 42
  },
  {
   "metadata": {
    "ExecuteTime": {
     "end_time": "2024-06-08T20:48:27.376350Z",
     "start_time": "2024-06-08T20:48:27.353087Z"
    }
   },
   "cell_type": "code",
   "source": "torch.save(model.state_dict(), 'models/CNN_Simple.pt')",
   "id": "6f9539b7a48c13fa",
   "outputs": [],
   "execution_count": 10
  },
  {
   "metadata": {
    "ExecuteTime": {
     "end_time": "2024-06-08T23:53:50.389377Z",
     "start_time": "2024-06-08T23:53:50.378548Z"
    }
   },
   "cell_type": "code",
   "source": "loss_fn = torch.nn.CrossEntropyLoss()",
   "id": "f83fbeefc2e735a5",
   "outputs": [],
   "execution_count": 62
  },
  {
   "metadata": {},
   "cell_type": "markdown",
   "source": "start again here if evaluating for multiple optimizers",
   "id": "2ab9b2314b191670"
  },
  {
   "metadata": {},
   "cell_type": "code",
   "outputs": [
    {
     "data": {
      "text/plain": [
       "<All keys matched successfully>"
      ]
     },
     "execution_count": 61,
     "metadata": {},
     "output_type": "execute_result"
    }
   ],
   "execution_count": 61,
   "source": "model.load_state_dict(torch.load('models/CNN_Simple.pt'))",
   "id": "71c1be6a35caa3d6"
  },
  {
   "metadata": {
    "ExecuteTime": {
     "end_time": "2024-06-08T23:53:56.665132Z",
     "start_time": "2024-06-08T23:53:56.637140Z"
    }
   },
   "cell_type": "code",
   "source": "optimizer = torch.optim.RMSprop(model.parameters())",
   "id": "5287ad8967603124",
   "outputs": [],
   "execution_count": 63
  },
  {
   "metadata": {
    "ExecuteTime": {
     "end_time": "2024-06-08T23:53:57.913611Z",
     "start_time": "2024-06-08T23:53:57.892142Z"
    }
   },
   "cell_type": "code",
   "source": "manager = train_manager(model, loss_fn, optimizer,training_loader,validation_loader,device=device)",
   "id": "11176b7ef380f1bb",
   "outputs": [],
   "execution_count": 64
  },
  {
   "metadata": {
    "ExecuteTime": {
     "end_time": "2024-06-09T00:03:01.161688Z",
     "start_time": "2024-06-08T23:53:59.626101Z"
    }
   },
   "cell_type": "code",
   "source": "losses = manager.train(20, verbose=True, eval_all_epochs=True, eval_mode='accuracy')",
   "id": "c26dba082a5498c7",
   "outputs": [
    {
     "name": "stdout",
     "output_type": "stream",
     "text": [
      "epoch0: train_loss: 0.7445\n",
      "eval_loss: 0.7654\n",
      "epoch1: train_loss: 0.4870\n",
      "eval_loss: 0.8421\n",
      "epoch2: train_loss: 0.4218\n",
      "eval_loss: 0.8280\n",
      "epoch3: train_loss: 0.3985\n",
      "eval_loss: 0.8498\n",
      "epoch4: train_loss: 0.3834\n",
      "eval_loss: 0.8499\n",
      "epoch5: train_loss: 0.3681\n",
      "eval_loss: 0.8615\n",
      "epoch6: train_loss: 0.3534\n",
      "eval_loss: 0.8421\n",
      "epoch7: train_loss: 0.3487\n",
      "eval_loss: 0.8549\n",
      "epoch8: train_loss: 0.3395\n",
      "eval_loss: 0.8593\n",
      "epoch9: train_loss: 0.3377\n",
      "eval_loss: 0.8275\n",
      "epoch10: train_loss: 0.3334\n",
      "eval_loss: 0.8585\n",
      "epoch11: train_loss: 0.3271\n",
      "eval_loss: 0.8700\n",
      "epoch12: train_loss: 0.3228\n",
      "eval_loss: 0.8732\n",
      "epoch13: train_loss: 0.3229\n",
      "eval_loss: 0.8624\n",
      "epoch14: train_loss: 0.3187\n",
      "eval_loss: 0.8546\n",
      "epoch15: train_loss: 0.3144\n",
      "eval_loss: 0.8699\n",
      "epoch16: train_loss: 0.3065\n",
      "eval_loss: 0.8671\n",
      "epoch17: train_loss: 0.3106\n",
      "eval_loss: 0.8713\n",
      "epoch18: train_loss: 0.3165\n",
      "eval_loss: 0.8644\n",
      "epoch19: train_loss: 0.2994\n",
      "eval_loss: 0.8545\n"
     ]
    }
   ],
   "execution_count": 65
  },
  {
   "metadata": {
    "ExecuteTime": {
     "end_time": "2024-06-09T00:03:01.177368Z",
     "start_time": "2024-06-09T00:03:01.164619Z"
    }
   },
   "cell_type": "code",
   "source": "print(torch.max(torch.tensor(losses[1])))",
   "id": "c4a55cc05a2ff9b6",
   "outputs": [
    {
     "name": "stdout",
     "output_type": "stream",
     "text": [
      "tensor(0.8732)\n"
     ]
    }
   ],
   "execution_count": 66
  },
  {
   "metadata": {
    "ExecuteTime": {
     "end_time": "2024-06-09T00:03:01.192433Z",
     "start_time": "2024-06-09T00:03:01.179365Z"
    }
   },
   "cell_type": "code",
   "source": "torch.save(torch.tensor(losses[1]), 'results/RMSprop_P1.pt')",
   "id": "9ff87113d6ddc740",
   "outputs": [],
   "execution_count": 67
  },
  {
   "metadata": {},
   "cell_type": "markdown",
   "source": "P2",
   "id": "8764e0725ab98a10"
  },
  {
   "metadata": {
    "ExecuteTime": {
     "end_time": "2024-06-09T12:17:32.451447Z",
     "start_time": "2024-06-09T12:17:32.438368Z"
    }
   },
   "cell_type": "code",
   "source": [
    "transform = transforms.Compose(\n",
    "    [transforms.ToTensor()])"
   ],
   "id": "17e118c47c2250e5",
   "outputs": [],
   "execution_count": 5
  },
  {
   "metadata": {
    "ExecuteTime": {
     "end_time": "2024-06-09T12:17:33.218352Z",
     "start_time": "2024-06-09T12:17:33.122058Z"
    }
   },
   "cell_type": "code",
   "source": [
    "training_set = torchvision.datasets.MNIST('./data', train=True, transform=transform, download=True)\n",
    "validation_set = torchvision.datasets.MNIST('./data', train=False, transform=transform, download=True)"
   ],
   "id": "7a571291cfc76883",
   "outputs": [],
   "execution_count": 6
  },
  {
   "metadata": {
    "ExecuteTime": {
     "end_time": "2024-06-09T12:17:33.795297Z",
     "start_time": "2024-06-09T12:17:33.775228Z"
    }
   },
   "cell_type": "code",
   "source": [
    "training_loader = torch.utils.data.DataLoader(training_set, batch_size=64, shuffle=True)\n",
    "validation_loader = torch.utils.data.DataLoader(validation_set, batch_size=64, shuffle=False)"
   ],
   "id": "aa8a106a6551bcc6",
   "outputs": [],
   "execution_count": 7
  },
  {
   "metadata": {
    "ExecuteTime": {
     "end_time": "2024-06-09T12:17:34.529735Z",
     "start_time": "2024-06-09T12:17:34.514638Z"
    }
   },
   "cell_type": "code",
   "source": "model = models.VAE()",
   "id": "730af9e89ea02787",
   "outputs": [],
   "execution_count": 8
  },
  {
   "metadata": {
    "ExecuteTime": {
     "end_time": "2024-06-09T12:17:35.228456Z",
     "start_time": "2024-06-09T12:17:35.204584Z"
    }
   },
   "cell_type": "code",
   "source": "torch.save(model.state_dict(), 'models/VAE.pt')",
   "id": "99f394918d636f5d",
   "outputs": [],
   "execution_count": 9
  },
  {
   "metadata": {
    "ExecuteTime": {
     "end_time": "2024-06-09T14:06:14.801181Z",
     "start_time": "2024-06-09T14:06:14.780181Z"
    }
   },
   "cell_type": "code",
   "source": [
    "class VAE_loss(torch.nn.Module):\n",
    "    def __init__(self):\n",
    "        super(VAE_loss, self).__init__()\n",
    "        self.loss_fn = torch.nn.CrossEntropyLoss()\n",
    "    def forward(self, preds, labels):\n",
    "        x, mean, logvar = preds\n",
    "        reproduction_loss = self.loss_fn(x, labels)\n",
    "        # KLD = -0.5 * torch.sum(1 + logvar - mean**2 - logvar.exp())\n",
    "        # (reproduction_loss + KLD) / len(labels)\n",
    "        return reproduction_loss"
   ],
   "id": "32966c043fd91080",
   "outputs": [],
   "execution_count": 62
  },
  {
   "metadata": {
    "ExecuteTime": {
     "end_time": "2024-06-09T14:06:15.454901Z",
     "start_time": "2024-06-09T14:06:15.436911Z"
    }
   },
   "cell_type": "code",
   "source": "loss_fn = VAE_loss()",
   "id": "48948193d70a16bc",
   "outputs": [],
   "execution_count": 63
  },
  {
   "metadata": {},
   "cell_type": "markdown",
   "source": "restart here for a different optimizer",
   "id": "e9baac0f4fdb967d"
  },
  {
   "metadata": {
    "ExecuteTime": {
     "end_time": "2024-06-09T15:12:08.994897Z",
     "start_time": "2024-06-09T15:12:07.879792Z"
    }
   },
   "cell_type": "code",
   "source": "model.load_state_dict(torch.load('models/VAE.pt'))",
   "id": "b2b42e1318da1172",
   "outputs": [
    {
     "data": {
      "text/plain": [
       "<All keys matched successfully>"
      ]
     },
     "execution_count": 94,
     "metadata": {},
     "output_type": "execute_result"
    }
   ],
   "execution_count": 94
  },
  {
   "metadata": {
    "ExecuteTime": {
     "end_time": "2024-06-09T15:12:12.518810Z",
     "start_time": "2024-06-09T15:12:12.505018Z"
    }
   },
   "cell_type": "code",
   "source": "optimizer = torch.optim.Adam(model.parameters())",
   "id": "94d63e8ba75173fb",
   "outputs": [],
   "execution_count": 95
  },
  {
   "metadata": {
    "ExecuteTime": {
     "end_time": "2024-06-09T15:12:13.315019Z",
     "start_time": "2024-06-09T15:12:13.296331Z"
    }
   },
   "cell_type": "code",
   "source": "manager = train_manager(model, loss_fn, optimizer,training_loader,validation_loader,device=device)",
   "id": "b8e1f82aea28542c",
   "outputs": [],
   "execution_count": 96
  },
  {
   "metadata": {
    "ExecuteTime": {
     "end_time": "2024-06-09T15:18:10.421605Z",
     "start_time": "2024-06-09T15:12:14.419003Z"
    }
   },
   "cell_type": "code",
   "source": "losses = manager.train(20, verbose=True, eval_all_epochs=True, eval_mode='loss')",
   "id": "66f61b24e1a622f7",
   "outputs": [
    {
     "name": "stdout",
     "output_type": "stream",
     "text": [
      "epoch0: train_loss: 5.7042\n",
      "eval_loss: 5.6861\n",
      "epoch1: train_loss: 5.6861\n",
      "eval_loss: 5.6861\n",
      "epoch2: train_loss: 5.6861\n",
      "eval_loss: 5.6861\n",
      "epoch3: train_loss: 5.6861\n",
      "eval_loss: 5.6861\n",
      "epoch4: train_loss: 5.6861\n",
      "eval_loss: 5.6861\n",
      "epoch5: train_loss: 5.6861\n",
      "eval_loss: 5.6861\n",
      "epoch6: train_loss: 5.6861\n",
      "eval_loss: 5.6861\n",
      "epoch7: train_loss: 5.6861\n",
      "eval_loss: 5.6861\n",
      "epoch8: train_loss: 5.6861\n",
      "eval_loss: 5.6861\n",
      "epoch9: train_loss: 5.6861\n",
      "eval_loss: 5.6861\n",
      "epoch10: train_loss: 5.6861\n",
      "eval_loss: 5.6861\n",
      "epoch11: train_loss: 5.6861\n",
      "eval_loss: 5.6861\n",
      "epoch12: train_loss: 5.6861\n",
      "eval_loss: 5.6861\n",
      "epoch13: train_loss: 5.6861\n",
      "eval_loss: 5.6861\n",
      "epoch14: train_loss: 5.6861\n",
      "eval_loss: 5.6861\n",
      "epoch15: train_loss: 5.6861\n",
      "eval_loss: 5.6861\n",
      "epoch16: train_loss: 5.6861\n",
      "eval_loss: 5.6861\n",
      "epoch17: train_loss: 5.6861\n",
      "eval_loss: 5.6861\n",
      "epoch18: train_loss: 5.6861\n",
      "eval_loss: 5.6861\n",
      "epoch19: train_loss: 5.6861\n",
      "eval_loss: 5.6861\n"
     ]
    }
   ],
   "execution_count": 97
  },
  {
   "metadata": {
    "ExecuteTime": {
     "end_time": "2024-06-09T15:18:10.437164Z",
     "start_time": "2024-06-09T15:18:10.424579Z"
    }
   },
   "cell_type": "code",
   "source": "print(torch.min(torch.tensor(losses[1])))",
   "id": "812e80af6ed86b87",
   "outputs": [
    {
     "name": "stdout",
     "output_type": "stream",
     "text": [
      "tensor(5.6861)\n"
     ]
    }
   ],
   "execution_count": 98
  },
  {
   "metadata": {
    "ExecuteTime": {
     "end_time": "2024-06-09T15:18:10.452707Z",
     "start_time": "2024-06-09T15:18:10.439694Z"
    }
   },
   "cell_type": "code",
   "source": "torch.save(torch.tensor(losses[1]), 'results/AdaGrad_P2.pt')",
   "id": "4b1c1048a6db9622",
   "outputs": [],
   "execution_count": 99
  },
  {
   "metadata": {},
   "cell_type": "markdown",
   "source": "P3",
   "id": "d03c02642eb74f6b"
  },
  {
   "metadata": {
    "ExecuteTime": {
     "end_time": "2024-06-09T16:38:58.394580Z",
     "start_time": "2024-06-09T16:38:58.354579Z"
    }
   },
   "cell_type": "code",
   "source": [
    "transform = transforms.Compose(\n",
    "    [transforms.ToTensor(),\n",
    "    transforms.Normalize((0.5,), (0.5,))])"
   ],
   "id": "6fd945e248757335",
   "outputs": [],
   "execution_count": 100
  },
  {
   "metadata": {
    "ExecuteTime": {
     "end_time": "2024-06-09T16:39:27.369062Z",
     "start_time": "2024-06-09T16:39:27.188665Z"
    }
   },
   "cell_type": "code",
   "source": [
    "training_set = torchvision.datasets.FashionMNIST('./data', train=True, transform=transform, download=True)\n",
    "validation_set = torchvision.datasets.FashionMNIST('./data', train=False, transform=transform, download=True)\n",
    "training_loader = torch.utils.data.DataLoader(training_set, batch_size=128, shuffle=True)\n",
    "validation_loader = torch.utils.data.DataLoader(validation_set, batch_size=128, shuffle=False)"
   ],
   "id": "db3b2153b7758a2e",
   "outputs": [],
   "execution_count": 101
  },
  {
   "metadata": {
    "ExecuteTime": {
     "end_time": "2024-06-09T16:39:51.622577Z",
     "start_time": "2024-06-09T16:39:51.551723Z"
    }
   },
   "cell_type": "code",
   "source": "model = models.VAE()",
   "id": "d2a17d4632bb69fd",
   "outputs": [],
   "execution_count": 102
  },
  {
   "metadata": {
    "ExecuteTime": {
     "end_time": "2024-06-09T16:40:12.597860Z",
     "start_time": "2024-06-09T16:40:12.587824Z"
    }
   },
   "cell_type": "code",
   "source": "loss_fn = VAE_loss()",
   "id": "128f739fcd354878",
   "outputs": [],
   "execution_count": 103
  },
  {
   "metadata": {
    "ExecuteTime": {
     "end_time": "2024-06-09T16:40:36.859803Z",
     "start_time": "2024-06-09T16:40:36.839579Z"
    }
   },
   "cell_type": "code",
   "source": "torch.save(model.state_dict(), 'models/VAE.pt')",
   "id": "f3888035e13bf645",
   "outputs": [],
   "execution_count": 104
  },
  {
   "metadata": {},
   "cell_type": "markdown",
   "source": "restart here if evaluating for multiple optimizers",
   "id": "2337623a038f07b0"
  },
  {
   "metadata": {
    "ExecuteTime": {
     "end_time": "2024-06-09T18:10:43.887629Z",
     "start_time": "2024-06-09T18:10:42.829389Z"
    }
   },
   "cell_type": "code",
   "source": "model.load_state_dict(torch.load('models/VAE.pt'))",
   "id": "5b90c047029c48b8",
   "outputs": [
    {
     "data": {
      "text/plain": [
       "<All keys matched successfully>"
      ]
     },
     "execution_count": 131,
     "metadata": {},
     "output_type": "execute_result"
    }
   ],
   "execution_count": 131
  },
  {
   "metadata": {
    "ExecuteTime": {
     "end_time": "2024-06-09T18:10:55.044507Z",
     "start_time": "2024-06-09T18:10:55.036523Z"
    }
   },
   "cell_type": "code",
   "source": "optimizer = torch.optim.RMSprop(model.parameters())",
   "id": "bad8ff401dbdae1f",
   "outputs": [],
   "execution_count": 132
  },
  {
   "metadata": {
    "ExecuteTime": {
     "end_time": "2024-06-09T18:10:56.236611Z",
     "start_time": "2024-06-09T18:10:56.222609Z"
    }
   },
   "cell_type": "code",
   "source": "manager = train_manager(model, loss_fn, optimizer, training_loader, validation_loader, device=device)",
   "id": "3417df932f50d833",
   "outputs": [],
   "execution_count": 133
  },
  {
   "metadata": {
    "ExecuteTime": {
     "end_time": "2024-06-09T18:18:07.434214Z",
     "start_time": "2024-06-09T18:10:57.589882Z"
    }
   },
   "cell_type": "code",
   "source": "losses = manager.train(20, verbose=True, eval_all_epochs=True, eval_mode='loss')",
   "id": "26f42f896894cb17",
   "outputs": [
    {
     "name": "stdout",
     "output_type": "stream",
     "text": [
      "epoch0: train_loss: 5.6933\n",
      "eval_loss: 5.6861\n",
      "epoch1: train_loss: 5.6861\n",
      "eval_loss: 5.6861\n",
      "epoch2: train_loss: 5.6861\n",
      "eval_loss: 5.6861\n",
      "epoch3: train_loss: 5.6861\n",
      "eval_loss: 5.6861\n",
      "epoch4: train_loss: 5.8317\n",
      "eval_loss: 5.9984\n",
      "epoch5: train_loss: 6.0267\n",
      "eval_loss: 6.0671\n",
      "epoch6: train_loss: 6.1017\n",
      "eval_loss: 6.0813\n",
      "epoch7: train_loss: 6.0685\n",
      "eval_loss: 6.1842\n",
      "epoch8: train_loss: 6.1787\n",
      "eval_loss: 6.1613\n",
      "epoch9: train_loss: 6.2528\n",
      "eval_loss: 6.2936\n",
      "epoch10: train_loss: 6.4205\n",
      "eval_loss: 6.5108\n",
      "epoch11: train_loss: 6.5214\n",
      "eval_loss: 6.5335\n",
      "epoch12: train_loss: 6.5845\n",
      "eval_loss: 6.6530\n",
      "epoch13: train_loss: 6.6453\n",
      "eval_loss: 6.5651\n",
      "epoch14: train_loss: 6.5402\n",
      "eval_loss: 6.5377\n",
      "epoch15: train_loss: 6.5074\n",
      "eval_loss: 6.4810\n",
      "epoch16: train_loss: 6.4605\n",
      "eval_loss: 6.4335\n",
      "epoch17: train_loss: 6.4326\n",
      "eval_loss: 6.4359\n",
      "epoch18: train_loss: 6.4298\n",
      "eval_loss: 6.4354\n",
      "epoch19: train_loss: 6.4394\n",
      "eval_loss: 6.4798\n"
     ]
    }
   ],
   "execution_count": 134
  },
  {
   "metadata": {
    "ExecuteTime": {
     "end_time": "2024-06-09T18:18:07.450211Z",
     "start_time": "2024-06-09T18:18:07.436217Z"
    }
   },
   "cell_type": "code",
   "source": "print(torch.min(torch.tensor(losses[1])))",
   "id": "21dcddc4fdb65067",
   "outputs": [
    {
     "name": "stdout",
     "output_type": "stream",
     "text": [
      "tensor(5.6861)\n"
     ]
    }
   ],
   "execution_count": 135
  },
  {
   "metadata": {
    "ExecuteTime": {
     "end_time": "2024-06-09T18:18:07.465217Z",
     "start_time": "2024-06-09T18:18:07.452210Z"
    }
   },
   "cell_type": "code",
   "source": "torch.save(torch.tensor(losses[1]), 'results/RMSprop_P3.pt')",
   "id": "775ad098448b5c00",
   "outputs": [],
   "execution_count": 136
  },
  {
   "metadata": {},
   "cell_type": "markdown",
   "source": "P4",
   "id": "28140bb58d12bef1"
  },
  {
   "metadata": {},
   "cell_type": "code",
   "outputs": [],
   "execution_count": null,
   "source": "",
   "id": "17025a269610d28d"
  }
 ],
 "metadata": {
  "kernelspec": {
   "display_name": "Python 3",
   "language": "python",
   "name": "python3"
  },
  "language_info": {
   "codemirror_mode": {
    "name": "ipython",
    "version": 2
   },
   "file_extension": ".py",
   "mimetype": "text/x-python",
   "name": "python",
   "nbconvert_exporter": "python",
   "pygments_lexer": "ipython2",
   "version": "2.7.6"
  }
 },
 "nbformat": 4,
 "nbformat_minor": 5
}
