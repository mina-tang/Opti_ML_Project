{
 "cells": [
  {
   "cell_type": "code",
   "id": "initial_id",
   "metadata": {
    "collapsed": true,
    "ExecuteTime": {
     "end_time": "2024-06-13T21:13:32.541071Z",
     "start_time": "2024-06-13T21:13:32.367939Z"
    }
   },
   "source": [
    "from pytorch_optim_training_manager import train_manager\n",
    "import torch\n",
    "import torchvision\n",
    "from datasets import load_dataset\n",
    "import datasets\n",
    "import torchvision.transforms as transforms\n",
    "import models\n",
    "import os\n",
    "import re\n",
    "from torch.utils.data import Dataset, DataLoader\n",
    "from tqdm import tqdm\n",
    "from ucimlrepo import fetch_ucirepo \n",
    "import numpy as np\n",
    "import pandas as pd\n",
    "from sklearn.preprocessing import MinMaxScaler\n",
    "from sklearn.model_selection import train_test_split\n",
    "from custom_datasets import WineDataset, LSTMDataset\n",
    "from utils import get_LSTM_dataloaders, isEnglish, lowerCase, build_vocabulary"
   ],
   "outputs": [],
   "execution_count": 18
  },
  {
   "metadata": {
    "ExecuteTime": {
     "end_time": "2024-06-13T20:02:24.562778Z",
     "start_time": "2024-06-13T20:02:24.553778Z"
    }
   },
   "cell_type": "code",
   "source": "device = torch.device(\"cuda:0\" if torch.cuda.is_available() else \"cpu\")",
   "id": "caf6fde47c9ee47b",
   "outputs": [],
   "execution_count": 2
  },
  {
   "metadata": {
    "ExecuteTime": {
     "end_time": "2024-06-13T20:02:24.577778Z",
     "start_time": "2024-06-13T20:02:24.566781Z"
    }
   },
   "cell_type": "code",
   "source": "print(device)",
   "id": "c376e318c446682f",
   "outputs": [
    {
     "name": "stdout",
     "output_type": "stream",
     "text": [
      "cuda:0\n"
     ]
    }
   ],
   "execution_count": 3
  },
  {
   "metadata": {
    "ExecuteTime": {
     "end_time": "2024-06-13T20:02:24.593779Z",
     "start_time": "2024-06-13T20:02:24.580776Z"
    }
   },
   "cell_type": "code",
   "source": [
    "os.environ[\"WANDB_DISABLED\"] = \"true\"\n",
    "os.environ[\"CUDA_DEVICE_ORDER\"]=\"PCI_BUS_ID\"\n",
    "os.environ[\"CUDA_VISIBLE_DEVICES\"]=\"0\""
   ],
   "id": "69119ce26984c6d1",
   "outputs": [],
   "execution_count": 4
  },
  {
   "metadata": {
    "ExecuteTime": {
     "end_time": "2024-06-13T20:02:24.626280Z",
     "start_time": "2024-06-13T20:02:24.598785Z"
    }
   },
   "cell_type": "code",
   "source": [
    "torch.manual_seed(0)\n",
    "torch.cuda.manual_seed_all(0)"
   ],
   "id": "f16b03b2057da788",
   "outputs": [],
   "execution_count": 5
  },
  {
   "metadata": {},
   "cell_type": "markdown",
   "source": "P0",
   "id": "7edbca0ee2e828e"
  },
  {
   "metadata": {
    "ExecuteTime": {
     "end_time": "2024-06-13T13:40:20.177117Z",
     "start_time": "2024-06-13T13:40:17.389630Z"
    }
   },
   "cell_type": "code",
   "source": [
    "# fetch dataset \n",
    "wine_quality = fetch_ucirepo(id=186) \n",
    "  \n",
    "# data (as pandas dataframes) \n",
    "x = wine_quality.data.features \n",
    "y = wine_quality.data.targets "
   ],
   "id": "5bc43552e288c82",
   "outputs": [],
   "execution_count": 6
  },
  {
   "metadata": {
    "ExecuteTime": {
     "end_time": "2024-06-13T13:40:20.192118Z",
     "start_time": "2024-06-13T13:40:20.180118Z"
    }
   },
   "cell_type": "code",
   "source": "classes = len(set(y['quality']))",
   "id": "dcd32c8027eb9b0b",
   "outputs": [],
   "execution_count": 7
  },
  {
   "metadata": {
    "ExecuteTime": {
     "end_time": "2024-06-13T13:40:21.894656Z",
     "start_time": "2024-06-13T13:40:21.881651Z"
    }
   },
   "cell_type": "code",
   "source": "data_train, data_validation = train_test_split(x.join(y), random_state=104, test_size=0.25, shuffle=True)",
   "id": "5e52486caecde36c",
   "outputs": [],
   "execution_count": 8
  },
  {
   "metadata": {
    "ExecuteTime": {
     "end_time": "2024-06-13T13:40:23.220906Z",
     "start_time": "2024-06-13T13:40:23.191898Z"
    }
   },
   "cell_type": "code",
   "source": [
    "scaler = MinMaxScaler()\n",
    "columns_to_normalize = data_train.columns.tolist()[:-1]\n",
    "\n",
    "data_train[columns_to_normalize] = scaler.fit_transform(data_train[columns_to_normalize])\n",
    "data_validation[columns_to_normalize] = scaler.transform(data_validation[columns_to_normalize])"
   ],
   "id": "ea08dcbd206a7dcd",
   "outputs": [],
   "execution_count": 9
  },
  {
   "metadata": {
    "ExecuteTime": {
     "end_time": "2024-06-13T13:40:28.270542Z",
     "start_time": "2024-06-13T13:40:28.256543Z"
    }
   },
   "cell_type": "code",
   "source": [
    "dataset_train = WineDataset(data_train, y['quality'])\n",
    "dataset_validation = WineDataset(data_validation, y['quality'])\n",
    "training_loader = DataLoader(dataset_train,batch_size=128,shuffle=True)\n",
    "validation_loader = DataLoader(dataset_validation,batch_size=128,shuffle=False)"
   ],
   "id": "cb0eec8dc6e32840",
   "outputs": [],
   "execution_count": 10
  },
  {
   "metadata": {
    "ExecuteTime": {
     "end_time": "2024-06-13T13:40:30.395385Z",
     "start_time": "2024-06-13T13:40:30.368371Z"
    }
   },
   "cell_type": "code",
   "source": "model = models.Simple_Net(n_classes=classes)",
   "id": "fabfe9e6bf228365",
   "outputs": [],
   "execution_count": 11
  },
  {
   "metadata": {
    "ExecuteTime": {
     "end_time": "2024-06-13T13:40:31.620634Z",
     "start_time": "2024-06-13T13:40:31.606623Z"
    }
   },
   "cell_type": "code",
   "source": "torch.save(model.state_dict(), 'models/Simple_Net.pt')",
   "id": "2e8a0a438fbb82df",
   "outputs": [],
   "execution_count": 12
  },
  {
   "metadata": {
    "ExecuteTime": {
     "end_time": "2024-06-13T13:40:32.824248Z",
     "start_time": "2024-06-13T13:40:32.812243Z"
    }
   },
   "cell_type": "code",
   "source": "loss_fn = torch.nn.CrossEntropyLoss()",
   "id": "566068d44373cba3",
   "outputs": [],
   "execution_count": 13
  },
  {
   "metadata": {},
   "cell_type": "markdown",
   "source": "restart here when evaluating multiple optimizers ",
   "id": "9d3cd6f6ecffe0e4"
  },
  {
   "metadata": {
    "ExecuteTime": {
     "end_time": "2024-06-13T14:03:01.429568Z",
     "start_time": "2024-06-13T14:03:00.036263Z"
    }
   },
   "cell_type": "code",
   "source": "model.load_state_dict(torch.load('models/Simple_Net.pt'))",
   "id": "7fe168993c527507",
   "outputs": [
    {
     "data": {
      "text/plain": [
       "<All keys matched successfully>"
      ]
     },
     "execution_count": 35,
     "metadata": {},
     "output_type": "execute_result"
    }
   ],
   "execution_count": 35
  },
  {
   "metadata": {
    "ExecuteTime": {
     "end_time": "2024-06-13T14:03:06.606029Z",
     "start_time": "2024-06-13T14:03:06.584034Z"
    }
   },
   "cell_type": "code",
   "source": "optimizer = torch.optim.RMSprop(model.parameters())",
   "id": "e01e62a8a13e9b9c",
   "outputs": [],
   "execution_count": 36
  },
  {
   "metadata": {
    "ExecuteTime": {
     "end_time": "2024-06-13T14:03:07.720395Z",
     "start_time": "2024-06-13T14:03:07.707394Z"
    }
   },
   "cell_type": "code",
   "source": "manager = train_manager(model, loss_fn, optimizer,training_loader,validation_loader,device=device)",
   "id": "e2acbc4ec1987e70",
   "outputs": [],
   "execution_count": 37
  },
  {
   "metadata": {
    "ExecuteTime": {
     "end_time": "2024-06-13T14:05:55.559490Z",
     "start_time": "2024-06-13T14:03:08.631805Z"
    }
   },
   "cell_type": "code",
   "source": "losses = manager.train(20, verbose=True, eval_all_epochs=True, eval_mode='accuracy', is_wine=True)",
   "id": "df4d73a3eab3657f",
   "outputs": [
    {
     "name": "stderr",
     "output_type": "stream",
     "text": [
      "C:\\Users\\talf1\\anaconda3\\envs\\Opti_ML_Project\\lib\\site-packages\\torch\\nn\\modules\\module.py:1532: UserWarning: Implicit dimension choice for softmax has been deprecated. Change the call to include dim=X as an argument.\n",
      "  return self._call_impl(*args, **kwargs)\n"
     ]
    },
    {
     "name": "stdout",
     "output_type": "stream",
     "text": [
      "epoch0: train_loss: 1.7277\n",
      "eval_loss: 0.3366\n",
      "epoch1: train_loss: 1.6676\n",
      "eval_loss: 0.4689\n",
      "epoch2: train_loss: 1.6319\n",
      "eval_loss: 0.5009\n",
      "epoch3: train_loss: 1.6425\n",
      "eval_loss: 0.4886\n",
      "epoch4: train_loss: 1.6386\n",
      "eval_loss: 0.5009\n",
      "epoch5: train_loss: 1.6314\n",
      "eval_loss: 0.4683\n",
      "epoch6: train_loss: 1.6344\n",
      "eval_loss: 0.5188\n",
      "epoch7: train_loss: 1.6303\n",
      "eval_loss: 0.5169\n",
      "epoch8: train_loss: 1.6347\n",
      "eval_loss: 0.5218\n",
      "epoch9: train_loss: 1.6245\n",
      "eval_loss: 0.4449\n",
      "epoch10: train_loss: 1.6324\n",
      "eval_loss: 0.4603\n",
      "epoch11: train_loss: 1.6305\n",
      "eval_loss: 0.5040\n",
      "epoch12: train_loss: 1.6282\n",
      "eval_loss: 0.5169\n",
      "epoch13: train_loss: 1.6238\n",
      "eval_loss: 0.5102\n",
      "epoch14: train_loss: 1.6288\n",
      "eval_loss: 0.4757\n",
      "epoch15: train_loss: 1.6291\n",
      "eval_loss: 0.5071\n",
      "epoch16: train_loss: 1.6354\n",
      "eval_loss: 0.5237\n",
      "epoch17: train_loss: 1.6227\n",
      "eval_loss: 0.5262\n",
      "epoch18: train_loss: 1.6283\n",
      "eval_loss: 0.4665\n",
      "epoch19: train_loss: 1.6217\n",
      "eval_loss: 0.4658\n"
     ]
    }
   ],
   "execution_count": 38
  },
  {
   "metadata": {
    "ExecuteTime": {
     "end_time": "2024-06-13T14:05:55.590484Z",
     "start_time": "2024-06-13T14:05:55.565490Z"
    }
   },
   "cell_type": "code",
   "source": "print(torch.max(torch.tensor(losses[1])))",
   "id": "8623c108ad8eabee",
   "outputs": [
    {
     "name": "stdout",
     "output_type": "stream",
     "text": [
      "tensor(0.5262)\n"
     ]
    }
   ],
   "execution_count": 39
  },
  {
   "metadata": {
    "ExecuteTime": {
     "end_time": "2024-06-13T14:05:55.621518Z",
     "start_time": "2024-06-13T14:05:55.594490Z"
    }
   },
   "cell_type": "code",
   "source": "torch.save(torch.tensor(losses[1]), 'results/RMSprop_P0.pt')",
   "id": "291b62ca3c4ead89",
   "outputs": [],
   "execution_count": 40
  },
  {
   "metadata": {},
   "cell_type": "markdown",
   "source": "P1",
   "id": "68dd7ea0fcbba6cc"
  },
  {
   "metadata": {
    "ExecuteTime": {
     "end_time": "2024-06-12T21:15:36.458020Z",
     "start_time": "2024-06-12T21:15:36.420977Z"
    }
   },
   "cell_type": "code",
   "source": [
    "transform = transforms.Compose(\n",
    "    [transforms.ToTensor(),\n",
    "    transforms.Normalize((0.5,), (0.5,))])"
   ],
   "id": "f44eb1b21ae2d9e1",
   "outputs": [],
   "execution_count": 40
  },
  {
   "metadata": {
    "ExecuteTime": {
     "end_time": "2024-06-12T21:15:37.216958Z",
     "start_time": "2024-06-12T21:15:37.050250Z"
    }
   },
   "cell_type": "code",
   "source": [
    "training_set = torchvision.datasets.FashionMNIST('./data', train=True, transform=transform, download=True)\n",
    "validation_set = torchvision.datasets.FashionMNIST('./data', train=False, transform=transform, download=True)"
   ],
   "id": "c3df4545dfa06b83",
   "outputs": [],
   "execution_count": 41
  },
  {
   "metadata": {
    "ExecuteTime": {
     "end_time": "2024-06-12T21:15:37.991523Z",
     "start_time": "2024-06-12T21:15:37.971487Z"
    }
   },
   "cell_type": "code",
   "source": [
    "training_loader = torch.utils.data.DataLoader(training_set, batch_size=128, shuffle=True)\n",
    "validation_loader = torch.utils.data.DataLoader(validation_set, batch_size=128, shuffle=False)"
   ],
   "id": "28deecb2ae3012b2",
   "outputs": [],
   "execution_count": 42
  },
  {
   "metadata": {
    "ExecuteTime": {
     "end_time": "2024-06-12T21:15:39.308237Z",
     "start_time": "2024-06-12T21:15:39.131731Z"
    }
   },
   "cell_type": "code",
   "source": "model = models.CNN_Simple()",
   "id": "60a217936eac3868",
   "outputs": [],
   "execution_count": 43
  },
  {
   "metadata": {
    "ExecuteTime": {
     "end_time": "2024-06-12T21:15:40.316092Z",
     "start_time": "2024-06-12T21:15:40.269469Z"
    }
   },
   "cell_type": "code",
   "source": "torch.save(model.state_dict(), 'models/CNN_Simple.pt')",
   "id": "6f9539b7a48c13fa",
   "outputs": [],
   "execution_count": 44
  },
  {
   "metadata": {
    "ExecuteTime": {
     "end_time": "2024-06-12T21:15:41.635125Z",
     "start_time": "2024-06-12T21:15:41.612588Z"
    }
   },
   "cell_type": "code",
   "source": "loss_fn = torch.nn.CrossEntropyLoss()",
   "id": "f83fbeefc2e735a5",
   "outputs": [],
   "execution_count": 45
  },
  {
   "metadata": {},
   "cell_type": "markdown",
   "source": "start again here if evaluating for multiple optimizers",
   "id": "2ab9b2314b191670"
  },
  {
   "metadata": {
    "ExecuteTime": {
     "end_time": "2024-06-12T21:15:43.530625Z",
     "start_time": "2024-06-12T21:15:43.471791Z"
    }
   },
   "cell_type": "code",
   "source": "model.load_state_dict(torch.load('models/CNN_Simple.pt'))",
   "id": "71c1be6a35caa3d6",
   "outputs": [
    {
     "data": {
      "text/plain": [
       "<All keys matched successfully>"
      ]
     },
     "execution_count": 46,
     "metadata": {},
     "output_type": "execute_result"
    }
   ],
   "execution_count": 46
  },
  {
   "metadata": {
    "ExecuteTime": {
     "end_time": "2024-06-12T21:15:44.156383Z",
     "start_time": "2024-06-12T21:15:44.122314Z"
    }
   },
   "cell_type": "code",
   "source": "optimizer = torch.optim.RMSprop(model.parameters())",
   "id": "5287ad8967603124",
   "outputs": [],
   "execution_count": 47
  },
  {
   "metadata": {
    "ExecuteTime": {
     "end_time": "2024-06-12T21:15:45.763110Z",
     "start_time": "2024-06-12T21:15:44.775226Z"
    }
   },
   "cell_type": "code",
   "source": "manager = train_manager(model, loss_fn, optimizer,training_loader,validation_loader,device=device)",
   "id": "11176b7ef380f1bb",
   "outputs": [],
   "execution_count": 48
  },
  {
   "metadata": {
    "ExecuteTime": {
     "end_time": "2024-06-12T21:26:23.127415Z",
     "start_time": "2024-06-12T21:15:46.274385Z"
    }
   },
   "cell_type": "code",
   "source": "losses = manager.train(20, verbose=True, eval_all_epochs=True, eval_mode='accuracy')",
   "id": "c26dba082a5498c7",
   "outputs": [
    {
     "name": "stderr",
     "output_type": "stream",
     "text": [
      "C:\\Users\\talf1\\anaconda3\\envs\\Opti_ML_Project\\lib\\site-packages\\torch\\autograd\\graph.py:744: UserWarning: Plan failed with a cudnnException: CUDNN_BACKEND_EXECUTION_PLAN_DESCRIPTOR: cudnnFinalize Descriptor Failed cudnn_status: CUDNN_STATUS_NOT_SUPPORTED (Triggered internally at ..\\aten\\src\\ATen\\native\\cudnn\\Conv_v8.cpp:919.)\n",
      "  return Variable._execution_engine.run_backward(  # Calls into the C++ engine to run the backward pass\n"
     ]
    },
    {
     "name": "stdout",
     "output_type": "stream",
     "text": [
      "epoch0: train_loss: 1.1561\n",
      "eval_loss: 0.7774\n",
      "epoch1: train_loss: 0.5578\n",
      "eval_loss: 0.7893\n",
      "epoch2: train_loss: 0.4751\n",
      "eval_loss: 0.8360\n",
      "epoch3: train_loss: 0.4355\n",
      "eval_loss: 0.8465\n",
      "epoch4: train_loss: 0.4009\n",
      "eval_loss: 0.8421\n",
      "epoch5: train_loss: 0.3849\n",
      "eval_loss: 0.7981\n",
      "epoch6: train_loss: 0.3771\n",
      "eval_loss: 0.8542\n",
      "epoch7: train_loss: 0.3633\n",
      "eval_loss: 0.8564\n",
      "epoch8: train_loss: 0.3545\n",
      "eval_loss: 0.8640\n",
      "epoch9: train_loss: 0.3481\n",
      "eval_loss: 0.8664\n",
      "epoch10: train_loss: 0.3402\n",
      "eval_loss: 0.8668\n",
      "epoch11: train_loss: 0.3391\n",
      "eval_loss: 0.8480\n",
      "epoch12: train_loss: 0.3344\n",
      "eval_loss: 0.8649\n",
      "epoch13: train_loss: 0.3317\n",
      "eval_loss: 0.8620\n",
      "epoch14: train_loss: 0.3271\n",
      "eval_loss: 0.8716\n",
      "epoch15: train_loss: 0.3265\n",
      "eval_loss: 0.8585\n",
      "epoch16: train_loss: 0.3303\n",
      "eval_loss: 0.8709\n",
      "epoch17: train_loss: 0.3169\n",
      "eval_loss: 0.8615\n",
      "epoch18: train_loss: 0.3186\n",
      "eval_loss: 0.8578\n",
      "epoch19: train_loss: 0.3149\n",
      "eval_loss: 0.8617\n"
     ]
    }
   ],
   "execution_count": 49
  },
  {
   "metadata": {
    "ExecuteTime": {
     "end_time": "2024-06-09T00:03:01.177368Z",
     "start_time": "2024-06-09T00:03:01.164619Z"
    }
   },
   "cell_type": "code",
   "source": "print(torch.max(torch.tensor(losses[1])))",
   "id": "c4a55cc05a2ff9b6",
   "outputs": [
    {
     "name": "stdout",
     "output_type": "stream",
     "text": [
      "tensor(0.8732)\n"
     ]
    }
   ],
   "execution_count": 66
  },
  {
   "metadata": {
    "ExecuteTime": {
     "end_time": "2024-06-09T00:03:01.192433Z",
     "start_time": "2024-06-09T00:03:01.179365Z"
    }
   },
   "cell_type": "code",
   "source": "torch.save(torch.tensor(losses[1]), 'results/RMSprop_P1.pt')",
   "id": "9ff87113d6ddc740",
   "outputs": [],
   "execution_count": 67
  },
  {
   "metadata": {},
   "cell_type": "markdown",
   "source": "P3",
   "id": "d03c02642eb74f6b"
  },
  {
   "metadata": {
    "ExecuteTime": {
     "end_time": "2024-06-13T20:03:29.590762Z",
     "start_time": "2024-06-13T20:03:29.576766Z"
    }
   },
   "cell_type": "code",
   "source": [
    "transform = transforms.Compose(\n",
    "    [transforms.ToTensor(),\n",
    "    transforms.Normalize((0.5,), (0.5,))])"
   ],
   "id": "6fd945e248757335",
   "outputs": [],
   "execution_count": 6
  },
  {
   "metadata": {
    "ExecuteTime": {
     "end_time": "2024-06-13T20:03:30.660716Z",
     "start_time": "2024-06-13T20:03:30.517825Z"
    }
   },
   "cell_type": "code",
   "source": [
    "training_set = torchvision.datasets.FashionMNIST('./data', train=True, transform=transform, download=True)\n",
    "validation_set = torchvision.datasets.FashionMNIST('./data', train=False, transform=transform, download=True)\n",
    "training_loader = torch.utils.data.DataLoader(training_set, batch_size=128, shuffle=True)\n",
    "validation_loader = torch.utils.data.DataLoader(validation_set, batch_size=128, shuffle=False)"
   ],
   "id": "db3b2153b7758a2e",
   "outputs": [],
   "execution_count": 7
  },
  {
   "metadata": {
    "ExecuteTime": {
     "end_time": "2024-06-13T20:03:32.653617Z",
     "start_time": "2024-06-13T20:03:32.625620Z"
    }
   },
   "cell_type": "code",
   "source": "model = models.VAE()",
   "id": "d2a17d4632bb69fd",
   "outputs": [],
   "execution_count": 8
  },
  {
   "metadata": {
    "ExecuteTime": {
     "end_time": "2024-06-13T20:03:33.484430Z",
     "start_time": "2024-06-13T20:03:33.470435Z"
    }
   },
   "cell_type": "code",
   "source": "loss_fn = torch.nn.CrossEntropyLoss()",
   "id": "128f739fcd354878",
   "outputs": [],
   "execution_count": 9
  },
  {
   "metadata": {
    "ExecuteTime": {
     "end_time": "2024-06-13T20:03:35.360002Z",
     "start_time": "2024-06-13T20:03:35.346002Z"
    }
   },
   "cell_type": "code",
   "source": "torch.save(model.state_dict(), 'models/VAE.pt')",
   "id": "f3888035e13bf645",
   "outputs": [],
   "execution_count": 10
  },
  {
   "metadata": {},
   "cell_type": "markdown",
   "source": "restart here if evaluating for multiple optimizers",
   "id": "2337623a038f07b0"
  },
  {
   "metadata": {
    "ExecuteTime": {
     "end_time": "2024-06-13T20:03:39.747517Z",
     "start_time": "2024-06-13T20:03:39.709992Z"
    }
   },
   "cell_type": "code",
   "source": "model.load_state_dict(torch.load('models/VAE.pt'))",
   "id": "5b90c047029c48b8",
   "outputs": [
    {
     "data": {
      "text/plain": [
       "<All keys matched successfully>"
      ]
     },
     "execution_count": 11,
     "metadata": {},
     "output_type": "execute_result"
    }
   ],
   "execution_count": 11
  },
  {
   "metadata": {
    "ExecuteTime": {
     "end_time": "2024-06-13T20:03:44.048615Z",
     "start_time": "2024-06-13T20:03:44.032598Z"
    }
   },
   "cell_type": "code",
   "source": "optimizer = torch.optim.RMSprop(model.parameters())",
   "id": "bad8ff401dbdae1f",
   "outputs": [],
   "execution_count": 12
  },
  {
   "metadata": {
    "ExecuteTime": {
     "end_time": "2024-06-13T20:05:03.206690Z",
     "start_time": "2024-06-13T20:05:02.028092Z"
    }
   },
   "cell_type": "code",
   "source": "manager = train_manager(model, loss_fn, optimizer, training_loader, validation_loader, device=device)",
   "id": "3417df932f50d833",
   "outputs": [],
   "execution_count": 13
  },
  {
   "metadata": {
    "ExecuteTime": {
     "end_time": "2024-06-13T20:16:55.338033Z",
     "start_time": "2024-06-13T20:05:04.912008Z"
    }
   },
   "cell_type": "code",
   "source": "losses = manager.train(20, verbose=True, eval_all_epochs=True, eval_mode='loss')",
   "id": "26f42f896894cb17",
   "outputs": [
    {
     "name": "stdout",
     "output_type": "stream",
     "text": [
      "epoch0: train_loss: 5.6938\n",
      "eval_loss: 5.6862\n",
      "epoch1: train_loss: 5.6861\n",
      "eval_loss: 5.6861\n",
      "epoch2: train_loss: 5.6861\n",
      "eval_loss: 5.6861\n",
      "epoch3: train_loss: 5.6861\n",
      "eval_loss: 5.6861\n",
      "epoch4: train_loss: 5.6861\n",
      "eval_loss: 5.6861\n",
      "epoch5: train_loss: 5.6861\n",
      "eval_loss: 5.6861\n",
      "epoch6: train_loss: 5.6861\n",
      "eval_loss: 5.6861\n",
      "epoch7: train_loss: 5.6861\n",
      "eval_loss: 5.6861\n",
      "epoch8: train_loss: 5.6861\n",
      "eval_loss: 5.6861\n",
      "epoch9: train_loss: 5.6861\n",
      "eval_loss: 5.6861\n",
      "epoch10: train_loss: 5.6861\n",
      "eval_loss: 5.6861\n",
      "epoch11: train_loss: 5.6861\n",
      "eval_loss: 5.6861\n",
      "epoch12: train_loss: 5.6861\n",
      "eval_loss: 5.6861\n",
      "epoch13: train_loss: 5.6861\n",
      "eval_loss: 5.6861\n",
      "epoch14: train_loss: 5.6861\n",
      "eval_loss: 5.6861\n",
      "epoch15: train_loss: 5.6861\n",
      "eval_loss: 5.6861\n",
      "epoch16: train_loss: 5.6861\n",
      "eval_loss: 5.6861\n",
      "epoch17: train_loss: 5.6861\n",
      "eval_loss: 5.6861\n",
      "epoch18: train_loss: 5.6861\n",
      "eval_loss: 5.6861\n",
      "epoch19: train_loss: 5.6861\n",
      "eval_loss: 5.6861\n"
     ]
    }
   ],
   "execution_count": 14
  },
  {
   "metadata": {
    "ExecuteTime": {
     "end_time": "2024-06-13T20:24:58.074524Z",
     "start_time": "2024-06-13T20:24:57.697008Z"
    }
   },
   "cell_type": "code",
   "source": [
    "print(torch.tensor(losses[1]))\n",
    "print(torch.load('results/RMSprop_P3.pt'))"
   ],
   "id": "7da57bbc92aa174c",
   "outputs": [
    {
     "name": "stdout",
     "output_type": "stream",
     "text": [
      "tensor([5.6862, 5.6861, 5.6861, 5.6861, 5.6861, 5.6861, 5.6861, 5.6861, 5.6861,\n",
      "        5.6861, 5.6861, 5.6861, 5.6861, 5.6861, 5.6861, 5.6861, 5.6861, 5.6861,\n",
      "        5.6861, 5.6861])\n",
      "tensor([5.6861, 5.6861, 5.6861, 5.6861, 5.6861, 5.6861, 5.6861, 5.6861, 5.6861,\n",
      "        5.6861, 5.6861, 5.6861, 5.6861, 5.6861, 5.6861, 5.6861, 5.6861, 5.6861,\n",
      "        5.6861, 5.6861])\n"
     ]
    }
   ],
   "execution_count": 15
  },
  {
   "metadata": {
    "ExecuteTime": {
     "end_time": "2024-06-13T20:25:23.351307Z",
     "start_time": "2024-06-13T20:25:23.299370Z"
    }
   },
   "cell_type": "code",
   "source": "print(torch.min(torch.tensor(losses[1])))",
   "id": "21dcddc4fdb65067",
   "outputs": [
    {
     "name": "stdout",
     "output_type": "stream",
     "text": [
      "tensor(5.6861)\n"
     ]
    }
   ],
   "execution_count": 16
  },
  {
   "metadata": {
    "ExecuteTime": {
     "end_time": "2024-06-13T20:25:26.219695Z",
     "start_time": "2024-06-13T20:25:26.163680Z"
    }
   },
   "cell_type": "code",
   "source": "torch.save(torch.tensor(losses[1]), 'results/RMSprop_P3.pt')",
   "id": "775ad098448b5c00",
   "outputs": [],
   "execution_count": 17
  },
  {
   "metadata": {},
   "cell_type": "markdown",
   "source": "P4",
   "id": "28140bb58d12bef1"
  },
  {
   "metadata": {
    "ExecuteTime": {
     "end_time": "2024-06-09T19:10:08.661298Z",
     "start_time": "2024-06-09T19:10:08.642554Z"
    }
   },
   "cell_type": "code",
   "source": [
    "transform = transforms.Compose(\n",
    "    [transforms.ToTensor(),\n",
    "    transforms.Normalize((0.5074,0.4867,0.4411),(0.2011,0.1987,0.2025))]\n",
    ")"
   ],
   "id": "17025a269610d28d",
   "outputs": [],
   "execution_count": 5
  },
  {
   "metadata": {
    "ExecuteTime": {
     "end_time": "2024-06-09T19:10:12.353711Z",
     "start_time": "2024-06-09T19:10:08.835588Z"
    }
   },
   "cell_type": "code",
   "source": [
    "training_set = torchvision.datasets.CIFAR100('./data', train=True, transform=transform, download=True)\n",
    "validation_set = torchvision.datasets.CIFAR100('./data', train=False, transform=transform, download=True)\n",
    "training_loader = torch.utils.data.DataLoader(training_set, batch_size=256, shuffle=True)\n",
    "validation_loader = torch.utils.data.DataLoader(validation_set, batch_size=256, shuffle=False)"
   ],
   "id": "3489eeb44375b1f2",
   "outputs": [
    {
     "name": "stdout",
     "output_type": "stream",
     "text": [
      "Files already downloaded and verified\n",
      "Files already downloaded and verified\n"
     ]
    }
   ],
   "execution_count": 6
  },
  {
   "metadata": {
    "ExecuteTime": {
     "end_time": "2024-06-09T19:10:15.444743Z",
     "start_time": "2024-06-09T19:10:15.402541Z"
    }
   },
   "cell_type": "code",
   "source": "model = models.All_CNN_C()",
   "id": "3aeca7b64bf36aa7",
   "outputs": [],
   "execution_count": 7
  },
  {
   "metadata": {
    "ExecuteTime": {
     "end_time": "2024-06-09T19:10:16.459286Z",
     "start_time": "2024-06-09T19:10:16.440313Z"
    }
   },
   "cell_type": "code",
   "source": "loss_fn = torch.nn.CrossEntropyLoss()",
   "id": "17281f894b5945a7",
   "outputs": [],
   "execution_count": 8
  },
  {
   "metadata": {
    "ExecuteTime": {
     "end_time": "2024-06-09T19:10:17.578791Z",
     "start_time": "2024-06-09T19:10:17.560621Z"
    }
   },
   "cell_type": "code",
   "source": "torch.save(model.state_dict(), 'models/All_CNN_C.pt')",
   "id": "2610151b78aa860d",
   "outputs": [],
   "execution_count": 9
  },
  {
   "metadata": {},
   "cell_type": "markdown",
   "source": "restart here if evaluating multiple optimizers",
   "id": "78075335387d5e00"
  },
  {
   "metadata": {
    "ExecuteTime": {
     "end_time": "2024-06-09T19:10:19.353616Z",
     "start_time": "2024-06-09T19:10:19.311294Z"
    }
   },
   "cell_type": "code",
   "source": "model.load_state_dict(torch.load('models/All_CNN_C.pt'))",
   "id": "31d7108e8bb3b0a",
   "outputs": [
    {
     "data": {
      "text/plain": [
       "<All keys matched successfully>"
      ]
     },
     "execution_count": 10,
     "metadata": {},
     "output_type": "execute_result"
    }
   ],
   "execution_count": 10
  },
  {
   "metadata": {
    "ExecuteTime": {
     "end_time": "2024-06-09T19:10:21.483949Z",
     "start_time": "2024-06-09T19:10:21.478364Z"
    }
   },
   "cell_type": "code",
   "source": "optimizer = torch.optim.SGD(model.parameters())",
   "id": "8f474bcf307effc9",
   "outputs": [],
   "execution_count": 11
  },
  {
   "metadata": {
    "ExecuteTime": {
     "end_time": "2024-06-09T19:10:23.863647Z",
     "start_time": "2024-06-09T19:10:22.425737Z"
    }
   },
   "cell_type": "code",
   "source": "manager = train_manager(model, loss_fn, optimizer, training_loader, validation_loader, device=device)",
   "id": "1f8366757f84c8e3",
   "outputs": [],
   "execution_count": 12
  },
  {
   "metadata": {
    "ExecuteTime": {
     "end_time": "2024-06-09T20:40:52.577354Z",
     "start_time": "2024-06-09T19:10:24.880457Z"
    }
   },
   "cell_type": "code",
   "source": "losses = manager.train(20, verbose=True, eval_all_epochs=True, eval_mode='accuracy')",
   "id": "f5ba3f3815638b8f",
   "outputs": [
    {
     "name": "stderr",
     "output_type": "stream",
     "text": [
      "C:\\Users\\talf1\\anaconda3\\envs\\Opti_ML_Project\\lib\\site-packages\\torch\\autograd\\graph.py:744: UserWarning: Plan failed with a cudnnException: CUDNN_BACKEND_EXECUTION_PLAN_DESCRIPTOR: cudnnFinalize Descriptor Failed cudnn_status: CUDNN_STATUS_NOT_SUPPORTED (Triggered internally at ..\\aten\\src\\ATen\\native\\cudnn\\Conv_v8.cpp:919.)\n",
      "  return Variable._execution_engine.run_backward(  # Calls into the C++ engine to run the backward pass\n"
     ]
    },
    {
     "name": "stdout",
     "output_type": "stream",
     "text": [
      "epoch0: train_loss: 4.6056\n",
      "eval_loss: 0.0100\n",
      "epoch1: train_loss: 4.6056\n",
      "eval_loss: 0.0100\n",
      "epoch2: train_loss: 4.6056\n",
      "eval_loss: 0.0100\n",
      "epoch3: train_loss: 4.6056\n",
      "eval_loss: 0.0100\n",
      "epoch4: train_loss: 4.6056\n",
      "eval_loss: 0.0100\n",
      "epoch5: train_loss: 4.6056\n",
      "eval_loss: 0.0100\n",
      "epoch6: train_loss: 4.6056\n",
      "eval_loss: 0.0100\n",
      "epoch7: train_loss: 4.6056\n",
      "eval_loss: 0.0100\n"
     ]
    },
    {
     "ename": "KeyboardInterrupt",
     "evalue": "",
     "output_type": "error",
     "traceback": [
      "\u001B[1;31m---------------------------------------------------------------------------\u001B[0m",
      "\u001B[1;31mKeyboardInterrupt\u001B[0m                         Traceback (most recent call last)",
      "Cell \u001B[1;32mIn[13], line 1\u001B[0m\n\u001B[1;32m----> 1\u001B[0m losses \u001B[38;5;241m=\u001B[39m \u001B[43mmanager\u001B[49m\u001B[38;5;241;43m.\u001B[39;49m\u001B[43mtrain\u001B[49m\u001B[43m(\u001B[49m\u001B[38;5;241;43m20\u001B[39;49m\u001B[43m,\u001B[49m\u001B[43m \u001B[49m\u001B[43mverbose\u001B[49m\u001B[38;5;241;43m=\u001B[39;49m\u001B[38;5;28;43;01mTrue\u001B[39;49;00m\u001B[43m,\u001B[49m\u001B[43m \u001B[49m\u001B[43meval_all_epochs\u001B[49m\u001B[38;5;241;43m=\u001B[39;49m\u001B[38;5;28;43;01mTrue\u001B[39;49;00m\u001B[43m,\u001B[49m\u001B[43m \u001B[49m\u001B[43meval_mode\u001B[49m\u001B[38;5;241;43m=\u001B[39;49m\u001B[38;5;124;43m'\u001B[39;49m\u001B[38;5;124;43maccuracy\u001B[39;49m\u001B[38;5;124;43m'\u001B[39;49m\u001B[43m)\u001B[49m\n",
      "File \u001B[1;32m~\\PycharmProjects\\Opti_ML_Project\\pytorch_optim_training_manager.py:35\u001B[0m, in \u001B[0;36mtrain_manager.train\u001B[1;34m(self, epochs, eval_all_epochs, eval_mode, verbose)\u001B[0m\n\u001B[0;32m     33\u001B[0m \u001B[38;5;28;01mfor\u001B[39;00m epoch \u001B[38;5;129;01min\u001B[39;00m \u001B[38;5;28mrange\u001B[39m(epochs):\n\u001B[0;32m     34\u001B[0m     \u001B[38;5;28mself\u001B[39m\u001B[38;5;241m.\u001B[39mmodel\u001B[38;5;241m.\u001B[39mtrain(\u001B[38;5;28;01mTrue\u001B[39;00m)\n\u001B[1;32m---> 35\u001B[0m     avg_loss \u001B[38;5;241m=\u001B[39m \u001B[38;5;28;43mself\u001B[39;49m\u001B[38;5;241;43m.\u001B[39;49m\u001B[43mtrain_one_epoch\u001B[49m\u001B[43m(\u001B[49m\u001B[43m)\u001B[49m\n\u001B[0;32m     36\u001B[0m     train_losses\u001B[38;5;241m.\u001B[39mappend(avg_loss)\n\u001B[0;32m     37\u001B[0m     \u001B[38;5;28;01mif\u001B[39;00m eval_all_epochs:\n",
      "File \u001B[1;32m~\\PycharmProjects\\Opti_ML_Project\\pytorch_optim_training_manager.py:26\u001B[0m, in \u001B[0;36mtrain_manager.train_one_epoch\u001B[1;34m(self)\u001B[0m\n\u001B[0;32m     24\u001B[0m     loss\u001B[38;5;241m.\u001B[39mbackward()\n\u001B[0;32m     25\u001B[0m     \u001B[38;5;28mself\u001B[39m\u001B[38;5;241m.\u001B[39moptimizer\u001B[38;5;241m.\u001B[39mstep()\n\u001B[1;32m---> 26\u001B[0m     epoch_loss \u001B[38;5;241m+\u001B[39m\u001B[38;5;241m=\u001B[39m \u001B[43mloss\u001B[49m\u001B[38;5;241;43m.\u001B[39;49m\u001B[43mitem\u001B[49m\u001B[43m(\u001B[49m\u001B[43m)\u001B[49m\n\u001B[0;32m     27\u001B[0m \u001B[38;5;66;03m# return mean loss over the whole epoch\u001B[39;00m\n\u001B[0;32m     28\u001B[0m \u001B[38;5;28;01mreturn\u001B[39;00m epoch_loss \u001B[38;5;241m/\u001B[39m (i \u001B[38;5;241m+\u001B[39m \u001B[38;5;241m1\u001B[39m)\n",
      "\u001B[1;31mKeyboardInterrupt\u001B[0m: "
     ]
    }
   ],
   "execution_count": 13
  },
  {
   "metadata": {},
   "cell_type": "markdown",
   "source": "P5",
   "id": "97a8e496a90bbdfd"
  },
  {
   "metadata": {
    "ExecuteTime": {
     "end_time": "2024-06-13T18:52:11.214798Z",
     "start_time": "2024-06-13T18:52:01.099176Z"
    }
   },
   "cell_type": "code",
   "source": [
    "# get wikitext dataset from datasets library\n",
    "dataset = load_dataset(\"wikitext\", 'wikitext-2-v1', split='train')"
   ],
   "id": "40891ed6bbe8550e",
   "outputs": [],
   "execution_count": 42
  },
  {
   "metadata": {
    "ExecuteTime": {
     "end_time": "2024-06-13T18:52:16.772451Z",
     "start_time": "2024-06-13T18:52:16.697453Z"
    }
   },
   "cell_type": "code",
   "source": [
    "# clean the data\n",
    "dataset = dataset.filter(lambda x: 100 <= len(x['text'].split()) <= 128)\n",
    "dataset = dataset.filter(lambda x: not re.match(\" = .* = \\n\", x['text']))\n",
    "dataset = dataset.filter(lambda x: isEnglish(x['text']))\n",
    "dataset = dataset.map(lambda x: lowerCase(x))"
   ],
   "id": "87f1cbb34e881969",
   "outputs": [],
   "execution_count": 44
  },
  {
   "metadata": {
    "ExecuteTime": {
     "end_time": "2024-06-13T18:52:18.822925Z",
     "start_time": "2024-06-13T18:52:18.418171Z"
    }
   },
   "cell_type": "code",
   "source": [
    "# build wikitext vocabulary for the dataset\n",
    "wikitext_dataset, token_freq_dict = build_vocabulary(dataset, min_freq=5, unk_token='<unk>')"
   ],
   "id": "dc8129f891e9f390",
   "outputs": [],
   "execution_count": 46
  },
  {
   "metadata": {
    "ExecuteTime": {
     "end_time": "2024-06-13T18:52:22.227252Z",
     "start_time": "2024-06-13T18:52:22.001156Z"
    }
   },
   "cell_type": "code",
   "source": [
    "MAX_SEQ_LENGTH = 128\n",
    "lstm_dataset = LSTMDataset(dataset=wikitext_dataset,\n",
    "                         max_seq_length=MAX_SEQ_LENGTH)"
   ],
   "id": "738cbcfff184da0a",
   "outputs": [
    {
     "name": "stdout",
     "output_type": "stream",
     "text": [
      "Getting dataset's vocabulary\n"
     ]
    },
    {
     "name": "stderr",
     "output_type": "stream",
     "text": [
      "100%|██████████| 1158/1158 [00:00<00:00, 9770.25it/s]\n"
     ]
    }
   ],
   "execution_count": 48
  },
  {
   "metadata": {
    "ExecuteTime": {
     "end_time": "2024-06-13T18:52:26.855757Z",
     "start_time": "2024-06-13T18:52:26.811755Z"
    }
   },
   "cell_type": "code",
   "source": [
    "# split dataset into train and validation and get a loader\n",
    "train_loader, val_loader = get_LSTM_dataloaders(lstm_dataset, test_ratio=0.1)"
   ],
   "id": "2aa7a0d3248b243c",
   "outputs": [],
   "execution_count": 50
  },
  {
   "metadata": {
    "ExecuteTime": {
     "end_time": "2024-06-13T21:16:31.162311Z",
     "start_time": "2024-06-13T21:16:28.843111Z"
    }
   },
   "cell_type": "code",
   "source": [
    "# set model parameters\n",
    "vocab_size = len(lstm_dataset.token2idx)\n",
    "embedding_dim = 100\n",
    "hidden_dim = 100\n",
    "dropout_rate = 0.15"
   ],
   "id": "28bcbf266deb4852",
   "outputs": [
    {
     "ename": "NameError",
     "evalue": "name 'lstm_dataset' is not defined",
     "output_type": "error",
     "traceback": [
      "\u001B[1;31m---------------------------------------------------------------------------\u001B[0m",
      "\u001B[1;31mNameError\u001B[0m                                 Traceback (most recent call last)",
      "Cell \u001B[1;32mIn[19], line 2\u001B[0m\n\u001B[0;32m      1\u001B[0m \u001B[38;5;66;03m# set model parameters\u001B[39;00m\n\u001B[1;32m----> 2\u001B[0m vocab_size \u001B[38;5;241m=\u001B[39m \u001B[38;5;28mlen\u001B[39m(\u001B[43mlstm_dataset\u001B[49m\u001B[38;5;241m.\u001B[39mtoken2idx)\n\u001B[0;32m      3\u001B[0m embedding_dim \u001B[38;5;241m=\u001B[39m \u001B[38;5;241m100\u001B[39m\n\u001B[0;32m      4\u001B[0m hidden_dim \u001B[38;5;241m=\u001B[39m \u001B[38;5;241m100\u001B[39m\n",
      "\u001B[1;31mNameError\u001B[0m: name 'lstm_dataset' is not defined"
     ]
    }
   ],
   "execution_count": 19
  },
  {
   "metadata": {
    "ExecuteTime": {
     "end_time": "2024-06-13T18:52:30.759139Z",
     "start_time": "2024-06-13T18:52:30.677612Z"
    }
   },
   "cell_type": "code",
   "source": "model = models.LSTM(vocab_size=vocab_size,input_dim=embedding_dim,hidden_dim=hidden_dim,dropout_rate=dropout_rate)",
   "id": "391ca47e6a598351",
   "outputs": [],
   "execution_count": 52
  },
  {
   "metadata": {
    "ExecuteTime": {
     "end_time": "2024-06-13T18:52:35.570978Z",
     "start_time": "2024-06-13T18:52:35.560978Z"
    }
   },
   "cell_type": "code",
   "source": "loss_fn = torch.nn.CrossEntropyLoss(ignore_index=lstm_dataset.pad_idx)",
   "id": "3017bc2208319526",
   "outputs": [],
   "execution_count": 53
  },
  {
   "metadata": {
    "ExecuteTime": {
     "end_time": "2024-06-10T00:26:36.871474Z",
     "start_time": "2024-06-10T00:26:36.852472Z"
    }
   },
   "cell_type": "code",
   "source": "torch.save(model.state_dict(), 'models/LSTM.pt')",
   "id": "7fbe1890ba327d09",
   "outputs": [],
   "execution_count": 17
  },
  {
   "metadata": {},
   "cell_type": "markdown",
   "source": "Restart here for evaluating multiple optimizers",
   "id": "677748fecc345228"
  },
  {
   "metadata": {},
   "cell_type": "markdown",
   "source": "",
   "id": "1b9e68fbd9acfeb9"
  },
  {
   "metadata": {
    "ExecuteTime": {
     "end_time": "2024-06-13T18:52:43.397140Z",
     "start_time": "2024-06-13T18:52:43.343129Z"
    }
   },
   "cell_type": "code",
   "source": "model.load_state_dict(torch.load('models/LSTM.pt'))",
   "id": "f34e92c4890fe7",
   "outputs": [
    {
     "data": {
      "text/plain": [
       "<All keys matched successfully>"
      ]
     },
     "execution_count": 54,
     "metadata": {},
     "output_type": "execute_result"
    }
   ],
   "execution_count": 54
  },
  {
   "metadata": {
    "ExecuteTime": {
     "end_time": "2024-06-13T18:52:50.417827Z",
     "start_time": "2024-06-13T18:52:50.390558Z"
    }
   },
   "cell_type": "code",
   "source": "optimizer = torch.optim.RMSprop(model.parameters())",
   "id": "5c59dfe99de6d7d2",
   "outputs": [],
   "execution_count": 55
  },
  {
   "metadata": {
    "ExecuteTime": {
     "end_time": "2024-06-13T18:52:54.907872Z",
     "start_time": "2024-06-13T18:52:53.266067Z"
    }
   },
   "cell_type": "code",
   "source": "manager = train_manager(model, loss_fn, optimizer, train_loader, val_loader, device=device)",
   "id": "abdfc29b41e1336c",
   "outputs": [],
   "execution_count": 56
  },
  {
   "metadata": {
    "ExecuteTime": {
     "end_time": "2024-06-13T19:06:18.914804Z",
     "start_time": "2024-06-13T18:52:59.045089Z"
    }
   },
   "cell_type": "code",
   "source": "losses = manager.train(20, verbose=True, eval_all_epochs=True, eval_mode='accuracy', is_LSTM=True)",
   "id": "9c52789134b605c6",
   "outputs": [
    {
     "ename": "KeyboardInterrupt",
     "evalue": "",
     "output_type": "error",
     "traceback": [
      "\u001B[1;31m---------------------------------------------------------------------------\u001B[0m",
      "\u001B[1;31mKeyboardInterrupt\u001B[0m                         Traceback (most recent call last)",
      "Cell \u001B[1;32mIn[57], line 1\u001B[0m\n\u001B[1;32m----> 1\u001B[0m losses \u001B[38;5;241m=\u001B[39m \u001B[43mmanager\u001B[49m\u001B[38;5;241;43m.\u001B[39;49m\u001B[43mtrain\u001B[49m\u001B[43m(\u001B[49m\u001B[38;5;241;43m20\u001B[39;49m\u001B[43m,\u001B[49m\u001B[43m \u001B[49m\u001B[43mverbose\u001B[49m\u001B[38;5;241;43m=\u001B[39;49m\u001B[38;5;28;43;01mTrue\u001B[39;49;00m\u001B[43m,\u001B[49m\u001B[43m \u001B[49m\u001B[43meval_all_epochs\u001B[49m\u001B[38;5;241;43m=\u001B[39;49m\u001B[38;5;28;43;01mTrue\u001B[39;49;00m\u001B[43m,\u001B[49m\u001B[43m \u001B[49m\u001B[43meval_mode\u001B[49m\u001B[38;5;241;43m=\u001B[39;49m\u001B[38;5;124;43m'\u001B[39;49m\u001B[38;5;124;43maccuracy\u001B[39;49m\u001B[38;5;124;43m'\u001B[39;49m\u001B[43m,\u001B[49m\u001B[43m \u001B[49m\u001B[43mis_LSTM\u001B[49m\u001B[38;5;241;43m=\u001B[39;49m\u001B[38;5;28;43;01mTrue\u001B[39;49;00m\u001B[43m)\u001B[49m\n",
      "File \u001B[1;32m~\\PycharmProjects\\Opti_ML_Project\\pytorch_optim_training_manager.py:52\u001B[0m, in \u001B[0;36mtrain_manager.train\u001B[1;34m(self, epochs, eval_all_epochs, eval_mode, verbose, is_LSTM, is_wine)\u001B[0m\n\u001B[0;32m     50\u001B[0m train_losses\u001B[38;5;241m.\u001B[39mappend(avg_loss)\n\u001B[0;32m     51\u001B[0m \u001B[38;5;28;01mif\u001B[39;00m eval_all_epochs:\n\u001B[1;32m---> 52\u001B[0m     \u001B[38;5;28meval\u001B[39m \u001B[38;5;241m=\u001B[39m \u001B[38;5;28;43mself\u001B[39;49m\u001B[38;5;241;43m.\u001B[39;49m\u001B[43meval_model\u001B[49m\u001B[43m(\u001B[49m\u001B[43meval_mode\u001B[49m\u001B[38;5;241;43m=\u001B[39;49m\u001B[43meval_mode\u001B[49m\u001B[43m,\u001B[49m\u001B[43m \u001B[49m\u001B[43mis_LSTM\u001B[49m\u001B[38;5;241;43m=\u001B[39;49m\u001B[43mis_LSTM\u001B[49m\u001B[43m,\u001B[49m\u001B[43m \u001B[49m\u001B[43mis_wine\u001B[49m\u001B[38;5;241;43m=\u001B[39;49m\u001B[43mis_wine\u001B[49m\u001B[43m)\u001B[49m\n\u001B[0;32m     53\u001B[0m     eval_losses\u001B[38;5;241m.\u001B[39mappend(\u001B[38;5;28meval\u001B[39m)\n\u001B[0;32m     54\u001B[0m \u001B[38;5;28;01mif\u001B[39;00m verbose:\n",
      "File \u001B[1;32m~\\PycharmProjects\\Opti_ML_Project\\pytorch_optim_training_manager.py:93\u001B[0m, in \u001B[0;36mtrain_manager.eval_model\u001B[1;34m(self, eval_mode, is_LSTM, is_wine)\u001B[0m\n\u001B[0;32m     90\u001B[0m \u001B[38;5;28;01melse\u001B[39;00m:\n\u001B[0;32m     91\u001B[0m     \u001B[38;5;66;03m# mode for LSTM\u001B[39;00m\n\u001B[0;32m     92\u001B[0m     \u001B[38;5;28;01mwith\u001B[39;00m torch\u001B[38;5;241m.\u001B[39mno_grad():\n\u001B[1;32m---> 93\u001B[0m         \u001B[38;5;28;01mfor\u001B[39;00m i, data \u001B[38;5;129;01min\u001B[39;00m \u001B[38;5;28menumerate\u001B[39m(\u001B[38;5;28mself\u001B[39m\u001B[38;5;241m.\u001B[39mval_loader):\n\u001B[0;32m     94\u001B[0m             inputs \u001B[38;5;241m=\u001B[39m data\u001B[38;5;241m.\u001B[39mto(\u001B[38;5;28mself\u001B[39m\u001B[38;5;241m.\u001B[39mdevice)\n\u001B[0;32m     95\u001B[0m             labels \u001B[38;5;241m=\u001B[39m inputs[:, \u001B[38;5;241m1\u001B[39m:]\u001B[38;5;241m.\u001B[39mto(\u001B[38;5;28mself\u001B[39m\u001B[38;5;241m.\u001B[39mdevice)\n",
      "File \u001B[1;32m~\\PycharmProjects\\Opti_ML_Project\\pytorch_optim_training_manager.py:93\u001B[0m, in \u001B[0;36mtrain_manager.eval_model\u001B[1;34m(self, eval_mode, is_LSTM, is_wine)\u001B[0m\n\u001B[0;32m     90\u001B[0m \u001B[38;5;28;01melse\u001B[39;00m:\n\u001B[0;32m     91\u001B[0m     \u001B[38;5;66;03m# mode for LSTM\u001B[39;00m\n\u001B[0;32m     92\u001B[0m     \u001B[38;5;28;01mwith\u001B[39;00m torch\u001B[38;5;241m.\u001B[39mno_grad():\n\u001B[1;32m---> 93\u001B[0m         \u001B[38;5;28;01mfor\u001B[39;00m i, data \u001B[38;5;129;01min\u001B[39;00m \u001B[38;5;28menumerate\u001B[39m(\u001B[38;5;28mself\u001B[39m\u001B[38;5;241m.\u001B[39mval_loader):\n\u001B[0;32m     94\u001B[0m             inputs \u001B[38;5;241m=\u001B[39m data\u001B[38;5;241m.\u001B[39mto(\u001B[38;5;28mself\u001B[39m\u001B[38;5;241m.\u001B[39mdevice)\n\u001B[0;32m     95\u001B[0m             labels \u001B[38;5;241m=\u001B[39m inputs[:, \u001B[38;5;241m1\u001B[39m:]\u001B[38;5;241m.\u001B[39mto(\u001B[38;5;28mself\u001B[39m\u001B[38;5;241m.\u001B[39mdevice)\n",
      "File \u001B[1;32m_pydevd_bundle\\pydevd_cython_win32_310_64.pyx:1187\u001B[0m, in \u001B[0;36m_pydevd_bundle.pydevd_cython_win32_310_64.SafeCallWrapper.__call__\u001B[1;34m()\u001B[0m\n",
      "File \u001B[1;32m_pydevd_bundle\\pydevd_cython_win32_310_64.pyx:627\u001B[0m, in \u001B[0;36m_pydevd_bundle.pydevd_cython_win32_310_64.PyDBFrame.trace_dispatch\u001B[1;34m()\u001B[0m\n",
      "File \u001B[1;32m_pydevd_bundle\\pydevd_cython_win32_310_64.pyx:1103\u001B[0m, in \u001B[0;36m_pydevd_bundle.pydevd_cython_win32_310_64.PyDBFrame.trace_dispatch\u001B[1;34m()\u001B[0m\n",
      "File \u001B[1;32m_pydevd_bundle\\pydevd_cython_win32_310_64.pyx:1065\u001B[0m, in \u001B[0;36m_pydevd_bundle.pydevd_cython_win32_310_64.PyDBFrame.trace_dispatch\u001B[1;34m()\u001B[0m\n",
      "File \u001B[1;32m_pydevd_bundle\\pydevd_cython_win32_310_64.pyx:585\u001B[0m, in \u001B[0;36m_pydevd_bundle.pydevd_cython_win32_310_64.PyDBFrame.do_wait_suspend\u001B[1;34m()\u001B[0m\n",
      "File \u001B[1;32m~\\AppData\\Local\\Programs\\PyCharm Professional\\plugins\\python\\helpers\\pydev\\pydevd.py:1187\u001B[0m, in \u001B[0;36mPyDB.do_wait_suspend\u001B[1;34m(self, thread, frame, event, arg, send_suspend_message, is_unhandled_exception)\u001B[0m\n\u001B[0;32m   1184\u001B[0m         from_this_thread\u001B[38;5;241m.\u001B[39mappend(frame_id)\n\u001B[0;32m   1186\u001B[0m \u001B[38;5;28;01mwith\u001B[39;00m \u001B[38;5;28mself\u001B[39m\u001B[38;5;241m.\u001B[39m_threads_suspended_single_notification\u001B[38;5;241m.\u001B[39mnotify_thread_suspended(thread_id, stop_reason):\n\u001B[1;32m-> 1187\u001B[0m     \u001B[38;5;28;43mself\u001B[39;49m\u001B[38;5;241;43m.\u001B[39;49m\u001B[43m_do_wait_suspend\u001B[49m\u001B[43m(\u001B[49m\u001B[43mthread\u001B[49m\u001B[43m,\u001B[49m\u001B[43m \u001B[49m\u001B[43mframe\u001B[49m\u001B[43m,\u001B[49m\u001B[43m \u001B[49m\u001B[43mevent\u001B[49m\u001B[43m,\u001B[49m\u001B[43m \u001B[49m\u001B[43marg\u001B[49m\u001B[43m,\u001B[49m\u001B[43m \u001B[49m\u001B[43msuspend_type\u001B[49m\u001B[43m,\u001B[49m\u001B[43m \u001B[49m\u001B[43mfrom_this_thread\u001B[49m\u001B[43m)\u001B[49m\n",
      "File \u001B[1;32m~\\AppData\\Local\\Programs\\PyCharm Professional\\plugins\\python\\helpers\\pydev\\pydevd.py:1202\u001B[0m, in \u001B[0;36mPyDB._do_wait_suspend\u001B[1;34m(self, thread, frame, event, arg, suspend_type, from_this_thread)\u001B[0m\n\u001B[0;32m   1199\u001B[0m             \u001B[38;5;28mself\u001B[39m\u001B[38;5;241m.\u001B[39m_call_mpl_hook()\n\u001B[0;32m   1201\u001B[0m         \u001B[38;5;28mself\u001B[39m\u001B[38;5;241m.\u001B[39mprocess_internal_commands()\n\u001B[1;32m-> 1202\u001B[0m         \u001B[43mtime\u001B[49m\u001B[38;5;241;43m.\u001B[39;49m\u001B[43msleep\u001B[49m\u001B[43m(\u001B[49m\u001B[38;5;241;43m0.01\u001B[39;49m\u001B[43m)\u001B[49m\n\u001B[0;32m   1204\u001B[0m \u001B[38;5;28mself\u001B[39m\u001B[38;5;241m.\u001B[39mcancel_async_evaluation(get_current_thread_id(thread), \u001B[38;5;28mstr\u001B[39m(\u001B[38;5;28mid\u001B[39m(frame)))\n\u001B[0;32m   1206\u001B[0m \u001B[38;5;66;03m# process any stepping instructions\u001B[39;00m\n",
      "\u001B[1;31mKeyboardInterrupt\u001B[0m: "
     ]
    }
   ],
   "execution_count": 57
  },
  {
   "metadata": {
    "ExecuteTime": {
     "end_time": "2024-06-10T00:38:54.854649Z",
     "start_time": "2024-06-10T00:38:54.842167Z"
    }
   },
   "cell_type": "code",
   "source": "print(torch.max(torch.tensor(losses[1])))",
   "id": "3fddb60befd99393",
   "outputs": [
    {
     "name": "stdout",
     "output_type": "stream",
     "text": [
      "tensor(0.1736)\n"
     ]
    }
   ],
   "execution_count": 46
  },
  {
   "metadata": {
    "ExecuteTime": {
     "end_time": "2024-06-10T00:38:54.870167Z",
     "start_time": "2024-06-10T00:38:54.856649Z"
    }
   },
   "cell_type": "code",
   "source": "torch.save(torch.tensor(losses[1]), 'results/RMSprop_P5.pt')",
   "id": "4fff10c8ed804d8f",
   "outputs": [],
   "execution_count": 47
  },
  {
   "metadata": {
    "ExecuteTime": {
     "end_time": "2024-06-10T10:23:07.554727Z",
     "start_time": "2024-06-10T10:23:07.533215Z"
    }
   },
   "cell_type": "code",
   "source": "len(lstm_dataset.dataset_vocab)",
   "id": "68379cb1167966fc",
   "outputs": [
    {
     "data": {
      "text/plain": [
       "4262"
      ]
     },
     "execution_count": 69,
     "metadata": {},
     "output_type": "execute_result"
    }
   ],
   "execution_count": 69
  },
  {
   "metadata": {},
   "cell_type": "code",
   "outputs": [],
   "execution_count": null,
   "source": "",
   "id": "8efcda04f21b79b9"
  }
 ],
 "metadata": {
  "kernelspec": {
   "display_name": "Python 3",
   "language": "python",
   "name": "python3"
  },
  "language_info": {
   "codemirror_mode": {
    "name": "ipython",
    "version": 2
   },
   "file_extension": ".py",
   "mimetype": "text/x-python",
   "name": "python",
   "nbconvert_exporter": "python",
   "pygments_lexer": "ipython2",
   "version": "2.7.6"
  }
 },
 "nbformat": 4,
 "nbformat_minor": 5
}
