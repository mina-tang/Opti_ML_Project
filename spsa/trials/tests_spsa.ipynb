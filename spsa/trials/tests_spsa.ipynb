{
 "cells": [
  {
   "cell_type": "markdown",
   "metadata": {},
   "source": [
    "Imports:"
   ]
  },
  {
   "cell_type": "code",
   "execution_count": 1,
   "metadata": {},
   "outputs": [],
   "source": [
    "import sys\n",
    "sys.path.append(\"../\")\n",
    "sys.path.append(\"spsa/\")\n",
    "\n",
    "import numpy as np\n",
    "import matplotlib.pyplot as plt\n",
    "import torch \n",
    "import torch.nn as nn\n",
    "import qiskit \n",
    "from qiskit_algorithms.optimizers import SPSA\n",
    "import models\n",
    "from models import CNN_Simple as CNN_Simple\n",
    "import torchvision\n",
    "import torchvision.transforms as transforms"
   ]
  },
  {
   "cell_type": "markdown",
   "metadata": {},
   "source": [
    "Global Variables:"
   ]
  },
  {
   "cell_type": "code",
   "execution_count": 2,
   "metadata": {},
   "outputs": [],
   "source": [
    "classes = (\"T-shirt/top\", \"Trouser\", \"Pullover\", \"Dress\", \"Coat\",\n",
    "        \"Sandal\", \"Shirt\", \"Sneaker\", \"Bag\", \"Ankle Boot\")\n",
    "\n",
    "transform = transforms.Compose(\n",
    "    [transforms.ToTensor(),\n",
    "    transforms.Normalize((0.5,), (0.5,))])\n",
    "\n",
    "training_set = torchvision.datasets.FashionMNIST(\"./data\", train=True, transform=transform, download=True)\n",
    "validation_set = torchvision.datasets.FashionMNIST(\"./data\", train=False, transform=transform, download=True)\n",
    "training_loader = torch.utils.data.DataLoader(training_set, batch_size=4, shuffle=True)\n",
    "validation_loader = torch.utils.data.DataLoader(validation_set, batch_size=4, shuffle=False)\n",
    "\n",
    "data = training_set.data.type(torch.double)[:, None, :, :]\n",
    "target = training_set.targets"
   ]
  },
  {
   "cell_type": "markdown",
   "metadata": {},
   "source": [
    "Code:"
   ]
  },
  {
   "cell_type": "code",
   "execution_count": 3,
   "metadata": {},
   "outputs": [],
   "source": [
    "def load_params(model, param_tensor):\n",
    "    index = 0\n",
    "    for param in model.parameters():\n",
    "        param_length = param.numel()\n",
    "        param.data = param_tensor[index:index + param_length].view(param.size())\n",
    "        index += param_length"
   ]
  },
  {
   "cell_type": "code",
   "execution_count": 4,
   "metadata": {},
   "outputs": [],
   "source": [
    "criterion = torch.nn.CrossEntropyLoss()\n",
    "def batch_loss(batch_input, batch_output):\n",
    "  def loss_f(weights):\n",
    "    model = CNN_Simple()\n",
    "    load_params(model, torch.tensor(weights))\n",
    "    prediction = model.forward(batch_input)\n",
    "    return criterion(prediction, batch_output.type(torch.long)).item()\n",
    "  \n",
    "  return loss_f"
   ]
  },
  {
   "cell_type": "code",
   "execution_count": 5,
   "metadata": {},
   "outputs": [],
   "source": [
    "class ShowSteps:\n",
    "  def __init__(self):\n",
    "    self.losses = []\n",
    "\n",
    "  def callback(self, n, weights, loss_f, step_size, accepted):\n",
    "    self.losses.append(loss_f)"
   ]
  },
  {
   "cell_type": "code",
   "execution_count": 6,
   "metadata": {},
   "outputs": [
    {
     "name": "stdout",
     "output_type": "stream",
     "text": [
      "6175159.572779831\n",
      "54968703633107.58\n",
      "1.039641634880008e+36\n",
      "1.3788189349041631e+101\n",
      "1.6592746537978438e+101\n",
      "1.3443412180249783e+101\n",
      "1.4149889579264777e+101\n",
      "1.4723744270580092e+101\n",
      "1.5215864173537083e+101\n",
      "1.4453600533222943e+101\n",
      "1.5183521590835096e+101\n",
      "1.1173321447006756e+101\n",
      "1.0909325015864397e+101\n",
      "1.4840454027766293e+101\n",
      "1.7170641281526396e+101\n",
      "1.980291702983017e+101\n",
      "2.131301054225362e+101\n",
      "1.2914075031975265e+101\n",
      "2.0727274990444485e+101\n",
      "7.721365492158521e+100\n",
      "1.24447389335083e+101\n",
      "2.1381449145968622e+101\n",
      "1.4148036665553523e+101\n",
      "1.4369615006725747e+101\n",
      "1.3492669460517938e+101\n",
      "1.23378661167178e+101\n",
      "1.473722349818859e+101\n",
      "6.085273708489832e+100\n",
      "1.769173161014073e+101\n",
      "1.4916423551269378e+101\n",
      "9.323548155039694e+100\n",
      "6.884420621869938e+100\n",
      "1.5378268354933235e+101\n",
      "1.4101888823024757e+101\n",
      "1.0521866883445724e+101\n",
      "9.359381829088553e+100\n",
      "1.610348980681016e+101\n",
      "1.8390916747678518e+101\n",
      "1.7178386807635783e+101\n",
      "1.5605540584001416e+101\n",
      "1.983568106197484e+101\n"
     ]
    },
    {
     "ename": "KeyboardInterrupt",
     "evalue": "",
     "output_type": "error",
     "traceback": [
      "\u001b[0;31m---------------------------------------------------------------------------\u001b[0m",
      "\u001b[0;31mKeyboardInterrupt\u001b[0m                         Traceback (most recent call last)",
      "Cell \u001b[0;32mIn[6], line 9\u001b[0m\n\u001b[1;32m      7\u001b[0m \u001b[38;5;28;01mfor\u001b[39;00m batch_input, batch_output \u001b[38;5;129;01min\u001b[39;00m training_loader:\n\u001b[1;32m      8\u001b[0m   our_spsa \u001b[38;5;241m=\u001b[39m SPSA(maxiter\u001b[38;5;241m=\u001b[39m\u001b[38;5;241m1\u001b[39m, learning_rate\u001b[38;5;241m=\u001b[39m\u001b[38;5;241m0.001\u001b[39m, perturbation\u001b[38;5;241m=\u001b[39m\u001b[38;5;241m0.1\u001b[39m, callback\u001b[38;5;241m=\u001b[39msteps\u001b[38;5;241m.\u001b[39mcallback)\n\u001b[0;32m----> 9\u001b[0m   result \u001b[38;5;241m=\u001b[39m \u001b[43mour_spsa\u001b[49m\u001b[38;5;241;43m.\u001b[39;49m\u001b[43mminimize\u001b[49m\u001b[43m(\u001b[49m\u001b[43mbatch_loss\u001b[49m\u001b[43m(\u001b[49m\u001b[43mbatch_input\u001b[49m\u001b[38;5;241;43m.\u001b[39;49m\u001b[43mtype\u001b[49m\u001b[43m(\u001b[49m\u001b[43mtorch\u001b[49m\u001b[38;5;241;43m.\u001b[39;49m\u001b[43mdouble\u001b[49m\u001b[43m)\u001b[49m\u001b[43m,\u001b[49m\u001b[43m \u001b[49m\u001b[43mbatch_output\u001b[49m\u001b[38;5;241;43m.\u001b[39;49m\u001b[43mtype\u001b[49m\u001b[43m(\u001b[49m\u001b[43mtorch\u001b[49m\u001b[38;5;241;43m.\u001b[39;49m\u001b[43mdouble\u001b[49m\u001b[43m)\u001b[49m\u001b[43m)\u001b[49m\u001b[43m,\u001b[49m\u001b[43m \u001b[49m\u001b[43mparam_tensor\u001b[49m\u001b[43m)\u001b[49m\n\u001b[1;32m     10\u001b[0m   param_tensor \u001b[38;5;241m=\u001b[39m result\u001b[38;5;241m.\u001b[39mx\n\u001b[1;32m     11\u001b[0m   losses\u001b[38;5;241m.\u001b[39mappend(result\u001b[38;5;241m.\u001b[39mfun)\n",
      "File \u001b[0;32m~/.venv/lib/python3.12/site-packages/qiskit_algorithms/optimizers/spsa.py:567\u001b[0m, in \u001b[0;36mSPSA.minimize\u001b[0;34m(self, fun, x0, jac, bounds)\u001b[0m\n\u001b[1;32m    564\u001b[0m         update \u001b[38;5;241m=\u001b[39m update \u001b[38;5;241m/\u001b[39m norm\n\u001b[1;32m    566\u001b[0m \u001b[38;5;66;03m# compute next parameter value\u001b[39;00m\n\u001b[0;32m--> 567\u001b[0m update \u001b[38;5;241m=\u001b[39m update \u001b[38;5;241m*\u001b[39m \u001b[38;5;28;43mnext\u001b[39;49m\u001b[43m(\u001b[49m\u001b[43meta\u001b[49m\u001b[43m)\u001b[49m\n\u001b[1;32m    568\u001b[0m x_next \u001b[38;5;241m=\u001b[39m x \u001b[38;5;241m-\u001b[39m update\n\u001b[1;32m    569\u001b[0m fx_next \u001b[38;5;241m=\u001b[39m \u001b[38;5;28;01mNone\u001b[39;00m\n",
      "File \u001b[0;32m~/.venv/lib/python3.12/site-packages/qiskit_algorithms/optimizers/spsa.py:676\u001b[0m, in \u001b[0;36mconstant\u001b[0;34m(eta)\u001b[0m\n\u001b[1;32m    672\u001b[0m         \u001b[38;5;28;01myield\u001b[39;00m eta \u001b[38;5;241m/\u001b[39m ((n \u001b[38;5;241m+\u001b[39m offset) \u001b[38;5;241m*\u001b[39m\u001b[38;5;241m*\u001b[39m power)\n\u001b[1;32m    673\u001b[0m         n \u001b[38;5;241m+\u001b[39m\u001b[38;5;241m=\u001b[39m \u001b[38;5;241m1\u001b[39m\n\u001b[0;32m--> 676\u001b[0m \u001b[38;5;28;01mdef\u001b[39;00m \u001b[38;5;21mconstant\u001b[39m(eta\u001b[38;5;241m=\u001b[39m\u001b[38;5;241m0.01\u001b[39m):\n\u001b[1;32m    677\u001b[0m \u001b[38;5;250m    \u001b[39m\u001b[38;5;124;03m\"\"\"Yield a constant series.\"\"\"\u001b[39;00m\n\u001b[1;32m    679\u001b[0m     \u001b[38;5;28;01mwhile\u001b[39;00m \u001b[38;5;28;01mTrue\u001b[39;00m:\n",
      "\u001b[0;31mKeyboardInterrupt\u001b[0m: "
     ]
    }
   ],
   "source": [
    "steps = ShowSteps()\n",
    "model = CNN_Simple()\n",
    "param_list = np.random.randn(sum(p.numel() for p in model.parameters())).astype(np.float32)\n",
    "param_tensor = torch.tensor(param_list)\n",
    "losses = []\n",
    "\n",
    "for batch_input, batch_output in training_loader:\n",
    "  our_spsa = SPSA(maxiter=1, learning_rate=0.001, perturbation=0.1, callback=steps.callback)\n",
    "  result = our_spsa.minimize(batch_loss(batch_input.type(torch.double), batch_output.type(torch.double)), param_tensor)\n",
    "  param_tensor = result.x\n",
    "  losses.append(result.fun)\n",
    "  print(losses[-1])\n",
    "  #print(\"Loss =\", param_tensor)"
   ]
  }
 ],
 "metadata": {
  "kernelspec": {
   "display_name": ".venv",
   "language": "python",
   "name": "python3"
  },
  "language_info": {
   "codemirror_mode": {
    "name": "ipython",
    "version": 3
   },
   "file_extension": ".py",
   "mimetype": "text/x-python",
   "name": "python",
   "nbconvert_exporter": "python",
   "pygments_lexer": "ipython3",
   "version": "3.12.2"
  }
 },
 "nbformat": 4,
 "nbformat_minor": 2
}
