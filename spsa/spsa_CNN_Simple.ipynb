{
 "cells": [
  {
   "cell_type": "code",
   "execution_count": 7,
   "metadata": {},
   "outputs": [],
   "source": [
    "import sys\n",
    "sys.path.append(\"../\")\n",
    "sys.path.append(\"spsa/\")\n",
    "\n",
    "\n",
    "from pytorch_optim_training_manager import train_manager\n",
    "import torch\n",
    "import torchvision\n",
    "import torchvision.transforms as transforms\n",
    "import models\n",
    "import os\n",
    "\n",
    "device = torch.device(\"cuda:0\" if torch.cuda.is_available() else \"cpu\")\n",
    "os.environ[\"WANDB_DISABLED\"] = \"true\"\n",
    "os.environ[\"CUDA_DEVICE_ORDER\"]=\"PCI_BUS_ID\"\n",
    "os.environ[\"CUDA_VISIBLE_DEVICES\"]=\"0\"\n",
    "\n",
    "from my_spsa import SPSA as SPSA"
   ]
  },
  {
   "cell_type": "code",
   "execution_count": 8,
   "metadata": {},
   "outputs": [],
   "source": [
    "torch.manual_seed(0)\n",
    "torch.cuda.manual_seed_all(0)\n",
    "transform = transforms.Compose(\n",
    "    [transforms.ToTensor(),\n",
    "    transforms.Normalize((0.5,), (0.5,))])\n",
    "training_set = torchvision.datasets.FashionMNIST(\"./data\", train=True, transform=transform, download=True)\n",
    "validation_set = torchvision.datasets.FashionMNIST(\"./data\", train=False, transform=transform, download=True)\n",
    "training_loader = torch.utils.data.DataLoader(training_set, batch_size=64, shuffle=True)\n",
    "validation_loader = torch.utils.data.DataLoader(validation_set, batch_size=64, shuffle=False)\n"
   ]
  },
  {
   "cell_type": "code",
   "execution_count": 9,
   "metadata": {},
   "outputs": [],
   "source": [
    "model = models.CNN_Simple()\n",
    "torch.save(model.state_dict(), \"models/CNN_Simple.pt\")\n",
    "model.load_state_dict(torch.load(\"models/CNN_Simple.pt\"))\n",
    "loss_fn = torch.nn.CrossEntropyLoss()"
   ]
  },
  {
   "cell_type": "code",
   "execution_count": 28,
   "metadata": {},
   "outputs": [],
   "source": [
    "optimizer = SPSA(model.parameters(), lr = 0.01, c = 0.1, alpha = 0.602, gamma = 0.101)"
   ]
  },
  {
   "cell_type": "code",
   "execution_count": 30,
   "metadata": {},
   "outputs": [],
   "source": [
    "#from tqdm.notebook import tqdm\n",
    "\n",
    "def train(model, training_loader, validation_loader, optimizer, loss_fn, epochs):\n",
    "    model.train()\n",
    "    all_losses = []\n",
    "    for epoch in range(epochs):\n",
    "        #training\n",
    "        model.train()\n",
    "        train_losses = []\n",
    "        train_correct = 0\n",
    "        train_total = 0\n",
    "        \n",
    "        for batch_input, batch_output in training_loader:\n",
    "            #training loss\n",
    "            def closure():\n",
    "                optimizer.zero_grad()\n",
    "                outputs = model(batch_input)\n",
    "                loss = loss_fn(outputs, batch_output)\n",
    "                #loss.backward()\n",
    "                return loss.item()\n",
    "            \n",
    "            loss = optimizer.step(closure)\n",
    "            train_losses.append(loss)\n",
    "            optimizer.zero_grad()\n",
    "            \n",
    "            #training accuracy\n",
    "            with torch.no_grad():\n",
    "                outputs = model(batch_input)\n",
    "                _, predicted = torch.max(outputs, 1)\n",
    "                train_correct += (predicted == batch_output).sum().item()\n",
    "                train_total += batch_output.size(0)\n",
    "        \n",
    "        #validation\n",
    "        model.eval()\n",
    "        val_losses = []\n",
    "        val_correct = 0\n",
    "        val_total = 0\n",
    "        with torch.no_grad():\n",
    "            for batch_input, batch_output in validation_loader:\n",
    "                outputs = model(batch_input)\n",
    "                loss = loss_fn(outputs, batch_output)\n",
    "                val_losses.append(loss.item())\n",
    "                \n",
    "                _, predicted = torch.max(outputs, 1)\n",
    "                val_correct += (predicted == batch_output).sum().item()\n",
    "                val_total += batch_output.size(0)\n",
    "        \n",
    "        avg_train_loss = sum(train_losses) / len(train_losses)\n",
    "        avg_val_loss = sum(val_losses) / len(val_losses)\n",
    "        \n",
    "        train_accuracy = train_correct / train_total\n",
    "        val_accuracy = val_correct / val_total\n",
    "        \n",
    "        print(\"Epoch\", epoch+1, \"- Train Loss:\", avg_train_loss, \"Validation Loss:\", avg_val_loss, \"Train Accuracy:\", train_accuracy, \"Validation Accuracy:\", val_accuracy)\n",
    "        \n",
    "        all_losses.append((avg_train_loss, avg_val_loss))\n",
    "        \n",
    "    return avg_train_loss, train_accuracy\n"
   ]
  },
  {
   "cell_type": "code",
   "execution_count": 31,
   "metadata": {},
   "outputs": [
    {
     "name": "stdout",
     "output_type": "stream",
     "text": [
      "Epoch 1 - Train Loss: 2.3069707020513537 Validation Loss: 2.306788810499155 Train Accuracy: 0.10003333333333334 Validation Accuracy: 0.1\n",
      "Epoch 2 - Train Loss: 2.306988882357632 Validation Loss: 2.306788810499155 Train Accuracy: 0.10003333333333334 Validation Accuracy: 0.1\n",
      "Epoch 3 - Train Loss: 2.3069892976838133 Validation Loss: 2.306788810499155 Train Accuracy: 0.10003333333333334 Validation Accuracy: 0.1\n",
      "Epoch 4 - Train Loss: 2.3069765598280854 Validation Loss: 2.306788810499155 Train Accuracy: 0.10003333333333334 Validation Accuracy: 0.1\n",
      "Epoch 5 - Train Loss: 2.3069717205409557 Validation Loss: 2.306788810499155 Train Accuracy: 0.10003333333333334 Validation Accuracy: 0.1\n",
      "Epoch 6 - Train Loss: 2.306978655522312 Validation Loss: 2.306788810499155 Train Accuracy: 0.10003333333333334 Validation Accuracy: 0.1\n",
      "Epoch 7 - Train Loss: 2.3069895528781132 Validation Loss: 2.306788810499155 Train Accuracy: 0.10003333333333334 Validation Accuracy: 0.1\n",
      "Epoch 8 - Train Loss: 2.3069892783663164 Validation Loss: 2.306788810499155 Train Accuracy: 0.10003333333333334 Validation Accuracy: 0.1\n",
      "Epoch 9 - Train Loss: 2.3069658973323763 Validation Loss: 2.306788810499155 Train Accuracy: 0.10003333333333334 Validation Accuracy: 0.1\n",
      "Epoch 10 - Train Loss: 2.306980131531575 Validation Loss: 2.306788810499155 Train Accuracy: 0.10003333333333334 Validation Accuracy: 0.1\n",
      "Epoch 11 - Train Loss: 2.306979935814831 Validation Loss: 2.306788810499155 Train Accuracy: 0.10003333333333334 Validation Accuracy: 0.1\n",
      "Epoch 12 - Train Loss: 2.3069849548055164 Validation Loss: 2.306788810499155 Train Accuracy: 0.10003333333333334 Validation Accuracy: 0.1\n",
      "Epoch 13 - Train Loss: 2.3069857699530467 Validation Loss: 2.306788810499155 Train Accuracy: 0.10003333333333334 Validation Accuracy: 0.1\n",
      "Epoch 14 - Train Loss: 2.306988558535383 Validation Loss: 2.306788810499155 Train Accuracy: 0.10003333333333334 Validation Accuracy: 0.1\n",
      "Epoch 15 - Train Loss: 2.30698070571875 Validation Loss: 2.306788810499155 Train Accuracy: 0.10003333333333334 Validation Accuracy: 0.1\n",
      "Epoch 16 - Train Loss: 2.3069841978646544 Validation Loss: 2.306788810499155 Train Accuracy: 0.10003333333333334 Validation Accuracy: 0.1\n",
      "Epoch 17 - Train Loss: 2.3069795639530173 Validation Loss: 2.306788810499155 Train Accuracy: 0.10003333333333334 Validation Accuracy: 0.1\n",
      "Epoch 18 - Train Loss: 2.3069806930098706 Validation Loss: 2.306788810499155 Train Accuracy: 0.10003333333333334 Validation Accuracy: 0.1\n",
      "Epoch 19 - Train Loss: 2.3069871186193374 Validation Loss: 2.306788810499155 Train Accuracy: 0.10003333333333334 Validation Accuracy: 0.1\n",
      "Epoch 20 - Train Loss: 2.306978553851276 Validation Loss: 2.306788810499155 Train Accuracy: 0.10003333333333334 Validation Accuracy: 0.1\n"
     ]
    }
   ],
   "source": [
    "loss, accuracy = train(model, training_loader, validation_loader, optimizer, loss_fn, epochs=20)"
   ]
  },
  {
   "cell_type": "code",
   "execution_count": 22,
   "metadata": {},
   "outputs": [],
   "source": [
    "torch.save(torch.tensor(loss), \"results/SPSA_CNNS_P1.pt\")\n",
    "torch.save(torch.tensor(loss), \"results/SPSA_CNNS_P1_acc.pt\")"
   ]
  }
 ],
 "metadata": {
  "kernelspec": {
   "display_name": ".venv",
   "language": "python",
   "name": "python3"
  },
  "language_info": {
   "codemirror_mode": {
    "name": "ipython",
    "version": 3
   },
   "file_extension": ".py",
   "mimetype": "text/x-python",
   "name": "python",
   "nbconvert_exporter": "python",
   "pygments_lexer": "ipython3",
   "version": "3.12.2"
  }
 },
 "nbformat": 4,
 "nbformat_minor": 2
}
