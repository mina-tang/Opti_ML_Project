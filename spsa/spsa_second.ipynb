{
 "cells": [
  {
   "cell_type": "code",
   "execution_count": 95,
   "metadata": {},
   "outputs": [],
   "source": [
    "import sys\n",
    "sys.path.append(\"../\")\n",
    "sys.path.append(\"spsa/\")\n",
    "\n",
    "\n",
    "from pytorch_optim_training_manager import train_manager\n",
    "import torch\n",
    "import torchvision\n",
    "import torchvision.transforms as transforms\n",
    "import models\n",
    "import os\n",
    "\n",
    "device = torch.device(\"cuda:0\" if torch.cuda.is_available() else \"cpu\")\n",
    "os.environ[\"WANDB_DISABLED\"] = \"true\"\n",
    "os.environ[\"CUDA_DEVICE_ORDER\"]=\"PCI_BUS_ID\"\n",
    "os.environ[\"CUDA_VISIBLE_DEVICES\"]=\"0\"\n",
    "\n",
    "from my_spsa import SPSA as SPSA"
   ]
  },
  {
   "cell_type": "code",
   "execution_count": 96,
   "metadata": {},
   "outputs": [],
   "source": [
    "torch.manual_seed(0)\n",
    "torch.cuda.manual_seed_all(0)\n",
    "transform = transforms.Compose(\n",
    "    [transforms.ToTensor(),\n",
    "    transforms.Normalize((0.5,), (0.5,))])\n",
    "training_set = torchvision.datasets.FashionMNIST(\"./data\", train=True, transform=transform, download=True)\n",
    "validation_set = torchvision.datasets.FashionMNIST(\"./data\", train=False, transform=transform, download=True)\n",
    "training_loader = torch.utils.data.DataLoader(training_set, batch_size=64, shuffle=True)\n",
    "validation_loader = torch.utils.data.DataLoader(validation_set, batch_size=64, shuffle=False)\n"
   ]
  },
  {
   "cell_type": "code",
   "execution_count": 97,
   "metadata": {},
   "outputs": [],
   "source": [
    "model = models.CNN_Simple()\n",
    "torch.save(model.state_dict(), \"models/CNN_Simple.pt\")\n",
    "model.load_state_dict(torch.load(\"models/CNN_Simple.pt\"))\n",
    "loss_fn = torch.nn.CrossEntropyLoss()"
   ]
  },
  {
   "cell_type": "code",
   "execution_count": 98,
   "metadata": {},
   "outputs": [],
   "source": [
    "optimizer = SPSA(model.parameters(), lr = 0.1, c = 0.01, alpha = 0.602, gamma = 0.101)"
   ]
  },
  {
   "cell_type": "code",
   "execution_count": 99,
   "metadata": {},
   "outputs": [],
   "source": [
    "def train(model, training_loader, validation_loader, optimizer, loss_fn, epochs):\n",
    "    model.train()\n",
    "    all_losses = []\n",
    "    for epoch in range(epochs):\n",
    "        #training set\n",
    "        model.train()\n",
    "        train_losses = []\n",
    "        for batch_input, batch_output in training_loader:\n",
    "            def closure():\n",
    "                optimizer.zero_grad()\n",
    "                outputs = model(batch_input)\n",
    "                loss = loss_fn(outputs, batch_output)\n",
    "                loss.backward()\n",
    "                return loss.item()\n",
    "            \n",
    "            loss = optimizer.step(closure)\n",
    "            train_losses.append(loss)\n",
    "        \n",
    "        #validation set\n",
    "        model.eval()\n",
    "        val_losses = []\n",
    "        with torch.no_grad():\n",
    "            for batch_input, batch_output in validation_loader:\n",
    "                outputs = model(batch_input)\n",
    "                loss = loss_fn(outputs, batch_output)\n",
    "                val_losses.append(loss.item())\n",
    "        \n",
    "        avg_train_loss = sum(train_losses) / len(train_losses)\n",
    "        avg_val_loss = sum(val_losses) / len(val_losses)\n",
    "        print(\"Epoch\", epoch+1, \"Train Loss:\", avg_train_loss, \"Validation Loss:\", avg_val_loss)\n",
    "        all_losses.append(avg_train_loss)\n",
    "        \n",
    "    return all_losses\n"
   ]
  },
  {
   "cell_type": "code",
   "execution_count": 100,
   "metadata": {},
   "outputs": [
    {
     "name": "stdout",
     "output_type": "stream",
     "text": [
      "Epoch 1 Train Loss: 1.7422709390679911 Validation Loss: 1.124567193590152\n",
      "Epoch 2 Train Loss: 1.0213863375598689 Validation Loss: 1.1196840037206175\n",
      "Epoch 3 Train Loss: 1.0303673657145835 Validation Loss: 0.9841419454592808\n",
      "Epoch 4 Train Loss: 0.9401965135895113 Validation Loss: 0.8827937199811268\n",
      "Epoch 5 Train Loss: 0.8241007687059293 Validation Loss: 0.8270860170103183\n",
      "Epoch 6 Train Loss: 0.7981376669236592 Validation Loss: 0.8059132632556235\n",
      "Epoch 7 Train Loss: 0.8005061178192147 Validation Loss: 0.8245333471115986\n",
      "Epoch 8 Train Loss: 0.7950395473412105 Validation Loss: 0.8008185883236539\n",
      "Epoch 9 Train Loss: 0.7721539818719506 Validation Loss: 0.7825187051751811\n",
      "Epoch 10 Train Loss: 0.7544707402364531 Validation Loss: 0.7733289876561256\n"
     ]
    }
   ],
   "source": [
    "loss = train(model, training_loader, validation_loader, optimizer, loss_fn, epochs=10)\n",
    "\n",
    "#print(loss)\n",
    "#manager = train_manager(model, loss_fn, optimizer, training_loader, validation_loader, device = device)\n",
    "#losses = manager.train(20, verbose = True, eval_all_epochs = True, eval_mode = \"loss\")\n",
    "#print(torch.min(torch.tensor(losses[1])))\n"
   ]
  },
  {
   "cell_type": "code",
   "execution_count": 101,
   "metadata": {},
   "outputs": [],
   "source": [
    "torch.save(torch.tensor(loss), \"results/SPSA_P1.pt\")"
   ]
  }
 ],
 "metadata": {
  "kernelspec": {
   "display_name": ".venv",
   "language": "python",
   "name": "python3"
  },
  "language_info": {
   "codemirror_mode": {
    "name": "ipython",
    "version": 3
   },
   "file_extension": ".py",
   "mimetype": "text/x-python",
   "name": "python",
   "nbconvert_exporter": "python",
   "pygments_lexer": "ipython3",
   "version": "3.12.2"
  }
 },
 "nbformat": 4,
 "nbformat_minor": 2
}
