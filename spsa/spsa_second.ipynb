{
 "cells": [
  {
   "cell_type": "code",
   "execution_count": 12,
   "metadata": {},
   "outputs": [],
   "source": [
    "import sys\n",
    "sys.path.append('../')\n",
    "sys.path.append('spsa/')\n",
    "\n",
    "\n",
    "from pytorch_optim_training_manager import train_manager\n",
    "import torch\n",
    "import torchvision\n",
    "import torchvision.transforms as transforms\n",
    "import models\n",
    "import os\n",
    "\n",
    "device = torch.device(\"cuda:0\" if torch.cuda.is_available() else \"cpu\")\n",
    "os.environ[\"WANDB_DISABLED\"] = \"true\"\n",
    "os.environ[\"CUDA_DEVICE_ORDER\"]=\"PCI_BUS_ID\"\n",
    "os.environ[\"CUDA_VISIBLE_DEVICES\"]=\"0\"\n",
    "\n",
    "from my_spsa import SPSA as SPSA"
   ]
  },
  {
   "cell_type": "code",
   "execution_count": 13,
   "metadata": {},
   "outputs": [],
   "source": [
    "torch.manual_seed(0)\n",
    "torch.cuda.manual_seed_all(0)\n",
    "transform = transforms.Compose(\n",
    "    [transforms.ToTensor(),\n",
    "    transforms.Normalize((0.5,), (0.5,))])\n",
    "training_set = torchvision.datasets.FashionMNIST('./data', train=True, transform=transform, download=True)\n",
    "validation_set = torchvision.datasets.FashionMNIST('./data', train=False, transform=transform, download=True)\n",
    "training_loader = torch.utils.data.DataLoader(training_set, batch_size=64, shuffle=True)\n",
    "validation_loader = torch.utils.data.DataLoader(validation_set, batch_size=64, shuffle=False)\n"
   ]
  },
  {
   "cell_type": "code",
   "execution_count": 14,
   "metadata": {},
   "outputs": [],
   "source": [
    "model = models.CNN_Simple()\n",
    "torch.save(model.state_dict(), 'models/CNN_Simple.pt')\n",
    "model.load_state_dict(torch.load('models/CNN_Simple.pt'))\n",
    "loss_fn = torch.nn.CrossEntropyLoss()"
   ]
  },
  {
   "cell_type": "code",
   "execution_count": 15,
   "metadata": {},
   "outputs": [],
   "source": [
    "optimizer = SPSA(model.parameters(), lr=0.001, c=0.005, alpha=0.6, gamma=0.1)"
   ]
  },
  {
   "cell_type": "code",
   "execution_count": 16,
   "metadata": {},
   "outputs": [
    {
     "name": "stdout",
     "output_type": "stream",
     "text": [
      "epoch0: train_loss: 2.2996\n",
      "eval_loss: 2.2922\n",
      "epoch1: train_loss: 2.2843\n",
      "eval_loss: 2.2749\n",
      "epoch2: train_loss: 2.2605\n",
      "eval_loss: 2.2410\n",
      "epoch3: train_loss: 2.2015\n",
      "eval_loss: 2.1435\n",
      "epoch4: train_loss: 2.0184\n",
      "eval_loss: 1.8404\n",
      "epoch5: train_loss: 1.5711\n",
      "eval_loss: 1.3084\n",
      "epoch6: train_loss: 1.1313\n",
      "eval_loss: 1.0109\n",
      "epoch7: train_loss: 0.9329\n",
      "eval_loss: 0.8902\n",
      "epoch8: train_loss: 0.8459\n",
      "eval_loss: 0.8338\n",
      "epoch9: train_loss: 0.7984\n",
      "eval_loss: 0.7961\n",
      "epoch10: train_loss: 0.7654\n",
      "eval_loss: 0.7707\n",
      "epoch11: train_loss: 0.7410\n",
      "eval_loss: 0.7501\n",
      "epoch12: train_loss: 0.7212\n",
      "eval_loss: 0.7312\n",
      "epoch13: train_loss: 0.7040\n",
      "eval_loss: 0.7164\n",
      "epoch14: train_loss: 0.6897\n",
      "eval_loss: 0.7032\n",
      "epoch15: train_loss: 0.6759\n",
      "eval_loss: 0.6906\n",
      "epoch16: train_loss: 0.6637\n",
      "eval_loss: 0.6801\n",
      "epoch17: train_loss: 0.6528\n",
      "eval_loss: 0.6692\n",
      "epoch18: train_loss: 0.6425\n",
      "eval_loss: 0.6593\n",
      "epoch19: train_loss: 0.6332\n",
      "eval_loss: 0.6533\n",
      "tensor(0.6533)\n"
     ]
    }
   ],
   "source": [
    "manager = train_manager(model, loss_fn, optimizer, training_loader, validation_loader, device=device)\n",
    "losses = manager.train(20, verbose=True, eval_all_epochs=True, eval_mode='loss')\n",
    "print(torch.min(torch.tensor(losses[1])))\n"
   ]
  },
  {
   "cell_type": "code",
   "execution_count": 18,
   "metadata": {},
   "outputs": [],
   "source": [
    "torch.save(torch.tensor(losses[1]), 'results/SPSA_P1.pt')"
   ]
  }
 ],
 "metadata": {
  "kernelspec": {
   "display_name": ".venv",
   "language": "python",
   "name": "python3"
  },
  "language_info": {
   "codemirror_mode": {
    "name": "ipython",
    "version": 3
   },
   "file_extension": ".py",
   "mimetype": "text/x-python",
   "name": "python",
   "nbconvert_exporter": "python",
   "pygments_lexer": "ipython3",
   "version": "3.12.2"
  }
 },
 "nbformat": 4,
 "nbformat_minor": 2
}
