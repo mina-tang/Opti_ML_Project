{
 "cells": [
  {
   "cell_type": "code",
   "execution_count": 19,
   "metadata": {},
   "outputs": [],
   "source": [
    "import torch\n",
    "import torch.nn as nn\n",
    "from torch.utils.data import DataLoader , Dataset\n",
    "from torchvision import datasets\n",
    "from torchvision.transforms import ToTensor\n",
    "import torchvision.transforms as transforms\n",
    "import torchvision\n",
    "import datasets\n",
    "from datasets import load_dataset\n",
    "\n",
    "import nevergrad as ng\n",
    "\n",
    "import numpy as np\n",
    "import pandas as pd\n",
    "import sklearn\n",
    "from sklearn.preprocessing import MinMaxScaler,StandardScaler\n",
    "from sklearn.model_selection import train_test_split\n",
    "\n",
    "import matplotlib.pyplot as plt\n",
    "import copy\n",
    "import os\n",
    "from tqdm import tqdm\n",
    "\n",
    "import sys\n",
    "sys.path.append(\"../\")\n",
    "sys.path.append(\"nevergrad/\")\n",
    "from ucimlrepo import fetch_ucirepo \n",
    "from models import CNN_Simple,All_CNN_C,VAE,LSTM"
   ]
  },
  {
   "cell_type": "code",
   "execution_count": 20,
   "metadata": {},
   "outputs": [
    {
     "name": "stdout",
     "output_type": "stream",
     "text": [
      "cpu\n"
     ]
    }
   ],
   "source": [
    "device = torch.device(\"cuda:0\" if torch.cuda.is_available() else \"cpu\")\n",
    "os.environ[\"WANDB_DISABLED\"] = \"true\"\n",
    "os.environ[\"CUDA_DEVICE_ORDER\"]=\"PCI_BUS_ID\"\n",
    "os.environ[\"CUDA_VISIBLE_DEVICES\"]=\"0\"\n",
    "print(device)"
   ]
  },
  {
   "cell_type": "code",
   "execution_count": 36,
   "metadata": {},
   "outputs": [],
   "source": [
    "class TrainManager:\n",
    "    def __init__(self, model, dataloader_train, dataloader_test, loss, device, isLSTM=False):\n",
    "        self.device = device\n",
    "        self.model = model.to(self.device)\n",
    "        self.best_model = None\n",
    "        self.dataloader_train = dataloader_train\n",
    "        self.dataloader_test = dataloader_test\n",
    "        self.best_score = 1e9\n",
    "        self.loss = loss\n",
    "        self.epoch = 1\n",
    "        self.n_samples = len(dataloader_train)\n",
    "        self.iteration = 0\n",
    "        self.test_losses = []\n",
    "        self.train_losses = []\n",
    "        self.accuracy = []\n",
    "        # self.best_output = []\n",
    "        # self.LSTM = isLSTM\n",
    "            \n",
    "    def evaluate(self, model):\n",
    "        # Assume that test loader contains only one batch\n",
    "        test_inputs, test_labels = next(iter(self.dataloader_test))\n",
    "        predicted = model(test_inputs)\n",
    "        \n",
    "        # Compute loss\n",
    "        loss = self.loss(predicted, test_labels.flatten())\n",
    "\n",
    "        predicted_labels = torch.argmax(predicted, axis=1)\n",
    "        accuracy = torch.sum(test_labels.flatten() == predicted_labels) / len(predicted)\n",
    "        \n",
    "        return loss.item(), accuracy\n",
    "\n",
    "\n",
    "    def cost_function(self, parameters):\n",
    "        load_params(self.model, torch.tensor(parameters))\n",
    "        \n",
    "        # Load the next batch\n",
    "        inputs, labels = next(iter(self.dataloader_train))\n",
    "        \n",
    "        predicted = self.model(inputs).to(device)\n",
    "        loss = self.loss(predicted, labels.flatten()).item()\n",
    "\n",
    "        test_loss, accuracy = self.evaluate(self.model)\n",
    "        if self.best_score > test_loss :\n",
    "            self.best_score = test_loss\n",
    "            self.best_model = copy.deepcopy(self.model)\n",
    "\n",
    "        print(f'epoch {self.epoch}; test loss function : {test_loss}, accuracy: {accuracy:.2f} best score : {self.best_score}')\n",
    "        \n",
    "        self.iteration += 1\n",
    "\n",
    "        self.test_losses.append(test_loss)\n",
    "        self.train_losses.append(loss)\n",
    "        self.accuracy.append(accuracy)\n",
    "\n",
    "        if self.iteration % self.n_samples == 0: \n",
    "            self.epoch += 1\n",
    "\n",
    "        return loss"
   ]
  },
  {
   "cell_type": "code",
   "execution_count": 37,
   "metadata": {},
   "outputs": [],
   "source": [
    "def load_params(model, param_tensor):\n",
    "    current_index = 0\n",
    "    for param in model.parameters():\n",
    "        param_length = param.numel()\n",
    "        param.data = param_tensor[current_index:current_index + param_length].reshape(param.size()).to(device)\n",
    "        current_index += param_length\n"
   ]
  },
  {
   "cell_type": "markdown",
   "metadata": {},
   "source": [
    "P0 : wine (small model)"
   ]
  },
  {
   "cell_type": "code",
   "execution_count": 38,
   "metadata": {},
   "outputs": [],
   "source": [
    "# create model\n",
    "class Net(nn.Module):\n",
    "    def __init__(self, n_classes: int):\n",
    "        super(Net, self).__init__()\n",
    "        self.fc1 = nn.Linear(11, 32).to(dtype=torch.double)\n",
    "        self.relu1 = nn.GELU()\n",
    "        self.fc2 = nn.Linear(32, 32).to(dtype=torch.double)\n",
    "        self.relu2 = nn.GELU()\n",
    "        self.fc3 = nn.Linear(32, n_classes)\n",
    "        self.softmax = nn.Softmax()\n",
    "        \n",
    "    def forward(self, x):\n",
    "        x = self.fc1(x)\n",
    "        x = self.relu1(x)\n",
    "        x = self.fc2(x)\n",
    "        x = self.relu2(x)\n",
    "        x = self.fc3(x)\n",
    "        x = self.softmax(x)\n",
    "\n",
    "        return x\n",
    "\n",
    "class create_dataset(Dataset):\n",
    "    def __init__(self, data, data_classes):\n",
    "        self.data = data\n",
    "        self.data_classes = data_classes\n",
    "        \n",
    "    def __getitem__(self, index):\n",
    "        x = torch.from_numpy(self.data.iloc[index][:-1].to_numpy())\n",
    "        \n",
    "        label = self.data.iloc[index][-1:].to_numpy()[0]\n",
    "        y = np.where(data_classes == label)[0]\n",
    "        \n",
    "        return x, y\n",
    "    \n",
    "    def __len__(self):\n",
    "        return len(self.data)\n",
    "    \n",
    "# data = pd.read_csv(\"data/winequality-red.csv\", sep=\";\")\n",
    "\n",
    "wine_quality  = fetch_ucirepo(id=186)\n",
    "data_inputs = wine_quality.data.features\n",
    "data_outputs = wine_quality.data.targets\n",
    "\n",
    "data = pd.concat([data_inputs, data_outputs], axis=1)\n",
    "\n",
    "data_train, data_test = train_test_split(data, test_size=0.25)\n",
    "# normalize data\n",
    "scaler = StandardScaler()\n",
    "columns_to_normalize = data_train.columns[data_train.columns != \"quality\"].tolist()\n",
    "data_train[columns_to_normalize] = scaler.fit_transform(data_train[columns_to_normalize])\n",
    "data_test[columns_to_normalize] = scaler.transform(data_test[columns_to_normalize])\n",
    "\n",
    "data_classes = np.sort(data[\"quality\"].unique())\n",
    "\n",
    "dataset_train = create_dataset(data_train, data_classes)\n",
    "dataset_test  = create_dataset(data_test, data_classes)\n",
    "training_loader = DataLoader(dataset_train, batch_size=len(data_train), shuffle=True)\n",
    "validation_loader = DataLoader(dataset_test, batch_size=len(data_test), shuffle=True)"
   ]
  },
  {
   "cell_type": "code",
   "execution_count": 49,
   "metadata": {},
   "outputs": [
    {
     "name": "stdout",
     "output_type": "stream",
     "text": [
      "<class 'numpy.ndarray'>\n",
      "1625\n"
     ]
    }
   ],
   "source": [
    "print(type(data_classes))\n",
    "#print(len(data_test))"
   ]
  },
  {
   "cell_type": "code",
   "execution_count": 40,
   "metadata": {},
   "outputs": [],
   "source": [
    "def compute_loss_weights(data_train_quality, data_classes):\n",
    "    count = np.zeros(data_classes.shape)\n",
    "\n",
    "    for label in data_train_quality:\n",
    "        y = np.where(data_classes == label)[0]\n",
    "        count[y] += 1\n",
    "    \n",
    "    weights = 1 / count\n",
    "    weights = weights / np.sum(weights)\n",
    "    return weights"
   ]
  },
  {
   "cell_type": "code",
   "execution_count": 41,
   "metadata": {},
   "outputs": [
    {
     "name": "stdout",
     "output_type": "stream",
     "text": [
      "[3 4 5 6 7 8 9]\n"
     ]
    }
   ],
   "source": [
    "print(data_classes)"
   ]
  },
  {
   "cell_type": "code",
   "execution_count": 27,
   "metadata": {},
   "outputs": [],
   "source": [
    "# model = Net().to(device)\n",
    "# trainer = TrainManager(model, training_loader, validation_loader, loss, device)\n",
    "# plt.hist(next(iter(trainer.model.parameters())).flatten().detach().numpy())"
   ]
  },
  {
   "cell_type": "code",
   "execution_count": 42,
   "metadata": {},
   "outputs": [
    {
     "name": "stderr",
     "output_type": "stream",
     "text": [
      "/Users/m/.venv/lib/python3.12/site-packages/torch/nn/modules/module.py:1532: UserWarning: Implicit dimension choice for softmax has been deprecated. Change the call to include dim=X as an argument.\n",
      "  return self._call_impl(*args, **kwargs)\n"
     ]
    },
    {
     "name": "stdout",
     "output_type": "stream",
     "text": [
      "epoch 1; test loss function : 1.934360769556317, accuracy: 0.32 best score : 1.934360769556317\n",
      "epoch 2; test loss function : 2.13039592374192, accuracy: 0.04 best score : 1.934360769556317\n",
      "epoch 3; test loss function : 1.9585733050047656, accuracy: 0.21 best score : 1.934360769556317\n",
      "epoch 4; test loss function : 1.914087189832237, accuracy: 0.25 best score : 1.914087189832237\n",
      "epoch 5; test loss function : 1.879021313334073, accuracy: 0.29 best score : 1.879021313334073\n",
      "epoch 6; test loss function : 1.8311758355526169, accuracy: 0.33 best score : 1.8311758355526169\n",
      "epoch 7; test loss function : 2.063204392686945, accuracy: 0.10 best score : 1.8311758355526169\n",
      "epoch 8; test loss function : 1.8964755200312473, accuracy: 0.27 best score : 1.8311758355526169\n",
      "epoch 9; test loss function : 2.0760875479591805, accuracy: 0.09 best score : 1.8311758355526169\n",
      "epoch 10; test loss function : 2.052066050719096, accuracy: 0.11 best score : 1.8311758355526169\n",
      "epoch 11; test loss function : 1.9124844545113335, accuracy: 0.25 best score : 1.8311758355526169\n",
      "epoch 12; test loss function : 2.005898446367688, accuracy: 0.16 best score : 1.8311758355526169\n",
      "epoch 13; test loss function : 1.8923269248052423, accuracy: 0.27 best score : 1.8311758355526169\n",
      "epoch 14; test loss function : 1.8366895039650644, accuracy: 0.33 best score : 1.8311758355526169\n",
      "epoch 15; test loss function : 1.9280319829788635, accuracy: 0.24 best score : 1.8311758355526169\n",
      "epoch 16; test loss function : 1.8333449935821986, accuracy: 0.33 best score : 1.8311758355526169\n",
      "epoch 17; test loss function : 1.8081176256530838, accuracy: 0.36 best score : 1.8081176256530838\n",
      "epoch 18; test loss function : 2.0602552079765326, accuracy: 0.11 best score : 1.8081176256530838\n",
      "epoch 19; test loss function : 1.9105962663529958, accuracy: 0.25 best score : 1.8081176256530838\n",
      "epoch 20; test loss function : 1.8417330162725722, accuracy: 0.32 best score : 1.8081176256530838\n",
      "epoch 21; test loss function : 1.8435525109760935, accuracy: 0.32 best score : 1.8081176256530838\n",
      "epoch 22; test loss function : 1.8699927119284148, accuracy: 0.30 best score : 1.8081176256530838\n",
      "epoch 23; test loss function : 1.7341259888400127, accuracy: 0.43 best score : 1.7341259888400127\n",
      "epoch 24; test loss function : 1.7906471399642794, accuracy: 0.37 best score : 1.7341259888400127\n",
      "epoch 25; test loss function : 1.785096092787413, accuracy: 0.38 best score : 1.7341259888400127\n",
      "epoch 26; test loss function : 1.876622264995443, accuracy: 0.29 best score : 1.7341259888400127\n",
      "epoch 27; test loss function : 1.7408067442062947, accuracy: 0.42 best score : 1.7341259888400127\n",
      "epoch 28; test loss function : 1.7967732897565751, accuracy: 0.37 best score : 1.7341259888400127\n",
      "epoch 29; test loss function : 1.718037568612414, accuracy: 0.45 best score : 1.718037568612414\n",
      "epoch 30; test loss function : 1.7684942321255877, accuracy: 0.40 best score : 1.718037568612414\n",
      "epoch 31; test loss function : 1.726652949716365, accuracy: 0.44 best score : 1.718037568612414\n",
      "epoch 32; test loss function : 1.756138455105957, accuracy: 0.41 best score : 1.718037568612414\n",
      "epoch 33; test loss function : 1.7752462111003795, accuracy: 0.39 best score : 1.718037568612414\n",
      "epoch 34; test loss function : 1.7518815276184259, accuracy: 0.41 best score : 1.718037568612414\n",
      "epoch 35; test loss function : 1.7182168263847146, accuracy: 0.45 best score : 1.718037568612414\n",
      "epoch 36; test loss function : 1.8226531048337575, accuracy: 0.34 best score : 1.718037568612414\n",
      "epoch 37; test loss function : 1.7498415876127844, accuracy: 0.42 best score : 1.718037568612414\n",
      "epoch 38; test loss function : 1.747597880698959, accuracy: 0.42 best score : 1.718037568612414\n",
      "epoch 39; test loss function : 1.7266528490136455, accuracy: 0.44 best score : 1.718037568612414\n",
      "epoch 40; test loss function : 1.710652949692636, accuracy: 0.45 best score : 1.710652949692636\n",
      "epoch 41; test loss function : 1.9364986027002085, accuracy: 0.23 best score : 1.710652949692636\n",
      "epoch 42; test loss function : 1.7734196601842205, accuracy: 0.39 best score : 1.710652949692636\n",
      "epoch 43; test loss function : 1.7254221804856038, accuracy: 0.44 best score : 1.710652949692636\n",
      "epoch 44; test loss function : 1.7100815470252948, accuracy: 0.46 best score : 1.7100815470252948\n",
      "epoch 45; test loss function : 1.740189903904998, accuracy: 0.43 best score : 1.7100815470252948\n",
      "epoch 46; test loss function : 1.7075685862074679, accuracy: 0.46 best score : 1.7075685862074679\n",
      "epoch 47; test loss function : 1.7057262509242592, accuracy: 0.46 best score : 1.7057262509242592\n",
      "epoch 48; test loss function : 1.7591340529715551, accuracy: 0.41 best score : 1.7057262509242592\n",
      "epoch 49; test loss function : 1.6960326675109334, accuracy: 0.47 best score : 1.6960326675109334\n",
      "epoch 50; test loss function : 1.726021092598272, accuracy: 0.44 best score : 1.6960326675109334\n",
      "epoch 51; test loss function : 1.7568065553160432, accuracy: 0.41 best score : 1.6960326675109334\n",
      "epoch 52; test loss function : 1.7746529496992307, accuracy: 0.39 best score : 1.6960326675109334\n",
      "epoch 53; test loss function : 1.7340375679153852, accuracy: 0.43 best score : 1.6960326675109334\n",
      "epoch 54; test loss function : 1.7481597818198582, accuracy: 0.42 best score : 1.6960326675109334\n",
      "epoch 55; test loss function : 1.7189777617944946, accuracy: 0.45 best score : 1.6960326675109334\n",
      "epoch 56; test loss function : 1.694085773635782, accuracy: 0.47 best score : 1.694085773635782\n",
      "epoch 57; test loss function : 1.7023256279198686, accuracy: 0.46 best score : 1.694085773635782\n",
      "epoch 58; test loss function : 1.7170426905045388, accuracy: 0.45 best score : 1.694085773635782\n",
      "epoch 59; test loss function : 1.700188471794504, accuracy: 0.47 best score : 1.694085773635782\n",
      "epoch 60; test loss function : 1.7008246441933503, accuracy: 0.46 best score : 1.694085773635782\n",
      "epoch 61; test loss function : 1.6960741799330679, accuracy: 0.47 best score : 1.694085773635782\n",
      "epoch 62; test loss function : 1.706961945720194, accuracy: 0.46 best score : 1.694085773635782\n",
      "epoch 63; test loss function : 1.7112670611018173, accuracy: 0.45 best score : 1.694085773635782\n",
      "epoch 64; test loss function : 1.7031371701296985, accuracy: 0.46 best score : 1.694085773635782\n",
      "epoch 65; test loss function : 1.6971180930511314, accuracy: 0.47 best score : 1.694085773635782\n",
      "epoch 66; test loss function : 1.7014566700672396, accuracy: 0.46 best score : 1.694085773635782\n",
      "epoch 67; test loss function : 1.6921976558833622, accuracy: 0.47 best score : 1.6921976558833622\n",
      "epoch 68; test loss function : 1.6933990359258038, accuracy: 0.47 best score : 1.6921976558833622\n",
      "epoch 69; test loss function : 1.6878837189471338, accuracy: 0.48 best score : 1.6878837189471338\n",
      "epoch 70; test loss function : 1.7045018454658087, accuracy: 0.46 best score : 1.6878837189471338\n",
      "epoch 71; test loss function : 1.6971132696730324, accuracy: 0.47 best score : 1.6878837189471338\n",
      "epoch 72; test loss function : 1.6964951572885771, accuracy: 0.47 best score : 1.6878837189471338\n",
      "epoch 73; test loss function : 1.6938621148334505, accuracy: 0.47 best score : 1.6878837189471338\n",
      "epoch 74; test loss function : 1.6866523746328892, accuracy: 0.48 best score : 1.6866523746328892\n",
      "epoch 75; test loss function : 1.6953796297034218, accuracy: 0.47 best score : 1.6866523746328892\n",
      "epoch 76; test loss function : 1.7000214620494074, accuracy: 0.47 best score : 1.6866523746328892\n",
      "epoch 77; test loss function : 1.6940366153721245, accuracy: 0.47 best score : 1.6866523746328892\n",
      "epoch 78; test loss function : 1.6940376210875223, accuracy: 0.47 best score : 1.6866523746328892\n",
      "epoch 79; test loss function : 1.6940375650778587, accuracy: 0.47 best score : 1.6866523746328892\n",
      "epoch 80; test loss function : 1.690960647648325, accuracy: 0.47 best score : 1.6866523746328892\n",
      "epoch 81; test loss function : 1.6946529499147247, accuracy: 0.47 best score : 1.6866523746328892\n",
      "epoch 82; test loss function : 1.689729872913465, accuracy: 0.48 best score : 1.6866523746328892\n",
      "epoch 83; test loss function : 1.6923545875371837, accuracy: 0.47 best score : 1.6866523746328892\n",
      "epoch 84; test loss function : 1.6964991044820674, accuracy: 0.47 best score : 1.6866523746328892\n",
      "epoch 85; test loss function : 1.6915200561208363, accuracy: 0.47 best score : 1.6866523746328892\n",
      "epoch 86; test loss function : 1.6903453210595816, accuracy: 0.48 best score : 1.6866523746328892\n",
      "epoch 87; test loss function : 1.6876919551056184, accuracy: 0.48 best score : 1.6866523746328892\n",
      "epoch 88; test loss function : 1.6928068158878529, accuracy: 0.47 best score : 1.6866523746328892\n",
      "epoch 89; test loss function : 1.6842096103279778, accuracy: 0.48 best score : 1.6842096103279778\n",
      "epoch 90; test loss function : 1.6772100473922922, accuracy: 0.49 best score : 1.6772100473922922\n",
      "epoch 91; test loss function : 1.6842417486682493, accuracy: 0.48 best score : 1.6772100473922922\n",
      "epoch 92; test loss function : 1.6794526533274303, accuracy: 0.49 best score : 1.6772100473922922\n",
      "epoch 93; test loss function : 1.7099256475327256, accuracy: 0.46 best score : 1.6772100473922922\n",
      "epoch 94; test loss function : 1.7623093407624437, accuracy: 0.40 best score : 1.6772100473922922\n",
      "epoch 95; test loss function : 1.711883718947134, accuracy: 0.45 best score : 1.6772100473922922\n",
      "epoch 96; test loss function : 1.7088067754105578, accuracy: 0.46 best score : 1.6772100473922922\n",
      "epoch 97; test loss function : 1.7130518344760082, accuracy: 0.45 best score : 1.6772100473922922\n",
      "epoch 98; test loss function : 1.6977298727888008, accuracy: 0.47 best score : 1.6772100473922922\n",
      "epoch 99; test loss function : 1.7007993950745948, accuracy: 0.46 best score : 1.6772100473922922\n",
      "epoch 100; test loss function : 1.682646262885762, accuracy: 0.48 best score : 1.6772100473922922\n",
      "epoch 101; test loss function : 1.7069271727775859, accuracy: 0.46 best score : 1.6772100473922922\n",
      "epoch 102; test loss function : 1.7149606420227115, accuracy: 0.45 best score : 1.6772100473922922\n",
      "epoch 103; test loss function : 1.6848067615840185, accuracy: 0.48 best score : 1.6772100473922922\n",
      "epoch 104; test loss function : 1.7426525044578878, accuracy: 0.42 best score : 1.6772100473922922\n",
      "epoch 105; test loss function : 1.6995816611325032, accuracy: 0.47 best score : 1.6772100473922922\n",
      "epoch 106; test loss function : 1.7260435391280498, accuracy: 0.44 best score : 1.6772100473922922\n",
      "epoch 107; test loss function : 1.6977406928730037, accuracy: 0.47 best score : 1.6772100473922922\n",
      "epoch 108; test loss function : 1.6924276197199717, accuracy: 0.47 best score : 1.6772100473922922\n",
      "epoch 109; test loss function : 1.740098779560278, accuracy: 0.43 best score : 1.6772100473922922\n",
      "epoch 110; test loss function : 1.7261504165883053, accuracy: 0.44 best score : 1.6772100473922922\n",
      "epoch 111; test loss function : 1.6958774799165997, accuracy: 0.47 best score : 1.6772100473922922\n",
      "epoch 112; test loss function : 1.689749729945063, accuracy: 0.48 best score : 1.6772100473922922\n",
      "epoch 113; test loss function : 1.6848173208290598, accuracy: 0.48 best score : 1.6772100473922922\n",
      "epoch 114; test loss function : 1.745117046921166, accuracy: 0.42 best score : 1.6772100473922922\n",
      "epoch 115; test loss function : 1.7272709925829166, accuracy: 0.44 best score : 1.6772100473922922\n",
      "epoch 116; test loss function : 1.7414222314100405, accuracy: 0.42 best score : 1.6772100473922922\n",
      "epoch 117; test loss function : 1.6878824377252086, accuracy: 0.48 best score : 1.6772100473922922\n",
      "epoch 118; test loss function : 1.6952688164521466, accuracy: 0.47 best score : 1.6772100473922922\n",
      "epoch 119; test loss function : 1.684806794844127, accuracy: 0.48 best score : 1.6772100473922922\n",
      "epoch 120; test loss function : 1.703342266479926, accuracy: 0.46 best score : 1.6772100473922922\n",
      "epoch 121; test loss function : 1.6915760266391513, accuracy: 0.47 best score : 1.6772100473922922\n",
      "epoch 122; test loss function : 1.6958791792673433, accuracy: 0.47 best score : 1.6772100473922922\n",
      "epoch 123; test loss function : 1.6860068325188236, accuracy: 0.48 best score : 1.6772100473922922\n",
      "epoch 124; test loss function : 1.6780397447652884, accuracy: 0.49 best score : 1.6772100473922922\n",
      "epoch 125; test loss function : 1.6848048063063639, accuracy: 0.48 best score : 1.6772100473922922\n",
      "epoch 126; test loss function : 1.6836287333875282, accuracy: 0.48 best score : 1.6772100473922922\n",
      "epoch 127; test loss function : 1.6866463593353076, accuracy: 0.48 best score : 1.6772100473922922\n",
      "epoch 128; test loss function : 1.6878822209693223, accuracy: 0.48 best score : 1.6772100473922922\n",
      "epoch 129; test loss function : 1.6781588854748632, accuracy: 0.49 best score : 1.6772100473922922\n",
      "epoch 130; test loss function : 1.6792683343093098, accuracy: 0.49 best score : 1.6772100473922922\n",
      "epoch 131; test loss function : 1.6848070282221823, accuracy: 0.48 best score : 1.6772100473922922\n",
      "epoch 132; test loss function : 1.6884995373162788, accuracy: 0.48 best score : 1.6772100473922922\n",
      "epoch 133; test loss function : 1.6810282759346307, accuracy: 0.48 best score : 1.6772100473922922\n",
      "epoch 134; test loss function : 1.688556276178847, accuracy: 0.48 best score : 1.6772100473922922\n",
      "epoch 135; test loss function : 1.6797676934912613, accuracy: 0.49 best score : 1.6772100473922922\n",
      "epoch 136; test loss function : 1.681551763955622, accuracy: 0.48 best score : 1.6772100473922922\n",
      "epoch 137; test loss function : 1.68296063117245, accuracy: 0.48 best score : 1.6772100473922922\n",
      "epoch 138; test loss function : 1.6872683343316934, accuracy: 0.48 best score : 1.6772100473922922\n",
      "epoch 139; test loss function : 1.6761911622104357, accuracy: 0.49 best score : 1.6761911622104357\n",
      "epoch 140; test loss function : 1.681735580286376, accuracy: 0.48 best score : 1.6761911622104357\n",
      "epoch 141; test loss function : 1.6847818357746238, accuracy: 0.48 best score : 1.6761911622104357\n",
      "epoch 142; test loss function : 1.6878300269030646, accuracy: 0.48 best score : 1.6761911622104357\n",
      "epoch 143; test loss function : 1.6836379467404972, accuracy: 0.48 best score : 1.6761911622104357\n",
      "epoch 144; test loss function : 1.682733263161097, accuracy: 0.48 best score : 1.6761911622104357\n",
      "epoch 145; test loss function : 1.6792683342992991, accuracy: 0.49 best score : 1.6761911622104357\n",
      "epoch 146; test loss function : 1.6727637147269359, accuracy: 0.49 best score : 1.6727637147269359\n",
      "epoch 147; test loss function : 1.6817258461397229, accuracy: 0.48 best score : 1.6727637147269359\n",
      "epoch 148; test loss function : 1.6638837156998223, accuracy: 0.50 best score : 1.6638837156998223\n",
      "epoch 149; test loss function : 1.6952684560866116, accuracy: 0.47 best score : 1.6638837156998223\n",
      "epoch 150; test loss function : 1.6798832016512832, accuracy: 0.49 best score : 1.6638837156998223\n",
      "epoch 151; test loss function : 1.662671790599467, accuracy: 0.50 best score : 1.662671790599467\n",
      "epoch 152; test loss function : 1.6878709424704843, accuracy: 0.48 best score : 1.662671790599467\n",
      "epoch 153; test loss function : 1.6921914030480993, accuracy: 0.47 best score : 1.662671790599467\n",
      "epoch 154; test loss function : 1.7241914112548509, accuracy: 0.44 best score : 1.662671790599467\n",
      "epoch 155; test loss function : 1.6940976363668006, accuracy: 0.47 best score : 1.662671790599467\n",
      "epoch 156; test loss function : 1.6853118557837794, accuracy: 0.48 best score : 1.662671790599467\n",
      "epoch 157; test loss function : 1.694648597173932, accuracy: 0.47 best score : 1.662671790599467\n",
      "epoch 158; test loss function : 1.6737078806788723, accuracy: 0.49 best score : 1.662671790599467\n",
      "epoch 159; test loss function : 1.6861601703438442, accuracy: 0.48 best score : 1.662671790599467\n",
      "epoch 160; test loss function : 1.748194682796114, accuracy: 0.42 best score : 1.662671790599467\n",
      "epoch 161; test loss function : 1.7014201334424828, accuracy: 0.46 best score : 1.662671790599467\n",
      "epoch 162; test loss function : 1.6743456959311473, accuracy: 0.49 best score : 1.662671790599467\n",
      "epoch 163; test loss function : 1.6811149543148618, accuracy: 0.48 best score : 1.662671790599467\n",
      "epoch 164; test loss function : 1.6811143290778023, accuracy: 0.48 best score : 1.662671790599467\n",
      "epoch 165; test loss function : 1.6761752984928842, accuracy: 0.49 best score : 1.662671790599467\n",
      "epoch 166; test loss function : 1.6773501616369098, accuracy: 0.49 best score : 1.662671790599467\n",
      "epoch 167; test loss function : 1.6810913763633821, accuracy: 0.48 best score : 1.662671790599467\n",
      "epoch 168; test loss function : 1.6742743335914467, accuracy: 0.49 best score : 1.662671790599467\n",
      "epoch 169; test loss function : 1.6780105662319387, accuracy: 0.49 best score : 1.662671790599467\n",
      "epoch 170; test loss function : 1.676192237396136, accuracy: 0.49 best score : 1.662671790599467\n",
      "epoch 171; test loss function : 1.6731029337504468, accuracy: 0.49 best score : 1.662671790599467\n",
      "epoch 172; test loss function : 1.673130328670898, accuracy: 0.49 best score : 1.662671790599467\n",
      "epoch 173; test loss function : 1.6743385543239335, accuracy: 0.49 best score : 1.662671790599467\n",
      "epoch 174; test loss function : 1.671870316010817, accuracy: 0.49 best score : 1.662671790599467\n",
      "epoch 175; test loss function : 1.6749589148797255, accuracy: 0.49 best score : 1.662671790599467\n",
      "epoch 176; test loss function : 1.6755763302470499, accuracy: 0.49 best score : 1.662671790599467\n",
      "epoch 177; test loss function : 1.677421930107338, accuracy: 0.49 best score : 1.662671790599467\n",
      "epoch 178; test loss function : 1.6725139597297407, accuracy: 0.49 best score : 1.662671790599467\n",
      "epoch 179; test loss function : 1.6718838857595404, accuracy: 0.49 best score : 1.662671790599467\n",
      "epoch 180; test loss function : 1.6731148259860311, accuracy: 0.49 best score : 1.662671790599467\n",
      "epoch 181; test loss function : 1.6755393707921928, accuracy: 0.49 best score : 1.662671790599467\n",
      "epoch 182; test loss function : 1.6741586767264998, accuracy: 0.49 best score : 1.662671790599467\n",
      "epoch 183; test loss function : 1.673106708927746, accuracy: 0.49 best score : 1.662671790599467\n",
      "epoch 184; test loss function : 1.6841888718840523, accuracy: 0.48 best score : 1.662671790599467\n",
      "epoch 185; test loss function : 1.671883730812593, accuracy: 0.49 best score : 1.662671790599467\n",
      "epoch 186; test loss function : 1.6893779084176734, accuracy: 0.48 best score : 1.662671790599467\n",
      "epoch 187; test loss function : 1.6810724166114928, accuracy: 0.48 best score : 1.662671790599467\n",
      "epoch 188; test loss function : 1.6761756515002735, accuracy: 0.49 best score : 1.662671790599467\n",
      "epoch 189; test loss function : 1.6728421586616373, accuracy: 0.49 best score : 1.662671790599467\n",
      "epoch 190; test loss function : 1.6783413607374387, accuracy: 0.49 best score : 1.662671790599467\n",
      "epoch 191; test loss function : 1.6835348198414237, accuracy: 0.48 best score : 1.662671790599467\n",
      "epoch 192; test loss function : 1.6724986569157876, accuracy: 0.49 best score : 1.662671790599467\n",
      "epoch 193; test loss function : 1.678037611969019, accuracy: 0.49 best score : 1.662671790599467\n",
      "epoch 194; test loss function : 1.6755714166733362, accuracy: 0.49 best score : 1.662671790599467\n",
      "epoch 195; test loss function : 1.676420942294853, accuracy: 0.49 best score : 1.662671790599467\n",
      "epoch 196; test loss function : 1.6737476895811423, accuracy: 0.49 best score : 1.662671790599467\n",
      "epoch 197; test loss function : 1.669997362582861, accuracy: 0.50 best score : 1.662671790599467\n",
      "epoch 198; test loss function : 1.6755826145091761, accuracy: 0.49 best score : 1.662671790599467\n",
      "epoch 199; test loss function : 1.671908319819186, accuracy: 0.49 best score : 1.662671790599467\n",
      "epoch 200; test loss function : 1.6749330379764495, accuracy: 0.49 best score : 1.662671790599467\n"
     ]
    }
   ],
   "source": [
    "model = Net(len(data_classes)).to(device)\n",
    "#model.load_state_dict(torch.load('models/Net.pt'))\n",
    "\n",
    "# loss_weights = compute_loss_weights(data_train[\"quality\"], data_classes)\n",
    "loss = nn.CrossEntropyLoss()\n",
    "\n",
    "epochs = 200\n",
    "nb_batch = len(training_loader)\n",
    "trainer = TrainManager(model, training_loader, validation_loader, loss, device)\n",
    "fitness = trainer.cost_function\n",
    "\n",
    "# Compute number of parameters of the model + initialize parametrization\n",
    "init_params = torch.concatenate([p.data.flatten() for p in trainer.model.parameters()])\n",
    "parametrization = ng.p.Array(init=init_params)\n",
    "optimizer = ng.optimizers.NGOpt(parametrization=parametrization, budget=epochs*nb_batch, num_workers=1)\n",
    "optimizer.a = 1e1\n",
    "learned_param = optimizer.minimize(fitness)"
   ]
  },
  {
   "cell_type": "code",
   "execution_count": 47,
   "metadata": {},
   "outputs": [
    {
     "data": {
      "image/png": "[encoded data removed]",
      "text/plain": [
       "<Figure size 640x480 with 1 Axes>"
      ]
     },
     "metadata": {},
     "output_type": "display_data"
    }
   ],
   "source": [
    "loss = []\n",
    "\n",
    "# epochs_space = np.linspace(0, epochs, len(trainer.train_losses))\n",
    "\n",
    "plt.scatter(range(0,len(trainer.accuracy)),trainer.accuracy, label=\"training\", alpha=0.5, marker='.' )\n",
    "#plt.plot(trainer.test_losses, label=\"test\", alpha=0.5)\n",
    "plt.ylabel('Accuracy')\n",
    "plt.xlabel('Epochs')\n",
    "# plt.yscale(\"log\")\n",
    "plt.title(\"Training and testing loss as a function of epochs\")\n",
    "plt.legend()\n",
    "plt.show()"
   ]
  },
  {
   "cell_type": "code",
   "execution_count": 30,
   "metadata": {},
   "outputs": [
    {
     "name": "stdout",
     "output_type": "stream",
     "text": [
      "tensor([3, 3, 3,  ..., 2, 3, 2])\n",
      "tensor([3, 3, 4,  ..., 3, 4, 3])\n"
     ]
    }
   ],
   "source": [
    "test_inputs, test_labels = next(iter(validation_loader))\n",
    "predicted = trainer.best_model(test_inputs)\n",
    "predicted_labels = torch.argmax(predicted, axis=1)\n",
    "\n",
    "print(predicted_labels)\n",
    "print(test_labels.flatten())"
   ]
  },
  {
   "cell_type": "markdown",
   "metadata": {},
   "source": [
    "P1"
   ]
  },
  {
   "cell_type": "code",
   "execution_count": 31,
   "metadata": {},
   "outputs": [],
   "source": [
    "torch.manual_seed(0)\n",
    "torch.cuda.manual_seed_all(0)\n",
    "transform = transforms.Compose(\n",
    "    [transforms.ToTensor(),\n",
    "     transforms.Lambda(lambda x: x.double()),\n",
    "    transforms.Normalize((0.5,), (0.5,))])\n",
    "training_set = torchvision.datasets.FashionMNIST(\"./data\", train=True, transform=transform, download=True)\n",
    "validation_set = torchvision.datasets.FashionMNIST(\"./data\", train=False, transform=transform, download=True)\n",
    "training_loader = torch.utils.data.DataLoader(training_set, batch_size=len(training_set)//1, shuffle=True)\n",
    "validation_loader = torch.utils.data.DataLoader(validation_set, batch_size=len(validation_set)//1, shuffle=False)"
   ]
  },
  {
   "cell_type": "code",
   "execution_count": 32,
   "metadata": {},
   "outputs": [],
   "source": [
    "model = CNN_Simple().to(device)\n",
    "torch.save(model.state_dict(), 'models/CNN_Simple.pt')\n",
    "loss = nn.CrossEntropyLoss()"
   ]
  },
  {
   "cell_type": "markdown",
   "metadata": {},
   "source": [
    "restart here for another optimizer"
   ]
  },
  {
   "cell_type": "code",
   "execution_count": 33,
   "metadata": {},
   "outputs": [],
   "source": [
    "model.load_state_dict(torch.load('models/CNN_Simple.pt'))\n",
    "\n",
    "epochs = 20\n",
    "nb_batch = len(training_loader)\n",
    "trainer = TrainManager(model,training_loader,validation_loader,loss,device)\n",
    "fitness = trainer.cost_function\n",
    "\n",
    "# Compute number of parameters of the model + initialize parametrization\n",
    "num_params = sum(p.numel() for p in model.parameters())\n",
    "parametrization = ng.p.Array(shape=(num_params,))\n",
    "optimizer = ng.optimizers.SPSA(parametrization=parametrization, budget=epochs*nb_batch)\n",
    "optimizer.a = 0.1"
   ]
  },
  {
   "cell_type": "code",
   "execution_count": 34,
   "metadata": {},
   "outputs": [
    {
     "name": "stdout",
     "output_type": "stream",
     "text": [
      "epoch 1; test loss function : 2.381978772997349, accuracy: 0.16 best score : 2.381978772997349\n",
      "epoch 2; test loss function : 2.359716201906797, accuracy: 0.05 best score : 2.359716201906797\n",
      "epoch 3; test loss function : 2.3429220175965852, accuracy: 0.10 best score : 2.3429220175965852\n",
      "epoch 4; test loss function : 2.4067227657917973, accuracy: 0.10 best score : 2.3429220175965852\n",
      "epoch 5; test loss function : 2.318233420508853, accuracy: 0.10 best score : 2.318233420508853\n",
      "epoch 6; test loss function : 2.290868862926954, accuracy: 0.16 best score : 2.290868862926954\n",
      "epoch 7; test loss function : 2.2881525278665658, accuracy: 0.14 best score : 2.2881525278665658\n",
      "epoch 8; test loss function : 2.287223081779132, accuracy: 0.16 best score : 2.287223081779132\n",
      "epoch 9; test loss function : 2.313836605700281, accuracy: 0.12 best score : 2.287223081779132\n",
      "epoch 10; test loss function : 2.325525489977407, accuracy: 0.10 best score : 2.287223081779132\n",
      "epoch 11; test loss function : 2.3405073857670025, accuracy: 0.10 best score : 2.287223081779132\n",
      "epoch 12; test loss function : 2.314641522437657, accuracy: 0.14 best score : 2.287223081779132\n",
      "epoch 13; test loss function : 2.2910730659216014, accuracy: 0.12 best score : 2.287223081779132\n",
      "epoch 14; test loss function : 2.302066295018794, accuracy: 0.11 best score : 2.287223081779132\n",
      "epoch 15; test loss function : 2.3341991597209266, accuracy: 0.10 best score : 2.287223081779132\n"
     ]
    },
    {
     "ename": "KeyboardInterrupt",
     "evalue": "",
     "output_type": "error",
     "traceback": [
      "\u001b[0;31m---------------------------------------------------------------------------\u001b[0m",
      "\u001b[0;31mKeyboardInterrupt\u001b[0m                         Traceback (most recent call last)",
      "Cell \u001b[0;32mIn[34], line 1\u001b[0m\n\u001b[0;32m----> 1\u001b[0m learned_param \u001b[38;5;241m=\u001b[39m \u001b[43moptimizer\u001b[49m\u001b[38;5;241;43m.\u001b[39;49m\u001b[43mminimize\u001b[49m\u001b[43m(\u001b[49m\u001b[43mfitness\u001b[49m\u001b[43m)\u001b[49m\n",
      "File \u001b[0;32m~/.venv/lib/python3.12/site-packages/nevergrad/optimization/base.py:678\u001b[0m, in \u001b[0;36mOptimizer.minimize\u001b[0;34m(self, objective_function, executor, batch_mode, verbosity, constraint_violation)\u001b[0m\n\u001b[1;32m    676\u001b[0m \u001b[38;5;28;01mwhile\u001b[39;00m \u001b[38;5;28mself\u001b[39m\u001b[38;5;241m.\u001b[39m_finished_jobs:\n\u001b[1;32m    677\u001b[0m     x, job \u001b[38;5;241m=\u001b[39m \u001b[38;5;28mself\u001b[39m\u001b[38;5;241m.\u001b[39m_finished_jobs[\u001b[38;5;241m0\u001b[39m]\n\u001b[0;32m--> 678\u001b[0m     result \u001b[38;5;241m=\u001b[39m \u001b[43mjob\u001b[49m\u001b[38;5;241;43m.\u001b[39;49m\u001b[43mresult\u001b[49m\u001b[43m(\u001b[49m\u001b[43m)\u001b[49m\n\u001b[1;32m    679\u001b[0m     \u001b[38;5;28;01mif\u001b[39;00m constraint_violation \u001b[38;5;129;01mis\u001b[39;00m \u001b[38;5;129;01mnot\u001b[39;00m \u001b[38;5;28;01mNone\u001b[39;00m:\n\u001b[1;32m    680\u001b[0m         \u001b[38;5;28mself\u001b[39m\u001b[38;5;241m.\u001b[39mtell(\n\u001b[1;32m    681\u001b[0m             x, result, [f(x\u001b[38;5;241m.\u001b[39mvalue) \u001b[38;5;28;01mfor\u001b[39;00m f \u001b[38;5;129;01min\u001b[39;00m constraint_violation]\n\u001b[1;32m    682\u001b[0m         )  \u001b[38;5;66;03m# TODO: this is not parallelized, wtf!\u001b[39;00m\n",
      "File \u001b[0;32m~/.venv/lib/python3.12/site-packages/nevergrad/optimization/utils.py:145\u001b[0m, in \u001b[0;36mDelayedJob.result\u001b[0;34m(self)\u001b[0m\n\u001b[1;32m    143\u001b[0m \u001b[38;5;28;01mdef\u001b[39;00m \u001b[38;5;21mresult\u001b[39m(\u001b[38;5;28mself\u001b[39m) \u001b[38;5;241m-\u001b[39m\u001b[38;5;241m>\u001b[39m tp\u001b[38;5;241m.\u001b[39mAny:\n\u001b[1;32m    144\u001b[0m     \u001b[38;5;28;01mif\u001b[39;00m \u001b[38;5;129;01mnot\u001b[39;00m \u001b[38;5;28mself\u001b[39m\u001b[38;5;241m.\u001b[39m_computed:\n\u001b[0;32m--> 145\u001b[0m         \u001b[38;5;28mself\u001b[39m\u001b[38;5;241m.\u001b[39m_result \u001b[38;5;241m=\u001b[39m \u001b[38;5;28;43mself\u001b[39;49m\u001b[38;5;241;43m.\u001b[39;49m\u001b[43mfunc\u001b[49m\u001b[43m(\u001b[49m\u001b[38;5;241;43m*\u001b[39;49m\u001b[38;5;28;43mself\u001b[39;49m\u001b[38;5;241;43m.\u001b[39;49m\u001b[43margs\u001b[49m\u001b[43m,\u001b[49m\u001b[43m \u001b[49m\u001b[38;5;241;43m*\u001b[39;49m\u001b[38;5;241;43m*\u001b[39;49m\u001b[38;5;28;43mself\u001b[39;49m\u001b[38;5;241;43m.\u001b[39;49m\u001b[43mkwargs\u001b[49m\u001b[43m)\u001b[49m\n\u001b[1;32m    146\u001b[0m         \u001b[38;5;28mself\u001b[39m\u001b[38;5;241m.\u001b[39m_computed \u001b[38;5;241m=\u001b[39m \u001b[38;5;28;01mTrue\u001b[39;00m\n\u001b[1;32m    147\u001b[0m     \u001b[38;5;28;01mreturn\u001b[39;00m \u001b[38;5;28mself\u001b[39m\u001b[38;5;241m.\u001b[39m_result\n",
      "Cell \u001b[0;32mIn[21], line 38\u001b[0m, in \u001b[0;36mTrainManager.cost_function\u001b[0;34m(self, parameters)\u001b[0m\n\u001b[1;32m     35\u001b[0m \u001b[38;5;66;03m# Load the next batch\u001b[39;00m\n\u001b[1;32m     36\u001b[0m inputs, labels \u001b[38;5;241m=\u001b[39m \u001b[38;5;28mnext\u001b[39m(\u001b[38;5;28miter\u001b[39m(\u001b[38;5;28mself\u001b[39m\u001b[38;5;241m.\u001b[39mdataloader_train))\n\u001b[0;32m---> 38\u001b[0m predicted \u001b[38;5;241m=\u001b[39m \u001b[38;5;28;43mself\u001b[39;49m\u001b[38;5;241;43m.\u001b[39;49m\u001b[43mmodel\u001b[49m\u001b[43m(\u001b[49m\u001b[43minputs\u001b[49m\u001b[43m)\u001b[49m\u001b[38;5;241m.\u001b[39mto(device)\n\u001b[1;32m     39\u001b[0m loss \u001b[38;5;241m=\u001b[39m \u001b[38;5;28mself\u001b[39m\u001b[38;5;241m.\u001b[39mloss(predicted, labels\u001b[38;5;241m.\u001b[39mflatten())\u001b[38;5;241m.\u001b[39mitem()\n\u001b[1;32m     41\u001b[0m test_loss, accuracy \u001b[38;5;241m=\u001b[39m \u001b[38;5;28mself\u001b[39m\u001b[38;5;241m.\u001b[39mevaluate(\u001b[38;5;28mself\u001b[39m\u001b[38;5;241m.\u001b[39mmodel)\n",
      "File \u001b[0;32m~/.venv/lib/python3.12/site-packages/torch/nn/modules/module.py:1532\u001b[0m, in \u001b[0;36mModule._wrapped_call_impl\u001b[0;34m(self, *args, **kwargs)\u001b[0m\n\u001b[1;32m   1530\u001b[0m     \u001b[38;5;28;01mreturn\u001b[39;00m \u001b[38;5;28mself\u001b[39m\u001b[38;5;241m.\u001b[39m_compiled_call_impl(\u001b[38;5;241m*\u001b[39margs, \u001b[38;5;241m*\u001b[39m\u001b[38;5;241m*\u001b[39mkwargs)  \u001b[38;5;66;03m# type: ignore[misc]\u001b[39;00m\n\u001b[1;32m   1531\u001b[0m \u001b[38;5;28;01melse\u001b[39;00m:\n\u001b[0;32m-> 1532\u001b[0m     \u001b[38;5;28;01mreturn\u001b[39;00m \u001b[38;5;28;43mself\u001b[39;49m\u001b[38;5;241;43m.\u001b[39;49m\u001b[43m_call_impl\u001b[49m\u001b[43m(\u001b[49m\u001b[38;5;241;43m*\u001b[39;49m\u001b[43margs\u001b[49m\u001b[43m,\u001b[49m\u001b[43m \u001b[49m\u001b[38;5;241;43m*\u001b[39;49m\u001b[38;5;241;43m*\u001b[39;49m\u001b[43mkwargs\u001b[49m\u001b[43m)\u001b[49m\n",
      "File \u001b[0;32m~/.venv/lib/python3.12/site-packages/torch/nn/modules/module.py:1541\u001b[0m, in \u001b[0;36mModule._call_impl\u001b[0;34m(self, *args, **kwargs)\u001b[0m\n\u001b[1;32m   1536\u001b[0m \u001b[38;5;66;03m# If we don't have any hooks, we want to skip the rest of the logic in\u001b[39;00m\n\u001b[1;32m   1537\u001b[0m \u001b[38;5;66;03m# this function, and just call forward.\u001b[39;00m\n\u001b[1;32m   1538\u001b[0m \u001b[38;5;28;01mif\u001b[39;00m \u001b[38;5;129;01mnot\u001b[39;00m (\u001b[38;5;28mself\u001b[39m\u001b[38;5;241m.\u001b[39m_backward_hooks \u001b[38;5;129;01mor\u001b[39;00m \u001b[38;5;28mself\u001b[39m\u001b[38;5;241m.\u001b[39m_backward_pre_hooks \u001b[38;5;129;01mor\u001b[39;00m \u001b[38;5;28mself\u001b[39m\u001b[38;5;241m.\u001b[39m_forward_hooks \u001b[38;5;129;01mor\u001b[39;00m \u001b[38;5;28mself\u001b[39m\u001b[38;5;241m.\u001b[39m_forward_pre_hooks\n\u001b[1;32m   1539\u001b[0m         \u001b[38;5;129;01mor\u001b[39;00m _global_backward_pre_hooks \u001b[38;5;129;01mor\u001b[39;00m _global_backward_hooks\n\u001b[1;32m   1540\u001b[0m         \u001b[38;5;129;01mor\u001b[39;00m _global_forward_hooks \u001b[38;5;129;01mor\u001b[39;00m _global_forward_pre_hooks):\n\u001b[0;32m-> 1541\u001b[0m     \u001b[38;5;28;01mreturn\u001b[39;00m \u001b[43mforward_call\u001b[49m\u001b[43m(\u001b[49m\u001b[38;5;241;43m*\u001b[39;49m\u001b[43margs\u001b[49m\u001b[43m,\u001b[49m\u001b[43m \u001b[49m\u001b[38;5;241;43m*\u001b[39;49m\u001b[38;5;241;43m*\u001b[39;49m\u001b[43mkwargs\u001b[49m\u001b[43m)\u001b[49m\n\u001b[1;32m   1543\u001b[0m \u001b[38;5;28;01mtry\u001b[39;00m:\n\u001b[1;32m   1544\u001b[0m     result \u001b[38;5;241m=\u001b[39m \u001b[38;5;28;01mNone\u001b[39;00m\n",
      "File \u001b[0;32m~/Documents/Opti_ML_Project/nevergrad/../models.py:16\u001b[0m, in \u001b[0;36mCNN_Simple.forward\u001b[0;34m(self, x)\u001b[0m\n\u001b[1;32m     15\u001b[0m \u001b[38;5;28;01mdef\u001b[39;00m \u001b[38;5;21mforward\u001b[39m(\u001b[38;5;28mself\u001b[39m, x):\n\u001b[0;32m---> 16\u001b[0m     x \u001b[38;5;241m=\u001b[39m \u001b[38;5;28mself\u001b[39m\u001b[38;5;241m.\u001b[39mpool(\u001b[43mF\u001b[49m\u001b[38;5;241;43m.\u001b[39;49m\u001b[43mrelu\u001b[49m\u001b[43m(\u001b[49m\u001b[38;5;28;43mself\u001b[39;49m\u001b[38;5;241;43m.\u001b[39;49m\u001b[43mconv1\u001b[49m\u001b[43m(\u001b[49m\u001b[43mx\u001b[49m\u001b[43m)\u001b[49m\u001b[43m)\u001b[49m)\n\u001b[1;32m     17\u001b[0m     x \u001b[38;5;241m=\u001b[39m \u001b[38;5;28mself\u001b[39m\u001b[38;5;241m.\u001b[39mpool(F\u001b[38;5;241m.\u001b[39mrelu(\u001b[38;5;28mself\u001b[39m\u001b[38;5;241m.\u001b[39mconv2(x)))\n\u001b[1;32m     18\u001b[0m     x \u001b[38;5;241m=\u001b[39m x\u001b[38;5;241m.\u001b[39mview(\u001b[38;5;241m-\u001b[39m\u001b[38;5;241m1\u001b[39m, \u001b[38;5;241m4\u001b[39m \u001b[38;5;241m*\u001b[39m \u001b[38;5;241m4\u001b[39m \u001b[38;5;241m*\u001b[39m \u001b[38;5;241m16\u001b[39m)\n",
      "File \u001b[0;32m~/.venv/lib/python3.12/site-packages/torch/nn/functional.py:1500\u001b[0m, in \u001b[0;36mrelu\u001b[0;34m(input, inplace)\u001b[0m\n\u001b[1;32m   1498\u001b[0m     result \u001b[38;5;241m=\u001b[39m torch\u001b[38;5;241m.\u001b[39mrelu_(\u001b[38;5;28minput\u001b[39m)\n\u001b[1;32m   1499\u001b[0m \u001b[38;5;28;01melse\u001b[39;00m:\n\u001b[0;32m-> 1500\u001b[0m     result \u001b[38;5;241m=\u001b[39m \u001b[43mtorch\u001b[49m\u001b[38;5;241;43m.\u001b[39;49m\u001b[43mrelu\u001b[49m\u001b[43m(\u001b[49m\u001b[38;5;28;43minput\u001b[39;49m\u001b[43m)\u001b[49m\n\u001b[1;32m   1501\u001b[0m \u001b[38;5;28;01mreturn\u001b[39;00m result\n",
      "\u001b[0;31mKeyboardInterrupt\u001b[0m: "
     ]
    }
   ],
   "source": [
    "learned_param = optimizer.minimize(fitness)"
   ]
  }
 ],
 "metadata": {
  "kernelspec": {
   "display_name": "Python 3",
   "language": "python",
   "name": "python3"
  },
  "language_info": {
   "codemirror_mode": {
    "name": "ipython",
    "version": 3
   },
   "file_extension": ".py",
   "mimetype": "text/x-python",
   "name": "python",
   "nbconvert_exporter": "python",
   "pygments_lexer": "ipython3",
   "version": "3.12.2"
  }
 },
 "nbformat": 4,
 "nbformat_minor": 2
}
