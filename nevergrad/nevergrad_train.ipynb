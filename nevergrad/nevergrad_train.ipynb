{
 "cells": [
  {
   "cell_type": "code",
   "execution_count": 44,
   "metadata": {},
   "outputs": [],
   "source": [
    "import torch\n",
    "import torch.nn as nn\n",
    "from torch.utils.data import DataLoader , Dataset\n",
    "from torchvision import datasets\n",
    "from torchvision.transforms import ToTensor\n",
    "import torchvision.transforms as transforms\n",
    "import torchvision\n",
    "import datasets\n",
    "from datasets import load_dataset\n",
    "\n",
    "import nevergrad as ng\n",
    "\n",
    "import numpy as np\n",
    "import pandas as pd\n",
    "import sklearn\n",
    "from sklearn.preprocessing import MinMaxScaler,StandardScaler\n",
    "from sklearn.model_selection import train_test_split\n",
    "\n",
    "import matplotlib.pyplot as plt\n",
    "import copy\n",
    "import os\n",
    "from tqdm import tqdm\n",
    "\n",
    "from models import CNN_Simple,All_CNN_C,VAE,LSTM"
   ]
  },
  {
   "cell_type": "code",
   "execution_count": 45,
   "metadata": {},
   "outputs": [
    {
     "name": "stdout",
     "output_type": "stream",
     "text": [
      "cuda:0\n"
     ]
    }
   ],
   "source": [
    "device = torch.device(\"cuda:0\" if torch.cuda.is_available() else \"cpu\")\n",
    "os.environ[\"WANDB_DISABLED\"] = \"true\"\n",
    "os.environ[\"CUDA_DEVICE_ORDER\"]=\"PCI_BUS_ID\"\n",
    "os.environ[\"CUDA_VISIBLE_DEVICES\"]=\"0\"\n",
    "print(device)"
   ]
  },
  {
   "cell_type": "code",
   "execution_count": 206,
   "metadata": {},
   "outputs": [],
   "source": [
    "class TrainManager:\n",
    "    def __init__(self,model,dataloader_train,dataloader_test,loss,device,isLSTM=False):\n",
    "        self.device = device\n",
    "        self.model = model.to(self.device)\n",
    "        self.loss  = loss.to(device)\n",
    "        self.best_model = None\n",
    "        self.dataloader_train = dataloader_train\n",
    "        self.dataloader_test = dataloader_test\n",
    "        self.best_score = 1e9\n",
    "        self.loss = loss\n",
    "        self.epoch = 1\n",
    "        self.batch_nb = 0\n",
    "        self.max_batch = len(dataloader_train)\n",
    "        self.iteration = 0\n",
    "        self.output = []\n",
    "        self.best_output = []\n",
    "        self.LSTM = isLSTM\n",
    "        \n",
    "\n",
    "    def weights_updating(self,weights):\n",
    "        for n, layer in enumerate(self.model.parameters().to(device)):\n",
    "            layer.data = torch.from_numpy(weights[n]).to(device)\n",
    "            \n",
    "    def evaluate(self):\n",
    "        if not self.LSTM:\n",
    "            total_loss,total_correct,total_samples = 0,0,0\n",
    "            for x , y in self.dataloader_test :\n",
    "                x,y = x.to(device),y.to(device)\n",
    "                yhat = self.model(x).to(device)\n",
    "                loss = self.loss(yhat,y)\n",
    "                total_loss += loss.item()\n",
    "                predicted_classes = torch.argmax(yhat, dim=1).to(torch.int)\n",
    "                total_correct += (predicted_classes == y.to(torch.int)).sum().item()\n",
    "                total_samples += y.numel()\n",
    "            total_loss /= len(self.dataloader_test)\n",
    "            total_correct /= total_samples\n",
    "        else:\n",
    "            total_loss,total_correct,total_samples = 0,0,0\n",
    "            for i, data in enumerate(self.dataloader_test):\n",
    "                inputs = data.to(self.device)\n",
    "                labels = inputs[:, 1:].to(self.device)\n",
    "                outputs = self.model(inputs)\n",
    "                outputs = outputs[:, :-1, :].permute(0, 2, 1)\n",
    "                loss = self.loss(outputs, labels)\n",
    "                total_loss += loss.item()\n",
    "                if type(outputs) is tuple:\n",
    "                    outputs = outputs[0]\n",
    "                predicted = torch.argmax(outputs, dim=1)\n",
    "                correct = torch.sum(predicted == labels).item()\n",
    "                total_correct += correct\n",
    "                total_samples += labels.numel()\n",
    "        return total_loss,total_correct/total_samples\n",
    "\n",
    "    def cost_function(self, parameters):\n",
    "        self.batch_nb = self.iteration%self.max_batch\n",
    "\n",
    "        load_params(self.model, torch.tensor(parameters))\n",
    "        if not self.LSTM:\n",
    "            x,y = list(self.dataloader_train)[self.batch_nb][0].to(device), list(self.dataloader_train)[self.batch_nb][1].to(device)\n",
    "            predi = self.model(x).to(device)\n",
    "            loss  = self.loss(predi,y).to(device)\n",
    "        else:\n",
    "            for i, data in enumerate(self.dataloader_train):\n",
    "                if i==self.batch_nb:\n",
    "                    inputs = data.to(self.device)\n",
    "                    # learn to predict next token, label is next elem\n",
    "                    labels = inputs[:,1:].to(self.device)\n",
    "                    outputs = self.model(inputs).to(device)\n",
    "                    outputs = outputs[:, :-1, :].permute(0, 2, 1)\n",
    "                    loss = self.loss(outputs, labels)\n",
    "\n",
    "        #if self.batch_nb == self.max_batch-1:   #evaluate test loss once per epoch\n",
    "        test_loss,accuracy = self.evaluate()\n",
    "        if self.best_score > test_loss :\n",
    "            self.best_score = test_loss\n",
    "            self.best_model = copy.deepcopy(self.model)\n",
    "            \n",
    "        self.output.append([test_loss,accuracy])\n",
    "        self.best_output.append(self.best_score)\n",
    "        print(f'epoch {self.epoch}, batch {self.batch_nb+1}; test loss function (cross entropy loss) : {test_loss}, accuracy {accuracy*100}, best score : {self.best_score}')\n",
    "        self.iteration += 1\n",
    "        if self.iteration%self.max_batch == 0: self.epoch += 1\n",
    "        return loss.item()"
   ]
  },
  {
   "cell_type": "code",
   "execution_count": 62,
   "metadata": {},
   "outputs": [],
   "source": [
    "class VAE_loss(torch.nn.Module):\n",
    "    def __init__(self):\n",
    "        super(VAE_loss, self).__init__()\n",
    "        self.loss_fn = torch.nn.CrossEntropyLoss()\n",
    "    def forward(self, preds, labels):\n",
    "        x, mean, logvar = preds\n",
    "        reproduction_loss = self.loss_fn(x, labels)\n",
    "        return reproduction_loss"
   ]
  },
  {
   "cell_type": "code",
   "execution_count": 160,
   "metadata": {},
   "outputs": [],
   "source": [
    "def load_params(model, param_tensor):\n",
    "    current_index = 0\n",
    "    for param in model.parameters():\n",
    "        param_length = param.numel()\n",
    "        #print(param_length, param.size())\n",
    "        param.data = param_tensor[current_index:current_index + param_length].reshape(param.size()).to(device)\n",
    "        current_index += param_length\n",
    "    #model.flatten_parameters()"
   ]
  },
  {
   "cell_type": "markdown",
   "metadata": {},
   "source": [
    "P1 : simple CNN for classification of Fashion MNIST"
   ]
  },
  {
   "cell_type": "code",
   "execution_count": 207,
   "metadata": {},
   "outputs": [],
   "source": [
    "torch.manual_seed(0)\n",
    "torch.cuda.manual_seed_all(0)\n",
    "transform = transforms.Compose(\n",
    "    [transforms.ToTensor(),\n",
    "     transforms.Lambda(lambda x: x.double()),\n",
    "    transforms.Normalize((0.5,), (0.5,))])\n",
    "training_set = torchvision.datasets.FashionMNIST(\"./data\", train=True, transform=transform, download=True)\n",
    "validation_set = torchvision.datasets.FashionMNIST(\"./data\", train=False, transform=transform, download=True)\n",
    "training_loader = torch.utils.data.DataLoader(training_set, batch_size=len(training_set)//10, shuffle=True)\n",
    "validation_loader = torch.utils.data.DataLoader(validation_set, batch_size=len(validation_set)//10, shuffle=False)"
   ]
  },
  {
   "cell_type": "code",
   "execution_count": 208,
   "metadata": {},
   "outputs": [],
   "source": [
    "model = CNN_Simple().to(device)\n",
    "torch.save(model.state_dict(), 'models/CNN_Simple.pt')\n",
    "loss = nn.CrossEntropyLoss()"
   ]
  },
  {
   "cell_type": "markdown",
   "metadata": {},
   "source": [
    "restart here to test another optimizer"
   ]
  },
  {
   "cell_type": "code",
   "execution_count": 209,
   "metadata": {},
   "outputs": [],
   "source": [
    "model.load_state_dict(torch.load('models/CNN_Simple.pt'))\n",
    "\n",
    "epochs = 1\n",
    "nb_batch = len(training_loader)\n",
    "trainer = TrainManager(model,training_loader,validation_loader,loss,device)\n",
    "fitness = trainer.cost_function\n",
    "\n",
    "# Compute number of parameters of the model + initialize parametrization\n",
    "num_params = sum(p.numel() for p in model.parameters())\n",
    "parametrization = ng.p.Array(shape=(num_params,))\n",
    "optimizer = ng.optimizers.NGOpt(parametrization=parametrization, budget=epochs*nb_batch)"
   ]
  },
  {
   "cell_type": "code",
   "execution_count": 210,
   "metadata": {},
   "outputs": [
    {
     "name": "stdout",
     "output_type": "stream",
     "text": [
      "epoch 1, batch 1; test loss function (cross entropy loss) : 2.3025850929940463, accuracy 0.001, best score : 2.3025850929940463\n",
      "epoch 1, batch 2; test loss function (cross entropy loss) : 155155.8214666006, accuracy 0.001, best score : 2.3025850929940463\n",
      "epoch 1, batch 3; test loss function (cross entropy loss) : 28797.42438546407, accuracy 0.000472, best score : 2.3025850929940463\n",
      "epoch 1, batch 4; test loss function (cross entropy loss) : 11811.04104394409, accuracy 0.0008740000000000001, best score : 2.3025850929940463\n",
      "epoch 1, batch 5; test loss function (cross entropy loss) : 5294.5287044576635, accuracy 0.0006270000000000001, best score : 2.3025850929940463\n",
      "epoch 1, batch 6; test loss function (cross entropy loss) : 5582.587244461583, accuracy 0.001438, best score : 2.3025850929940463\n",
      "epoch 1, batch 7; test loss function (cross entropy loss) : 1436.1513479758494, accuracy 0.001291, best score : 2.3025850929940463\n",
      "epoch 1, batch 8; test loss function (cross entropy loss) : 1115.3554603455357, accuracy 0.001255, best score : 2.3025850929940463\n",
      "epoch 1, batch 9; test loss function (cross entropy loss) : 704.1699817751871, accuracy 0.0006529999999999999, best score : 2.3025850929940463\n",
      "epoch 1, batch 10; test loss function (cross entropy loss) : 403.9699943773882, accuracy 0.001023, best score : 2.3025850929940463\n"
     ]
    }
   ],
   "source": [
    "learned_param = optimizer.minimize(fitness)"
   ]
  },
  {
   "cell_type": "markdown",
   "metadata": {},
   "source": [
    "P2: VAE for generation on MNIST"
   ]
  },
  {
   "cell_type": "code",
   "execution_count": 77,
   "metadata": {},
   "outputs": [],
   "source": [
    "transform = transforms.Compose(\n",
    "    [transforms.ToTensor(),\n",
    "     transforms.Lambda(lambda x: x.double())])\n",
    "training_set = torchvision.datasets.MNIST('./data', train=True, transform=transform, download=True)\n",
    "validation_set = torchvision.datasets.MNIST('./data', train=False, transform=transform, download=True)\n",
    "training_loader = torch.utils.data.DataLoader(training_set, batch_size=64, shuffle=True)\n",
    "validation_loader = torch.utils.data.DataLoader(validation_set, batch_size=64, shuffle=False)"
   ]
  },
  {
   "cell_type": "code",
   "execution_count": 79,
   "metadata": {},
   "outputs": [],
   "source": [
    "model = VAE().to(device)\n",
    "torch.save(model.state_dict(), 'models/VAE.pt')"
   ]
  },
  {
   "cell_type": "code",
   "execution_count": 81,
   "metadata": {},
   "outputs": [],
   "source": [
    "loss = VAE_loss()"
   ]
  },
  {
   "cell_type": "markdown",
   "metadata": {},
   "source": [
    "restart here for different optimizer (NGOpt and SPSA)"
   ]
  },
  {
   "cell_type": "code",
   "execution_count": 91,
   "metadata": {},
   "outputs": [
    {
     "data": {
      "text/plain": [
       "<All keys matched successfully>"
      ]
     },
     "execution_count": 91,
     "metadata": {},
     "output_type": "execute_result"
    }
   ],
   "source": [
    "model.load_state_dict(torch.load('models/VAE.pt'))"
   ]
  },
  {
   "cell_type": "code",
   "execution_count": 84,
   "metadata": {},
   "outputs": [],
   "source": [
    "epochs = 1\n",
    "trainer = TrainManager(model,training_loader,validation_loader,loss)\n",
    "fitness = trainer.cost_function\n",
    "\n",
    "# Compute number of parameters of the model + initialize parametrization\n",
    "num_params = sum(p.numel() for p in model.parameters())\n",
    "parametrization = ng.p.Array(shape=(num_params,))\n",
    "optimizer = ng.optimizers.SPSA(parametrization=parametrization, budget=epochs)"
   ]
  },
  {
   "cell_type": "code",
   "execution_count": 85,
   "metadata": {},
   "outputs": [
    {
     "name": "stdout",
     "output_type": "stream",
     "text": [
      "epoch 1, batch 1; test loss function (cross entropy loss) : 6.6603685504075125, best score : 6.6603685504075125\n"
     ]
    }
   ],
   "source": [
    "learned_param = optimizer.minimize(fitness)"
   ]
  },
  {
   "cell_type": "markdown",
   "metadata": {},
   "source": [
    "P3: VAE for generation on MNIST (P2 on a different dataset)"
   ]
  },
  {
   "cell_type": "code",
   "execution_count": 86,
   "metadata": {},
   "outputs": [],
   "source": [
    "transform = transforms.Compose(\n",
    "    [transforms.ToTensor(),\n",
    "     transforms.Lambda(lambda x: x.double()),\n",
    "    transforms.Normalize((0.5,), (0.5,))])\n",
    "\n",
    "training_set = torchvision.datasets.FashionMNIST('./data', train=True, transform=transform, download=True)\n",
    "validation_set = torchvision.datasets.FashionMNIST('./data', train=False, transform=transform, download=True)\n",
    "training_loader = torch.utils.data.DataLoader(training_set, batch_size=128, shuffle=True)\n",
    "validation_loader = torch.utils.data.DataLoader(validation_set, batch_size=128, shuffle=False)"
   ]
  },
  {
   "cell_type": "code",
   "execution_count": 88,
   "metadata": {},
   "outputs": [],
   "source": [
    "model = VAE().to(device)\n",
    "loss = VAE_loss()\n",
    "torch.save(model.state_dict(), 'models/VAE.pt')"
   ]
  },
  {
   "cell_type": "markdown",
   "metadata": {},
   "source": [
    "restart here for different optimizers"
   ]
  },
  {
   "cell_type": "code",
   "execution_count": null,
   "metadata": {},
   "outputs": [],
   "source": [
    "model.load_state_dict(torch.load('models/VAE.pt'))"
   ]
  },
  {
   "cell_type": "code",
   "execution_count": 92,
   "metadata": {},
   "outputs": [],
   "source": [
    "epochs = 1\n",
    "trainer = TrainManager(model,training_loader,validation_loader,loss)\n",
    "fitness = trainer.cost_function\n",
    "\n",
    "# Compute number of parameters of the model + initialize parametrization\n",
    "num_params = sum(p.numel() for p in model.parameters())\n",
    "parametrization = ng.p.Array(shape=(num_params,))\n",
    "optimizer = ng.optimizers.SPSA(parametrization=parametrization, budget=epochs)"
   ]
  },
  {
   "cell_type": "code",
   "execution_count": 93,
   "metadata": {},
   "outputs": [
    {
     "name": "stdout",
     "output_type": "stream",
     "text": [
      "epoch 1, batch 1; test loss function (cross entropy loss) : 6.651875184703448, best score : 6.651875184703448\n"
     ]
    }
   ],
   "source": [
    "learned_param = optimizer.minimize(fitness)"
   ]
  },
  {
   "cell_type": "markdown",
   "metadata": {},
   "source": [
    "P4: All-CNNC-C for classification on CIFAR-100"
   ]
  },
  {
   "cell_type": "code",
   "execution_count": 17,
   "metadata": {},
   "outputs": [
    {
     "name": "stdout",
     "output_type": "stream",
     "text": [
      "Files already downloaded and verified\n",
      "Files already downloaded and verified\n"
     ]
    }
   ],
   "source": [
    "transform = transforms.Compose(\n",
    "    [transforms.ToTensor(),\n",
    "    transforms.Lambda(lambda x: x.double()),\n",
    "    transforms.Normalize((0.5074,0.4867,0.4411),(0.2011,0.1987,0.2025))]\n",
    ")\n",
    "\n",
    "training_set = torchvision.datasets.CIFAR100('./data', train=True, transform=transform, download=True)\n",
    "validation_set = torchvision.datasets.CIFAR100('./data', train=False, transform=transform, download=True)\n",
    "training_loader = torch.utils.data.DataLoader(training_set, batch_size=len(training_set)//1000, shuffle=True)\n",
    "validation_loader = torch.utils.data.DataLoader(validation_set, batch_size=len(validation_set)//1000, shuffle=False)"
   ]
  },
  {
   "cell_type": "code",
   "execution_count": 18,
   "metadata": {},
   "outputs": [],
   "source": [
    "model = All_CNN_C().to(device)\n",
    "loss = torch.nn.CrossEntropyLoss()\n",
    "torch.save(model.state_dict(), 'models/All_CNN_C.pt')"
   ]
  },
  {
   "cell_type": "markdown",
   "metadata": {},
   "source": [
    "restart here for evaluating with different optimizers"
   ]
  },
  {
   "cell_type": "code",
   "execution_count": 19,
   "metadata": {},
   "outputs": [
    {
     "data": {
      "text/plain": [
       "<All keys matched successfully>"
      ]
     },
     "execution_count": 19,
     "metadata": {},
     "output_type": "execute_result"
    }
   ],
   "source": [
    "model.load_state_dict(torch.load('models/All_CNN_C.pt'))"
   ]
  },
  {
   "cell_type": "code",
   "execution_count": 20,
   "metadata": {},
   "outputs": [],
   "source": [
    "epochs = 1\n",
    "trainer = TrainManager(model,training_loader,validation_loader,loss)\n",
    "fitness = trainer.cost_function\n",
    "\n",
    "# Compute number of parameters of the model + initialize parametrization\n",
    "num_params = sum(p.numel() for p in model.parameters())\n",
    "parametrization = ng.p.Array(shape=(num_params,))\n",
    "optimizer = ng.optimizers.SPSA(parametrization=parametrization, budget=epochs)"
   ]
  },
  {
   "cell_type": "code",
   "execution_count": 21,
   "metadata": {},
   "outputs": [
    {
     "name": "stdout",
     "output_type": "stream",
     "text": [
      "epoch 1, batch 1; test loss function (cross entropy loss) : 752.5132519449395, best score : 752.5132519449395\n"
     ]
    }
   ],
   "source": [
    "learned_param = optimizer.minimize(fitness)"
   ]
  },
  {
   "cell_type": "markdown",
   "metadata": {},
   "source": [
    "P5: next word generation (2-layer bidirectional LSTM trained on wikitext-2)"
   ]
  },
  {
   "cell_type": "code",
   "execution_count": 48,
   "metadata": {},
   "outputs": [],
   "source": [
    "from datasets import load_dataset\n",
    "dataset = load_dataset(\"wikitext\", 'wikitext-2-v1', split='train')"
   ]
  },
  {
   "cell_type": "code",
   "execution_count": 49,
   "metadata": {},
   "outputs": [],
   "source": [
    "def isEnglish(sample):\n",
    "    try:\n",
    "        sample.encode(encoding='utf-8').decode('ascii')\n",
    "    except UnicodeDecodeError:\n",
    "        return False\n",
    "    else:\n",
    "        return True\n",
    "def lowerCase(sample):\n",
    "    return {\"text\": sample[\"text\"].lower()}    "
   ]
  },
  {
   "cell_type": "code",
   "execution_count": 50,
   "metadata": {},
   "outputs": [],
   "source": [
    "import re\n",
    "\n",
    "dataset = dataset.filter(lambda x: 100 <= len(x['text'].split()) <= 128)\n",
    "dataset = dataset.filter(lambda x: not re.match(\" = .* = \\n\", x['text']))\n",
    "dataset = dataset.filter(lambda x: isEnglish(x['text']))\n",
    "dataset = dataset.map(lambda x: lowerCase(x))"
   ]
  },
  {
   "cell_type": "code",
   "execution_count": 51,
   "metadata": {},
   "outputs": [],
   "source": [
    "from collections import Counter\n",
    "def count_tokens(dataset):\n",
    "    \"\"\"Counts the frequency of each token in the dataset.\n",
    "    return a dict with token as keys, frequency as values.\"\"\"\n",
    "\n",
    "    token_freq_dict = Counter(\" \".join((x['text'] for x in dataset)).split())\n",
    "    return token_freq_dict\n",
    "\n",
    "def replace_rare_tokens(sample, rare_tokens, unk_token):\n",
    "    text = sample[\"text\"]\n",
    "    modified_tokens = [(token if token not in rare_tokens else unk_token)\n",
    "                       for token in text.split()]\n",
    "    return {\"text\": \" \".join(modified_tokens)}\n",
    "\n",
    "def is_unknown_sequence(sample, unk_token, unk_threshold=0.1):\n",
    "    sample_tokens = sample[\"text\"].split()\n",
    "    if sample_tokens.count(unk_token)/len(sample_tokens) > unk_threshold:\n",
    "        return True\n",
    "    else:\n",
    "        return False\n",
    "\n",
    "\n",
    "def build_vocabulary(dataset, min_freq=5, unk_token='<unk>'):\n",
    "    \"\"\"Builds a vocabulary dict for the given dataset.\"\"\"\n",
    "    # Get unique tokens and their frequencies.\n",
    "    token_freq_dict = count_tokens(dataset)\n",
    "\n",
    "    # Find a set of rare tokens with frequency lower than `min_freq` and replace them with `unk_token`.\n",
    "    rare_tokens_set = set()\n",
    "    low_freq = [x[0] for x in token_freq_dict.items() if x[1] <= min_freq]\n",
    "    rare_tokens_set.update(low_freq)\n",
    "    dataset = dataset.map(replace_rare_tokens, fn_kwargs={\"rare_tokens\": rare_tokens_set,\n",
    "                                                  \"unk_token\": unk_token})\n",
    "\n",
    "    # Filter out sequences with more than 15% rare tokens.\n",
    "    dataset = dataset.filter(lambda x: not is_unknown_sequence(x, unk_token, unk_threshold=0.15))\n",
    "\n",
    "    # Recompute the token frequency to get final vocabulary dict.\n",
    "    token_freq_dict = count_tokens(dataset)\n",
    "    return dataset, token_freq_dict\n"
   ]
  },
  {
   "cell_type": "code",
   "execution_count": 52,
   "metadata": {},
   "outputs": [],
   "source": [
    "wikitext_dataset, token_freq_dict = build_vocabulary(dataset, min_freq=5, unk_token='<unk>')"
   ]
  },
  {
   "cell_type": "code",
   "execution_count": 53,
   "metadata": {},
   "outputs": [],
   "source": [
    "class LSTMDataset(Dataset):\n",
    "    def __init__(self,\n",
    "                 dataset: datasets.arrow_dataset.Dataset,\n",
    "                 max_seq_length: int, ):\n",
    "        self.train_data = self.prepare_dataset(dataset)\n",
    "        self.max_seq_length = max_seq_length + 2  # as <start> and <stop> will be added\n",
    "        self.dataset_vocab = self.get_vocabulary(dataset)\n",
    "        self.token2idx = {element: index for index, element in enumerate(self.dataset_vocab)}\n",
    "        self.idx2token = dict(enumerate(self.dataset_vocab))\n",
    "        self.pad_idx = self.token2idx[\"<pad>\"]\n",
    "\n",
    "    def __len__(self):\n",
    "        return len(self.train_data)\n",
    "\n",
    "    def __getitem__(self, idx):\n",
    "        # Get a list of tokens of the given sequence. Represent each token with its index in `self.token2idx`.\n",
    "        token_list = self.train_data[idx].split()\n",
    "        # having a fallback to <unk> token if an unseen word is encoded.\n",
    "        token_ids = [self.token2idx.get(t, self.token2idx['<unk>']) for t in token_list]\n",
    "\n",
    "        # Add padding token to the sequence to reach the max_seq_length. \n",
    "        token_ids += [self.token2idx['<pad>']] * (self.max_seq_length - len(token_ids))\n",
    "\n",
    "        return torch.tensor(token_ids)\n",
    "\n",
    "    def get_vocabulary(self, dataset: datasets.arrow_dataset.Dataset):\n",
    "        vocab = set()\n",
    "        print(\"Getting dataset's vocabulary\")\n",
    "        for sample in tqdm(dataset):\n",
    "            vocab.update(set(sample[\"text\"].split()))\n",
    "        vocab.update(set([\"<start>\", \"<stop>\", \"<pad>\"]))\n",
    "        vocab = sorted(vocab)\n",
    "        return vocab\n",
    "\n",
    "    @staticmethod\n",
    "    def prepare_dataset(target_dataset: datasets.arrow_dataset.Dataset):\n",
    "        \"\"\"\n",
    "        Encapsulate sequences between <start> and <stop>.\n",
    "        \n",
    "        :param: target_dataset: the target dataset to extract samples\n",
    "        return: a list of encapsulated samples.\n",
    "        \"\"\"\n",
    "        prepared_dataset = []\n",
    "        for sample in target_dataset:\n",
    "            prepared_dataset.append(f\"<start> {sample['text']} <stop>\")\n",
    "        return prepared_dataset"
   ]
  },
  {
   "cell_type": "code",
   "execution_count": 54,
   "metadata": {},
   "outputs": [
    {
     "name": "stdout",
     "output_type": "stream",
     "text": [
      "Getting dataset's vocabulary\n"
     ]
    },
    {
     "name": "stderr",
     "output_type": "stream",
     "text": [
      "100%|██████████| 1158/1158 [00:00<00:00, 11058.78it/s]\n"
     ]
    }
   ],
   "source": [
    "MAX_SEQ_LENGTH = 128\n",
    "lstm_dataset = LSTMDataset(dataset=wikitext_dataset,\n",
    "                         max_seq_length=MAX_SEQ_LENGTH)"
   ]
  },
  {
   "cell_type": "code",
   "execution_count": 178,
   "metadata": {},
   "outputs": [],
   "source": [
    "def get_dataloader(lstm_dataset, test_ratio=0.1):\n",
    "    # split train/test dataset.\n",
    "    lstm_train_dataset, lstm_test_dataset = torch.utils.data.random_split(lstm_dataset, [1-test_ratio, test_ratio])\n",
    "    # get pytorch DataLoader\n",
    "    train_dataloader = DataLoader(lstm_train_dataset, batch_size=90, shuffle=True)\n",
    "    test_dataloader = DataLoader(lstm_test_dataset, batch_size=90, shuffle=False)\n",
    "    return train_dataloader, test_dataloader"
   ]
  },
  {
   "cell_type": "code",
   "execution_count": 179,
   "metadata": {},
   "outputs": [],
   "source": [
    "training_loader, validation_loader = get_dataloader(lstm_dataset, test_ratio=0.1)"
   ]
  },
  {
   "cell_type": "code",
   "execution_count": 180,
   "metadata": {},
   "outputs": [],
   "source": [
    "vocab_size = len(lstm_dataset.token2idx)\n",
    "embedding_dim = 100\n",
    "hidden_dim = 100\n",
    "dropout_rate = 0.15"
   ]
  },
  {
   "cell_type": "code",
   "execution_count": 181,
   "metadata": {},
   "outputs": [],
   "source": [
    "model = LSTM(vocab_size=vocab_size,input_dim=embedding_dim,hidden_dim=hidden_dim,dropout_rate=dropout_rate).to(device)\n",
    "loss = torch.nn.CrossEntropyLoss(ignore_index=lstm_dataset.pad_idx)\n",
    "torch.save(model.state_dict(), 'models/LSTM.pt')"
   ]
  },
  {
   "cell_type": "markdown",
   "metadata": {},
   "source": [
    "restart here for evaluating different optimizers"
   ]
  },
  {
   "cell_type": "code",
   "execution_count": 182,
   "metadata": {},
   "outputs": [
    {
     "data": {
      "text/plain": [
       "<All keys matched successfully>"
      ]
     },
     "execution_count": 182,
     "metadata": {},
     "output_type": "execute_result"
    }
   ],
   "source": [
    "model.load_state_dict(torch.load('models/LSTM.pt'))"
   ]
  },
  {
   "cell_type": "code",
   "execution_count": 187,
   "metadata": {},
   "outputs": [
    {
     "name": "stdout",
     "output_type": "stream",
     "text": [
      "10 epochs, 12 batchs\n"
     ]
    }
   ],
   "source": [
    "epochs = 10\n",
    "trainer = TrainManager(model,training_loader,validation_loader,loss,device,True)\n",
    "fitness = trainer.cost_function\n",
    "print(f'{epochs} epochs, {len(training_loader)} batchs')\n",
    "# Compute number of parameters of the model + initialize parametrization\n",
    "num_params = sum(p.numel() for p in model.parameters())\n",
    "parametrization = ng.p.Array(shape=(num_params,))\n",
    "optimizer = ng.optimizers.NGOpt(parametrization=parametrization, budget=epochs*len(training_loader))\n"
   ]
  },
  {
   "cell_type": "code",
   "execution_count": 188,
   "metadata": {},
   "outputs": [
    {
     "name": "stderr",
     "output_type": "stream",
     "text": [
      "c:\\Programmation\\Anaconda\\envs\\opti4ML\\lib\\site-packages\\torch\\nn\\modules\\rnn.py:911: UserWarning: RNN module weights are not part of single contiguous chunk of memory. This means they need to be compacted at every call, possibly greatly increasing memory usage. To compact weights again call flatten_parameters(). (Triggered internally at C:\\cb\\pytorch_1000000000000\\work\\aten\\src\\ATen\\native\\cudnn\\RNN.cpp:1424.)\n",
      "  result = _VF.lstm(input, hx, self._flat_weights, self.bias, self.num_layers,\n"
     ]
    },
    {
     "name": "stdout",
     "output_type": "stream",
     "text": [
      "epoch 1, batch 1; test loss function (cross entropy loss) : 16.71498762531713, accuracy 0.02022244594991207, best score : 16.71498762531713\n",
      "epoch 1, batch 2; test loss function (cross entropy loss) : 86.53218454164161, accuracy 0.006740815471857786, best score : 16.71498762531713\n",
      "epoch 1, batch 3; test loss function (cross entropy loss) : 71.76573667055115, accuracy 0.03370407596230507, best score : 16.71498762531713\n",
      "epoch 1, batch 4; test loss function (cross entropy loss) : 61.4590615875975, accuracy 0.04044489189982414, best score : 16.71498762531713\n",
      "epoch 1, batch 5; test loss function (cross entropy loss) : 51.18298049163988, accuracy 0.013481630943715572, best score : 16.71498762531713\n",
      "epoch 1, batch 6; test loss function (cross entropy loss) : 41.527220863132875, accuracy 0.013481630943715572, best score : 16.71498762531713\n",
      "epoch 1, batch 7; test loss function (cross entropy loss) : 34.86640943541899, accuracy 0.013481630943715572, best score : 16.71498762531713\n",
      "epoch 1, batch 8; test loss function (cross entropy loss) : 29.588294461549214, accuracy 0.026963261887431145, best score : 16.71498762531713\n",
      "epoch 1, batch 9; test loss function (cross entropy loss) : 25.723363469664392, accuracy 0.013481630943715572, best score : 16.71498762531713\n",
      "epoch 1, batch 10; test loss function (cross entropy loss) : 22.749045523986233, accuracy 0.0, best score : 16.71498762531713\n",
      "epoch 1, batch 11; test loss function (cross entropy loss) : 20.826171742931127, accuracy 0.02022244594991207, best score : 16.71498762531713\n",
      "epoch 1, batch 12; test loss function (cross entropy loss) : 19.742105325155997, accuracy 0.006740815471857786, best score : 16.71498762531713\n",
      "epoch 2, batch 1; test loss function (cross entropy loss) : 18.208814521915347, accuracy 0.026963261887431145, best score : 16.71498762531713\n",
      "epoch 2, batch 2; test loss function (cross entropy loss) : 17.69463691149197, accuracy 0.013481630943715572, best score : 16.71498762531713\n",
      "epoch 2, batch 3; test loss function (cross entropy loss) : 17.75453209369951, accuracy 0.006740815471857786, best score : 16.71498762531713\n",
      "epoch 2, batch 4; test loss function (cross entropy loss) : 17.094511403422732, accuracy 0.0, best score : 16.71498762531713\n",
      "epoch 2, batch 5; test loss function (cross entropy loss) : 16.94099649637767, accuracy 0.006740815471857786, best score : 16.71498762531713\n",
      "epoch 2, batch 6; test loss function (cross entropy loss) : 16.650271070284653, accuracy 0.0, best score : 16.650271070284653\n",
      "epoch 2, batch 7; test loss function (cross entropy loss) : 17.99383542598151, accuracy 0.02022244594991207, best score : 16.650271070284653\n",
      "epoch 2, batch 8; test loss function (cross entropy loss) : 17.627891940701446, accuracy 0.013481630943715572, best score : 16.650271070284653\n",
      "epoch 2, batch 9; test loss function (cross entropy loss) : 17.32448144172733, accuracy 0.047185707837343216, best score : 16.650271070284653\n",
      "epoch 2, batch 10; test loss function (cross entropy loss) : 16.66912540076597, accuracy 0.12133467197418213, best score : 16.650271070284653\n",
      "epoch 2, batch 11; test loss function (cross entropy loss) : 16.996177645161673, accuracy 0.0, best score : 16.650271070284653\n",
      "epoch 2, batch 12; test loss function (cross entropy loss) : 16.89580946147651, accuracy 0.16177956759929657, best score : 16.650271070284653\n",
      "epoch 3, batch 1; test loss function (cross entropy loss) : 16.820611574423282, accuracy 0.02022244594991207, best score : 16.650271070284653\n",
      "epoch 3, batch 2; test loss function (cross entropy loss) : 16.78694612607017, accuracy 0.006740815471857786, best score : 16.650271070284653\n",
      "epoch 3, batch 3; test loss function (cross entropy loss) : 16.517883347585745, accuracy 0.0, best score : 16.517883347585745\n",
      "epoch 3, batch 4; test loss function (cross entropy loss) : 16.713020088877208, accuracy 0.006740815471857786, best score : 16.517883347585745\n",
      "epoch 3, batch 5; test loss function (cross entropy loss) : 16.66566716810113, accuracy 0.047185707837343216, best score : 16.517883347585745\n",
      "epoch 3, batch 6; test loss function (cross entropy loss) : 16.61469271070161, accuracy 0.32355913519859314, best score : 16.517883347585745\n",
      "epoch 3, batch 7; test loss function (cross entropy loss) : 16.804238004677934, accuracy 0.0, best score : 16.517883347585745\n",
      "epoch 3, batch 8; test loss function (cross entropy loss) : 16.549488576364745, accuracy 0.07414896786212921, best score : 16.517883347585745\n",
      "epoch 3, batch 9; test loss function (cross entropy loss) : 16.571650088918624, accuracy 0.006740815471857786, best score : 16.517883347585745\n",
      "epoch 3, batch 10; test loss function (cross entropy loss) : 16.525280236629925, accuracy 0.047185707837343216, best score : 16.517883347585745\n",
      "epoch 3, batch 11; test loss function (cross entropy loss) : 16.51169211777882, accuracy 0.0, best score : 16.51169211777882\n",
      "epoch 3, batch 12; test loss function (cross entropy loss) : 16.55060272785292, accuracy 0.0, best score : 16.51169211777882\n",
      "epoch 4, batch 1; test loss function (cross entropy loss) : 16.56967030628966, accuracy 0.0, best score : 16.51169211777882\n",
      "epoch 4, batch 2; test loss function (cross entropy loss) : 16.515672169335925, accuracy 0.006740815471857786, best score : 16.51169211777882\n",
      "epoch 4, batch 3; test loss function (cross entropy loss) : 16.504813038284567, accuracy 0.006740815471857786, best score : 16.504813038284567\n",
      "epoch 4, batch 4; test loss function (cross entropy loss) : 16.516228468555692, accuracy 0.013481630943715572, best score : 16.504813038284567\n",
      "epoch 4, batch 5; test loss function (cross entropy loss) : 16.603990608306063, accuracy 0.0, best score : 16.504813038284567\n",
      "epoch 4, batch 6; test loss function (cross entropy loss) : 16.484721348669115, accuracy 0.006740815471857786, best score : 16.484721348669115\n",
      "epoch 4, batch 7; test loss function (cross entropy loss) : 16.565271116695424, accuracy 0.006740815471857786, best score : 16.484721348669115\n",
      "epoch 4, batch 8; test loss function (cross entropy loss) : 16.45873456355539, accuracy 0.02022244594991207, best score : 16.45873456355539\n",
      "epoch 4, batch 9; test loss function (cross entropy loss) : 16.63959764706287, accuracy 0.05392652377486229, best score : 16.45873456355539\n",
      "epoch 4, batch 10; test loss function (cross entropy loss) : 16.423684313838677, accuracy 0.11459386348724365, best score : 16.423684313838677\n",
      "epoch 4, batch 11; test loss function (cross entropy loss) : 17.201597715828903, accuracy 0.013481630943715572, best score : 16.423684313838677\n",
      "epoch 4, batch 12; test loss function (cross entropy loss) : 16.692154948087506, accuracy 0.02022244594991207, best score : 16.423684313838677\n",
      "epoch 5, batch 1; test loss function (cross entropy loss) : 16.784459119604637, accuracy 0.026963261887431145, best score : 16.423684313838677\n",
      "epoch 5, batch 2; test loss function (cross entropy loss) : 16.65951589213766, accuracy 0.013481630943715572, best score : 16.423684313838677\n",
      "epoch 5, batch 3; test loss function (cross entropy loss) : 16.589237574374405, accuracy 0.006740815471857786, best score : 16.423684313838677\n",
      "epoch 5, batch 4; test loss function (cross entropy loss) : 16.5752936540651, accuracy 0.05392652377486229, best score : 16.423684313838677\n",
      "epoch 5, batch 5; test loss function (cross entropy loss) : 16.601879433106053, accuracy 0.02022244594991207, best score : 16.423684313838677\n",
      "epoch 5, batch 6; test loss function (cross entropy loss) : 16.526682467835116, accuracy 0.026963261887431145, best score : 16.423684313838677\n",
      "epoch 5, batch 7; test loss function (cross entropy loss) : 16.52707005637493, accuracy 0.013481630943715572, best score : 16.423684313838677\n",
      "epoch 5, batch 8; test loss function (cross entropy loss) : 16.44307512945698, accuracy 0.12133467197418213, best score : 16.423684313838677\n",
      "epoch 5, batch 9; test loss function (cross entropy loss) : 16.40545057404092, accuracy 0.14829793572425842, best score : 16.40545057404092\n",
      "epoch 5, batch 10; test loss function (cross entropy loss) : 16.620563141548324, accuracy 0.04044489189982414, best score : 16.40545057404092\n",
      "epoch 5, batch 11; test loss function (cross entropy loss) : 16.583699817820385, accuracy 0.013481630943715572, best score : 16.40545057404092\n",
      "epoch 5, batch 12; test loss function (cross entropy loss) : 16.474556891113654, accuracy 0.04044489189982414, best score : 16.40545057404092\n",
      "epoch 6, batch 1; test loss function (cross entropy loss) : 16.458444137771355, accuracy 0.04044489189982414, best score : 16.40545057404092\n",
      "epoch 6, batch 2; test loss function (cross entropy loss) : 16.445893272254317, accuracy 0.12133467197418213, best score : 16.40545057404092\n",
      "epoch 6, batch 3; test loss function (cross entropy loss) : 16.42445153589846, accuracy 0.4583754539489746, best score : 16.40545057404092\n",
      "epoch 6, batch 4; test loss function (cross entropy loss) : 16.442673190598263, accuracy 0.060667335987091064, best score : 16.40545057404092\n",
      "epoch 6, batch 5; test loss function (cross entropy loss) : 16.42272168683656, accuracy 0.10111222416162491, best score : 16.40545057404092\n",
      "epoch 6, batch 6; test loss function (cross entropy loss) : 16.432324292104354, accuracy 0.1820020079612732, best score : 16.40545057404092\n",
      "epoch 6, batch 7; test loss function (cross entropy loss) : 16.406536956968754, accuracy 0.047185707837343216, best score : 16.40545057404092\n",
      "epoch 6, batch 8; test loss function (cross entropy loss) : 16.40588508014972, accuracy 0.06740815192461014, best score : 16.40545057404092\n",
      "epoch 6, batch 9; test loss function (cross entropy loss) : 16.421711559293314, accuracy 0.05392652377486229, best score : 16.40545057404092\n",
      "epoch 6, batch 10; test loss function (cross entropy loss) : 16.41607339839112, accuracy 0.10785304754972458, best score : 16.40545057404092\n",
      "epoch 6, batch 11; test loss function (cross entropy loss) : 16.39224970919895, accuracy 0.1280754953622818, best score : 16.39224970919895\n",
      "epoch 6, batch 12; test loss function (cross entropy loss) : 16.405418862881692, accuracy 0.16852039098739624, best score : 16.39224970919895\n",
      "epoch 7, batch 1; test loss function (cross entropy loss) : 16.398511332368432, accuracy 0.2561509907245636, best score : 16.39224970919895\n",
      "epoch 7, batch 2; test loss function (cross entropy loss) : 16.431467776007736, accuracy 0.07414896786212921, best score : 16.39224970919895\n",
      "epoch 7, batch 3; test loss function (cross entropy loss) : 16.416645663374652, accuracy 0.08088978379964828, best score : 16.39224970919895\n",
      "epoch 7, batch 4; test loss function (cross entropy loss) : 16.402221481427155, accuracy 0.17526119947433472, best score : 16.39224970919895\n",
      "epoch 7, batch 5; test loss function (cross entropy loss) : 16.403446444003524, accuracy 0.19548365473747253, best score : 16.39224970919895\n",
      "epoch 7, batch 6; test loss function (cross entropy loss) : 16.396810483240735, accuracy 0.16177956759929657, best score : 16.39224970919895\n",
      "epoch 7, batch 7; test loss function (cross entropy loss) : 16.408435803103302, accuracy 0.1550387442111969, best score : 16.39224970919895\n",
      "epoch 7, batch 8; test loss function (cross entropy loss) : 16.402068764408924, accuracy 0.1550387442111969, best score : 16.39224970919895\n",
      "epoch 7, batch 9; test loss function (cross entropy loss) : 16.40535358487961, accuracy 0.2359285205602646, best score : 16.39224970919895\n",
      "epoch 7, batch 10; test loss function (cross entropy loss) : 16.404677620924097, accuracy 0.1820020079612732, best score : 16.39224970919895\n",
      "epoch 7, batch 11; test loss function (cross entropy loss) : 16.40381786188078, accuracy 0.24941016733646393, best score : 16.39224970919895\n",
      "epoch 7, batch 12; test loss function (cross entropy loss) : 16.404814677293395, accuracy 0.16852039098739624, best score : 16.39224970919895\n",
      "epoch 8, batch 1; test loss function (cross entropy loss) : 16.395535736806934, accuracy 0.2561509907245636, best score : 16.39224970919895\n",
      "epoch 8, batch 2; test loss function (cross entropy loss) : 16.408060362741665, accuracy 0.1550387442111969, best score : 16.39224970919895\n",
      "epoch 8, batch 3; test loss function (cross entropy loss) : 16.397593273845132, accuracy 0.16177956759929657, best score : 16.39224970919895\n",
      "epoch 8, batch 4; test loss function (cross entropy loss) : 16.40221347597459, accuracy 0.16852039098739624, best score : 16.39224970919895\n",
      "epoch 8, batch 5; test loss function (cross entropy loss) : 16.405123156901787, accuracy 0.13481630384922028, best score : 16.39224970919895\n",
      "epoch 8, batch 6; test loss function (cross entropy loss) : 16.39930325308815, accuracy 0.13481630384922028, best score : 16.39224970919895\n",
      "epoch 8, batch 7; test loss function (cross entropy loss) : 16.40573275907723, accuracy 0.17526119947433472, best score : 16.39224970919895\n",
      "epoch 8, batch 8; test loss function (cross entropy loss) : 16.403194939578093, accuracy 0.14155712723731995, best score : 16.39224970919895\n",
      "epoch 8, batch 9; test loss function (cross entropy loss) : 16.403448116154472, accuracy 0.18874283134937286, best score : 16.39224970919895\n",
      "epoch 8, batch 10; test loss function (cross entropy loss) : 16.404577785251004, accuracy 0.14829793572425842, best score : 16.39224970919895\n",
      "epoch 8, batch 11; test loss function (cross entropy loss) : 16.40155284833839, accuracy 0.18874283134937286, best score : 16.39224970919895\n",
      "epoch 8, batch 12; test loss function (cross entropy loss) : 16.403469588454776, accuracy 0.19548365473747253, best score : 16.39224970919895\n",
      "epoch 9, batch 1; test loss function (cross entropy loss) : 16.403031550469407, accuracy 0.17526119947433472, best score : 16.39224970919895\n",
      "epoch 9, batch 2; test loss function (cross entropy loss) : 16.404655757844694, accuracy 0.11459386348724365, best score : 16.39224970919895\n",
      "epoch 9, batch 3; test loss function (cross entropy loss) : 16.40085969430629, accuracy 0.1820020079612732, best score : 16.39224970919895\n",
      "epoch 9, batch 4; test loss function (cross entropy loss) : 16.40058806575977, accuracy 0.16177956759929657, best score : 16.39224970919895\n",
      "epoch 9, batch 5; test loss function (cross entropy loss) : 16.40237135234603, accuracy 0.13481630384922028, best score : 16.39224970919895\n",
      "epoch 9, batch 6; test loss function (cross entropy loss) : 16.402614642380588, accuracy 0.17526119947433472, best score : 16.39224970919895\n",
      "epoch 9, batch 7; test loss function (cross entropy loss) : 16.399299495120722, accuracy 0.18874283134937286, best score : 16.39224970919895\n",
      "epoch 9, batch 8; test loss function (cross entropy loss) : 16.403828407518816, accuracy 0.19548365473747253, best score : 16.39224970919895\n",
      "epoch 9, batch 9; test loss function (cross entropy loss) : 16.40126729954156, accuracy 0.14155712723731995, best score : 16.39224970919895\n",
      "epoch 9, batch 10; test loss function (cross entropy loss) : 16.40103469758737, accuracy 0.19548365473747253, best score : 16.39224970919895\n",
      "epoch 9, batch 11; test loss function (cross entropy loss) : 16.40290231040612, accuracy 0.1820020079612732, best score : 16.39224970919895\n",
      "epoch 9, batch 12; test loss function (cross entropy loss) : 16.40245826308224, accuracy 0.19548365473747253, best score : 16.39224970919895\n",
      "epoch 10, batch 1; test loss function (cross entropy loss) : 16.403051051989173, accuracy 0.2089652717113495, best score : 16.39224970919895\n",
      "epoch 10, batch 2; test loss function (cross entropy loss) : 16.40486270588227, accuracy 0.16177956759929657, best score : 16.39224970919895\n",
      "epoch 10, batch 3; test loss function (cross entropy loss) : 16.40397663411875, accuracy 0.16852039098739624, best score : 16.39224970919895\n",
      "epoch 10, batch 4; test loss function (cross entropy loss) : 16.401591454095524, accuracy 0.17526119947433472, best score : 16.39224970919895\n",
      "epoch 10, batch 5; test loss function (cross entropy loss) : 16.401321858227806, accuracy 0.12133467197418213, best score : 16.39224970919895\n",
      "epoch 10, batch 6; test loss function (cross entropy loss) : 16.399544155373533, accuracy 0.14829793572425842, best score : 16.39224970919895\n",
      "epoch 10, batch 7; test loss function (cross entropy loss) : 16.401392459008445, accuracy 0.16852039098739624, best score : 16.39224970919895\n",
      "epoch 10, batch 8; test loss function (cross entropy loss) : 16.404309254561703, accuracy 0.18874283134937286, best score : 16.39224970919895\n",
      "epoch 10, batch 9; test loss function (cross entropy loss) : 16.405818549983994, accuracy 0.12133467197418213, best score : 16.39224970919895\n",
      "epoch 10, batch 10; test loss function (cross entropy loss) : 16.405555997481084, accuracy 0.2089652717113495, best score : 16.39224970919895\n",
      "epoch 10, batch 11; test loss function (cross entropy loss) : 16.403597222637377, accuracy 0.14829793572425842, best score : 16.39224970919895\n",
      "epoch 10, batch 12; test loss function (cross entropy loss) : 16.400968929407608, accuracy 0.16852039098739624, best score : 16.39224970919895\n"
     ]
    }
   ],
   "source": [
    "learned_param = optimizer.minimize(fitness)"
   ]
  },
  {
   "cell_type": "code",
   "execution_count": 198,
   "metadata": {},
   "outputs": [],
   "source": [
    "loss = []\n",
    "accuracy = []\n",
    "for i in range(epochs*len(training_loader)):\n",
    "    #if i%len(training_loader)==0:\n",
    "    loss.append(trainer.output[i][0])\n",
    "    accuracy.append(torch.tensor(trainer.output[i][1].item()*100))"
   ]
  },
  {
   "cell_type": "code",
   "execution_count": 200,
   "metadata": {},
   "outputs": [
    {
     "data": {
      "image/png": "[encoded data removed]",
      "text/plain": [
       "<Figure size 640x480 with 1 Axes>"
      ]
     },
     "metadata": {},
     "output_type": "display_data"
    },
    {
     "data": {
      "image/png": "[encoded data removed]",
      "text/plain": [
       "<Figure size 640x480 with 1 Axes>"
      ]
     },
     "metadata": {},
     "output_type": "display_data"
    }
   ],
   "source": [
    "plt.plot([i for i in range(len(loss))],loss)\n",
    "plt.ylabel('loss')\n",
    "plt.xlabel('epoch')\n",
    "#plt.ylim([120,140])\n",
    "plt.show()\n",
    "\n",
    "plt.plot([i for i in range(len(accuracy))],accuracy)\n",
    "plt.ylabel('accuracy')\n",
    "plt.xlabel('epoch')\n",
    "plt.show()"
   ]
  }
 ],
 "metadata": {
  "kernelspec": {
   "display_name": "opti4ML",
   "language": "python",
   "name": "opti4ml"
  },
  "language_info": {
   "codemirror_mode": {
    "name": "ipython",
    "version": 3
   },
   "file_extension": ".py",
   "mimetype": "text/x-python",
   "name": "python",
   "nbconvert_exporter": "python",
   "pygments_lexer": "ipython3",
   "version": "3.10.14"
  }
 },
 "nbformat": 4,
 "nbformat_minor": 2
}
